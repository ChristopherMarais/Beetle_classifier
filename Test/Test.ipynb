{
 "cells": [
  {
   "cell_type": "code",
   "execution_count": 1,
   "id": "ff154d45-79e6-42df-921a-7ec52222123b",
   "metadata": {},
   "outputs": [],
   "source": [
    "import dill\n",
    "from fastai.tabular.all import *\n",
    "from fastai.vision.all import *\n",
    "from fastai.vision.utils import get_image_files"
   ]
  },
  {
   "cell_type": "code",
   "execution_count": 2,
   "id": "9bb57a6b-51dc-43ef-b41c-a2dea771bea7",
   "metadata": {},
   "outputs": [
    {
     "name": "stdout",
     "output_type": "stream",
     "text": [
      "['Coccotypes_dactyliperda', 'Hylesinus_varius', 'Phloeosinus_dentatus', 'Pityophthorus_juglandis', 'Platypus_cylindrus', 'Pycnarthrum_hispidium', 'Scolotodes_schwarzi', 'Xyleborus_affinis', 'Xylosandrus_compactus', 'Xylosandrus_crassiusculus']\n"
     ]
    }
   ],
   "source": [
    "# import model\n",
    "learn = load_learner(Path(\"/blue/hulcr/gmarais/Beetle_classifier/Models\") / 'beetle_classifier.pkl', cpu=False, pickle_module=dill)\n",
    "print(learn.dls.vocab) # print all possible classes of model"
   ]
  },
  {
   "cell_type": "code",
   "execution_count": null,
   "id": "2c4e9648-506e-40e5-ab4c-3b818b7a741c",
   "metadata": {},
   "outputs": [],
   "source": [
    "# import data\n",
    "dataset_path=r\"/blue/hulcr/gmarais/Beetle_data/selected_images\"\n",
    "files = get_image_files(path=dataset_path, recurse=True, folders=('test_data'))\n",
    "test_dl = learn.dls.test_dl(files, with_labels=True)"
   ]
  },
  {
   "cell_type": "code",
   "execution_count": 3,
   "id": "6e3db53a-05e7-40c2-8cb4-fa032d5a1eb4",
   "metadata": {},
   "outputs": [
    {
     "data": {
      "text/html": [
       "\n",
       "<style>\n",
       "    /* Turns off some styling */\n",
       "    progress {\n",
       "        /* gets rid of default border in Firefox and Opera. */\n",
       "        border: none;\n",
       "        /* Needs to be in here for Safari polyfill so background images work as expected. */\n",
       "        background-size: auto;\n",
       "    }\n",
       "    progress:not([value]), progress:not([value])::-webkit-progress-bar {\n",
       "        background: repeating-linear-gradient(45deg, #7e7e7e, #7e7e7e 10px, #5c5c5c 10px, #5c5c5c 20px);\n",
       "    }\n",
       "    .progress-bar-interrupted, .progress-bar-interrupted::-webkit-progress-bar {\n",
       "        background: #F44336;\n",
       "    }\n",
       "</style>\n"
      ],
      "text/plain": [
       "<IPython.core.display.HTML object>"
      ]
     },
     "metadata": {},
     "output_type": "display_data"
    },
    {
     "data": {
      "text/html": [],
      "text/plain": [
       "<IPython.core.display.HTML object>"
      ]
     },
     "metadata": {},
     "output_type": "display_data"
    },
    {
     "data": {
      "text/html": [
       "\n",
       "<style>\n",
       "    /* Turns off some styling */\n",
       "    progress {\n",
       "        /* gets rid of default border in Firefox and Opera. */\n",
       "        border: none;\n",
       "        /* Needs to be in here for Safari polyfill so background images work as expected. */\n",
       "        background-size: auto;\n",
       "    }\n",
       "    progress:not([value]), progress:not([value])::-webkit-progress-bar {\n",
       "        background: repeating-linear-gradient(45deg, #7e7e7e, #7e7e7e 10px, #5c5c5c 10px, #5c5c5c 20px);\n",
       "    }\n",
       "    .progress-bar-interrupted, .progress-bar-interrupted::-webkit-progress-bar {\n",
       "        background: #F44336;\n",
       "    }\n",
       "</style>\n"
      ],
      "text/plain": [
       "<IPython.core.display.HTML object>"
      ]
     },
     "metadata": {},
     "output_type": "display_data"
    },
    {
     "data": {
      "text/html": [],
      "text/plain": [
       "<IPython.core.display.HTML object>"
      ]
     },
     "metadata": {},
     "output_type": "display_data"
    },
    {
     "name": "stdout",
     "output_type": "stream",
     "text": [
      " Loss: 0.6081917881965637\n",
      " Error Rate: 0.011601585894823074\n",
      " Accuracy: 0.9883984327316284\n",
      " Top k(5) Accuracy: 1.0\n",
      "\n"
     ]
    }
   ],
   "source": [
    "preds, targets = learn.get_preds(dl=test_dl)\n",
    "val_out = learn.validate(dl=test_dl)\n",
    "print(\" Loss: \"+str(val_out[0])+\"\\n\",\n",
    "      \"Error Rate: \"+str(val_out[1])+\"\\n\",\n",
    "      \"Accuracy: \"+str(val_out[2])+\"\\n\",\n",
    "      \"Top k(5) Accuracy: \"+str(val_out[3])+\"\\n\")"
   ]
  },
  {
   "cell_type": "code",
   "execution_count": null,
   "id": "5831b491-4d92-4b51-b01c-17fce42c89d3",
   "metadata": {},
   "outputs": [],
   "source": [
    "# this function only describes how much a singular value in al ist stands out.\n",
    "# if all values in the lsit are high or low this is 1\n",
    "# the smaller the proportiopn of number of disimilar vlaues are to other more similar values the lower this number\n",
    "# the larger the gap between the dissimilar numbers and the simialr number the smaller this number\n",
    "# only able to interpret probabilities or values between 0 and 1\n",
    "# this function outputs an estimate an inverse of the classification confidence based on the probabilities of all the classes.\n",
    "# the wedge threshold splits the data on a threshold with a magnitude of a positive int to force a ledge/peak in the data\n",
    "def unkown_prob_calc(probs, wedge_threshold, wedge_magnitude=1, wedge=True):\n",
    "    if wedge:\n",
    "        probs = np.where(probs<=wedge_threshold , probs**(2*wedge_magnitude), probs)\n",
    "        probs = np.where(probs>=wedge_threshold , probs**(1/(2*wedge_magnitude)), probs)\n",
    "    diff_matrix = np.abs(probs[:, np.newaxis] - probs)\n",
    "    diff_matrix_sum = np.sum(diff_matrix)\n",
    "    probs_sum = np.sum(probs)\n",
    "    class_val = (diff_matrix_sum/probs_sum)\n",
    "    max_class_val = ((len(probs)-1)*2)\n",
    "    kown_prob = class_val/max_class_val\n",
    "    unknown_prob = 1-kown_prob\n",
    "    \n",
    "    return(unknown_prob)\n",
    "\n",
    "\n",
    "unkown_prob_calc(probs=pred, wedge_threshold=0.9, wedge_magnitude=1, wedge=True)"
   ]
  },
  {
   "cell_type": "code",
   "execution_count": null,
   "id": "380122fa-ac40-41db-a165-2816a9b26956",
   "metadata": {},
   "outputs": [],
   "source": [
    "# build test/apply function that also adds the unknown calss based on threshold\n",
    "# threshold should be trained with validation dataset\n",
    "# pipeline:\n",
    "    # train sweep with aprameter tuning\n",
    "    # retrain single model with best parameters\n",
    "    # save model\n",
    "    # train threshold for unkown class with validation dataset (ROC curve)\n",
    "    # test model with unkown class on test data using 5-fold cross validation (turn single model train script into CV script that also does testing on test data)"
   ]
  },
  {
   "cell_type": "code",
   "execution_count": null,
   "id": "bc9c673d-ffb8-45cb-8a15-45f754f10592",
   "metadata": {},
   "outputs": [],
   "source": [
    "# FIX GITHUB OF BEETLE CLASSIFIER WITH DOWNLAOD\n",
    "\n",
    "# FIRST ADD TESTING PART AND THRESHOLD TRAINING TO TRAIN SCRIPT OF SINGLE MODEL\n",
    "# ADD CV TO TRAINING SINGLE SCRIPT\n",
    "# UPLOAD MODEL TO HUGGINGFACE\n",
    "# FINISH APPLY SCRIPT\n",
    "# ADD APPLY PIPELINE TO GRADIO \n",
    "# PARAMETER TUNING SCRIPT AND RUN ON HIPERGATOR\n",
    "# RUN EXPERIMENTS "
   ]
  }
 ],
 "metadata": {
  "kernelspec": {
   "display_name": "BC_310",
   "language": "python",
   "name": "bc_310"
  },
  "language_info": {
   "codemirror_mode": {
    "name": "ipython",
    "version": 3
   },
   "file_extension": ".py",
   "mimetype": "text/x-python",
   "name": "python",
   "nbconvert_exporter": "python",
   "pygments_lexer": "ipython3",
   "version": "3.10.9"
  }
 },
 "nbformat": 4,
 "nbformat_minor": 5
}
