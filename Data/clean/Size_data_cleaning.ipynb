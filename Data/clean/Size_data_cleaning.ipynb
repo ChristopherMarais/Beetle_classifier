{
 "cells": [
  {
   "cell_type": "code",
   "execution_count": 1,
   "id": "612c7c6a-a285-4d0a-a2c2-7ad14aef8ea6",
   "metadata": {
    "execution": {
     "iopub.execute_input": "2023-06-13T21:02:28.377247Z",
     "iopub.status.busy": "2023-06-13T21:02:28.376747Z",
     "iopub.status.idle": "2023-06-13T21:02:29.875745Z",
     "shell.execute_reply": "2023-06-13T21:02:29.874745Z",
     "shell.execute_reply.started": "2023-06-13T21:02:28.377247Z"
    },
    "tags": []
   },
   "outputs": [],
   "source": [
    "import os\n",
    "import pickle\n",
    "import pandas as pd\n",
    "import numpy as np\n",
    "import plotly.graph_objects as go\n",
    "import plotly.express as px\n",
    "import plotly.figure_factory as ff\n",
    "from sklearn.metrics import accuracy_score, f1_score"
   ]
  },
  {
   "cell_type": "code",
   "execution_count": 2,
   "id": "a8c781c3-5125-444e-b7d4-0e9b5440680f",
   "metadata": {
    "execution": {
     "iopub.execute_input": "2023-06-13T21:02:29.877744Z",
     "iopub.status.busy": "2023-06-13T21:02:29.877245Z",
     "iopub.status.idle": "2023-06-13T21:02:29.906247Z",
     "shell.execute_reply": "2023-06-13T21:02:29.905744Z",
     "shell.execute_reply.started": "2023-06-13T21:02:29.877744Z"
    },
    "tags": []
   },
   "outputs": [
    {
     "data": {
      "text/html": [
       "<div>\n",
       "<style scoped>\n",
       "    .dataframe tbody tr th:only-of-type {\n",
       "        vertical-align: middle;\n",
       "    }\n",
       "\n",
       "    .dataframe tbody tr th {\n",
       "        vertical-align: top;\n",
       "    }\n",
       "\n",
       "    .dataframe thead th {\n",
       "        text-align: right;\n",
       "    }\n",
       "</style>\n",
       "<table border=\"1\" class=\"dataframe\">\n",
       "  <thead>\n",
       "    <tr style=\"text-align: right;\">\n",
       "      <th></th>\n",
       "      <th>test</th>\n",
       "      <th>train</th>\n",
       "      <th>train_1</th>\n",
       "      <th>train_2</th>\n",
       "      <th>train_3</th>\n",
       "      <th>train_4</th>\n",
       "      <th>train_5</th>\n",
       "      <th>valid</th>\n",
       "      <th>valid_1</th>\n",
       "      <th>valid_2</th>\n",
       "      <th>valid_3</th>\n",
       "      <th>valid_4</th>\n",
       "      <th>valid_5</th>\n",
       "    </tr>\n",
       "    <tr>\n",
       "      <th>Species</th>\n",
       "      <th></th>\n",
       "      <th></th>\n",
       "      <th></th>\n",
       "      <th></th>\n",
       "      <th></th>\n",
       "      <th></th>\n",
       "      <th></th>\n",
       "      <th></th>\n",
       "      <th></th>\n",
       "      <th></th>\n",
       "      <th></th>\n",
       "      <th></th>\n",
       "      <th></th>\n",
       "    </tr>\n",
       "  </thead>\n",
       "  <tbody>\n",
       "    <tr>\n",
       "      <th>Coccotypes_dactyliperda</th>\n",
       "      <td>615</td>\n",
       "      <td>3342</td>\n",
       "      <td>3280</td>\n",
       "      <td>3458</td>\n",
       "      <td>3454</td>\n",
       "      <td>3579</td>\n",
       "      <td>3641</td>\n",
       "      <td>1011</td>\n",
       "      <td>1073</td>\n",
       "      <td>895</td>\n",
       "      <td>899</td>\n",
       "      <td>774</td>\n",
       "      <td>712</td>\n",
       "    </tr>\n",
       "    <tr>\n",
       "      <th>Xyleborinus_saxesenii</th>\n",
       "      <td>380</td>\n",
       "      <td>1542</td>\n",
       "      <td>1625</td>\n",
       "      <td>1663</td>\n",
       "      <td>1833</td>\n",
       "      <td>1855</td>\n",
       "      <td>1716</td>\n",
       "      <td>631</td>\n",
       "      <td>548</td>\n",
       "      <td>510</td>\n",
       "      <td>340</td>\n",
       "      <td>318</td>\n",
       "      <td>457</td>\n",
       "    </tr>\n",
       "    <tr>\n",
       "      <th>Pityophthorus_juglandis</th>\n",
       "      <td>680</td>\n",
       "      <td>3194</td>\n",
       "      <td>3086</td>\n",
       "      <td>3107</td>\n",
       "      <td>3219</td>\n",
       "      <td>3203</td>\n",
       "      <td>3341</td>\n",
       "      <td>795</td>\n",
       "      <td>903</td>\n",
       "      <td>882</td>\n",
       "      <td>770</td>\n",
       "      <td>786</td>\n",
       "      <td>648</td>\n",
       "    </tr>\n",
       "    <tr>\n",
       "      <th>Monarthrum_fasciatum</th>\n",
       "      <td>133</td>\n",
       "      <td>846</td>\n",
       "      <td>827</td>\n",
       "      <td>818</td>\n",
       "      <td>828</td>\n",
       "      <td>976</td>\n",
       "      <td>1011</td>\n",
       "      <td>269</td>\n",
       "      <td>288</td>\n",
       "      <td>297</td>\n",
       "      <td>287</td>\n",
       "      <td>139</td>\n",
       "      <td>104</td>\n",
       "    </tr>\n",
       "    <tr>\n",
       "      <th>Pycnarthrum_hispidium</th>\n",
       "      <td>208</td>\n",
       "      <td>1192</td>\n",
       "      <td>1146</td>\n",
       "      <td>1123</td>\n",
       "      <td>1197</td>\n",
       "      <td>1337</td>\n",
       "      <td>1413</td>\n",
       "      <td>362</td>\n",
       "      <td>408</td>\n",
       "      <td>431</td>\n",
       "      <td>357</td>\n",
       "      <td>217</td>\n",
       "      <td>141</td>\n",
       "    </tr>\n",
       "    <tr>\n",
       "      <th>Xyleborus_affinis</th>\n",
       "      <td>456</td>\n",
       "      <td>3127</td>\n",
       "      <td>3191</td>\n",
       "      <td>3214</td>\n",
       "      <td>3121</td>\n",
       "      <td>3388</td>\n",
       "      <td>3654</td>\n",
       "      <td>1015</td>\n",
       "      <td>951</td>\n",
       "      <td>928</td>\n",
       "      <td>1021</td>\n",
       "      <td>754</td>\n",
       "      <td>488</td>\n",
       "    </tr>\n",
       "    <tr>\n",
       "      <th>Scolotodes_schwarzi</th>\n",
       "      <td>467</td>\n",
       "      <td>1678</td>\n",
       "      <td>1672</td>\n",
       "      <td>1601</td>\n",
       "      <td>1664</td>\n",
       "      <td>1746</td>\n",
       "      <td>1861</td>\n",
       "      <td>458</td>\n",
       "      <td>464</td>\n",
       "      <td>535</td>\n",
       "      <td>472</td>\n",
       "      <td>390</td>\n",
       "      <td>275</td>\n",
       "    </tr>\n",
       "    <tr>\n",
       "      <th>Xylosandrus_crassiusculus</th>\n",
       "      <td>326</td>\n",
       "      <td>2443</td>\n",
       "      <td>2848</td>\n",
       "      <td>2828</td>\n",
       "      <td>2552</td>\n",
       "      <td>2334</td>\n",
       "      <td>2278</td>\n",
       "      <td>767</td>\n",
       "      <td>362</td>\n",
       "      <td>382</td>\n",
       "      <td>658</td>\n",
       "      <td>876</td>\n",
       "      <td>932</td>\n",
       "    </tr>\n",
       "    <tr>\n",
       "      <th>Hylesinus_varius</th>\n",
       "      <td>216</td>\n",
       "      <td>1312</td>\n",
       "      <td>1309</td>\n",
       "      <td>1413</td>\n",
       "      <td>1396</td>\n",
       "      <td>1369</td>\n",
       "      <td>1413</td>\n",
       "      <td>413</td>\n",
       "      <td>416</td>\n",
       "      <td>312</td>\n",
       "      <td>329</td>\n",
       "      <td>356</td>\n",
       "      <td>312</td>\n",
       "    </tr>\n",
       "    <tr>\n",
       "      <th>Platypus_cylindrus</th>\n",
       "      <td>247</td>\n",
       "      <td>1337</td>\n",
       "      <td>1364</td>\n",
       "      <td>1345</td>\n",
       "      <td>1338</td>\n",
       "      <td>1326</td>\n",
       "      <td>1383</td>\n",
       "      <td>352</td>\n",
       "      <td>325</td>\n",
       "      <td>344</td>\n",
       "      <td>351</td>\n",
       "      <td>363</td>\n",
       "      <td>306</td>\n",
       "    </tr>\n",
       "    <tr>\n",
       "      <th>Xylosandrus_compactus</th>\n",
       "      <td>402</td>\n",
       "      <td>1749</td>\n",
       "      <td>1645</td>\n",
       "      <td>1705</td>\n",
       "      <td>2064</td>\n",
       "      <td>1953</td>\n",
       "      <td>1977</td>\n",
       "      <td>587</td>\n",
       "      <td>691</td>\n",
       "      <td>631</td>\n",
       "      <td>272</td>\n",
       "      <td>383</td>\n",
       "      <td>359</td>\n",
       "    </tr>\n",
       "    <tr>\n",
       "      <th>Phloeosinus_dentatus</th>\n",
       "      <td>480</td>\n",
       "      <td>3240</td>\n",
       "      <td>3125</td>\n",
       "      <td>3164</td>\n",
       "      <td>3205</td>\n",
       "      <td>3292</td>\n",
       "      <td>3402</td>\n",
       "      <td>807</td>\n",
       "      <td>922</td>\n",
       "      <td>883</td>\n",
       "      <td>842</td>\n",
       "      <td>755</td>\n",
       "      <td>645</td>\n",
       "    </tr>\n",
       "  </tbody>\n",
       "</table>\n",
       "</div>"
      ],
      "text/plain": [
       "                           test  train  train_1  train_2  train_3  train_4  \\\n",
       "Species                                                                      \n",
       "Coccotypes_dactyliperda     615   3342     3280     3458     3454     3579   \n",
       "Xyleborinus_saxesenii       380   1542     1625     1663     1833     1855   \n",
       "Pityophthorus_juglandis     680   3194     3086     3107     3219     3203   \n",
       "Monarthrum_fasciatum        133    846      827      818      828      976   \n",
       "Pycnarthrum_hispidium       208   1192     1146     1123     1197     1337   \n",
       "Xyleborus_affinis           456   3127     3191     3214     3121     3388   \n",
       "Scolotodes_schwarzi         467   1678     1672     1601     1664     1746   \n",
       "Xylosandrus_crassiusculus   326   2443     2848     2828     2552     2334   \n",
       "Hylesinus_varius            216   1312     1309     1413     1396     1369   \n",
       "Platypus_cylindrus          247   1337     1364     1345     1338     1326   \n",
       "Xylosandrus_compactus       402   1749     1645     1705     2064     1953   \n",
       "Phloeosinus_dentatus        480   3240     3125     3164     3205     3292   \n",
       "\n",
       "                           train_5  valid  valid_1  valid_2  valid_3  valid_4  \\\n",
       "Species                                                                         \n",
       "Coccotypes_dactyliperda       3641   1011     1073      895      899      774   \n",
       "Xyleborinus_saxesenii         1716    631      548      510      340      318   \n",
       "Pityophthorus_juglandis       3341    795      903      882      770      786   \n",
       "Monarthrum_fasciatum          1011    269      288      297      287      139   \n",
       "Pycnarthrum_hispidium         1413    362      408      431      357      217   \n",
       "Xyleborus_affinis             3654   1015      951      928     1021      754   \n",
       "Scolotodes_schwarzi           1861    458      464      535      472      390   \n",
       "Xylosandrus_crassiusculus     2278    767      362      382      658      876   \n",
       "Hylesinus_varius              1413    413      416      312      329      356   \n",
       "Platypus_cylindrus            1383    352      325      344      351      363   \n",
       "Xylosandrus_compactus         1977    587      691      631      272      383   \n",
       "Phloeosinus_dentatus          3402    807      922      883      842      755   \n",
       "\n",
       "                           valid_5  \n",
       "Species                             \n",
       "Coccotypes_dactyliperda        712  \n",
       "Xyleborinus_saxesenii          457  \n",
       "Pityophthorus_juglandis        648  \n",
       "Monarthrum_fasciatum           104  \n",
       "Pycnarthrum_hispidium          141  \n",
       "Xyleborus_affinis              488  \n",
       "Scolotodes_schwarzi            275  \n",
       "Xylosandrus_crassiusculus      932  \n",
       "Hylesinus_varius               312  \n",
       "Platypus_cylindrus             306  \n",
       "Xylosandrus_compactus          359  \n",
       "Phloeosinus_dentatus           645  "
      ]
     },
     "execution_count": 2,
     "metadata": {},
     "output_type": "execute_result"
    }
   ],
   "source": [
    "species_lst = ['Coccotypes_dactyliperda', 'Hylesinus_varius', 'Monarthrum_fasciatum',\n",
    "                'Phloeosinus_dentatus', 'Pityophthorus_juglandis', 'Platypus_cylindrus',\n",
    "                'Pycnarthrum_hispidium', 'Scolotodes_schwarzi', 'Xyleborinus_saxesenii',\n",
    "                'Xyleborus_affinis', 'Xylosandrus_compactus',\n",
    "                'Xylosandrus_crassiusculus']\n",
    "\n",
    "# get working directory\n",
    "pwd = os.getcwd()\n",
    "raw = r\"E:\\GIT_REPOS\\Beetle_classifier\\Data\\raw\\\\\"\n",
    "data_dist = pd.read_csv(raw+\"Data_distribution.csv\", index_col=\"Species\")\n",
    "data_dist"
   ]
  },
  {
   "cell_type": "code",
   "execution_count": 3,
   "id": "027f282d-d751-4115-9493-f2b98a09a6c7",
   "metadata": {
    "execution": {
     "iopub.execute_input": "2023-06-13T21:02:29.907745Z",
     "iopub.status.busy": "2023-06-13T21:02:29.907245Z",
     "iopub.status.idle": "2023-06-13T21:02:29.952908Z",
     "shell.execute_reply": "2023-06-13T21:02:29.951906Z",
     "shell.execute_reply.started": "2023-06-13T21:02:29.907745Z"
    }
   },
   "outputs": [],
   "source": [
    "# WAIT FOR SIZE TO RERUN AND RERUN THIS\n",
    "# VIZUALISE THE DATA FOR NOW\n",
    "# LINE CHARTS ONE FOR EACH FOLD X AXIS IS THE DAT SIZE AND Y AXIS IS PERFORMANCE\n"
   ]
  },
  {
   "cell_type": "code",
   "execution_count": 4,
   "id": "ccf274ca-5f78-426f-a67e-2f07873b620b",
   "metadata": {
    "execution": {
     "iopub.execute_input": "2023-06-13T21:02:29.953905Z",
     "iopub.status.busy": "2023-06-13T21:02:29.953905Z",
     "iopub.status.idle": "2023-06-13T21:02:30.076948Z",
     "shell.execute_reply": "2023-06-13T21:02:30.075947Z",
     "shell.execute_reply.started": "2023-06-13T21:02:29.953905Z"
    }
   },
   "outputs": [],
   "source": [
    "# this function only describes how much a singular value in al ist stands out.\n",
    "# if all values in the lsit are high or low this is 1\n",
    "# the smaller the proportiopn of number of disimilar vlaues are to other more similar values the lower this number\n",
    "# the larger the gap between the dissimilar numbers and the simialr number the smaller this number\n",
    "# only able to interpret probabilities or values between 0 and 1\n",
    "# this function outputs an estimate an inverse of the classification confidence based on the probabilities of all the classes.\n",
    "# the wedge threshold splits the data on a threshold with a magnitude of a positive int to force a ledge/peak in the data\n",
    "def unknown_prob_calc(probs, wedge_threshold=0.85, wedge_magnitude=1, wedge='strict'):\n",
    "    if wedge =='strict':\n",
    "        increase_var = (1/(wedge_magnitude))\n",
    "        decrease_var = (wedge_magnitude)\n",
    "    if wedge =='dynamic': # this allows pointsthat are furhter from the threshold ot be moved less and points clsoer to be moved more\n",
    "        increase_var = (1/(wedge_magnitude*((1-np.abs(probs-wedge_threshold)))))\n",
    "        decrease_var = (wedge_magnitude*((1-np.abs(probs-wedge_threshold))))\n",
    "    # else:\n",
    "    #     print(\"Error: use 'strict' (default) or 'dynamic' as options for the wedge parameter!\")\n",
    "    probs = np.where(probs>=wedge_threshold , probs**increase_var, probs)\n",
    "    probs = np.where(probs<=wedge_threshold , probs**decrease_var, probs)\n",
    "    diff_matrix = np.abs(probs[:, np.newaxis] - probs)\n",
    "    diff_matrix_sum = np.sum(diff_matrix)\n",
    "    probs_sum = np.sum(probs)\n",
    "    class_val = (diff_matrix_sum/probs_sum)\n",
    "    max_class_val = ((len(probs)-1)*2)\n",
    "    kown_prob = class_val/max_class_val\n",
    "    unknown_prob = 1-kown_prob\n",
    "    return(unknown_prob)"
   ]
  },
  {
   "cell_type": "markdown",
   "id": "3d54452d-b5f0-4cf7-8612-79ad42ad2373",
   "metadata": {},
   "source": [
    "# Validation "
   ]
  },
  {
   "cell_type": "code",
   "execution_count": 5,
   "id": "3feb3e49-4309-463f-9a47-6c66637cebef",
   "metadata": {
    "execution": {
     "iopub.execute_input": "2023-06-13T21:02:30.078948Z",
     "iopub.status.busy": "2023-06-13T21:02:30.078449Z",
     "iopub.status.idle": "2023-06-13T21:02:44.042422Z",
     "shell.execute_reply": "2023-06-13T21:02:44.041419Z",
     "shell.execute_reply.started": "2023-06-13T21:02:30.078948Z"
    },
    "tags": []
   },
   "outputs": [],
   "source": [
    "valid_dir = r\"E:\\GIT_REPOS\\Beetle_classifier\\Data\\raw\\Size\\csv\\valid\\\\\"\n",
    "data_size_df = pd.read_csv(r\"E:\\GIT_REPOS\\Beetle_classifier\\Data\\raw\\Size\\csv\\train_data_size_df.csv\")\n",
    "small_data_size_df = pd.read_csv(r\"E:\\GIT_REPOS\\Beetle_classifier\\Data\\raw\\Size\\csv\\small_train_data_size_df.csv\")\n",
    "folds = 5\n",
    "size_num = 19\n",
    "\n",
    "# get all different sized results from data\n",
    "valid_dict = {}\n",
    "for fold in range(1,folds+1):\n",
    "    size_results_df = pd.DataFrame()\n",
    "    data_size_summary_df = pd.DataFrame()\n",
    "    data_size_summary_df['valid'] = data_dist[\"valid_\"+str(fold)]\n",
    "    for size in range(1,size_num+1):\n",
    "        truth_df = pd.read_csv(valid_dir+str(size)+\"_Validation_prediction_probabilities_fold-\"+str(fold)+\".csv\").drop('Unnamed: 0', axis=1)\n",
    "        # calculate the max class\n",
    "        truth_df['pred'] = truth_df.idxmax(axis=1)\n",
    "\n",
    "        # add truth value\n",
    "        valid_series = data_dist[\"valid_\"+str(fold)]\n",
    "        truth_lst = []\n",
    "        for spcs, count in valid_series.to_dict().items():\n",
    "            truth_lst = truth_lst + list(np.repeat(spcs, count))\n",
    "        truth_df['truth'] = truth_lst\n",
    "\n",
    "        # get truth and pred valeus for all sizes\n",
    "        size_results_df['truth_'+str(size+size_num)] = truth_df['truth']\n",
    "        size_results_df['pred_'+str(size+size_num)] = truth_df['pred']\n",
    "        \n",
    "        \n",
    "        # get the training data size df\n",
    "        train_series = data_dist[\"train_\"+str(fold)].copy()\n",
    "        train_series['Coccotypes_dactyliperda']=data_size_df[\"fold-\"+str(fold)+\"_image_number\"].loc[size-1]\n",
    "        data_size_summary_df['train_'+str(size+size_num)] = train_series\n",
    "    \n",
    "    # save each dataframe as a csv\n",
    "    data_size_summary_df.to_csv(\"valid_data_size_summary_fold_\"+str(fold)+\".csv\")\n",
    "    size_results_df.to_csv(\"valid_size_results_fold_\"+str(fold)+\".csv\")\n",
    "    \n",
    "    # save all data to dictionary\n",
    "    valid_dict[\"fold_\"+str(fold)] = [data_size_summary_df, size_results_df]\n",
    "    \n",
    "# # save dictionary to disk\n",
    "# with open('valid_dict_size.pkl', 'wb') as f:\n",
    "#     pickle.dump(valid_dict, f)\n",
    "    \n",
    "# get all different sized results from data\n",
    "small_valid_dict = {}\n",
    "for fold in range(1,folds+1):\n",
    "    size_results_df = pd.DataFrame()\n",
    "    data_size_summary_df = pd.DataFrame()\n",
    "    data_size_summary_df['valid'] = data_dist[\"valid_\"+str(fold)]\n",
    "    for size in range(1,size_num+1):\n",
    "        truth_df = pd.read_csv(valid_dir+str(size)+\"_Validation_prediction_probabilities_small_fold-\"+str(fold)+\".csv\").drop('Unnamed: 0', axis=1)\n",
    "        # calculate the max class\n",
    "        truth_df['pred'] = truth_df.idxmax(axis=1)\n",
    "\n",
    "        # add truth value\n",
    "        valid_series = data_dist[\"valid_\"+str(fold)]\n",
    "        truth_lst = []\n",
    "        for spcs, count in valid_series.to_dict().items():\n",
    "            truth_lst = truth_lst + list(np.repeat(spcs, count))\n",
    "        truth_df['truth'] = truth_lst\n",
    "\n",
    "        # get truth and pred valeus for all sizes\n",
    "        size_results_df['truth_'+str(size)] = truth_df['truth']\n",
    "        size_results_df['pred_'+str(size)] = truth_df['pred']\n",
    "        \n",
    "        \n",
    "        # get the training data size df\n",
    "        train_series = data_dist[\"train_\"+str(fold)].copy()\n",
    "        train_series['Coccotypes_dactyliperda']=small_data_size_df[\"fold-\"+str(fold)+\"_image_number\"].loc[size-1]\n",
    "        data_size_summary_df['train_'+str(size)] = train_series\n",
    "    \n",
    "    # save each dataframe as a csv\n",
    "    data_size_summary_df.to_csv(\"valid_data_size_summary_small_fold_\"+str(fold)+\".csv\")\n",
    "    size_results_df.to_csv(\"valid_size_results_small_fold_\"+str(fold)+\".csv\")\n",
    "    \n",
    "    # save all data to dictionary\n",
    "    small_valid_dict[\"fold_\"+str(fold)] = [data_size_summary_df, size_results_df]\n",
    "    \n",
    "# # save dictionary to disk\n",
    "# with open('small_valid_dict_size.pkl', 'wb') as f:\n",
    "#     pickle.dump(small_valid_dict, f)\n",
    "    \n",
    "# merge small and regular dicts\n",
    "valid_dict_all = {}\n",
    "for fold in range(1,len(small_valid_dict)+1):\n",
    "    joined_data_size_summary_df = pd.concat([small_valid_dict['fold_'+str(fold)][0], valid_dict['fold_'+str(fold)][0]], axis=1)\n",
    "    joined_size_results_df = pd.concat([small_valid_dict['fold_'+str(fold)][1], valid_dict['fold_'+str(fold)][1]], axis=1)\n",
    "    valid_dict_all['fold_'+str(fold)] = [joined_data_size_summary_df, joined_size_results_df]\n",
    "\n",
    "# save dictionary to disk\n",
    "with open('valid_dict_all.pkl', 'wb') as f:\n",
    "    pickle.dump(valid_dict_all, f)"
   ]
  },
  {
   "cell_type": "markdown",
   "id": "22a50d68-1f31-489f-9393-5a77689ddbf5",
   "metadata": {},
   "source": [
    "# Testing"
   ]
  },
  {
   "cell_type": "code",
   "execution_count": 6,
   "id": "2e74f60a-41e2-4003-82c1-86a8fad6e0a6",
   "metadata": {
    "execution": {
     "iopub.execute_input": "2023-06-13T21:02:44.043920Z",
     "iopub.status.busy": "2023-06-13T21:02:44.043420Z",
     "iopub.status.idle": "2023-06-13T21:02:54.535100Z",
     "shell.execute_reply": "2023-06-13T21:02:54.534599Z",
     "shell.execute_reply.started": "2023-06-13T21:02:44.043920Z"
    },
    "tags": []
   },
   "outputs": [],
   "source": [
    "test_dir = r\"E:\\GIT_REPOS\\Beetle_classifier\\Data\\raw\\Size\\csv\\test\\\\\"\n",
    "data_size_df = pd.read_csv(r\"E:\\GIT_REPOS\\Beetle_classifier\\Data\\raw\\Size\\csv\\train_data_size_df.csv\")\n",
    "small_data_size_df = pd.read_csv(r\"E:\\GIT_REPOS\\Beetle_classifier\\Data\\raw\\Size\\csv\\small_train_data_size_df.csv\")\n",
    "folds = 5\n",
    "size_num = 19\n",
    "\n",
    "# get all different sized results from data\n",
    "test_dict = {}\n",
    "for fold in range(1,folds+1):\n",
    "    size_results_df = pd.DataFrame()\n",
    "    data_size_summary_df = pd.DataFrame()\n",
    "    data_size_summary_df['test'] = data_dist[\"test\"]\n",
    "    for size in range(1,size_num+1):\n",
    "        truth_df = pd.read_csv(test_dir+str(size)+\"_Testing_prediction_probabilities_fold-\"+str(fold)+\".csv\").drop('Unnamed: 0', axis=1)\n",
    "        # calculate the max class\n",
    "        truth_df['pred'] = truth_df.idxmax(axis=1)\n",
    "\n",
    "        # add truth value\n",
    "        test_series = data_dist[\"test\"]\n",
    "        truth_lst = []\n",
    "        for spcs, count in test_series.to_dict().items():\n",
    "            truth_lst = truth_lst + list(np.repeat(spcs, count))\n",
    "        truth_df['truth'] = truth_lst\n",
    "\n",
    "        # get truth and pred valeus for all sizes\n",
    "        size_results_df['truth_'+str(size+size_num)] = truth_df['truth']\n",
    "        size_results_df['pred_'+str(size+size_num)] = truth_df['pred']\n",
    "        \n",
    "        \n",
    "        # get the training data size df\n",
    "        train_series = data_dist[\"train_\"+str(fold)].copy()\n",
    "        train_series['Coccotypes_dactyliperda']=data_size_df[\"fold-\"+str(fold)+\"_image_number\"].loc[size-1]\n",
    "        data_size_summary_df['train_'+str(size+size_num)] = train_series\n",
    "    \n",
    "    # save each dataframe as a csv\n",
    "    data_size_summary_df.to_csv(\"test_data_size_summary_fold_\"+str(fold)+\".csv\")\n",
    "    size_results_df.to_csv(\"test_size_results_fold_\"+str(fold)+\".csv\")\n",
    "    \n",
    "    # save all data to dictionary\n",
    "    test_dict[\"fold_\"+str(fold)] = [data_size_summary_df, size_results_df]\n",
    "    \n",
    "# # save dictionary to disk\n",
    "# with open('test_dict_size.pkl', 'wb') as f:\n",
    "#     pickle.dump(test_dict, f)\n",
    "    \n",
    "# get all different sized results from data\n",
    "small_test_dict = {}\n",
    "for fold in range(1,folds+1):\n",
    "    size_results_df = pd.DataFrame()\n",
    "    data_size_summary_df = pd.DataFrame()\n",
    "    data_size_summary_df['test'] = data_dist[\"test\"]\n",
    "    for size in range(1,size_num+1):\n",
    "        truth_df = pd.read_csv(test_dir+str(size)+\"_Testing_prediction_probabilities_small_fold-\"+str(fold)+\".csv\").drop('Unnamed: 0', axis=1)\n",
    "        # calculate the max class\n",
    "        truth_df['pred'] = truth_df.idxmax(axis=1)\n",
    "\n",
    "        # add truth value\n",
    "        test_series = data_dist[\"test\"]\n",
    "        truth_lst = []\n",
    "        for spcs, count in test_series.to_dict().items():\n",
    "            truth_lst = truth_lst + list(np.repeat(spcs, count))\n",
    "        truth_df['truth'] = truth_lst\n",
    "\n",
    "        # get truth and pred valeus for all sizes\n",
    "        size_results_df['truth_'+str(size)] = truth_df['truth']\n",
    "        size_results_df['pred_'+str(size)] = truth_df['pred']\n",
    "        \n",
    "        \n",
    "        # get the training data size df\n",
    "        train_series = data_dist[\"train_\"+str(fold)].copy()\n",
    "        train_series['Coccotypes_dactyliperda']=small_data_size_df[\"fold-\"+str(fold)+\"_image_number\"].loc[size-1]\n",
    "        data_size_summary_df['train_'+str(size)] = train_series\n",
    "    \n",
    "    # save each dataframe as a csv\n",
    "    data_size_summary_df.to_csv(\"test_data_size_summary_small_fold_\"+str(fold)+\".csv\")\n",
    "    size_results_df.to_csv(\"test_size_results_small_fold_\"+str(fold)+\".csv\")\n",
    "    \n",
    "    # save all data to dictionary\n",
    "    small_test_dict[\"fold_\"+str(fold)] = [data_size_summary_df, size_results_df]\n",
    "    \n",
    "# # save dictionary to disk\n",
    "# with open('small_test_dict_size.pkl', 'wb') as f:\n",
    "#     pickle.dump(small_test_dict, f)\n",
    "    \n",
    "# merge small and regular dicts\n",
    "test_dict_all = {}\n",
    "for fold in range(1,len(small_test_dict)+1):\n",
    "    joined_data_size_summary_df = pd.concat([small_test_dict['fold_'+str(fold)][0], test_dict['fold_'+str(fold)][0]], axis=1)\n",
    "    joined_size_results_df = pd.concat([small_test_dict['fold_'+str(fold)][1], test_dict['fold_'+str(fold)][1]], axis=1)\n",
    "    test_dict_all['fold_'+str(fold)] = [joined_data_size_summary_df, joined_size_results_df]\n",
    "\n",
    "# save dictionary to disk\n",
    "with open('test_dict_all.pkl', 'wb') as f:\n",
    "    pickle.dump(test_dict_all, f)"
   ]
  },
  {
   "cell_type": "markdown",
   "id": "9e09d056-94dc-4943-80f6-8b94af28aa20",
   "metadata": {},
   "source": [
    "# Plot"
   ]
  },
  {
   "cell_type": "code",
   "execution_count": 22,
   "id": "5c7ae204-3ddc-4f4d-a66c-1629f281dd6b",
   "metadata": {
    "execution": {
     "iopub.execute_input": "2023-06-13T21:08:14.495155Z",
     "iopub.status.busy": "2023-06-13T21:08:14.495155Z",
     "iopub.status.idle": "2023-06-13T21:08:15.691154Z",
     "shell.execute_reply": "2023-06-13T21:08:15.690651Z",
     "shell.execute_reply.started": "2023-06-13T21:08:14.495155Z"
    },
    "tags": []
   },
   "outputs": [
    {
     "data": {
      "application/vnd.plotly.v1+json": {
       "config": {
        "plotlyServerURL": "https://plot.ly"
       },
       "data": [
        {
         "hovertemplate": "size=%{x}<br>acc=%{y}<extra></extra>",
         "legendgroup": "",
         "line": {
          "color": "#636efa",
          "dash": "solid"
         },
         "marker": {
          "symbol": "circle"
         },
         "mode": "lines",
         "name": "",
         "orientation": "v",
         "showlegend": false,
         "type": "scatter",
         "x": [
          3394.4,
          3183,
          2992.6,
          2792.8,
          2590.6,
          2417.6,
          2233.2,
          2033.4,
          1841.2,
          1668.6,
          1490.2,
          1342.4,
          1152,
          989.6,
          876.8,
          787,
          608.4,
          406.6,
          336.2,
          329.4,
          310,
          287.2,
          267,
          242.6,
          227,
          213.4,
          199,
          186.2,
          175,
          163,
          145.8,
          129.6,
          110.6,
          95.4,
          79.8,
          57.4,
          44.2,
          20
         ],
         "xaxis": "x",
         "y": [
          0.9996272134203169,
          0.9988096356179756,
          0.9996272134203169,
          0.9995911372997025,
          0.9998136067101584,
          0.9994408201304754,
          0.9994408201304754,
          0.9989599527872027,
          1,
          0.9997416020671835,
          0.9994047440098608,
          0.9992968108445254,
          0.9998136067101584,
          0.9837837837837838,
          0.9994832041343671,
          0.9988520196218673,
          0.9987015548543863,
          0.9990680335507921,
          0.998773559497361,
          0.9982567636317281,
          0.9982863842708113,
          0.9983648443953175,
          0.9987374833767466,
          0.9989958813095633,
          0.9993686678892463,
          0.9985512376851592,
          0.9979496738117428,
          0.998773559497361,
          0.9977692932086704,
          0.9993688154875002,
          0.995479492737428,
          0.9965113911118125,
          0.9969777587516558,
          0.9962190532100251,
          0.9895571373496826,
          0.9878826746243938,
          0.9768185434520238,
          0.936652674018017
         ],
         "yaxis": "y"
        },
        {
         "hovertemplate": "size=%{x}<br>acc=%{y}<extra></extra>",
         "legendgroup": "",
         "line": {
          "color": "#636efa",
          "dash": "dash"
         },
         "marker": {
          "symbol": "circle"
         },
         "mode": "lines",
         "name": "",
         "orientation": "v",
         "showlegend": false,
         "type": "scatter",
         "x": [
          3394.4,
          3183,
          2992.6,
          2792.8,
          2590.6,
          2417.6,
          2233.2,
          2033.4,
          1841.2,
          1668.6,
          1490.2,
          1342.4,
          1152,
          973,
          809.8,
          622.8,
          600.6,
          406.6,
          336.2,
          329.4,
          310,
          287.2,
          267,
          242.6,
          227,
          213.4,
          199,
          186.2,
          175,
          163,
          145.8,
          129.6,
          110.6,
          95.4,
          79.8,
          57.4,
          44.2,
          20
         ],
         "xaxis": "x",
         "y": [
          1,
          1,
          1,
          1,
          1,
          1,
          1,
          1,
          1,
          1,
          1,
          1,
          1,
          1,
          1,
          1,
          0.9834146341463414,
          1,
          1,
          1,
          1,
          1,
          1,
          1,
          1,
          1,
          1,
          1,
          1,
          1,
          0.9980487804878049,
          1,
          0.9996747967479674,
          1,
          0.9973983739837399,
          0.9921951219512195,
          0.9814634146341463,
          0.9359349593495935
         ],
         "yaxis": "y"
        }
       ],
       "layout": {
        "autosize": true,
        "template": {
         "data": {
          "bar": [
           {
            "error_x": {
             "color": "#2a3f5f"
            },
            "error_y": {
             "color": "#2a3f5f"
            },
            "marker": {
             "line": {
              "color": "#E5ECF6",
              "width": 0.5
             },
             "pattern": {
              "fillmode": "overlay",
              "size": 10,
              "solidity": 0.2
             }
            },
            "type": "bar"
           }
          ],
          "barpolar": [
           {
            "marker": {
             "line": {
              "color": "#E5ECF6",
              "width": 0.5
             },
             "pattern": {
              "fillmode": "overlay",
              "size": 10,
              "solidity": 0.2
             }
            },
            "type": "barpolar"
           }
          ],
          "carpet": [
           {
            "aaxis": {
             "endlinecolor": "#2a3f5f",
             "gridcolor": "white",
             "linecolor": "white",
             "minorgridcolor": "white",
             "startlinecolor": "#2a3f5f"
            },
            "baxis": {
             "endlinecolor": "#2a3f5f",
             "gridcolor": "white",
             "linecolor": "white",
             "minorgridcolor": "white",
             "startlinecolor": "#2a3f5f"
            },
            "type": "carpet"
           }
          ],
          "choropleth": [
           {
            "colorbar": {
             "outlinewidth": 0,
             "ticks": ""
            },
            "type": "choropleth"
           }
          ],
          "contour": [
           {
            "colorbar": {
             "outlinewidth": 0,
             "ticks": ""
            },
            "colorscale": [
             [
              0,
              "#0d0887"
             ],
             [
              0.1111111111111111,
              "#46039f"
             ],
             [
              0.2222222222222222,
              "#7201a8"
             ],
             [
              0.3333333333333333,
              "#9c179e"
             ],
             [
              0.4444444444444444,
              "#bd3786"
             ],
             [
              0.5555555555555556,
              "#d8576b"
             ],
             [
              0.6666666666666666,
              "#ed7953"
             ],
             [
              0.7777777777777778,
              "#fb9f3a"
             ],
             [
              0.8888888888888888,
              "#fdca26"
             ],
             [
              1,
              "#f0f921"
             ]
            ],
            "type": "contour"
           }
          ],
          "contourcarpet": [
           {
            "colorbar": {
             "outlinewidth": 0,
             "ticks": ""
            },
            "type": "contourcarpet"
           }
          ],
          "heatmap": [
           {
            "colorbar": {
             "outlinewidth": 0,
             "ticks": ""
            },
            "colorscale": [
             [
              0,
              "#0d0887"
             ],
             [
              0.1111111111111111,
              "#46039f"
             ],
             [
              0.2222222222222222,
              "#7201a8"
             ],
             [
              0.3333333333333333,
              "#9c179e"
             ],
             [
              0.4444444444444444,
              "#bd3786"
             ],
             [
              0.5555555555555556,
              "#d8576b"
             ],
             [
              0.6666666666666666,
              "#ed7953"
             ],
             [
              0.7777777777777778,
              "#fb9f3a"
             ],
             [
              0.8888888888888888,
              "#fdca26"
             ],
             [
              1,
              "#f0f921"
             ]
            ],
            "type": "heatmap"
           }
          ],
          "heatmapgl": [
           {
            "colorbar": {
             "outlinewidth": 0,
             "ticks": ""
            },
            "colorscale": [
             [
              0,
              "#0d0887"
             ],
             [
              0.1111111111111111,
              "#46039f"
             ],
             [
              0.2222222222222222,
              "#7201a8"
             ],
             [
              0.3333333333333333,
              "#9c179e"
             ],
             [
              0.4444444444444444,
              "#bd3786"
             ],
             [
              0.5555555555555556,
              "#d8576b"
             ],
             [
              0.6666666666666666,
              "#ed7953"
             ],
             [
              0.7777777777777778,
              "#fb9f3a"
             ],
             [
              0.8888888888888888,
              "#fdca26"
             ],
             [
              1,
              "#f0f921"
             ]
            ],
            "type": "heatmapgl"
           }
          ],
          "histogram": [
           {
            "marker": {
             "pattern": {
              "fillmode": "overlay",
              "size": 10,
              "solidity": 0.2
             }
            },
            "type": "histogram"
           }
          ],
          "histogram2d": [
           {
            "colorbar": {
             "outlinewidth": 0,
             "ticks": ""
            },
            "colorscale": [
             [
              0,
              "#0d0887"
             ],
             [
              0.1111111111111111,
              "#46039f"
             ],
             [
              0.2222222222222222,
              "#7201a8"
             ],
             [
              0.3333333333333333,
              "#9c179e"
             ],
             [
              0.4444444444444444,
              "#bd3786"
             ],
             [
              0.5555555555555556,
              "#d8576b"
             ],
             [
              0.6666666666666666,
              "#ed7953"
             ],
             [
              0.7777777777777778,
              "#fb9f3a"
             ],
             [
              0.8888888888888888,
              "#fdca26"
             ],
             [
              1,
              "#f0f921"
             ]
            ],
            "type": "histogram2d"
           }
          ],
          "histogram2dcontour": [
           {
            "colorbar": {
             "outlinewidth": 0,
             "ticks": ""
            },
            "colorscale": [
             [
              0,
              "#0d0887"
             ],
             [
              0.1111111111111111,
              "#46039f"
             ],
             [
              0.2222222222222222,
              "#7201a8"
             ],
             [
              0.3333333333333333,
              "#9c179e"
             ],
             [
              0.4444444444444444,
              "#bd3786"
             ],
             [
              0.5555555555555556,
              "#d8576b"
             ],
             [
              0.6666666666666666,
              "#ed7953"
             ],
             [
              0.7777777777777778,
              "#fb9f3a"
             ],
             [
              0.8888888888888888,
              "#fdca26"
             ],
             [
              1,
              "#f0f921"
             ]
            ],
            "type": "histogram2dcontour"
           }
          ],
          "mesh3d": [
           {
            "colorbar": {
             "outlinewidth": 0,
             "ticks": ""
            },
            "type": "mesh3d"
           }
          ],
          "parcoords": [
           {
            "line": {
             "colorbar": {
              "outlinewidth": 0,
              "ticks": ""
             }
            },
            "type": "parcoords"
           }
          ],
          "pie": [
           {
            "automargin": true,
            "type": "pie"
           }
          ],
          "scatter": [
           {
            "fillpattern": {
             "fillmode": "overlay",
             "size": 10,
             "solidity": 0.2
            },
            "type": "scatter"
           }
          ],
          "scatter3d": [
           {
            "line": {
             "colorbar": {
              "outlinewidth": 0,
              "ticks": ""
             }
            },
            "marker": {
             "colorbar": {
              "outlinewidth": 0,
              "ticks": ""
             }
            },
            "type": "scatter3d"
           }
          ],
          "scattercarpet": [
           {
            "marker": {
             "colorbar": {
              "outlinewidth": 0,
              "ticks": ""
             }
            },
            "type": "scattercarpet"
           }
          ],
          "scattergeo": [
           {
            "marker": {
             "colorbar": {
              "outlinewidth": 0,
              "ticks": ""
             }
            },
            "type": "scattergeo"
           }
          ],
          "scattergl": [
           {
            "marker": {
             "colorbar": {
              "outlinewidth": 0,
              "ticks": ""
             }
            },
            "type": "scattergl"
           }
          ],
          "scattermapbox": [
           {
            "marker": {
             "colorbar": {
              "outlinewidth": 0,
              "ticks": ""
             }
            },
            "type": "scattermapbox"
           }
          ],
          "scatterpolar": [
           {
            "marker": {
             "colorbar": {
              "outlinewidth": 0,
              "ticks": ""
             }
            },
            "type": "scatterpolar"
           }
          ],
          "scatterpolargl": [
           {
            "marker": {
             "colorbar": {
              "outlinewidth": 0,
              "ticks": ""
             }
            },
            "type": "scatterpolargl"
           }
          ],
          "scatterternary": [
           {
            "marker": {
             "colorbar": {
              "outlinewidth": 0,
              "ticks": ""
             }
            },
            "type": "scatterternary"
           }
          ],
          "surface": [
           {
            "colorbar": {
             "outlinewidth": 0,
             "ticks": ""
            },
            "colorscale": [
             [
              0,
              "#0d0887"
             ],
             [
              0.1111111111111111,
              "#46039f"
             ],
             [
              0.2222222222222222,
              "#7201a8"
             ],
             [
              0.3333333333333333,
              "#9c179e"
             ],
             [
              0.4444444444444444,
              "#bd3786"
             ],
             [
              0.5555555555555556,
              "#d8576b"
             ],
             [
              0.6666666666666666,
              "#ed7953"
             ],
             [
              0.7777777777777778,
              "#fb9f3a"
             ],
             [
              0.8888888888888888,
              "#fdca26"
             ],
             [
              1,
              "#f0f921"
             ]
            ],
            "type": "surface"
           }
          ],
          "table": [
           {
            "cells": {
             "fill": {
              "color": "#EBF0F8"
             },
             "line": {
              "color": "white"
             }
            },
            "header": {
             "fill": {
              "color": "#C8D4E3"
             },
             "line": {
              "color": "white"
             }
            },
            "type": "table"
           }
          ]
         },
         "layout": {
          "annotationdefaults": {
           "arrowcolor": "#2a3f5f",
           "arrowhead": 0,
           "arrowwidth": 1
          },
          "autotypenumbers": "strict",
          "coloraxis": {
           "colorbar": {
            "outlinewidth": 0,
            "ticks": ""
           }
          },
          "colorscale": {
           "diverging": [
            [
             0,
             "#8e0152"
            ],
            [
             0.1,
             "#c51b7d"
            ],
            [
             0.2,
             "#de77ae"
            ],
            [
             0.3,
             "#f1b6da"
            ],
            [
             0.4,
             "#fde0ef"
            ],
            [
             0.5,
             "#f7f7f7"
            ],
            [
             0.6,
             "#e6f5d0"
            ],
            [
             0.7,
             "#b8e186"
            ],
            [
             0.8,
             "#7fbc41"
            ],
            [
             0.9,
             "#4d9221"
            ],
            [
             1,
             "#276419"
            ]
           ],
           "sequential": [
            [
             0,
             "#0d0887"
            ],
            [
             0.1111111111111111,
             "#46039f"
            ],
            [
             0.2222222222222222,
             "#7201a8"
            ],
            [
             0.3333333333333333,
             "#9c179e"
            ],
            [
             0.4444444444444444,
             "#bd3786"
            ],
            [
             0.5555555555555556,
             "#d8576b"
            ],
            [
             0.6666666666666666,
             "#ed7953"
            ],
            [
             0.7777777777777778,
             "#fb9f3a"
            ],
            [
             0.8888888888888888,
             "#fdca26"
            ],
            [
             1,
             "#f0f921"
            ]
           ],
           "sequentialminus": [
            [
             0,
             "#0d0887"
            ],
            [
             0.1111111111111111,
             "#46039f"
            ],
            [
             0.2222222222222222,
             "#7201a8"
            ],
            [
             0.3333333333333333,
             "#9c179e"
            ],
            [
             0.4444444444444444,
             "#bd3786"
            ],
            [
             0.5555555555555556,
             "#d8576b"
            ],
            [
             0.6666666666666666,
             "#ed7953"
            ],
            [
             0.7777777777777778,
             "#fb9f3a"
            ],
            [
             0.8888888888888888,
             "#fdca26"
            ],
            [
             1,
             "#f0f921"
            ]
           ]
          },
          "colorway": [
           "#636efa",
           "#EF553B",
           "#00cc96",
           "#ab63fa",
           "#FFA15A",
           "#19d3f3",
           "#FF6692",
           "#B6E880",
           "#FF97FF",
           "#FECB52"
          ],
          "font": {
           "color": "#2a3f5f"
          },
          "geo": {
           "bgcolor": "white",
           "lakecolor": "white",
           "landcolor": "#E5ECF6",
           "showlakes": true,
           "showland": true,
           "subunitcolor": "white"
          },
          "hoverlabel": {
           "align": "left"
          },
          "hovermode": "closest",
          "mapbox": {
           "style": "light"
          },
          "paper_bgcolor": "white",
          "plot_bgcolor": "#E5ECF6",
          "polar": {
           "angularaxis": {
            "gridcolor": "white",
            "linecolor": "white",
            "ticks": ""
           },
           "bgcolor": "#E5ECF6",
           "radialaxis": {
            "gridcolor": "white",
            "linecolor": "white",
            "ticks": ""
           }
          },
          "scene": {
           "xaxis": {
            "backgroundcolor": "#E5ECF6",
            "gridcolor": "white",
            "gridwidth": 2,
            "linecolor": "white",
            "showbackground": true,
            "ticks": "",
            "zerolinecolor": "white"
           },
           "yaxis": {
            "backgroundcolor": "#E5ECF6",
            "gridcolor": "white",
            "gridwidth": 2,
            "linecolor": "white",
            "showbackground": true,
            "ticks": "",
            "zerolinecolor": "white"
           },
           "zaxis": {
            "backgroundcolor": "#E5ECF6",
            "gridcolor": "white",
            "gridwidth": 2,
            "linecolor": "white",
            "showbackground": true,
            "ticks": "",
            "zerolinecolor": "white"
           }
          },
          "shapedefaults": {
           "line": {
            "color": "#2a3f5f"
           }
          },
          "ternary": {
           "aaxis": {
            "gridcolor": "white",
            "linecolor": "white",
            "ticks": ""
           },
           "baxis": {
            "gridcolor": "white",
            "linecolor": "white",
            "ticks": ""
           },
           "bgcolor": "#E5ECF6",
           "caxis": {
            "gridcolor": "white",
            "linecolor": "white",
            "ticks": ""
           }
          },
          "title": {
           "x": 0.05
          },
          "xaxis": {
           "automargin": true,
           "gridcolor": "white",
           "linecolor": "white",
           "ticks": "",
           "title": {
            "standoff": 15
           },
           "zerolinecolor": "white",
           "zerolinewidth": 2
          },
          "yaxis": {
           "automargin": true,
           "gridcolor": "white",
           "linecolor": "white",
           "ticks": "",
           "title": {
            "standoff": 15
           },
           "zerolinecolor": "white",
           "zerolinewidth": 2
          }
         }
        },
        "xaxis": {
         "autorange": true,
         "range": [
          20,
          3394.4
         ],
         "type": "linear"
        },
        "yaxis": {
         "autorange": true,
         "range": [
          0.9323757904245709,
          1.0035591689250225
         ],
         "type": "linear"
        }
       }
      },
      "image/png": "[encoded data removed]",
      "text/html": [
       "<div>                            <div id=\"bc54d72c-6544-4215-8ee3-8298cd0c7dfc\" class=\"plotly-graph-div\" style=\"height:525px; width:100%;\"></div>            <script type=\"text/javascript\">                require([\"plotly\"], function(Plotly) {                    window.PLOTLYENV=window.PLOTLYENV || {};                                    if (document.getElementById(\"bc54d72c-6544-4215-8ee3-8298cd0c7dfc\")) {                    Plotly.newPlot(                        \"bc54d72c-6544-4215-8ee3-8298cd0c7dfc\",                        [{\"hovertemplate\":\"size=%{x}<br>acc=%{y}<extra></extra>\",\"legendgroup\":\"\",\"line\":{\"color\":\"#636efa\",\"dash\":\"solid\"},\"marker\":{\"symbol\":\"circle\"},\"mode\":\"lines\",\"name\":\"\",\"orientation\":\"v\",\"showlegend\":false,\"x\":[3394.4,3183.0,2992.6,2792.8,2590.6,2417.6,2233.2,2033.4,1841.2,1668.6,1490.2,1342.4,1152.0,989.6,876.8,787.0,608.4,406.6,336.2,329.4,310.0,287.2,267.0,242.6,227.0,213.4,199.0,186.2,175.0,163.0,145.8,129.6,110.6,95.4,79.8,57.4,44.2,20.0],\"xaxis\":\"x\",\"y\":[0.9996272134203169,0.9988096356179756,0.9996272134203169,0.9995911372997025,0.9998136067101584,0.9994408201304754,0.9994408201304754,0.9989599527872027,1.0,0.9997416020671835,0.9994047440098608,0.9992968108445254,0.9998136067101584,0.9837837837837838,0.9994832041343671,0.9988520196218673,0.9987015548543863,0.9990680335507921,0.998773559497361,0.9982567636317281,0.9982863842708113,0.9983648443953175,0.9987374833767466,0.9989958813095633,0.9993686678892463,0.9985512376851592,0.9979496738117428,0.998773559497361,0.9977692932086704,0.9993688154875002,0.995479492737428,0.9965113911118125,0.9969777587516558,0.9962190532100251,0.9895571373496826,0.9878826746243938,0.9768185434520238,0.936652674018017],\"yaxis\":\"y\",\"type\":\"scatter\"},{\"hovertemplate\":\"size=%{x}<br>acc=%{y}<extra></extra>\",\"legendgroup\":\"\",\"line\":{\"color\":\"#636efa\",\"dash\":\"dash\"},\"marker\":{\"symbol\":\"circle\"},\"mode\":\"lines\",\"name\":\"\",\"orientation\":\"v\",\"showlegend\":false,\"x\":[3394.4,3183.0,2992.6,2792.8,2590.6,2417.6,2233.2,2033.4,1841.2,1668.6,1490.2,1342.4,1152.0,973.0,809.8,622.8,600.6,406.6,336.2,329.4,310.0,287.2,267.0,242.6,227.0,213.4,199.0,186.2,175.0,163.0,145.8,129.6,110.6,95.4,79.8,57.4,44.2,20.0],\"xaxis\":\"x\",\"y\":[1.0,1.0,1.0,1.0,1.0,1.0,1.0,1.0,1.0,1.0,1.0,1.0,1.0,1.0,1.0,1.0,0.9834146341463414,1.0,1.0,1.0,1.0,1.0,1.0,1.0,1.0,1.0,1.0,1.0,1.0,1.0,0.9980487804878049,1.0,0.9996747967479674,1.0,0.9973983739837399,0.9921951219512195,0.9814634146341463,0.9359349593495935],\"yaxis\":\"y\",\"type\":\"scatter\"}],                        {\"template\":{\"data\":{\"histogram2dcontour\":[{\"type\":\"histogram2dcontour\",\"colorbar\":{\"outlinewidth\":0,\"ticks\":\"\"},\"colorscale\":[[0.0,\"#0d0887\"],[0.1111111111111111,\"#46039f\"],[0.2222222222222222,\"#7201a8\"],[0.3333333333333333,\"#9c179e\"],[0.4444444444444444,\"#bd3786\"],[0.5555555555555556,\"#d8576b\"],[0.6666666666666666,\"#ed7953\"],[0.7777777777777778,\"#fb9f3a\"],[0.8888888888888888,\"#fdca26\"],[1.0,\"#f0f921\"]]}],\"choropleth\":[{\"type\":\"choropleth\",\"colorbar\":{\"outlinewidth\":0,\"ticks\":\"\"}}],\"histogram2d\":[{\"type\":\"histogram2d\",\"colorbar\":{\"outlinewidth\":0,\"ticks\":\"\"},\"colorscale\":[[0.0,\"#0d0887\"],[0.1111111111111111,\"#46039f\"],[0.2222222222222222,\"#7201a8\"],[0.3333333333333333,\"#9c179e\"],[0.4444444444444444,\"#bd3786\"],[0.5555555555555556,\"#d8576b\"],[0.6666666666666666,\"#ed7953\"],[0.7777777777777778,\"#fb9f3a\"],[0.8888888888888888,\"#fdca26\"],[1.0,\"#f0f921\"]]}],\"heatmap\":[{\"type\":\"heatmap\",\"colorbar\":{\"outlinewidth\":0,\"ticks\":\"\"},\"colorscale\":[[0.0,\"#0d0887\"],[0.1111111111111111,\"#46039f\"],[0.2222222222222222,\"#7201a8\"],[0.3333333333333333,\"#9c179e\"],[0.4444444444444444,\"#bd3786\"],[0.5555555555555556,\"#d8576b\"],[0.6666666666666666,\"#ed7953\"],[0.7777777777777778,\"#fb9f3a\"],[0.8888888888888888,\"#fdca26\"],[1.0,\"#f0f921\"]]}],\"heatmapgl\":[{\"type\":\"heatmapgl\",\"colorbar\":{\"outlinewidth\":0,\"ticks\":\"\"},\"colorscale\":[[0.0,\"#0d0887\"],[0.1111111111111111,\"#46039f\"],[0.2222222222222222,\"#7201a8\"],[0.3333333333333333,\"#9c179e\"],[0.4444444444444444,\"#bd3786\"],[0.5555555555555556,\"#d8576b\"],[0.6666666666666666,\"#ed7953\"],[0.7777777777777778,\"#fb9f3a\"],[0.8888888888888888,\"#fdca26\"],[1.0,\"#f0f921\"]]}],\"contourcarpet\":[{\"type\":\"contourcarpet\",\"colorbar\":{\"outlinewidth\":0,\"ticks\":\"\"}}],\"contour\":[{\"type\":\"contour\",\"colorbar\":{\"outlinewidth\":0,\"ticks\":\"\"},\"colorscale\":[[0.0,\"#0d0887\"],[0.1111111111111111,\"#46039f\"],[0.2222222222222222,\"#7201a8\"],[0.3333333333333333,\"#9c179e\"],[0.4444444444444444,\"#bd3786\"],[0.5555555555555556,\"#d8576b\"],[0.6666666666666666,\"#ed7953\"],[0.7777777777777778,\"#fb9f3a\"],[0.8888888888888888,\"#fdca26\"],[1.0,\"#f0f921\"]]}],\"surface\":[{\"type\":\"surface\",\"colorbar\":{\"outlinewidth\":0,\"ticks\":\"\"},\"colorscale\":[[0.0,\"#0d0887\"],[0.1111111111111111,\"#46039f\"],[0.2222222222222222,\"#7201a8\"],[0.3333333333333333,\"#9c179e\"],[0.4444444444444444,\"#bd3786\"],[0.5555555555555556,\"#d8576b\"],[0.6666666666666666,\"#ed7953\"],[0.7777777777777778,\"#fb9f3a\"],[0.8888888888888888,\"#fdca26\"],[1.0,\"#f0f921\"]]}],\"mesh3d\":[{\"type\":\"mesh3d\",\"colorbar\":{\"outlinewidth\":0,\"ticks\":\"\"}}],\"scatter\":[{\"fillpattern\":{\"fillmode\":\"overlay\",\"size\":10,\"solidity\":0.2},\"type\":\"scatter\"}],\"parcoords\":[{\"type\":\"parcoords\",\"line\":{\"colorbar\":{\"outlinewidth\":0,\"ticks\":\"\"}}}],\"scatterpolargl\":[{\"type\":\"scatterpolargl\",\"marker\":{\"colorbar\":{\"outlinewidth\":0,\"ticks\":\"\"}}}],\"bar\":[{\"error_x\":{\"color\":\"#2a3f5f\"},\"error_y\":{\"color\":\"#2a3f5f\"},\"marker\":{\"line\":{\"color\":\"#E5ECF6\",\"width\":0.5},\"pattern\":{\"fillmode\":\"overlay\",\"size\":10,\"solidity\":0.2}},\"type\":\"bar\"}],\"scattergeo\":[{\"type\":\"scattergeo\",\"marker\":{\"colorbar\":{\"outlinewidth\":0,\"ticks\":\"\"}}}],\"scatterpolar\":[{\"type\":\"scatterpolar\",\"marker\":{\"colorbar\":{\"outlinewidth\":0,\"ticks\":\"\"}}}],\"histogram\":[{\"marker\":{\"pattern\":{\"fillmode\":\"overlay\",\"size\":10,\"solidity\":0.2}},\"type\":\"histogram\"}],\"scattergl\":[{\"type\":\"scattergl\",\"marker\":{\"colorbar\":{\"outlinewidth\":0,\"ticks\":\"\"}}}],\"scatter3d\":[{\"type\":\"scatter3d\",\"line\":{\"colorbar\":{\"outlinewidth\":0,\"ticks\":\"\"}},\"marker\":{\"colorbar\":{\"outlinewidth\":0,\"ticks\":\"\"}}}],\"scattermapbox\":[{\"type\":\"scattermapbox\",\"marker\":{\"colorbar\":{\"outlinewidth\":0,\"ticks\":\"\"}}}],\"scatterternary\":[{\"type\":\"scatterternary\",\"marker\":{\"colorbar\":{\"outlinewidth\":0,\"ticks\":\"\"}}}],\"scattercarpet\":[{\"type\":\"scattercarpet\",\"marker\":{\"colorbar\":{\"outlinewidth\":0,\"ticks\":\"\"}}}],\"carpet\":[{\"aaxis\":{\"endlinecolor\":\"#2a3f5f\",\"gridcolor\":\"white\",\"linecolor\":\"white\",\"minorgridcolor\":\"white\",\"startlinecolor\":\"#2a3f5f\"},\"baxis\":{\"endlinecolor\":\"#2a3f5f\",\"gridcolor\":\"white\",\"linecolor\":\"white\",\"minorgridcolor\":\"white\",\"startlinecolor\":\"#2a3f5f\"},\"type\":\"carpet\"}],\"table\":[{\"cells\":{\"fill\":{\"color\":\"#EBF0F8\"},\"line\":{\"color\":\"white\"}},\"header\":{\"fill\":{\"color\":\"#C8D4E3\"},\"line\":{\"color\":\"white\"}},\"type\":\"table\"}],\"barpolar\":[{\"marker\":{\"line\":{\"color\":\"#E5ECF6\",\"width\":0.5},\"pattern\":{\"fillmode\":\"overlay\",\"size\":10,\"solidity\":0.2}},\"type\":\"barpolar\"}],\"pie\":[{\"automargin\":true,\"type\":\"pie\"}]},\"layout\":{\"autotypenumbers\":\"strict\",\"colorway\":[\"#636efa\",\"#EF553B\",\"#00cc96\",\"#ab63fa\",\"#FFA15A\",\"#19d3f3\",\"#FF6692\",\"#B6E880\",\"#FF97FF\",\"#FECB52\"],\"font\":{\"color\":\"#2a3f5f\"},\"hovermode\":\"closest\",\"hoverlabel\":{\"align\":\"left\"},\"paper_bgcolor\":\"white\",\"plot_bgcolor\":\"#E5ECF6\",\"polar\":{\"bgcolor\":\"#E5ECF6\",\"angularaxis\":{\"gridcolor\":\"white\",\"linecolor\":\"white\",\"ticks\":\"\"},\"radialaxis\":{\"gridcolor\":\"white\",\"linecolor\":\"white\",\"ticks\":\"\"}},\"ternary\":{\"bgcolor\":\"#E5ECF6\",\"aaxis\":{\"gridcolor\":\"white\",\"linecolor\":\"white\",\"ticks\":\"\"},\"baxis\":{\"gridcolor\":\"white\",\"linecolor\":\"white\",\"ticks\":\"\"},\"caxis\":{\"gridcolor\":\"white\",\"linecolor\":\"white\",\"ticks\":\"\"}},\"coloraxis\":{\"colorbar\":{\"outlinewidth\":0,\"ticks\":\"\"}},\"colorscale\":{\"sequential\":[[0.0,\"#0d0887\"],[0.1111111111111111,\"#46039f\"],[0.2222222222222222,\"#7201a8\"],[0.3333333333333333,\"#9c179e\"],[0.4444444444444444,\"#bd3786\"],[0.5555555555555556,\"#d8576b\"],[0.6666666666666666,\"#ed7953\"],[0.7777777777777778,\"#fb9f3a\"],[0.8888888888888888,\"#fdca26\"],[1.0,\"#f0f921\"]],\"sequentialminus\":[[0.0,\"#0d0887\"],[0.1111111111111111,\"#46039f\"],[0.2222222222222222,\"#7201a8\"],[0.3333333333333333,\"#9c179e\"],[0.4444444444444444,\"#bd3786\"],[0.5555555555555556,\"#d8576b\"],[0.6666666666666666,\"#ed7953\"],[0.7777777777777778,\"#fb9f3a\"],[0.8888888888888888,\"#fdca26\"],[1.0,\"#f0f921\"]],\"diverging\":[[0,\"#8e0152\"],[0.1,\"#c51b7d\"],[0.2,\"#de77ae\"],[0.3,\"#f1b6da\"],[0.4,\"#fde0ef\"],[0.5,\"#f7f7f7\"],[0.6,\"#e6f5d0\"],[0.7,\"#b8e186\"],[0.8,\"#7fbc41\"],[0.9,\"#4d9221\"],[1,\"#276419\"]]},\"xaxis\":{\"gridcolor\":\"white\",\"linecolor\":\"white\",\"ticks\":\"\",\"title\":{\"standoff\":15},\"zerolinecolor\":\"white\",\"automargin\":true,\"zerolinewidth\":2},\"yaxis\":{\"gridcolor\":\"white\",\"linecolor\":\"white\",\"ticks\":\"\",\"title\":{\"standoff\":15},\"zerolinecolor\":\"white\",\"automargin\":true,\"zerolinewidth\":2},\"scene\":{\"xaxis\":{\"backgroundcolor\":\"#E5ECF6\",\"gridcolor\":\"white\",\"linecolor\":\"white\",\"showbackground\":true,\"ticks\":\"\",\"zerolinecolor\":\"white\",\"gridwidth\":2},\"yaxis\":{\"backgroundcolor\":\"#E5ECF6\",\"gridcolor\":\"white\",\"linecolor\":\"white\",\"showbackground\":true,\"ticks\":\"\",\"zerolinecolor\":\"white\",\"gridwidth\":2},\"zaxis\":{\"backgroundcolor\":\"#E5ECF6\",\"gridcolor\":\"white\",\"linecolor\":\"white\",\"showbackground\":true,\"ticks\":\"\",\"zerolinecolor\":\"white\",\"gridwidth\":2}},\"shapedefaults\":{\"line\":{\"color\":\"#2a3f5f\"}},\"annotationdefaults\":{\"arrowcolor\":\"#2a3f5f\",\"arrowhead\":0,\"arrowwidth\":1},\"geo\":{\"bgcolor\":\"white\",\"landcolor\":\"#E5ECF6\",\"subunitcolor\":\"white\",\"showland\":true,\"showlakes\":true,\"lakecolor\":\"white\"},\"title\":{\"x\":0.05},\"mapbox\":{\"style\":\"light\"}}}},                        {\"responsive\": true}                    ).then(function(){\n",
       "                            \n",
       "var gd = document.getElementById('bc54d72c-6544-4215-8ee3-8298cd0c7dfc');\n",
       "var x = new MutationObserver(function (mutations, observer) {{\n",
       "        var display = window.getComputedStyle(gd).display;\n",
       "        if (!display || display === 'none') {{\n",
       "            console.log([gd, 'removed!']);\n",
       "            Plotly.purge(gd);\n",
       "            observer.disconnect();\n",
       "        }}\n",
       "}});\n",
       "\n",
       "// Listen for the removal of the full notebook cells\n",
       "var notebookContainer = gd.closest('#notebook-container');\n",
       "if (notebookContainer) {{\n",
       "    x.observe(notebookContainer, {childList: true});\n",
       "}}\n",
       "\n",
       "// Listen for the clearing of the current output cell\n",
       "var outputEl = gd.closest('.output');\n",
       "if (outputEl) {{\n",
       "    x.observe(outputEl, {childList: true});\n",
       "}}\n",
       "\n",
       "                        })                };                });            </script>        </div>"
      ]
     },
     "metadata": {},
     "output_type": "display_data"
    }
   ],
   "source": [
    "# create results dataframe\n",
    "results_dict = valid_dict_all\n",
    "acc_df = pd.DataFrame()\n",
    "acc_lst = []\n",
    "size_lst = []\n",
    "fold_lst = []\n",
    "folds = 5\n",
    "for fold in range(1,folds+1):\n",
    "    fold_df = results_dict['fold_'+str(fold)][1]\n",
    "    for i in range(1, 20*2-1):\n",
    "        fold_df = fold_df[fold_df['truth_'+str(i)]=='Coccotypes_dactyliperda']\n",
    "        acc = accuracy_score(y_true=fold_df['truth_'+str(i)], y_pred=fold_df['pred_'+str(i)])\n",
    "        acc_lst.append(acc)\n",
    "        size_lst.append(results_dict['fold_'+str(fold)][0].iloc[0,i])\n",
    "        fold_lst.append('fold_'+str(fold))\n",
    "acc_df[\"size\"] = size_lst\n",
    "acc_df[\"acc\"] = acc_lst\n",
    "acc_df['fold'] = fold_lst\n",
    "acc_df = acc_df.sort_values(['fold', 'size'], ascending=[True, False])\n",
    "\n",
    "acc_avg_df = pd.DataFrame()\n",
    "size_arr_lst = []\n",
    "acc_arr_lst = []\n",
    "for fold in range(1,folds+1):\n",
    "    size_arr = acc_df[acc_df['fold']=='fold_'+str(fold)]['size']\n",
    "    size_arr_lst.append(size_arr)\n",
    "    acc_arr = acc_df[acc_df['fold']=='fold_'+str(fold)]['acc']\n",
    "    acc_arr_lst.append(acc_arr)\n",
    "acc_avg_df['size'] = np.mean(size_arr_lst, axis=0)\n",
    "acc_avg_df['acc'] = np.mean(acc_arr_lst, axis=0)\n",
    "\n",
    "# create results dataframe\n",
    "results_dict = test_dict_all\n",
    "acc_df = pd.DataFrame()\n",
    "acc_lst = []\n",
    "size_lst = []\n",
    "fold_lst = []\n",
    "folds = 5\n",
    "for fold in range(1,folds+1):\n",
    "    fold_df = results_dict['fold_'+str(fold)][1]\n",
    "    for i in range(1, 20*2-1):\n",
    "        fold_df = fold_df[fold_df['truth_'+str(i)]=='Coccotypes_dactyliperda']\n",
    "        acc = accuracy_score(y_true=fold_df['truth_'+str(i)], y_pred=fold_df['pred_'+str(i)])\n",
    "        acc_lst.append(acc)\n",
    "        size_lst.append(results_dict['fold_'+str(fold)][0].iloc[0,i])\n",
    "        fold_lst.append('fold_'+str(fold))\n",
    "acc_df[\"size\"] = size_lst\n",
    "acc_df[\"acc\"] = acc_lst\n",
    "acc_df['fold'] = fold_lst\n",
    "acc_df = acc_df.sort_values(['fold', 'size'], ascending=[True, False])\n",
    "\n",
    "test_acc_avg_df = pd.DataFrame()\n",
    "size_arr_lst = []\n",
    "acc_arr_lst = []\n",
    "for fold in range(1,folds+1):\n",
    "    size_arr = acc_df[acc_df['fold']=='fold_'+str(fold)]['size']\n",
    "    size_arr_lst.append(size_arr)\n",
    "    acc_arr = acc_df[acc_df['fold']=='fold_'+str(fold)]['acc']\n",
    "    acc_arr_lst.append(acc_arr)\n",
    "test_acc_avg_df['size'] = np.mean(size_arr_lst, axis=0)\n",
    "test_acc_avg_df['acc'] = np.mean(acc_arr_lst, axis=0)\n",
    "    \n",
    "fig1 = px.line(acc_avg_df, x=\"size\", y=\"acc\")\n",
    "fig2 = px.line(test_acc_avg_df, x=\"size\", y=\"acc\")\n",
    "fig2.data[0].line.dash = 'dash'\n",
    "fig = go.Figure(data=fig1.data + fig2.data)\n",
    "fig.show()"
   ]
  }
 ],
 "metadata": {
  "kernelspec": {
   "display_name": "Python 3 (ipykernel)",
   "language": "python",
   "name": "python3"
  },
  "language_info": {
   "codemirror_mode": {
    "name": "ipython",
    "version": 3
   },
   "file_extension": ".py",
   "mimetype": "text/x-python",
   "name": "python",
   "nbconvert_exporter": "python",
   "pygments_lexer": "ipython3",
   "version": "3.9.16"
  }
 },
 "nbformat": 4,
 "nbformat_minor": 5
}
