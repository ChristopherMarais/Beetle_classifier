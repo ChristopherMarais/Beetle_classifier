{
 "cells": [
  {
   "cell_type": "code",
   "execution_count": 110,
   "id": "59eb6207-c34e-4523-a951-eedfb4b06286",
   "metadata": {
    "execution": {
     "iopub.execute_input": "2023-06-09T02:27:53.200891Z",
     "iopub.status.busy": "2023-06-09T02:27:53.200891Z",
     "iopub.status.idle": "2023-06-09T02:27:53.214390Z",
     "shell.execute_reply": "2023-06-09T02:27:53.213390Z",
     "shell.execute_reply.started": "2023-06-09T02:27:53.200891Z"
    },
    "tags": []
   },
   "outputs": [],
   "source": [
    "import os\n",
    "import pickle\n",
    "import pandas as pd\n",
    "import numpy as np\n",
    "\n",
    "import plotly.express as px\n",
    "import plotly.figure_factory as ff\n",
    "import plotly.graph_objects as go\n",
    "\n",
    "from sklearn.metrics import confusion_matrix, f1_score, accuracy_score"
   ]
  },
  {
   "cell_type": "code",
   "execution_count": 2,
   "id": "13054229-a92d-46a7-9484-714595c8479a",
   "metadata": {
    "execution": {
     "iopub.execute_input": "2023-06-07T13:44:34.389720Z",
     "iopub.status.busy": "2023-06-07T13:44:34.389220Z",
     "iopub.status.idle": "2023-06-07T13:44:34.403222Z",
     "shell.execute_reply": "2023-06-07T13:44:34.402220Z",
     "shell.execute_reply.started": "2023-06-07T13:44:34.389720Z"
    },
    "tags": []
   },
   "outputs": [],
   "source": [
    "# this function only describes how much a singular value in al ist stands out.\n",
    "# if all values in the lsit are high or low this is 1\n",
    "# the smaller the proportiopn of number of disimilar vlaues are to other more similar values the lower this number\n",
    "# the larger the gap between the dissimilar numbers and the simialr number the smaller this number\n",
    "# only able to interpret probabilities or values between 0 and 1\n",
    "# this function outputs an estimate an inverse of the classification confidence based on the probabilities of all the classes.\n",
    "# the wedge threshold splits the data on a threshold with a magnitude of a positive int to force a ledge/peak in the data\n",
    "def unknown_prob_calc(probs, wedge_threshold=0.85, wedge_magnitude=1, wedge='strict'):\n",
    "    if wedge =='strict':\n",
    "        increase_var = (1/(wedge_magnitude))\n",
    "        decrease_var = (wedge_magnitude)\n",
    "    if wedge =='dynamic': # this allows pointsthat are furhter from the threshold ot be moved less and points clsoer to be moved more\n",
    "        increase_var = (1/(wedge_magnitude*((1-np.abs(probs-wedge_threshold)))))\n",
    "        decrease_var = (wedge_magnitude*((1-np.abs(probs-wedge_threshold))))\n",
    "    # else:\n",
    "    #     print(\"Error: use 'strict' (default) or 'dynamic' as options for the wedge parameter!\")\n",
    "    probs = np.where(probs>=wedge_threshold , probs**increase_var, probs)\n",
    "    probs = np.where(probs<=wedge_threshold , probs**decrease_var, probs)\n",
    "    diff_matrix = np.abs(probs[:, np.newaxis] - probs)\n",
    "    diff_matrix_sum = np.sum(diff_matrix)\n",
    "    probs_sum = np.sum(probs)\n",
    "    class_val = (diff_matrix_sum/probs_sum)\n",
    "    max_class_val = ((len(probs)-1)*2)\n",
    "    kown_prob = class_val/max_class_val\n",
    "    unknown_prob = 1-kown_prob\n",
    "    return(unknown_prob)"
   ]
  },
  {
   "cell_type": "code",
   "execution_count": 3,
   "id": "ddc04dba-2de1-4070-84c7-43ce3de6678b",
   "metadata": {
    "execution": {
     "iopub.execute_input": "2023-06-07T13:44:34.404721Z",
     "iopub.status.busy": "2023-06-07T13:44:34.404221Z",
     "iopub.status.idle": "2023-06-07T13:44:34.650844Z",
     "shell.execute_reply": "2023-06-07T13:44:34.649840Z",
     "shell.execute_reply.started": "2023-06-07T13:44:34.404721Z"
    },
    "tags": []
   },
   "outputs": [
    {
     "data": {
      "text/html": [
       "<div>\n",
       "<style scoped>\n",
       "    .dataframe tbody tr th:only-of-type {\n",
       "        vertical-align: middle;\n",
       "    }\n",
       "\n",
       "    .dataframe tbody tr th {\n",
       "        vertical-align: top;\n",
       "    }\n",
       "\n",
       "    .dataframe thead th {\n",
       "        text-align: right;\n",
       "    }\n",
       "</style>\n",
       "<table border=\"1\" class=\"dataframe\">\n",
       "  <thead>\n",
       "    <tr style=\"text-align: right;\">\n",
       "      <th></th>\n",
       "      <th>test</th>\n",
       "      <th>train</th>\n",
       "      <th>train_1</th>\n",
       "      <th>train_2</th>\n",
       "      <th>train_3</th>\n",
       "      <th>train_4</th>\n",
       "      <th>train_5</th>\n",
       "      <th>valid</th>\n",
       "      <th>valid_1</th>\n",
       "      <th>valid_2</th>\n",
       "      <th>valid_3</th>\n",
       "      <th>valid_4</th>\n",
       "      <th>valid_5</th>\n",
       "    </tr>\n",
       "    <tr>\n",
       "      <th>Species</th>\n",
       "      <th></th>\n",
       "      <th></th>\n",
       "      <th></th>\n",
       "      <th></th>\n",
       "      <th></th>\n",
       "      <th></th>\n",
       "      <th></th>\n",
       "      <th></th>\n",
       "      <th></th>\n",
       "      <th></th>\n",
       "      <th></th>\n",
       "      <th></th>\n",
       "      <th></th>\n",
       "    </tr>\n",
       "  </thead>\n",
       "  <tbody>\n",
       "    <tr>\n",
       "      <th>Coccotypes_dactyliperda</th>\n",
       "      <td>615</td>\n",
       "      <td>3342</td>\n",
       "      <td>3280</td>\n",
       "      <td>3458</td>\n",
       "      <td>3454</td>\n",
       "      <td>3579</td>\n",
       "      <td>3641</td>\n",
       "      <td>1011</td>\n",
       "      <td>1073</td>\n",
       "      <td>895</td>\n",
       "      <td>899</td>\n",
       "      <td>774</td>\n",
       "      <td>712</td>\n",
       "    </tr>\n",
       "    <tr>\n",
       "      <th>Xyleborinus_saxesenii</th>\n",
       "      <td>380</td>\n",
       "      <td>1542</td>\n",
       "      <td>1625</td>\n",
       "      <td>1663</td>\n",
       "      <td>1833</td>\n",
       "      <td>1855</td>\n",
       "      <td>1716</td>\n",
       "      <td>631</td>\n",
       "      <td>548</td>\n",
       "      <td>510</td>\n",
       "      <td>340</td>\n",
       "      <td>318</td>\n",
       "      <td>457</td>\n",
       "    </tr>\n",
       "    <tr>\n",
       "      <th>Pityophthorus_juglandis</th>\n",
       "      <td>680</td>\n",
       "      <td>3194</td>\n",
       "      <td>3086</td>\n",
       "      <td>3107</td>\n",
       "      <td>3219</td>\n",
       "      <td>3203</td>\n",
       "      <td>3341</td>\n",
       "      <td>795</td>\n",
       "      <td>903</td>\n",
       "      <td>882</td>\n",
       "      <td>770</td>\n",
       "      <td>786</td>\n",
       "      <td>648</td>\n",
       "    </tr>\n",
       "    <tr>\n",
       "      <th>Monarthrum_fasciatum</th>\n",
       "      <td>133</td>\n",
       "      <td>846</td>\n",
       "      <td>827</td>\n",
       "      <td>818</td>\n",
       "      <td>828</td>\n",
       "      <td>976</td>\n",
       "      <td>1011</td>\n",
       "      <td>269</td>\n",
       "      <td>288</td>\n",
       "      <td>297</td>\n",
       "      <td>287</td>\n",
       "      <td>139</td>\n",
       "      <td>104</td>\n",
       "    </tr>\n",
       "    <tr>\n",
       "      <th>Pycnarthrum_hispidium</th>\n",
       "      <td>208</td>\n",
       "      <td>1192</td>\n",
       "      <td>1146</td>\n",
       "      <td>1123</td>\n",
       "      <td>1197</td>\n",
       "      <td>1337</td>\n",
       "      <td>1413</td>\n",
       "      <td>362</td>\n",
       "      <td>408</td>\n",
       "      <td>431</td>\n",
       "      <td>357</td>\n",
       "      <td>217</td>\n",
       "      <td>141</td>\n",
       "    </tr>\n",
       "    <tr>\n",
       "      <th>Xyleborus_affinis</th>\n",
       "      <td>456</td>\n",
       "      <td>3127</td>\n",
       "      <td>3191</td>\n",
       "      <td>3214</td>\n",
       "      <td>3121</td>\n",
       "      <td>3388</td>\n",
       "      <td>3654</td>\n",
       "      <td>1015</td>\n",
       "      <td>951</td>\n",
       "      <td>928</td>\n",
       "      <td>1021</td>\n",
       "      <td>754</td>\n",
       "      <td>488</td>\n",
       "    </tr>\n",
       "    <tr>\n",
       "      <th>Scolotodes_schwarzi</th>\n",
       "      <td>467</td>\n",
       "      <td>1678</td>\n",
       "      <td>1672</td>\n",
       "      <td>1601</td>\n",
       "      <td>1664</td>\n",
       "      <td>1746</td>\n",
       "      <td>1861</td>\n",
       "      <td>458</td>\n",
       "      <td>464</td>\n",
       "      <td>535</td>\n",
       "      <td>472</td>\n",
       "      <td>390</td>\n",
       "      <td>275</td>\n",
       "    </tr>\n",
       "    <tr>\n",
       "      <th>Xylosandrus_crassiusculus</th>\n",
       "      <td>326</td>\n",
       "      <td>2443</td>\n",
       "      <td>2848</td>\n",
       "      <td>2828</td>\n",
       "      <td>2552</td>\n",
       "      <td>2334</td>\n",
       "      <td>2278</td>\n",
       "      <td>767</td>\n",
       "      <td>362</td>\n",
       "      <td>382</td>\n",
       "      <td>658</td>\n",
       "      <td>876</td>\n",
       "      <td>932</td>\n",
       "    </tr>\n",
       "    <tr>\n",
       "      <th>Hylesinus_varius</th>\n",
       "      <td>216</td>\n",
       "      <td>1312</td>\n",
       "      <td>1309</td>\n",
       "      <td>1413</td>\n",
       "      <td>1396</td>\n",
       "      <td>1369</td>\n",
       "      <td>1413</td>\n",
       "      <td>413</td>\n",
       "      <td>416</td>\n",
       "      <td>312</td>\n",
       "      <td>329</td>\n",
       "      <td>356</td>\n",
       "      <td>312</td>\n",
       "    </tr>\n",
       "    <tr>\n",
       "      <th>Platypus_cylindrus</th>\n",
       "      <td>247</td>\n",
       "      <td>1337</td>\n",
       "      <td>1364</td>\n",
       "      <td>1345</td>\n",
       "      <td>1338</td>\n",
       "      <td>1326</td>\n",
       "      <td>1383</td>\n",
       "      <td>352</td>\n",
       "      <td>325</td>\n",
       "      <td>344</td>\n",
       "      <td>351</td>\n",
       "      <td>363</td>\n",
       "      <td>306</td>\n",
       "    </tr>\n",
       "    <tr>\n",
       "      <th>Xylosandrus_compactus</th>\n",
       "      <td>402</td>\n",
       "      <td>1749</td>\n",
       "      <td>1645</td>\n",
       "      <td>1705</td>\n",
       "      <td>2064</td>\n",
       "      <td>1953</td>\n",
       "      <td>1977</td>\n",
       "      <td>587</td>\n",
       "      <td>691</td>\n",
       "      <td>631</td>\n",
       "      <td>272</td>\n",
       "      <td>383</td>\n",
       "      <td>359</td>\n",
       "    </tr>\n",
       "    <tr>\n",
       "      <th>Phloeosinus_dentatus</th>\n",
       "      <td>480</td>\n",
       "      <td>3240</td>\n",
       "      <td>3125</td>\n",
       "      <td>3164</td>\n",
       "      <td>3205</td>\n",
       "      <td>3292</td>\n",
       "      <td>3402</td>\n",
       "      <td>807</td>\n",
       "      <td>922</td>\n",
       "      <td>883</td>\n",
       "      <td>842</td>\n",
       "      <td>755</td>\n",
       "      <td>645</td>\n",
       "    </tr>\n",
       "  </tbody>\n",
       "</table>\n",
       "</div>"
      ],
      "text/plain": [
       "                           test  train  train_1  train_2  train_3  train_4  \\\n",
       "Species                                                                      \n",
       "Coccotypes_dactyliperda     615   3342     3280     3458     3454     3579   \n",
       "Xyleborinus_saxesenii       380   1542     1625     1663     1833     1855   \n",
       "Pityophthorus_juglandis     680   3194     3086     3107     3219     3203   \n",
       "Monarthrum_fasciatum        133    846      827      818      828      976   \n",
       "Pycnarthrum_hispidium       208   1192     1146     1123     1197     1337   \n",
       "Xyleborus_affinis           456   3127     3191     3214     3121     3388   \n",
       "Scolotodes_schwarzi         467   1678     1672     1601     1664     1746   \n",
       "Xylosandrus_crassiusculus   326   2443     2848     2828     2552     2334   \n",
       "Hylesinus_varius            216   1312     1309     1413     1396     1369   \n",
       "Platypus_cylindrus          247   1337     1364     1345     1338     1326   \n",
       "Xylosandrus_compactus       402   1749     1645     1705     2064     1953   \n",
       "Phloeosinus_dentatus        480   3240     3125     3164     3205     3292   \n",
       "\n",
       "                           train_5  valid  valid_1  valid_2  valid_3  valid_4  \\\n",
       "Species                                                                         \n",
       "Coccotypes_dactyliperda       3641   1011     1073      895      899      774   \n",
       "Xyleborinus_saxesenii         1716    631      548      510      340      318   \n",
       "Pityophthorus_juglandis       3341    795      903      882      770      786   \n",
       "Monarthrum_fasciatum          1011    269      288      297      287      139   \n",
       "Pycnarthrum_hispidium         1413    362      408      431      357      217   \n",
       "Xyleborus_affinis             3654   1015      951      928     1021      754   \n",
       "Scolotodes_schwarzi           1861    458      464      535      472      390   \n",
       "Xylosandrus_crassiusculus     2278    767      362      382      658      876   \n",
       "Hylesinus_varius              1413    413      416      312      329      356   \n",
       "Platypus_cylindrus            1383    352      325      344      351      363   \n",
       "Xylosandrus_compactus         1977    587      691      631      272      383   \n",
       "Phloeosinus_dentatus          3402    807      922      883      842      755   \n",
       "\n",
       "                           valid_5  \n",
       "Species                             \n",
       "Coccotypes_dactyliperda        712  \n",
       "Xyleborinus_saxesenii          457  \n",
       "Pityophthorus_juglandis        648  \n",
       "Monarthrum_fasciatum           104  \n",
       "Pycnarthrum_hispidium          141  \n",
       "Xyleborus_affinis              488  \n",
       "Scolotodes_schwarzi            275  \n",
       "Xylosandrus_crassiusculus      932  \n",
       "Hylesinus_varius               312  \n",
       "Platypus_cylindrus             306  \n",
       "Xylosandrus_compactus          359  \n",
       "Phloeosinus_dentatus           645  "
      ]
     },
     "execution_count": 3,
     "metadata": {},
     "output_type": "execute_result"
    }
   ],
   "source": [
    "species_lst = ['Coccotypes_dactyliperda', 'Hylesinus_varius', 'Monarthrum_fasciatum',\n",
    "                'Phloeosinus_dentatus', 'Pityophthorus_juglandis', 'Platypus_cylindrus',\n",
    "                'Pycnarthrum_hispidium', 'Scolotodes_schwarzi', 'Xyleborinus_saxesenii',\n",
    "                'Xyleborus_affinis', 'Xylosandrus_compactus',\n",
    "                'Xylosandrus_crassiusculus']\n",
    "\n",
    "# get working directory\n",
    "pwd = os.getcwd()\n",
    "raw = r\"E:\\GIT_REPOS\\Beetle_classifier\\Data\\raw\\\\\"\n",
    "data_dist = pd.read_csv(raw+\"Data_distribution.csv\", index_col=\"Species\")\n",
    "data_dist"
   ]
  },
  {
   "cell_type": "code",
   "execution_count": 4,
   "id": "f1d99d6a-950b-4b72-99b9-9e571e884559",
   "metadata": {
    "execution": {
     "iopub.execute_input": "2023-06-07T13:44:34.652343Z",
     "iopub.status.busy": "2023-06-07T13:44:34.651843Z",
     "iopub.status.idle": "2023-06-07T13:44:35.407414Z",
     "shell.execute_reply": "2023-06-07T13:44:35.406912Z",
     "shell.execute_reply.started": "2023-06-07T13:44:34.652343Z"
    },
    "tags": []
   },
   "outputs": [],
   "source": [
    "# import validation data\n",
    "with open('valid_dict_species_unknown.pkl', 'rb') as f:\n",
    "    valid_dict_species_unknown = pickle.load(f)\n",
    "    \n",
    "# import testing data\n",
    "with open('test_dict_species_unknown.pkl', 'rb') as f:\n",
    "    test_dict_species_unknown = pickle.load(f)"
   ]
  },
  {
   "cell_type": "code",
   "execution_count": 24,
   "id": "d630028f-089b-4a6a-9ac2-27e38e355928",
   "metadata": {
    "execution": {
     "iopub.execute_input": "2023-06-08T13:16:21.065532Z",
     "iopub.status.busy": "2023-06-08T13:16:21.065032Z",
     "iopub.status.idle": "2023-06-08T13:16:21.091530Z",
     "shell.execute_reply": "2023-06-08T13:16:21.090528Z",
     "shell.execute_reply.started": "2023-06-08T13:16:21.065532Z"
    },
    "tags": []
   },
   "outputs": [],
   "source": [
    "# function to turn a threshold into ROC curve\n",
    "def roc_calc(threshold_data_df, true_col, method = \"threshold\", wedge_magnitude = 1, wedge='strict'):\n",
    "    threshold_lst = sorted(set(list(np.arange(0, 1, 0.1)) + [1] + np.array(threshold_data_df.max(axis=1).round(1).drop_duplicates()).flatten().tolist()))\n",
    "    tpr_lst = []\n",
    "    fpr_lst = []\n",
    "    roc_result = pd.DataFrame()\n",
    "    for threshold in threshold_lst:\n",
    "        data_df = threshold_data_df.copy()\n",
    "        # processing\n",
    "        if method == \"threshold\":\n",
    "            data_df['Unknown'] = threshold\n",
    "            data_df['pred'] = data_df.idxmax(axis=1)\n",
    "        else:\n",
    "            data_df['Unknown'] = data_df.apply(unknown_prob_calc, axis=1, args=(threshold, wedge_magnitude, wedge))\n",
    "            data_df['pred'] = data_df.idxmax(axis=1)\n",
    "\n",
    "\n",
    "        data_df.loc[data_df['pred'] != 'Unknown', 'pred'] = \"Known\"\n",
    "        data_df['true'] = true_col\n",
    "\n",
    "        tn, fp, fn, tp = confusion_matrix(y_true=data_df['true'], y_pred=data_df['pred']).ravel()\n",
    "        tpr = tp/(tp + fn)\n",
    "        fpr = fp/(fp + tn)\n",
    "        tpr_lst.append(tpr)\n",
    "        fpr_lst.append(fpr)\n",
    "    roc_result['tpr'] = tpr_lst\n",
    "    roc_result['fpr'] = fpr_lst\n",
    "    roc_result['threshold'] = threshold_lst\n",
    "    return(roc_result)"
   ]
  },
  {
   "cell_type": "code",
   "execution_count": 18,
   "id": "bf199f1d-dfdf-43d0-b575-4428bac3866a",
   "metadata": {
    "execution": {
     "iopub.execute_input": "2023-06-08T13:06:01.768605Z",
     "iopub.status.busy": "2023-06-08T13:06:01.768104Z",
     "iopub.status.idle": "2023-06-08T13:06:01.785110Z",
     "shell.execute_reply": "2023-06-08T13:06:01.784103Z",
     "shell.execute_reply.started": "2023-06-08T13:06:01.768605Z"
    },
    "tags": []
   },
   "outputs": [],
   "source": [
    "def find_best_threshold(tpr, fpr, thresholds):\n",
    "    \"\"\"\n",
    "    Find the best threshold value from a list of TPR and FPR values.\n",
    "    Returns the best threshold value based on the Youden’s J statistic.\n",
    "    \"\"\"\n",
    "    j_scores = tpr - fpr\n",
    "    best_index = np.argmax(j_scores)\n",
    "    best_threshold = thresholds[best_index]\n",
    "    return best_threshold"
   ]
  },
  {
   "cell_type": "markdown",
   "id": "7bc2bad5-7712-4b2d-94da-f1ed3b3ab22d",
   "metadata": {},
   "source": [
    "# Validation"
   ]
  },
  {
   "cell_type": "code",
   "execution_count": 6,
   "id": "7d8f9035-9080-426e-9c7e-deeed75f8601",
   "metadata": {
    "execution": {
     "iopub.execute_input": "2023-06-07T13:44:35.593501Z",
     "iopub.status.busy": "2023-06-07T13:44:35.593501Z",
     "iopub.status.idle": "2023-06-08T11:34:42.225119Z",
     "shell.execute_reply": "2023-06-08T11:34:42.224119Z",
     "shell.execute_reply.started": "2023-06-07T13:44:35.593501Z"
    },
    "tags": []
   },
   "outputs": [],
   "source": [
    "# import validation data\n",
    "with open('valid_dict_species_unknown.pkl', 'rb') as f:\n",
    "    valid_dict_species_unknown = pickle.load(f)\n",
    "\n",
    "# validation calculation\n",
    "own_dynamic_valid_df_lst = []\n",
    "own_strict_valid_df_lst = []\n",
    "threshold_valid_df_lst = []\n",
    "for fold in range(1,6):\n",
    "    og_data_df = valid_dict_species_unknown['fold_'+str(fold)]\n",
    "    own_dynamic_valid_df = roc_calc(threshold_data_df = og_data_df.iloc[:,2:], true_col = og_data_df['true'],  method = \"own\", wedge_magnitude = 1, wedge='dynamic')\n",
    "    own_dynamic_valid_df_lst.append(own_dynamic_valid_df)\n",
    "    \n",
    "    threshold_valid_df = roc_calc(threshold_data_df = og_data_df.iloc[:,2:], true_col = og_data_df['true'],  method = \"threshold\")\n",
    "    threshold_valid_df_lst.append(threshold_valid_df)\n",
    "    \n",
    "# save dict as pickle file        \n",
    "with open('own_dynamic_valid_df_lst.pkl', 'wb') as f:\n",
    "    pickle.dump(own_dynamic_valid_df_lst, f)\n",
    "    \n",
    "# save dict as pickle file        \n",
    "with open('threshold_valid_df_lst.pkl', 'wb') as f:\n",
    "    pickle.dump(threshold_valid_df_lst, f)"
   ]
  },
  {
   "cell_type": "markdown",
   "id": "a8e85e9b-5a7c-4071-8e05-f60f3f3f1682",
   "metadata": {},
   "source": [
    "### Dynamic"
   ]
  },
  {
   "cell_type": "code",
   "execution_count": null,
   "id": "2c136454-342a-477d-b1cf-8fdf8eafed47",
   "metadata": {
    "execution": {
     "iopub.execute_input": "2023-06-09T02:33:34.688083Z",
     "iopub.status.busy": "2023-06-09T02:33:34.688083Z"
    },
    "tags": []
   },
   "outputs": [
    {
     "data": {
      "application/vnd.plotly.v1+json": {
       "config": {
        "plotlyServerURL": "https://plot.ly"
       },
       "data": [
        {
         "customdata": [
          [
           0
          ],
          [
           0.1
          ],
          [
           0.16
          ],
          [
           0.17
          ],
          [
           0.18
          ],
          [
           0.19
          ],
          [
           0.2
          ],
          [
           0.21
          ],
          [
           0.22
          ],
          [
           0.23
          ],
          [
           0.24
          ],
          [
           0.25
          ],
          [
           0.26
          ],
          [
           0.27
          ],
          [
           0.28
          ],
          [
           0.29
          ],
          [
           0.3
          ],
          [
           0.30000000000000004
          ],
          [
           0.31
          ],
          [
           0.32
          ],
          [
           0.33
          ],
          [
           0.34
          ],
          [
           0.35
          ],
          [
           0.36
          ],
          [
           0.37
          ],
          [
           0.38
          ],
          [
           0.39
          ],
          [
           0.4
          ],
          [
           0.41
          ],
          [
           0.42
          ],
          [
           0.43
          ],
          [
           0.44
          ],
          [
           0.45
          ],
          [
           0.46
          ],
          [
           0.47
          ],
          [
           0.48
          ],
          [
           0.49
          ],
          [
           0.5
          ],
          [
           0.51
          ],
          [
           0.52
          ],
          [
           0.53
          ],
          [
           0.54
          ],
          [
           0.55
          ],
          [
           0.56
          ],
          [
           0.57
          ],
          [
           0.58
          ],
          [
           0.59
          ],
          [
           0.6
          ],
          [
           0.6000000000000001
          ],
          [
           0.61
          ],
          [
           0.62
          ],
          [
           0.63
          ],
          [
           0.64
          ],
          [
           0.65
          ],
          [
           0.66
          ],
          [
           0.67
          ],
          [
           0.68
          ],
          [
           0.69
          ],
          [
           0.7
          ],
          [
           0.7000000000000001
          ],
          [
           0.71
          ],
          [
           0.72
          ],
          [
           0.73
          ],
          [
           0.74
          ],
          [
           0.75
          ],
          [
           0.76
          ],
          [
           0.77
          ],
          [
           0.78
          ],
          [
           0.79
          ],
          [
           0.8
          ],
          [
           0.81
          ],
          [
           0.82
          ],
          [
           0.83
          ],
          [
           0.84
          ],
          [
           0.85
          ],
          [
           0.86
          ],
          [
           0.87
          ],
          [
           0.88
          ],
          [
           0.89
          ],
          [
           0.9
          ],
          [
           0.91
          ],
          [
           0.92
          ],
          [
           0.93
          ],
          [
           0.94
          ],
          [
           0.95
          ],
          [
           0.96
          ],
          [
           0.97
          ],
          [
           0.98
          ],
          [
           0.99
          ],
          [
           1
          ]
         ],
         "hovertemplate": "fold=fold_0<br>fpr=%{x}<br>tpr=%{y}<br>threshold=%{customdata[0]}<extra></extra>",
         "legendgroup": "fold_0",
         "line": {
          "color": "#636efa",
          "dash": "solid"
         },
         "marker": {
          "symbol": "circle"
         },
         "mode": "lines",
         "name": "fold_0",
         "orientation": "v",
         "showlegend": true,
         "type": "scatter",
         "x": [
          3.9439952672056795e-05,
          7.887990534411359e-05,
          0.00011831985801617038,
          0.00013803983435219878,
          0.00013803983435219878,
          0.00013803983435219878,
          0.00013803983435219878,
          0.00013803983435219878,
          0.00017747978702425558,
          0.00017747978702425558,
          0.00017747978702425558,
          0.00017747978702425558,
          0.00023663971603234076,
          0.00027607966870439756,
          0.00029579964504042593,
          0.00033523959771248273,
          0.00033523959771248273,
          0.00033523959771248273,
          0.00037467955038453953,
          0.00037467955038453953,
          0.00039439952672056796,
          0.0004338394793926247,
          0.00045355945572865314,
          0.0004929994084007099,
          0.0005127193847367384,
          0.0005324393610727667,
          0.0005521593374087951,
          0.0006310392427529087,
          0.0006704791954249655,
          0.0007296391244330507,
          0.0007296391244330507,
          0.0007493591007690791,
          0.0007493591007690791,
          0.0008085190297771643,
          0.0008676789587852494,
          0.0008873989351212779,
          0.0009859988168014198,
          0.0010845986984815619,
          0.001143758627489647,
          0.001242358509169789,
          0.0012817984618418458,
          0.001340958390849931,
          0.0014198382961940446,
          0.0014789982252021298,
          0.0016170380595543286,
          0.0016564780122263853,
          0.001833957799250641,
          0.0019522776572668114,
          0.0019522776572668114,
          0.002149477420627095,
          0.0024649970420035495,
          0.002741076710707947,
          0.002879116545060146,
          0.0030565963320844016,
          0.0032537960954446853,
          0.0035495957404851116,
          0.0039045553145336228,
          0.004220074935910077,
          0.004752514296982844,
          0.004752514296982844,
          0.005383553539735753,
          0.006251232498521002,
          0.00737527114967462,
          0.008459869848156183,
          0.010136067836718596,
          0.012482745020705975,
          0.015421021494774206,
          0.01920725695129166,
          0.0242358509169789,
          0.03131532242161309,
          0.04042595148885821,
          0.052494577006507594,
          0.0688818773417472,
          0.08733977519226976,
          0.11163478603825676,
          0.1398737921514494,
          0.17148491421810294,
          0.20745415105501874,
          0.2470124235850917,
          0.2887596134884638,
          0.33328732005521594,
          0.37641490830211005,
          0.4186748175902189,
          0.45777953066456323,
          0.49579964504042595,
          0.527114967462039,
          0.5507394991126011,
          0.566653520015776,
          0.5776967067639519,
          1
         ],
         "xaxis": "x",
         "y": [
          0.3670281995661605,
          0.41301518438177875,
          0.4522776572668113,
          0.45770065075921906,
          0.46529284164859,
          0.47440347071583516,
          0.4817787418655098,
          0.49023861171366595,
          0.4997830802603037,
          0.5078091106290672,
          0.5151843817787418,
          0.5232104121475054,
          0.5288503253796095,
          0.5366594360086768,
          0.545770065075922,
          0.5553145336225597,
          0.5616052060737527,
          0.5616052060737527,
          0.5702819956616052,
          0.5789587852494577,
          0.5863340563991323,
          0.5939262472885033,
          0.599349240780911,
          0.6084598698481561,
          0.6171366594360087,
          0.6271149674620391,
          0.6338394793926247,
          0.6407809110629067,
          0.6501084598698481,
          0.6600867678958785,
          0.6674620390455531,
          0.6748373101952277,
          0.6850325379609544,
          0.6952277657266811,
          0.7019522776572669,
          0.7108459869848156,
          0.720173535791757,
          0.7281995661605206,
          0.738177874186551,
          0.7440347071583514,
          0.7516268980477223,
          0.7579175704989154,
          0.7674620390455531,
          0.7789587852494577,
          0.7874186550976139,
          0.7954446854663775,
          0.8043383947939262,
          0.8130151843817788,
          0.8130151843817788,
          0.8199566160520607,
          0.827765726681128,
          0.8336225596529284,
          0.8405639913232104,
          0.8468546637744034,
          0.855531453362256,
          0.8626898047722342,
          0.8691973969631236,
          0.8772234273318872,
          0.8830802603036876,
          0.8830802603036876,
          0.8921908893709327,
          0.8986984815618221,
          0.9067245119305857,
          0.9134490238611713,
          0.9199566160520607,
          0.9266811279826465,
          0.9314533622559653,
          0.9368763557483731,
          0.941648590021692,
          0.9479392624728851,
          0.9524945770065076,
          0.958351409978308,
          0.9620390455531453,
          0.9676789587852495,
          0.971583514099783,
          0.9748373101952278,
          0.9772234273318872,
          0.9785249457700651,
          0.9802603036876356,
          0.982646420824295,
          0.9850325379609545,
          0.9869848156182213,
          0.9891540130151844,
          0.9900216919739696,
          0.9911062906724512,
          0.9919739696312364,
          0.9928416485900217,
          0.9937093275488069,
          0.9934924078091106,
          1
         ],
         "yaxis": "y"
        },
        {
         "customdata": [
          [
           0
          ],
          [
           0.1
          ],
          [
           0.16
          ],
          [
           0.17
          ],
          [
           0.18
          ],
          [
           0.19
          ],
          [
           0.2
          ],
          [
           0.21
          ],
          [
           0.22
          ],
          [
           0.23
          ],
          [
           0.24
          ],
          [
           0.25
          ],
          [
           0.26
          ],
          [
           0.27
          ],
          [
           0.28
          ],
          [
           0.29
          ],
          [
           0.3
          ],
          [
           0.30000000000000004
          ],
          [
           0.31
          ],
          [
           0.32
          ],
          [
           0.33
          ],
          [
           0.34
          ],
          [
           0.35
          ],
          [
           0.36
          ],
          [
           0.37
          ],
          [
           0.38
          ],
          [
           0.39
          ],
          [
           0.4
          ],
          [
           0.41
          ],
          [
           0.42
          ],
          [
           0.43
          ],
          [
           0.44
          ],
          [
           0.45
          ],
          [
           0.46
          ],
          [
           0.47
          ],
          [
           0.48
          ],
          [
           0.49
          ],
          [
           0.5
          ],
          [
           0.51
          ],
          [
           0.52
          ],
          [
           0.53
          ],
          [
           0.54
          ],
          [
           0.55
          ],
          [
           0.56
          ],
          [
           0.57
          ],
          [
           0.58
          ],
          [
           0.59
          ],
          [
           0.6
          ],
          [
           0.6000000000000001
          ],
          [
           0.61
          ],
          [
           0.62
          ],
          [
           0.63
          ],
          [
           0.64
          ],
          [
           0.65
          ],
          [
           0.66
          ],
          [
           0.67
          ],
          [
           0.68
          ],
          [
           0.69
          ],
          [
           0.7
          ],
          [
           0.7000000000000001
          ],
          [
           0.71
          ],
          [
           0.72
          ],
          [
           0.73
          ],
          [
           0.74
          ],
          [
           0.75
          ],
          [
           0.76
          ],
          [
           0.77
          ],
          [
           0.78
          ],
          [
           0.79
          ],
          [
           0.8
          ],
          [
           0.81
          ],
          [
           0.82
          ],
          [
           0.83
          ],
          [
           0.84
          ],
          [
           0.85
          ],
          [
           0.86
          ],
          [
           0.87
          ],
          [
           0.88
          ],
          [
           0.89
          ],
          [
           0.9
          ],
          [
           0.91
          ],
          [
           0.92
          ],
          [
           0.93
          ],
          [
           0.94
          ],
          [
           0.95
          ],
          [
           0.96
          ],
          [
           0.97
          ],
          [
           0.98
          ],
          [
           0.99
          ],
          [
           1
          ]
         ],
         "hovertemplate": "fold=fold_1<br>fpr=%{x}<br>tpr=%{y}<br>threshold=%{customdata[0]}<extra></extra>",
         "legendgroup": "fold_1",
         "line": {
          "color": "#EF553B",
          "dash": "solid"
         },
         "marker": {
          "symbol": "circle"
         },
         "mode": "lines",
         "name": "fold_1",
         "orientation": "v",
         "showlegend": true,
         "type": "scatter",
         "x": [
          7.887990534411359e-05,
          0.00010845986984815618,
          0.00015775981068822718,
          0.00017747978702425558,
          0.00017747978702425558,
          0.00017747978702425558,
          0.00017747978702425558,
          0.00018733977519226977,
          0.00021691973969631235,
          0.00021691973969631235,
          0.0002563596923683692,
          0.00027607966870439756,
          0.00031551962137645436,
          0.00033523959771248273,
          0.00035495957404851116,
          0.0003845395385525537,
          0.0003845395385525537,
          0.0003845395385525537,
          0.00040425951488858215,
          0.00040425951488858215,
          0.0004239794912246105,
          0.00044369946756063895,
          0.0004732794320646815,
          0.0005028593965687241,
          0.0005225793729047526,
          0.0005324393610727667,
          0.0005422993492407809,
          0.000601459278248866,
          0.0006507592190889371,
          0.0007099191480970223,
          0.0007099191480970223,
          0.0007394991126010649,
          0.0007690790771051074,
          0.0008380989942812069,
          0.0009268388877933346,
          0.0009761388286334057,
          0.001045158745809505,
          0.0011043186748175902,
          0.0011536186156576613,
          0.001242358509169789,
          0.0013113784263458885,
          0.001390258331690002,
          0.0014691382370341155,
          0.0014987182015381581,
          0.0016170380595543286,
          0.0017057779530664564,
          0.001893117728258726,
          0.001981857621770854,
          0.001981857621770854,
          0.0021593374087951096,
          0.002386117136659436,
          0.0026128968645237624,
          0.002741076710707947,
          0.002938276474068231,
          0.0031650562019325578,
          0.00338197594162887,
          0.003727075527509367,
          0.004072175113389864,
          0.004604614474462631,
          0.004604614474462631,
          0.0051666338000394395,
          0.006014592782488661,
          0.006862551764937882,
          0.008016170380595542,
          0.009643068428317886,
          0.011713665943600867,
          0.014474462630644844,
          0.018112798264642082,
          0.02289489252612897,
          0.029422204693354367,
          0.03813843423387892,
          0.050059159929008085,
          0.06512522184973378,
          0.08259712088345494,
          0.10507789390652732,
          0.1317984618418458,
          0.16175310589627293,
          0.19683494379806743,
          0.23447051863537763,
          0.2755570893314928,
          0.3191678169986196,
          0.3630644843226188,
          0.4057779530664563,
          0.44561230526523365,
          0.48505225793729045,
          0.5192959968448038,
          0.5444291066850719,
          0.5620390455531453,
          0.574295010845987,
          1
         ],
         "xaxis": "x",
         "y": [
          0.393058568329718,
          0.44045553145336225,
          0.4795010845986985,
          0.4856832971800434,
          0.4927331887201735,
          0.5002169197396963,
          0.5078091106290672,
          0.5154013015184382,
          0.5238611713665944,
          0.5303687635574837,
          0.5378524945770065,
          0.5449023861171367,
          0.5517353579175704,
          0.5599783080260303,
          0.5699566160520607,
          0.579175704989154,
          0.5873101952277657,
          0.5873101952277657,
          0.5957700650759219,
          0.6035791757049892,
          0.6108459869848156,
          0.618112798264642,
          0.6260303687635574,
          0.6349240780911063,
          0.6429501084598699,
          0.6524945770065076,
          0.659002169197397,
          0.6656182212581345,
          0.6744034707158352,
          0.6824295010845987,
          0.690238611713666,
          0.6970715835140998,
          0.7059652928416486,
          0.7157266811279827,
          0.722234273318872,
          0.7306941431670282,
          0.7391540130151844,
          0.7472885032537961,
          0.7560737527114968,
          0.761822125813449,
          0.76941431670282,
          0.7773318872017354,
          0.7851409978308026,
          0.7962039045553145,
          0.8040130151843817,
          0.8111713665943601,
          0.81941431670282,
          0.8267895878524946,
          0.8267895878524946,
          0.8337310195227766,
          0.840997830802603,
          0.8475054229934924,
          0.8539045553145336,
          0.8598698481561822,
          0.8670281995661605,
          0.8744034707158351,
          0.8811279826464208,
          0.8886117136659436,
          0.8946854663774404,
          0.8946854663774404,
          0.9017353579175705,
          0.9073752711496746,
          0.9142082429501085,
          0.9199566160520607,
          0.926355748373102,
          0.9318872017353579,
          0.9367678958785249,
          0.9408893709327549,
          0.9454446854663774,
          0.9506507592190889,
          0.955531453362256,
          0.9606290672451193,
          0.9647505422993492,
          0.9690889370932755,
          0.972885032537961,
          0.9758134490238611,
          0.9784164859002169,
          0.9800433839479392,
          0.9819956616052061,
          0.9835140997830802,
          0.9857917570498915,
          0.9877440347071583,
          0.9894793926247288,
          0.9903470715835141,
          0.9914316702819956,
          0.9924078091106291,
          0.9936008676789588,
          0.9940347071583514,
          0.9940347071583514,
          1
         ],
         "yaxis": "y"
        },
        {
         "customdata": [
          [
           0
          ],
          [
           0.1
          ],
          [
           0.16
          ],
          [
           0.17
          ],
          [
           0.18
          ],
          [
           0.19
          ],
          [
           0.2
          ],
          [
           0.21
          ],
          [
           0.22
          ],
          [
           0.23
          ],
          [
           0.24
          ],
          [
           0.25
          ],
          [
           0.26
          ],
          [
           0.27
          ],
          [
           0.28
          ],
          [
           0.29
          ],
          [
           0.3
          ],
          [
           0.30000000000000004
          ],
          [
           0.31
          ],
          [
           0.32
          ],
          [
           0.33
          ],
          [
           0.34
          ],
          [
           0.35
          ],
          [
           0.36
          ],
          [
           0.37
          ],
          [
           0.38
          ],
          [
           0.39
          ],
          [
           0.4
          ],
          [
           0.41
          ],
          [
           0.42
          ],
          [
           0.43
          ],
          [
           0.44
          ],
          [
           0.45
          ],
          [
           0.46
          ],
          [
           0.47
          ],
          [
           0.48
          ],
          [
           0.49
          ],
          [
           0.5
          ],
          [
           0.51
          ],
          [
           0.52
          ],
          [
           0.53
          ],
          [
           0.54
          ],
          [
           0.55
          ],
          [
           0.56
          ],
          [
           0.57
          ],
          [
           0.58
          ],
          [
           0.59
          ],
          [
           0.6
          ],
          [
           0.6000000000000001
          ],
          [
           0.61
          ],
          [
           0.62
          ],
          [
           0.63
          ],
          [
           0.64
          ],
          [
           0.65
          ],
          [
           0.66
          ],
          [
           0.67
          ],
          [
           0.68
          ],
          [
           0.69
          ],
          [
           0.7
          ],
          [
           0.7000000000000001
          ],
          [
           0.71
          ],
          [
           0.72
          ],
          [
           0.73
          ],
          [
           0.74
          ],
          [
           0.75
          ],
          [
           0.76
          ],
          [
           0.77
          ],
          [
           0.78
          ],
          [
           0.79
          ],
          [
           0.8
          ],
          [
           0.81
          ],
          [
           0.82
          ],
          [
           0.83
          ],
          [
           0.84
          ],
          [
           0.85
          ],
          [
           0.86
          ],
          [
           0.87
          ],
          [
           0.88
          ],
          [
           0.89
          ],
          [
           0.9
          ],
          [
           0.91
          ],
          [
           0.92
          ],
          [
           0.93
          ],
          [
           0.94
          ],
          [
           0.95
          ],
          [
           0.96
          ],
          [
           0.97
          ],
          [
           0.98
          ],
          [
           0.99
          ],
          [
           1
          ]
         ],
         "hovertemplate": "fold=fold_2<br>fpr=%{x}<br>tpr=%{y}<br>threshold=%{customdata[0]}<extra></extra>",
         "legendgroup": "fold_2",
         "line": {
          "color": "#00cc96",
          "dash": "solid"
         },
         "marker": {
          "symbol": "circle"
         },
         "mode": "lines",
         "name": "fold_2",
         "orientation": "v",
         "showlegend": true,
         "type": "scatter",
         "x": [
          6.573325445342799e-05,
          0.00010517320712548478,
          0.00013803983435219878,
          0.00015118648524288438,
          0.00015118648524288438,
          0.00015118648524288438,
          0.00015118648524288438,
          0.00015775981068822718,
          0.00017747978702425558,
          0.00018405311246959838,
          0.00021691973969631235,
          0.00023006639058699796,
          0.00028265299414974033,
          0.00029579964504042593,
          0.00032209294682179713,
          0.00034838624860316833,
          0.00035495957404851116,
          0.00035495957404851116,
          0.00038125287582988236,
          0.00038125287582988236,
          0.00040097285216591074,
          0.0004338394793926247,
          0.0004732794320646815,
          0.0005061460592913955,
          0.0005258660356274239,
          0.0005390126865181095,
          0.0005587326628541379,
          0.0006178925918622231,
          0.0006573325445342799,
          0.0007033458226516795,
          0.0007230657989877079,
          0.0007493591007690791,
          0.0007822257279957931,
          0.0008545323078945639,
          0.0009268388877933346,
          0.0009859988168014198,
          0.0010385854203641622,
          0.0010911720239269046,
          0.00115033195293499,
          0.0012357851837244461,
          0.0013015184381778742,
          0.0013606783671859593,
          0.0014527049234207587,
          0.0015184381778741865,
          0.0016499046867810426,
          0.0017747978702425558,
          0.00192598435548544,
          0.0020705975152829816,
          0.0020705975152829816,
          0.002267797278643266,
          0.002484717018339578,
          0.0027016367580358904,
          0.0028199566160520607,
          0.0030565963320844016,
          0.0033129560244527707,
          0.003582462367711825,
          0.003937421941760336,
          0.00429895484125419,
          0.0048774074804443564,
          0.0048774074804443564,
          0.005409846841517124,
          0.0061723525931768886,
          0.007007164924735423,
          0.00815092355222507,
          0.009689081706435286,
          0.011661079340038126,
          0.0144218760270821,
          0.018096364951028725,
          0.022842305922566225,
          0.029415631367909024,
          0.03802668770130809,
          0.04985867350292513,
          0.06465522908039177,
          0.08175244856372839,
          0.1032866627226714,
          0.12894235193584436,
          0.1581607835403931,
          0.19165845000985998,
          0.22880431210149216,
          0.2687043975547229,
          0.31127982646420826,
          0.35524880036810624,
          0.3981726155261947,
          0.43999868533491093,
          0.48125287582988235,
          0.5178071386314337,
          0.5452902123184119,
          0.5647866955892986,
          0.5787681588115428,
          1
         ],
         "xaxis": "x",
         "y": [
          0.38575560375994217,
          0.4328994938539407,
          0.4702819956616052,
          0.4767895878524946,
          0.4836587129428778,
          0.49139551699204626,
          0.49884309472161964,
          0.5059291395516992,
          0.514172089660159,
          0.5207519884309472,
          0.5281995661605207,
          0.5352133044107014,
          0.5426608821402747,
          0.5511930585683297,
          0.5605206073752711,
          0.5690527838033261,
          0.577295733911786,
          0.577295733911786,
          0.5853940708604483,
          0.5934924078091106,
          0.6013015184381779,
          0.6083875632682574,
          0.6171366594360087,
          0.6259580621836587,
          0.6344902386117137,
          0.6446131597975415,
          0.6511930585683298,
          0.6579898770788142,
          0.6670281995661606,
          0.6753434562545192,
          0.6837310195227766,
          0.691467823571945,
          0.6997830802603037,
          0.7086044830079538,
          0.7162689804772234,
          0.724295010845987,
          0.7322487346348517,
          0.7403470715835141,
          0.748879248011569,
          0.7550253073029646,
          0.7632682574114245,
          0.7715112075198843,
          0.7797541576283442,
          0.7895155459146782,
          0.7977584960231381,
          0.8054229934924078,
          0.8141720896601591,
          0.8208966015907447,
          0.8208966015907447,
          0.8283441793203181,
          0.835936370209689,
          0.8428054953000723,
          0.8496023138105567,
          0.8561099060014461,
          0.8631959508315257,
          0.8700650759219088,
          0.8767895878524946,
          0.8853940708604483,
          0.8925524222704266,
          0.8925524222704266,
          0.8998553868402025,
          0.9060014461315979,
          0.9124367317425885,
          0.9177874186550976,
          0.9237888647866956,
          0.9292841648590021,
          0.9347071583514099,
          0.9395516992046277,
          0.944179320318149,
          0.9496023138105567,
          0.9540130151843818,
          0.9588575560375994,
          0.9631959508315256,
          0.9676789587852495,
          0.9717281272595806,
          0.9749096167751266,
          0.9771511207519884,
          0.979175704989154,
          0.9812725958062184,
          0.9830802603036877,
          0.9855386840202458,
          0.9875632682574115,
          0.9894432393347795,
          0.9906001446131598,
          0.9916847433116414,
          0.9924801156905279,
          0.9934201012292119,
          0.9938539407086044,
          0.9939262472885032,
          1
         ],
         "yaxis": "y"
        },
        {
         "customdata": [
          [
           0
          ],
          [
           0.1
          ],
          [
           0.16
          ],
          [
           0.17
          ],
          [
           0.18
          ],
          [
           0.19
          ],
          [
           0.2
          ],
          [
           0.21
          ],
          [
           0.22
          ],
          [
           0.23
          ],
          [
           0.24
          ],
          [
           0.25
          ],
          [
           0.26
          ],
          [
           0.27
          ],
          [
           0.28
          ],
          [
           0.29
          ],
          [
           0.3
          ],
          [
           0.30000000000000004
          ],
          [
           0.31
          ],
          [
           0.32
          ],
          [
           0.33
          ],
          [
           0.34
          ],
          [
           0.35
          ],
          [
           0.36
          ],
          [
           0.37
          ],
          [
           0.38
          ],
          [
           0.39
          ],
          [
           0.4
          ],
          [
           0.41
          ],
          [
           0.42
          ],
          [
           0.43
          ],
          [
           0.44
          ],
          [
           0.45
          ],
          [
           0.46
          ],
          [
           0.47
          ],
          [
           0.48
          ],
          [
           0.49
          ],
          [
           0.5
          ],
          [
           0.51
          ],
          [
           0.52
          ],
          [
           0.53
          ],
          [
           0.54
          ],
          [
           0.55
          ],
          [
           0.56
          ],
          [
           0.57
          ],
          [
           0.58
          ],
          [
           0.59
          ],
          [
           0.6
          ],
          [
           0.6000000000000001
          ],
          [
           0.61
          ],
          [
           0.62
          ],
          [
           0.63
          ],
          [
           0.64
          ],
          [
           0.65
          ],
          [
           0.66
          ],
          [
           0.67
          ],
          [
           0.68
          ],
          [
           0.69
          ],
          [
           0.7
          ],
          [
           0.7000000000000001
          ],
          [
           0.71
          ],
          [
           0.72
          ],
          [
           0.73
          ],
          [
           0.74
          ],
          [
           0.75
          ],
          [
           0.76
          ],
          [
           0.77
          ],
          [
           0.78
          ],
          [
           0.79
          ],
          [
           0.8
          ],
          [
           0.81
          ],
          [
           0.82
          ],
          [
           0.83
          ],
          [
           0.84
          ],
          [
           0.85
          ],
          [
           0.86
          ],
          [
           0.87
          ],
          [
           0.88
          ],
          [
           0.89
          ],
          [
           0.9
          ],
          [
           0.91
          ],
          [
           0.92
          ],
          [
           0.93
          ],
          [
           0.94
          ],
          [
           0.95
          ],
          [
           0.96
          ],
          [
           0.97
          ],
          [
           0.98
          ],
          [
           0.99
          ],
          [
           1
          ]
         ],
         "hovertemplate": "fold=fold_3<br>fpr=%{x}<br>tpr=%{y}<br>threshold=%{customdata[0]}<extra></extra>",
         "legendgroup": "fold_3",
         "line": {
          "color": "#ab63fa",
          "dash": "solid"
         },
         "marker": {
          "symbol": "circle"
         },
         "mode": "lines",
         "name": "fold_3",
         "orientation": "v",
         "showlegend": true,
         "type": "scatter",
         "x": [
          7.394991126010648e-05,
          0.00010845986984815618,
          0.00013310984026819169,
          0.00014296982843620587,
          0.00015282981660422009,
          0.00015282981660422009,
          0.00015775981068822718,
          0.00016761979885624137,
          0.00018240978110826267,
          0.00020705975152829817,
          0.00023170972194833366,
          0.00024649970420035494,
          0.00028593965687241174,
          0.000300729639124433,
          0.00032537960954446855,
          0.0003450995858804969,
          0.00035988956813251825,
          0.00035988956813251825,
          0.0003845395385525537,
          0.0003894695326365608,
          0.00041411950305659634,
          0.00044369946756063895,
          0.0004831394202326957,
          0.0005176493788207454,
          0.0005373693551567738,
          0.0005570893314928023,
          0.0005768093078288306,
          0.0006261092486689016,
          0.0006556892131729442,
          0.000695129165845001,
          0.0007148491421810294,
          0.0007542890948530862,
          0.0007838690593571288,
          0.0008627489647012424,
          0.0009219088937093275,
          0.0009761388286334057,
          0.0010550187339775192,
          0.0011043186748175902,
          0.0011684085979096826,
          0.001247288503253796,
          0.0013113784263458885,
          0.0013656083612699666,
          0.001449418260698087,
          0.0015135081837901795,
          0.0016268980477223427,
          0.0017501478998225202,
          0.0019029777164267403,
          0.002041017550778939,
          0.002041017550778939,
          0.002223427331887202,
          0.0024206270952474855,
          0.002622756852691777,
          0.0027657266811279826,
          0.002977716426740288,
          0.0032488661013606785,
          0.003520015775981069,
          0.0039045553145336228,
          0.004254584894498126,
          0.004801814237822915,
          0.004801814237822915,
          0.005324393610727667,
          0.006004732794320647,
          0.006832971800433839,
          0.007907710510747387,
          0.00939656872411753,
          0.01143758627489647,
          0.014139223032932361,
          0.01783178860185368,
          0.022653322816012622,
          0.02918063498323802,
          0.03795109445868665,
          0.04954644054427135,
          0.06415401301518438,
          0.08151252218497337,
          0.10330802603036876,
          0.12913133504239796,
          0.1587605994872806,
          0.19231906921711694,
          0.22980181423782292,
          0.2699122461053047,
          0.3120735555117334,
          0.3559159929008085,
          0.3989647012423585,
          0.4407759810688227,
          0.48157661210806546,
          0.5190790771051075,
          0.5471701833957799,
          0.5672401893117728,
          0.5825823309012029,
          1
         ],
         "xaxis": "x",
         "y": [
          0.38481561822125815,
          0.431941431670282,
          0.46963123644251625,
          0.476409978308026,
          0.48329718004338396,
          0.49088937093275486,
          0.49837310195227763,
          0.5058026030368764,
          0.5141540130151844,
          0.5209869848156182,
          0.528470715835141,
          0.5359544468546638,
          0.5431127982646421,
          0.5517353579175704,
          0.5605748373101952,
          0.568709327548807,
          0.5773861171366594,
          0.5773861171366594,
          0.5863882863340564,
          0.5947396963123645,
          0.6022776572668113,
          0.6095444685466378,
          0.618058568329718,
          0.6266811279826464,
          0.6350867678958785,
          0.6450650759219089,
          0.6522234273318872,
          0.6591106290672452,
          0.668058568329718,
          0.6764642082429501,
          0.6842733188720174,
          0.6914859002169197,
          0.6995661605206074,
          0.7085683297180043,
          0.7164316702819956,
          0.7249457700650759,
          0.7325379609544469,
          0.7404013015184382,
          0.749349240780911,
          0.7559652928416486,
          0.7641540130151844,
          0.7729934924078091,
          0.7818329718004339,
          0.791648590021692,
          0.7994034707158352,
          0.8073210412147506,
          0.8154555314533622,
          0.8223969631236443,
          0.8223969631236443,
          0.8298264642082429,
          0.8372559652928416,
          0.8442516268980477,
          0.8514642082429501,
          0.858297180043384,
          0.8656724511930586,
          0.8722885032537961,
          0.8792841648590022,
          0.8873644251626898,
          0.8945770065075922,
          0.8945770065075922,
          0.9014642082429501,
          0.9080802603036876,
          0.9143709327548807,
          0.9199023861171367,
          0.9261388286334057,
          0.9317787418655098,
          0.9369305856832972,
          0.9418655097613883,
          0.9461496746203905,
          0.9514642082429501,
          0.9559110629067246,
          0.9603036876355748,
          0.9646963123644252,
          0.9689804772234273,
          0.9726681127982646,
          0.9757592190889371,
          0.9781453362255965,
          0.9799891540130152,
          0.9821041214750542,
          0.9839479392624729,
          0.986117136659436,
          0.9880694143167028,
          0.9898590021691974,
          0.9912689804772234,
          0.9921908893709328,
          0.993112798264642,
          0.9940347071583514,
          0.99441431670282,
          0.9944685466377441,
          1
         ],
         "yaxis": "y"
        },
        {
         "customdata": [
          [
           0
          ],
          [
           0.1
          ],
          [
           0.16
          ],
          [
           0.17
          ],
          [
           0.18
          ],
          [
           0.19
          ],
          [
           0.2
          ],
          [
           0.21
          ],
          [
           0.22
          ],
          [
           0.23
          ],
          [
           0.24
          ],
          [
           0.25
          ],
          [
           0.26
          ],
          [
           0.27
          ],
          [
           0.28
          ],
          [
           0.29
          ],
          [
           0.3
          ],
          [
           0.30000000000000004
          ],
          [
           0.31
          ],
          [
           0.32
          ],
          [
           0.33
          ],
          [
           0.34
          ],
          [
           0.35
          ],
          [
           0.36
          ],
          [
           0.37
          ],
          [
           0.38
          ],
          [
           0.39
          ],
          [
           0.4
          ],
          [
           0.41
          ],
          [
           0.42
          ],
          [
           0.43
          ],
          [
           0.44
          ],
          [
           0.45
          ],
          [
           0.46
          ],
          [
           0.47
          ],
          [
           0.48
          ],
          [
           0.49
          ],
          [
           0.5
          ],
          [
           0.51
          ],
          [
           0.52
          ],
          [
           0.53
          ],
          [
           0.54
          ],
          [
           0.55
          ],
          [
           0.56
          ],
          [
           0.57
          ],
          [
           0.58
          ],
          [
           0.59
          ],
          [
           0.6
          ],
          [
           0.6000000000000001
          ],
          [
           0.61
          ],
          [
           0.62
          ],
          [
           0.63
          ],
          [
           0.64
          ],
          [
           0.65
          ],
          [
           0.66
          ],
          [
           0.67
          ],
          [
           0.68
          ],
          [
           0.69
          ],
          [
           0.7
          ],
          [
           0.7000000000000001
          ],
          [
           0.71
          ],
          [
           0.72
          ],
          [
           0.73
          ],
          [
           0.74
          ],
          [
           0.75
          ],
          [
           0.76
          ],
          [
           0.77
          ],
          [
           0.78
          ],
          [
           0.79
          ],
          [
           0.8
          ],
          [
           0.81
          ],
          [
           0.82
          ],
          [
           0.83
          ],
          [
           0.84
          ],
          [
           0.85
          ],
          [
           0.86
          ],
          [
           0.87
          ],
          [
           0.88
          ],
          [
           0.89
          ],
          [
           0.9
          ],
          [
           0.91
          ],
          [
           0.92
          ],
          [
           0.93
          ],
          [
           0.94
          ],
          [
           0.95
          ],
          [
           0.96
          ],
          [
           0.97
          ],
          [
           0.98
          ],
          [
           0.99
          ],
          [
           1
          ]
         ],
         "hovertemplate": "fold=fold_4<br>fpr=%{x}<br>tpr=%{y}<br>threshold=%{customdata[0]}<extra></extra>",
         "legendgroup": "fold_4",
         "line": {
          "color": "#FFA15A",
          "dash": "solid"
         },
         "marker": {
          "symbol": "circle"
         },
         "mode": "lines",
         "name": "fold_4",
         "orientation": "v",
         "showlegend": true,
         "type": "scatter",
         "x": [
          8.282390061131926e-05,
          0.0001143758627489647,
          0.00014198382961940446,
          0.0001498718201538158,
          0.00016564780122263852,
          0.00016564780122263852,
          0.0001695917964898442,
          0.00017747978702425558,
          0.0001932557680930783,
          0.00021691973969631235,
          0.00023663971603234076,
          0.0002484717018339578,
          0.00028396765923880893,
          0.0002997436403076316,
          0.00032340761191086573,
          0.0003431275882468941,
          0.0003628475645829225,
          0.0003628475645829225,
          0.0003865115361861566,
          0.0003983435219877736,
          0.000418063498323802,
          0.00045355945572865314,
          0.00048511141786629857,
          0.0005206073752711496,
          0.0005363833563399724,
          0.0005639913232104121,
          0.0005876552948136462,
          0.000627095247485703,
          0.0006625912048905541,
          0.0006941431670281996,
          0.0007178071386314337,
          0.0007611910865706961,
          0.0007927430487083416,
          0.0008637349635180438,
          0.0009150069019917176,
          0.0009662788404653914,
          0.0010530467363439164,
          0.0011043186748175902,
          0.001167422599092881,
          0.0012463025044369947,
          0.0013212384145139026,
          0.0013725103529875764,
          0.001463222244133307,
          0.0015302701636758036,
          0.001636758035890357,
          0.0017629658844409387,
          0.0019049497140603432,
          0.0020351015578781305,
          0.0020351015578781305,
          0.002204693354367975,
          0.0024018931177282586,
          0.0025833169000197198,
          0.002733188720173536,
          0.002942220469335437,
          0.0032025241569710117,
          0.0034588838493393808,
          0.0038335633997239205,
          0.004200354959574049,
          0.0047367383159140205,
          0.0047367383159140205,
          0.005245513705383554,
          0.005912048905541313,
          0.006748175902188918,
          0.007793334647998422,
          0.00929205284953658,
          0.011271938473673832,
          0.013961743245908105,
          0.017527114967462037,
          0.022334845198185762,
          0.028822717412739104,
          0.03766515480181424,
          0.04944981266022481,
          0.06448432261881286,
          0.08220469335436797,
          0.10456320252415698,
          0.1310471307434431,
          0.16134095839084994,
          0.19553145336225597,
          0.2331768881877342,
          0.273346479984224,
          0.31506211792545846,
          0.35803589035693156,
          0.3999053441135871,
          0.440729639124433,
          0.48018536777755866,
          0.5165766121080655,
          0.5441964109643068,
          0.5642516268980478,
          0.579865904160915,
          1
         ],
         "xaxis": "x",
         "y": [
          0.37982646420824295,
          0.4264642082429501,
          0.46338394793926246,
          0.470412147505423,
          0.4771366594360087,
          0.48425162689804774,
          0.49162689804772236,
          0.49882863340563993,
          0.5068980477223427,
          0.5135791757049891,
          0.5212581344902386,
          0.5281995661605207,
          0.535704989154013,
          0.5439045553145336,
          0.5520607375271149,
          0.5604772234273319,
          0.5686767895878525,
          0.5686767895878525,
          0.5776572668112798,
          0.5855965292841648,
          0.5932754880694143,
          0.6009544468546638,
          0.6091973969631237,
          0.6176138828633405,
          0.6253796095444686,
          0.6346203904555314,
          0.641995661605206,
          0.6491540130151844,
          0.6577874186550976,
          0.6655531453362256,
          0.6731453362255966,
          0.6805639913232104,
          0.6884598698481562,
          0.6973101952277657,
          0.7053796095444685,
          0.7135791757049892,
          0.7207809110629068,
          0.7284164859002169,
          0.7372668112798265,
          0.7440780911062906,
          0.7526247288503254,
          0.7616485900216919,
          0.7707592190889371,
          0.7808242950108459,
          0.7887201735357917,
          0.7964859002169198,
          0.8043383947939262,
          0.8120173535791757,
          0.8120173535791757,
          0.820173535791757,
          0.827765726681128,
          0.834880694143167,
          0.8422125813449024,
          0.8495444685466378,
          0.856702819956616,
          0.86412147505423,
          0.871236442516269,
          0.8796963123644251,
          0.887939262472885,
          0.887939262472885,
          0.8948373101952277,
          0.9019088937093276,
          0.9082429501084599,
          0.9143167028199566,
          0.9210845986984816,
          0.9268546637744035,
          0.9325379609544469,
          0.9372234273318872,
          0.9418655097613883,
          0.9474620390455532,
          0.9526681127982647,
          0.957353579175705,
          0.9619956616052061,
          0.9667245119305857,
          0.9708459869848156,
          0.9737960954446855,
          0.9761388286334056,
          0.978351409978308,
          0.980997830802603,
          0.9829934924078091,
          0.9851626898047723,
          0.9872451193058568,
          0.9892407809110629,
          0.9908459869848156,
          0.9917570498915401,
          0.992885032537961,
          0.9938394793926247,
          0.9941865509761388,
          0.9942299349240781,
          1
         ],
         "yaxis": "y"
        },
        {
         "customdata": [
          [
           0
          ],
          [
           0.1
          ],
          [
           0.16
          ],
          [
           0.17
          ],
          [
           0.18
          ],
          [
           0.19
          ],
          [
           0.2
          ],
          [
           0.21000000000000002
          ],
          [
           0.22000000000000003
          ],
          [
           0.23000000000000004
          ],
          [
           0.24
          ],
          [
           0.25
          ],
          [
           0.26
          ],
          [
           0.27
          ],
          [
           0.28
          ],
          [
           0.29
          ],
          [
           0.3
          ],
          [
           0.30000000000000004
          ],
          [
           0.31
          ],
          [
           0.32
          ],
          [
           0.33
          ],
          [
           0.34
          ],
          [
           0.35
          ],
          [
           0.36
          ],
          [
           0.37
          ],
          [
           0.38
          ],
          [
           0.39
          ],
          [
           0.4
          ],
          [
           0.41
          ],
          [
           0.42000000000000004
          ],
          [
           0.43
          ],
          [
           0.44000000000000006
          ],
          [
           0.45
          ],
          [
           0.4600000000000001
          ],
          [
           0.4699999999999999
          ],
          [
           0.48
          ],
          [
           0.49000000000000005
          ],
          [
           0.5
          ],
          [
           0.51
          ],
          [
           0.52
          ],
          [
           0.53
          ],
          [
           0.54
          ],
          [
           0.55
          ],
          [
           0.56
          ],
          [
           0.57
          ],
          [
           0.58
          ],
          [
           0.59
          ],
          [
           0.6
          ],
          [
           0.6000000000000001
          ],
          [
           0.61
          ],
          [
           0.62
          ],
          [
           0.63
          ],
          [
           0.64
          ],
          [
           0.65
          ],
          [
           0.66
          ],
          [
           0.67
          ],
          [
           0.68
          ],
          [
           0.69
          ],
          [
           0.7
          ],
          [
           0.7000000000000001
          ],
          [
           0.71
          ],
          [
           0.72
          ],
          [
           0.73
          ],
          [
           0.74
          ],
          [
           0.75
          ],
          [
           0.76
          ],
          [
           0.77
          ],
          [
           0.78
          ],
          [
           0.79
          ],
          [
           0.8
          ],
          [
           0.8100000000000002
          ],
          [
           0.82
          ],
          [
           0.8299999999999998
          ],
          [
           0.8400000000000001
          ],
          [
           0.85
          ],
          [
           0.86
          ],
          [
           0.8699999999999999
          ],
          [
           0.8800000000000001
          ],
          [
           0.89
          ],
          [
           0.9
          ],
          [
           0.9099999999999999
          ],
          [
           0.9200000000000002
          ],
          [
           0.93
          ],
          [
           0.9399999999999998
          ],
          [
           0.95
          ],
          [
           0.96
          ],
          [
           0.97
          ],
          [
           0.9800000000000001
          ],
          [
           0.99
          ],
          [
           1
          ]
         ],
         "hovertemplate": "fold=fold_mean<br>fpr=%{x}<br>tpr=%{y}<br>threshold=%{customdata[0]}<extra></extra>",
         "legendgroup": "fold_mean",
         "line": {
          "color": "#19d3f3",
          "dash": "solid"
         },
         "marker": {
          "symbol": "circle"
         },
         "mode": "lines",
         "name": "fold_mean",
         "orientation": "v",
         "showlegend": true,
         "type": "scatter",
         "x": [
          6.816538486820482e-05,
          0.0001030697429829751,
          0.0001378426345888385,
          0.00015190955104187208,
          0.00015703674488923947,
          0.00015703674488923947,
          0.00015881154275948202,
          0.00016564780122263852,
          0.00018950897258923288,
          0.00020048642608295537,
          0.00022382173141392232,
          0.00023571945046999275,
          0.00028094392953395124,
          0.00030151843817787416,
          0.0003243278774732137,
          0.00035127851179911915,
          0.00035949516860579766,
          0.00035949516860579766,
          0.0003862486031683429,
          0.00038960099914546773,
          0.00041030697429829746,
          0.0004417274699270361,
          0.00047367383159140205,
          0.0005080523236705448,
          0.0005269835009531321,
          0.0005449944126733714,
          0.0005635311904292383,
          0.0006207191218037206,
          0.0006593702754223362,
          0.0007064352856109906,
          0.0007190560704660488,
          0.0007507394991126011,
          0.0007754552027870899,
          0.0008455268520344443,
          0.0009116545060145927,
          0.00095839084993098,
          0.0010355616906593044,
          0.0010977453493722475,
          0.0011567080786169723,
          0.001242818641950963,
          0.0013054624334450798,
          0.0013660027607966872,
          0.0014508643922960627,
          0.0015079865904160915,
          0.0016295273779004798,
          0.0017300335239597714,
          0.0018921974626963781,
          0.0020161703805955432,
          0.0020161703805955432,
          0.0022009465588641295,
          0.0024316702819956616,
          0.0026523368171958188,
          0.0027878130546243342,
          0.002994281206862552,
          0.0032366397160323405,
          0.0034985867350292516,
          0.0038614342996121736,
          0.004209228948925261,
          0.004754617761125354,
          0.004754617761125354,
          0.005305988299480707,
          0.006070991914809702,
          0.006965227108394136,
          0.00806560178794452,
          0.009631367909025176,
          0.011713403010583054,
          0.014483665286268321,
          0.018155064747255638,
          0.0229922434759745,
          0.029631302175770723,
          0.03844146453690923,
          0.050281732728587394,
          0.06546013278117399,
          0.08308131203575889,
          0.10557411424439625,
          0.1321586143429961,
          0.1623000723065799,
          0.1967596134884638,
          0.23465319134950374,
          0.27525596529284163,
          0.3181741273910471,
          0.361736015250115,
          0.4042990863077631,
          0.44497922829159264,
          0.48477335173864455,
          0.5199747584302898,
          0.5463650824952343,
          0.5649942154736081,
          0.5786416222967199,
          1
         ],
         "xaxis": "x",
         "y": [
          0.3820968908170643,
          0.4289551699204628,
          0.4670151843817788,
          0.4733991323210412,
          0.48042371655820676,
          0.4882313810556761,
          0.4956861894432393,
          0.5032400578452639,
          0.5117736804049169,
          0.5186992046276211,
          0.5261930585683297,
          0.5334960231381055,
          0.5404128705712219,
          0.5486941431670281,
          0.5577765726681128,
          0.5665459146782357,
          0.5744548083875632,
          0.5744548083875632,
          0.5830983369486622,
          0.5912733188720173,
          0.5988069414316703,
          0.6061851048445408,
          0.6139544468546638,
          0.6227274041937816,
          0.6310086767895878,
          0.6407816341287057,
          0.647650759219089,
          0.6545307302964569,
          0.663477223427332,
          0.6719754157628344,
          0.6797700650759219,
          0.6870853217642805,
          0.695761388286334,
          0.7050874909616776,
          0.7124533622559653,
          0.7208720173535792,
          0.7289790310918294,
          0.7369305856832972,
          0.7459493853940709,
          0.7521851048445408,
          0.7602176428054953,
          0.7682805495300074,
          0.7769898770788142,
          0.7874302241503977,
          0.7954627621113521,
          0.8031691973969632,
          0.8115437454808386,
          0.8190231381055675,
          0.8190231381055675,
          0.826406362979031,
          0.8339443239334778,
          0.8406131597975415,
          0.8475495300072307,
          0.8541352133044107,
          0.8616261749819234,
          0.8687136659436009,
          0.8755271149674619,
          0.8836579898770788,
          0.8905668835864062,
          0.8905668835864062,
          0.8980166305133768,
          0.9044128705712218,
          0.9111966738973247,
          0.9170824295010845,
          0.9234649313087491,
          0.929297180043384,
          0.934479392624729,
          0.9392812725958063,
          0.9438575560375995,
          0.9494237165582067,
          0.954123644251627,
          0.9590990600144613,
          0.9633355025307303,
          0.9680303687635575,
          0.9719421547360809,
          0.9750231381055675,
          0.9774150397686189,
          0.9792169197396964,
          0.9813261026753434,
          0.983236442516269,
          0.9855285610990598,
          0.9875213304410702,
          0.9894352856109906,
          0.9906167751265367,
          0.9916341287057122,
          0.9925719450469993,
          0.9935473608098337,
          0.9940397686189442,
          0.9940303687635575,
          1
         ],
         "yaxis": "y"
        }
       ],
       "layout": {
        "height": 500,
        "legend": {
         "title": {
          "text": "fold"
         },
         "tracegroupgap": 0
        },
        "template": {
         "data": {
          "bar": [
           {
            "error_x": {
             "color": "#2a3f5f"
            },
            "error_y": {
             "color": "#2a3f5f"
            },
            "marker": {
             "line": {
              "color": "#E5ECF6",
              "width": 0.5
             },
             "pattern": {
              "fillmode": "overlay",
              "size": 10,
              "solidity": 0.2
             }
            },
            "type": "bar"
           }
          ],
          "barpolar": [
           {
            "marker": {
             "line": {
              "color": "#E5ECF6",
              "width": 0.5
             },
             "pattern": {
              "fillmode": "overlay",
              "size": 10,
              "solidity": 0.2
             }
            },
            "type": "barpolar"
           }
          ],
          "carpet": [
           {
            "aaxis": {
             "endlinecolor": "#2a3f5f",
             "gridcolor": "white",
             "linecolor": "white",
             "minorgridcolor": "white",
             "startlinecolor": "#2a3f5f"
            },
            "baxis": {
             "endlinecolor": "#2a3f5f",
             "gridcolor": "white",
             "linecolor": "white",
             "minorgridcolor": "white",
             "startlinecolor": "#2a3f5f"
            },
            "type": "carpet"
           }
          ],
          "choropleth": [
           {
            "colorbar": {
             "outlinewidth": 0,
             "ticks": ""
            },
            "type": "choropleth"
           }
          ],
          "contour": [
           {
            "colorbar": {
             "outlinewidth": 0,
             "ticks": ""
            },
            "colorscale": [
             [
              0,
              "#0d0887"
             ],
             [
              0.1111111111111111,
              "#46039f"
             ],
             [
              0.2222222222222222,
              "#7201a8"
             ],
             [
              0.3333333333333333,
              "#9c179e"
             ],
             [
              0.4444444444444444,
              "#bd3786"
             ],
             [
              0.5555555555555556,
              "#d8576b"
             ],
             [
              0.6666666666666666,
              "#ed7953"
             ],
             [
              0.7777777777777778,
              "#fb9f3a"
             ],
             [
              0.8888888888888888,
              "#fdca26"
             ],
             [
              1,
              "#f0f921"
             ]
            ],
            "type": "contour"
           }
          ],
          "contourcarpet": [
           {
            "colorbar": {
             "outlinewidth": 0,
             "ticks": ""
            },
            "type": "contourcarpet"
           }
          ],
          "heatmap": [
           {
            "colorbar": {
             "outlinewidth": 0,
             "ticks": ""
            },
            "colorscale": [
             [
              0,
              "#0d0887"
             ],
             [
              0.1111111111111111,
              "#46039f"
             ],
             [
              0.2222222222222222,
              "#7201a8"
             ],
             [
              0.3333333333333333,
              "#9c179e"
             ],
             [
              0.4444444444444444,
              "#bd3786"
             ],
             [
              0.5555555555555556,
              "#d8576b"
             ],
             [
              0.6666666666666666,
              "#ed7953"
             ],
             [
              0.7777777777777778,
              "#fb9f3a"
             ],
             [
              0.8888888888888888,
              "#fdca26"
             ],
             [
              1,
              "#f0f921"
             ]
            ],
            "type": "heatmap"
           }
          ],
          "heatmapgl": [
           {
            "colorbar": {
             "outlinewidth": 0,
             "ticks": ""
            },
            "colorscale": [
             [
              0,
              "#0d0887"
             ],
             [
              0.1111111111111111,
              "#46039f"
             ],
             [
              0.2222222222222222,
              "#7201a8"
             ],
             [
              0.3333333333333333,
              "#9c179e"
             ],
             [
              0.4444444444444444,
              "#bd3786"
             ],
             [
              0.5555555555555556,
              "#d8576b"
             ],
             [
              0.6666666666666666,
              "#ed7953"
             ],
             [
              0.7777777777777778,
              "#fb9f3a"
             ],
             [
              0.8888888888888888,
              "#fdca26"
             ],
             [
              1,
              "#f0f921"
             ]
            ],
            "type": "heatmapgl"
           }
          ],
          "histogram": [
           {
            "marker": {
             "pattern": {
              "fillmode": "overlay",
              "size": 10,
              "solidity": 0.2
             }
            },
            "type": "histogram"
           }
          ],
          "histogram2d": [
           {
            "colorbar": {
             "outlinewidth": 0,
             "ticks": ""
            },
            "colorscale": [
             [
              0,
              "#0d0887"
             ],
             [
              0.1111111111111111,
              "#46039f"
             ],
             [
              0.2222222222222222,
              "#7201a8"
             ],
             [
              0.3333333333333333,
              "#9c179e"
             ],
             [
              0.4444444444444444,
              "#bd3786"
             ],
             [
              0.5555555555555556,
              "#d8576b"
             ],
             [
              0.6666666666666666,
              "#ed7953"
             ],
             [
              0.7777777777777778,
              "#fb9f3a"
             ],
             [
              0.8888888888888888,
              "#fdca26"
             ],
             [
              1,
              "#f0f921"
             ]
            ],
            "type": "histogram2d"
           }
          ],
          "histogram2dcontour": [
           {
            "colorbar": {
             "outlinewidth": 0,
             "ticks": ""
            },
            "colorscale": [
             [
              0,
              "#0d0887"
             ],
             [
              0.1111111111111111,
              "#46039f"
             ],
             [
              0.2222222222222222,
              "#7201a8"
             ],
             [
              0.3333333333333333,
              "#9c179e"
             ],
             [
              0.4444444444444444,
              "#bd3786"
             ],
             [
              0.5555555555555556,
              "#d8576b"
             ],
             [
              0.6666666666666666,
              "#ed7953"
             ],
             [
              0.7777777777777778,
              "#fb9f3a"
             ],
             [
              0.8888888888888888,
              "#fdca26"
             ],
             [
              1,
              "#f0f921"
             ]
            ],
            "type": "histogram2dcontour"
           }
          ],
          "mesh3d": [
           {
            "colorbar": {
             "outlinewidth": 0,
             "ticks": ""
            },
            "type": "mesh3d"
           }
          ],
          "parcoords": [
           {
            "line": {
             "colorbar": {
              "outlinewidth": 0,
              "ticks": ""
             }
            },
            "type": "parcoords"
           }
          ],
          "pie": [
           {
            "automargin": true,
            "type": "pie"
           }
          ],
          "scatter": [
           {
            "fillpattern": {
             "fillmode": "overlay",
             "size": 10,
             "solidity": 0.2
            },
            "type": "scatter"
           }
          ],
          "scatter3d": [
           {
            "line": {
             "colorbar": {
              "outlinewidth": 0,
              "ticks": ""
             }
            },
            "marker": {
             "colorbar": {
              "outlinewidth": 0,
              "ticks": ""
             }
            },
            "type": "scatter3d"
           }
          ],
          "scattercarpet": [
           {
            "marker": {
             "colorbar": {
              "outlinewidth": 0,
              "ticks": ""
             }
            },
            "type": "scattercarpet"
           }
          ],
          "scattergeo": [
           {
            "marker": {
             "colorbar": {
              "outlinewidth": 0,
              "ticks": ""
             }
            },
            "type": "scattergeo"
           }
          ],
          "scattergl": [
           {
            "marker": {
             "colorbar": {
              "outlinewidth": 0,
              "ticks": ""
             }
            },
            "type": "scattergl"
           }
          ],
          "scattermapbox": [
           {
            "marker": {
             "colorbar": {
              "outlinewidth": 0,
              "ticks": ""
             }
            },
            "type": "scattermapbox"
           }
          ],
          "scatterpolar": [
           {
            "marker": {
             "colorbar": {
              "outlinewidth": 0,
              "ticks": ""
             }
            },
            "type": "scatterpolar"
           }
          ],
          "scatterpolargl": [
           {
            "marker": {
             "colorbar": {
              "outlinewidth": 0,
              "ticks": ""
             }
            },
            "type": "scatterpolargl"
           }
          ],
          "scatterternary": [
           {
            "marker": {
             "colorbar": {
              "outlinewidth": 0,
              "ticks": ""
             }
            },
            "type": "scatterternary"
           }
          ],
          "surface": [
           {
            "colorbar": {
             "outlinewidth": 0,
             "ticks": ""
            },
            "colorscale": [
             [
              0,
              "#0d0887"
             ],
             [
              0.1111111111111111,
              "#46039f"
             ],
             [
              0.2222222222222222,
              "#7201a8"
             ],
             [
              0.3333333333333333,
              "#9c179e"
             ],
             [
              0.4444444444444444,
              "#bd3786"
             ],
             [
              0.5555555555555556,
              "#d8576b"
             ],
             [
              0.6666666666666666,
              "#ed7953"
             ],
             [
              0.7777777777777778,
              "#fb9f3a"
             ],
             [
              0.8888888888888888,
              "#fdca26"
             ],
             [
              1,
              "#f0f921"
             ]
            ],
            "type": "surface"
           }
          ],
          "table": [
           {
            "cells": {
             "fill": {
              "color": "#EBF0F8"
             },
             "line": {
              "color": "white"
             }
            },
            "header": {
             "fill": {
              "color": "#C8D4E3"
             },
             "line": {
              "color": "white"
             }
            },
            "type": "table"
           }
          ]
         },
         "layout": {
          "annotationdefaults": {
           "arrowcolor": "#2a3f5f",
           "arrowhead": 0,
           "arrowwidth": 1
          },
          "autotypenumbers": "strict",
          "coloraxis": {
           "colorbar": {
            "outlinewidth": 0,
            "ticks": ""
           }
          },
          "colorscale": {
           "diverging": [
            [
             0,
             "#8e0152"
            ],
            [
             0.1,
             "#c51b7d"
            ],
            [
             0.2,
             "#de77ae"
            ],
            [
             0.3,
             "#f1b6da"
            ],
            [
             0.4,
             "#fde0ef"
            ],
            [
             0.5,
             "#f7f7f7"
            ],
            [
             0.6,
             "#e6f5d0"
            ],
            [
             0.7,
             "#b8e186"
            ],
            [
             0.8,
             "#7fbc41"
            ],
            [
             0.9,
             "#4d9221"
            ],
            [
             1,
             "#276419"
            ]
           ],
           "sequential": [
            [
             0,
             "#0d0887"
            ],
            [
             0.1111111111111111,
             "#46039f"
            ],
            [
             0.2222222222222222,
             "#7201a8"
            ],
            [
             0.3333333333333333,
             "#9c179e"
            ],
            [
             0.4444444444444444,
             "#bd3786"
            ],
            [
             0.5555555555555556,
             "#d8576b"
            ],
            [
             0.6666666666666666,
             "#ed7953"
            ],
            [
             0.7777777777777778,
             "#fb9f3a"
            ],
            [
             0.8888888888888888,
             "#fdca26"
            ],
            [
             1,
             "#f0f921"
            ]
           ],
           "sequentialminus": [
            [
             0,
             "#0d0887"
            ],
            [
             0.1111111111111111,
             "#46039f"
            ],
            [
             0.2222222222222222,
             "#7201a8"
            ],
            [
             0.3333333333333333,
             "#9c179e"
            ],
            [
             0.4444444444444444,
             "#bd3786"
            ],
            [
             0.5555555555555556,
             "#d8576b"
            ],
            [
             0.6666666666666666,
             "#ed7953"
            ],
            [
             0.7777777777777778,
             "#fb9f3a"
            ],
            [
             0.8888888888888888,
             "#fdca26"
            ],
            [
             1,
             "#f0f921"
            ]
           ]
          },
          "colorway": [
           "#636efa",
           "#EF553B",
           "#00cc96",
           "#ab63fa",
           "#FFA15A",
           "#19d3f3",
           "#FF6692",
           "#B6E880",
           "#FF97FF",
           "#FECB52"
          ],
          "font": {
           "color": "#2a3f5f"
          },
          "geo": {
           "bgcolor": "white",
           "lakecolor": "white",
           "landcolor": "#E5ECF6",
           "showlakes": true,
           "showland": true,
           "subunitcolor": "white"
          },
          "hoverlabel": {
           "align": "left"
          },
          "hovermode": "closest",
          "mapbox": {
           "style": "light"
          },
          "paper_bgcolor": "white",
          "plot_bgcolor": "#E5ECF6",
          "polar": {
           "angularaxis": {
            "gridcolor": "white",
            "linecolor": "white",
            "ticks": ""
           },
           "bgcolor": "#E5ECF6",
           "radialaxis": {
            "gridcolor": "white",
            "linecolor": "white",
            "ticks": ""
           }
          },
          "scene": {
           "xaxis": {
            "backgroundcolor": "#E5ECF6",
            "gridcolor": "white",
            "gridwidth": 2,
            "linecolor": "white",
            "showbackground": true,
            "ticks": "",
            "zerolinecolor": "white"
           },
           "yaxis": {
            "backgroundcolor": "#E5ECF6",
            "gridcolor": "white",
            "gridwidth": 2,
            "linecolor": "white",
            "showbackground": true,
            "ticks": "",
            "zerolinecolor": "white"
           },
           "zaxis": {
            "backgroundcolor": "#E5ECF6",
            "gridcolor": "white",
            "gridwidth": 2,
            "linecolor": "white",
            "showbackground": true,
            "ticks": "",
            "zerolinecolor": "white"
           }
          },
          "shapedefaults": {
           "line": {
            "color": "#2a3f5f"
           }
          },
          "ternary": {
           "aaxis": {
            "gridcolor": "white",
            "linecolor": "white",
            "ticks": ""
           },
           "baxis": {
            "gridcolor": "white",
            "linecolor": "white",
            "ticks": ""
           },
           "bgcolor": "#E5ECF6",
           "caxis": {
            "gridcolor": "white",
            "linecolor": "white",
            "ticks": ""
           }
          },
          "title": {
           "x": 0.05
          },
          "xaxis": {
           "automargin": true,
           "gridcolor": "white",
           "linecolor": "white",
           "ticks": "",
           "title": {
            "standoff": 15
           },
           "zerolinecolor": "white",
           "zerolinewidth": 2
          },
          "yaxis": {
           "automargin": true,
           "gridcolor": "white",
           "linecolor": "white",
           "ticks": "",
           "title": {
            "standoff": 15
           },
           "zerolinecolor": "white",
           "zerolinewidth": 2
          }
         }
        },
        "title": {
         "text": "Threshold-Dynamic"
        },
        "width": 500,
        "xaxis": {
         "anchor": "y",
         "autorange": true,
         "domain": [
          0,
          1
         ],
         "range": [
          3.9439952672056795e-05,
          1
         ],
         "title": {
          "text": "fpr"
         },
         "type": "linear"
        },
        "yaxis": {
         "anchor": "x",
         "autorange": true,
         "domain": [
          0,
          1
         ],
         "range": [
          0.3318630995420583,
          1.0351651000241022
         ],
         "title": {
          "text": "tpr"
         },
         "type": "linear"
        }
       }
      },
      "image/png": "[encoded data removed]",
      "text/html": [
       "<div>                            <div id=\"c3dc6110-8fd1-4fd1-92fd-cd0e141af130\" class=\"plotly-graph-div\" style=\"height:500px; width:500px;\"></div>            <script type=\"text/javascript\">                require([\"plotly\"], function(Plotly) {                    window.PLOTLYENV=window.PLOTLYENV || {};                                    if (document.getElementById(\"c3dc6110-8fd1-4fd1-92fd-cd0e141af130\")) {                    Plotly.newPlot(                        \"c3dc6110-8fd1-4fd1-92fd-cd0e141af130\",                        [{\"customdata\":[[0.0],[0.1],[0.16],[0.17],[0.18],[0.19],[0.2],[0.21],[0.22],[0.23],[0.24],[0.25],[0.26],[0.27],[0.28],[0.29],[0.3],[0.30000000000000004],[0.31],[0.32],[0.33],[0.34],[0.35],[0.36],[0.37],[0.38],[0.39],[0.4],[0.41],[0.42],[0.43],[0.44],[0.45],[0.46],[0.47],[0.48],[0.49],[0.5],[0.51],[0.52],[0.53],[0.54],[0.55],[0.56],[0.57],[0.58],[0.59],[0.6],[0.6000000000000001],[0.61],[0.62],[0.63],[0.64],[0.65],[0.66],[0.67],[0.68],[0.69],[0.7],[0.7000000000000001],[0.71],[0.72],[0.73],[0.74],[0.75],[0.76],[0.77],[0.78],[0.79],[0.8],[0.81],[0.82],[0.83],[0.84],[0.85],[0.86],[0.87],[0.88],[0.89],[0.9],[0.91],[0.92],[0.93],[0.94],[0.95],[0.96],[0.97],[0.98],[0.99],[1.0]],\"hovertemplate\":\"fold=fold_0<br>fpr=%{x}<br>tpr=%{y}<br>threshold=%{customdata[0]}<extra></extra>\",\"legendgroup\":\"fold_0\",\"line\":{\"color\":\"#636efa\",\"dash\":\"solid\"},\"marker\":{\"symbol\":\"circle\"},\"mode\":\"lines\",\"name\":\"fold_0\",\"orientation\":\"v\",\"showlegend\":true,\"x\":[3.9439952672056795e-05,7.887990534411359e-05,0.00011831985801617038,0.00013803983435219878,0.00013803983435219878,0.00013803983435219878,0.00013803983435219878,0.00013803983435219878,0.00017747978702425558,0.00017747978702425558,0.00017747978702425558,0.00017747978702425558,0.00023663971603234076,0.00027607966870439756,0.00029579964504042593,0.00033523959771248273,0.00033523959771248273,0.00033523959771248273,0.00037467955038453953,0.00037467955038453953,0.00039439952672056796,0.0004338394793926247,0.00045355945572865314,0.0004929994084007099,0.0005127193847367384,0.0005324393610727667,0.0005521593374087951,0.0006310392427529087,0.0006704791954249655,0.0007296391244330507,0.0007296391244330507,0.0007493591007690791,0.0007493591007690791,0.0008085190297771643,0.0008676789587852494,0.0008873989351212779,0.0009859988168014198,0.0010845986984815619,0.001143758627489647,0.001242358509169789,0.0012817984618418458,0.001340958390849931,0.0014198382961940446,0.0014789982252021298,0.0016170380595543286,0.0016564780122263853,0.001833957799250641,0.0019522776572668114,0.0019522776572668114,0.002149477420627095,0.0024649970420035495,0.002741076710707947,0.002879116545060146,0.0030565963320844016,0.0032537960954446853,0.0035495957404851116,0.0039045553145336228,0.004220074935910077,0.004752514296982844,0.004752514296982844,0.005383553539735753,0.006251232498521002,0.00737527114967462,0.008459869848156183,0.010136067836718596,0.012482745020705975,0.015421021494774206,0.01920725695129166,0.0242358509169789,0.03131532242161309,0.04042595148885821,0.052494577006507594,0.0688818773417472,0.08733977519226976,0.11163478603825676,0.1398737921514494,0.17148491421810294,0.20745415105501874,0.2470124235850917,0.2887596134884638,0.33328732005521594,0.37641490830211005,0.4186748175902189,0.45777953066456323,0.49579964504042595,0.527114967462039,0.5507394991126011,0.566653520015776,0.5776967067639519,1.0],\"xaxis\":\"x\",\"y\":[0.3670281995661605,0.41301518438177875,0.4522776572668113,0.45770065075921906,0.46529284164859,0.47440347071583516,0.4817787418655098,0.49023861171366595,0.4997830802603037,0.5078091106290672,0.5151843817787418,0.5232104121475054,0.5288503253796095,0.5366594360086768,0.545770065075922,0.5553145336225597,0.5616052060737527,0.5616052060737527,0.5702819956616052,0.5789587852494577,0.5863340563991323,0.5939262472885033,0.599349240780911,0.6084598698481561,0.6171366594360087,0.6271149674620391,0.6338394793926247,0.6407809110629067,0.6501084598698481,0.6600867678958785,0.6674620390455531,0.6748373101952277,0.6850325379609544,0.6952277657266811,0.7019522776572669,0.7108459869848156,0.720173535791757,0.7281995661605206,0.738177874186551,0.7440347071583514,0.7516268980477223,0.7579175704989154,0.7674620390455531,0.7789587852494577,0.7874186550976139,0.7954446854663775,0.8043383947939262,0.8130151843817788,0.8130151843817788,0.8199566160520607,0.827765726681128,0.8336225596529284,0.8405639913232104,0.8468546637744034,0.855531453362256,0.8626898047722342,0.8691973969631236,0.8772234273318872,0.8830802603036876,0.8830802603036876,0.8921908893709327,0.8986984815618221,0.9067245119305857,0.9134490238611713,0.9199566160520607,0.9266811279826465,0.9314533622559653,0.9368763557483731,0.941648590021692,0.9479392624728851,0.9524945770065076,0.958351409978308,0.9620390455531453,0.9676789587852495,0.971583514099783,0.9748373101952278,0.9772234273318872,0.9785249457700651,0.9802603036876356,0.982646420824295,0.9850325379609545,0.9869848156182213,0.9891540130151844,0.9900216919739696,0.9911062906724512,0.9919739696312364,0.9928416485900217,0.9937093275488069,0.9934924078091106,1.0],\"yaxis\":\"y\",\"type\":\"scatter\"},{\"customdata\":[[0.0],[0.1],[0.16],[0.17],[0.18],[0.19],[0.2],[0.21],[0.22],[0.23],[0.24],[0.25],[0.26],[0.27],[0.28],[0.29],[0.3],[0.30000000000000004],[0.31],[0.32],[0.33],[0.34],[0.35],[0.36],[0.37],[0.38],[0.39],[0.4],[0.41],[0.42],[0.43],[0.44],[0.45],[0.46],[0.47],[0.48],[0.49],[0.5],[0.51],[0.52],[0.53],[0.54],[0.55],[0.56],[0.57],[0.58],[0.59],[0.6],[0.6000000000000001],[0.61],[0.62],[0.63],[0.64],[0.65],[0.66],[0.67],[0.68],[0.69],[0.7],[0.7000000000000001],[0.71],[0.72],[0.73],[0.74],[0.75],[0.76],[0.77],[0.78],[0.79],[0.8],[0.81],[0.82],[0.83],[0.84],[0.85],[0.86],[0.87],[0.88],[0.89],[0.9],[0.91],[0.92],[0.93],[0.94],[0.95],[0.96],[0.97],[0.98],[0.99],[1.0]],\"hovertemplate\":\"fold=fold_1<br>fpr=%{x}<br>tpr=%{y}<br>threshold=%{customdata[0]}<extra></extra>\",\"legendgroup\":\"fold_1\",\"line\":{\"color\":\"#EF553B\",\"dash\":\"solid\"},\"marker\":{\"symbol\":\"circle\"},\"mode\":\"lines\",\"name\":\"fold_1\",\"orientation\":\"v\",\"showlegend\":true,\"x\":[7.887990534411359e-05,0.00010845986984815618,0.00015775981068822718,0.00017747978702425558,0.00017747978702425558,0.00017747978702425558,0.00017747978702425558,0.00018733977519226977,0.00021691973969631235,0.00021691973969631235,0.0002563596923683692,0.00027607966870439756,0.00031551962137645436,0.00033523959771248273,0.00035495957404851116,0.0003845395385525537,0.0003845395385525537,0.0003845395385525537,0.00040425951488858215,0.00040425951488858215,0.0004239794912246105,0.00044369946756063895,0.0004732794320646815,0.0005028593965687241,0.0005225793729047526,0.0005324393610727667,0.0005422993492407809,0.000601459278248866,0.0006507592190889371,0.0007099191480970223,0.0007099191480970223,0.0007394991126010649,0.0007690790771051074,0.0008380989942812069,0.0009268388877933346,0.0009761388286334057,0.001045158745809505,0.0011043186748175902,0.0011536186156576613,0.001242358509169789,0.0013113784263458885,0.001390258331690002,0.0014691382370341155,0.0014987182015381581,0.0016170380595543286,0.0017057779530664564,0.001893117728258726,0.001981857621770854,0.001981857621770854,0.0021593374087951096,0.002386117136659436,0.0026128968645237624,0.002741076710707947,0.002938276474068231,0.0031650562019325578,0.00338197594162887,0.003727075527509367,0.004072175113389864,0.004604614474462631,0.004604614474462631,0.0051666338000394395,0.006014592782488661,0.006862551764937882,0.008016170380595542,0.009643068428317886,0.011713665943600867,0.014474462630644844,0.018112798264642082,0.02289489252612897,0.029422204693354367,0.03813843423387892,0.050059159929008085,0.06512522184973378,0.08259712088345494,0.10507789390652732,0.1317984618418458,0.16175310589627293,0.19683494379806743,0.23447051863537763,0.2755570893314928,0.3191678169986196,0.3630644843226188,0.4057779530664563,0.44561230526523365,0.48505225793729045,0.5192959968448038,0.5444291066850719,0.5620390455531453,0.574295010845987,1.0],\"xaxis\":\"x\",\"y\":[0.393058568329718,0.44045553145336225,0.4795010845986985,0.4856832971800434,0.4927331887201735,0.5002169197396963,0.5078091106290672,0.5154013015184382,0.5238611713665944,0.5303687635574837,0.5378524945770065,0.5449023861171367,0.5517353579175704,0.5599783080260303,0.5699566160520607,0.579175704989154,0.5873101952277657,0.5873101952277657,0.5957700650759219,0.6035791757049892,0.6108459869848156,0.618112798264642,0.6260303687635574,0.6349240780911063,0.6429501084598699,0.6524945770065076,0.659002169197397,0.6656182212581345,0.6744034707158352,0.6824295010845987,0.690238611713666,0.6970715835140998,0.7059652928416486,0.7157266811279827,0.722234273318872,0.7306941431670282,0.7391540130151844,0.7472885032537961,0.7560737527114968,0.761822125813449,0.76941431670282,0.7773318872017354,0.7851409978308026,0.7962039045553145,0.8040130151843817,0.8111713665943601,0.81941431670282,0.8267895878524946,0.8267895878524946,0.8337310195227766,0.840997830802603,0.8475054229934924,0.8539045553145336,0.8598698481561822,0.8670281995661605,0.8744034707158351,0.8811279826464208,0.8886117136659436,0.8946854663774404,0.8946854663774404,0.9017353579175705,0.9073752711496746,0.9142082429501085,0.9199566160520607,0.926355748373102,0.9318872017353579,0.9367678958785249,0.9408893709327549,0.9454446854663774,0.9506507592190889,0.955531453362256,0.9606290672451193,0.9647505422993492,0.9690889370932755,0.972885032537961,0.9758134490238611,0.9784164859002169,0.9800433839479392,0.9819956616052061,0.9835140997830802,0.9857917570498915,0.9877440347071583,0.9894793926247288,0.9903470715835141,0.9914316702819956,0.9924078091106291,0.9936008676789588,0.9940347071583514,0.9940347071583514,1.0],\"yaxis\":\"y\",\"type\":\"scatter\"},{\"customdata\":[[0.0],[0.1],[0.16],[0.17],[0.18],[0.19],[0.2],[0.21],[0.22],[0.23],[0.24],[0.25],[0.26],[0.27],[0.28],[0.29],[0.3],[0.30000000000000004],[0.31],[0.32],[0.33],[0.34],[0.35],[0.36],[0.37],[0.38],[0.39],[0.4],[0.41],[0.42],[0.43],[0.44],[0.45],[0.46],[0.47],[0.48],[0.49],[0.5],[0.51],[0.52],[0.53],[0.54],[0.55],[0.56],[0.57],[0.58],[0.59],[0.6],[0.6000000000000001],[0.61],[0.62],[0.63],[0.64],[0.65],[0.66],[0.67],[0.68],[0.69],[0.7],[0.7000000000000001],[0.71],[0.72],[0.73],[0.74],[0.75],[0.76],[0.77],[0.78],[0.79],[0.8],[0.81],[0.82],[0.83],[0.84],[0.85],[0.86],[0.87],[0.88],[0.89],[0.9],[0.91],[0.92],[0.93],[0.94],[0.95],[0.96],[0.97],[0.98],[0.99],[1.0]],\"hovertemplate\":\"fold=fold_2<br>fpr=%{x}<br>tpr=%{y}<br>threshold=%{customdata[0]}<extra></extra>\",\"legendgroup\":\"fold_2\",\"line\":{\"color\":\"#00cc96\",\"dash\":\"solid\"},\"marker\":{\"symbol\":\"circle\"},\"mode\":\"lines\",\"name\":\"fold_2\",\"orientation\":\"v\",\"showlegend\":true,\"x\":[6.573325445342799e-05,0.00010517320712548478,0.00013803983435219878,0.00015118648524288438,0.00015118648524288438,0.00015118648524288438,0.00015118648524288438,0.00015775981068822718,0.00017747978702425558,0.00018405311246959838,0.00021691973969631235,0.00023006639058699796,0.00028265299414974033,0.00029579964504042593,0.00032209294682179713,0.00034838624860316833,0.00035495957404851116,0.00035495957404851116,0.00038125287582988236,0.00038125287582988236,0.00040097285216591074,0.0004338394793926247,0.0004732794320646815,0.0005061460592913955,0.0005258660356274239,0.0005390126865181095,0.0005587326628541379,0.0006178925918622231,0.0006573325445342799,0.0007033458226516795,0.0007230657989877079,0.0007493591007690791,0.0007822257279957931,0.0008545323078945639,0.0009268388877933346,0.0009859988168014198,0.0010385854203641622,0.0010911720239269046,0.00115033195293499,0.0012357851837244461,0.0013015184381778742,0.0013606783671859593,0.0014527049234207587,0.0015184381778741865,0.0016499046867810426,0.0017747978702425558,0.00192598435548544,0.0020705975152829816,0.0020705975152829816,0.002267797278643266,0.002484717018339578,0.0027016367580358904,0.0028199566160520607,0.0030565963320844016,0.0033129560244527707,0.003582462367711825,0.003937421941760336,0.00429895484125419,0.0048774074804443564,0.0048774074804443564,0.005409846841517124,0.0061723525931768886,0.007007164924735423,0.00815092355222507,0.009689081706435286,0.011661079340038126,0.0144218760270821,0.018096364951028725,0.022842305922566225,0.029415631367909024,0.03802668770130809,0.04985867350292513,0.06465522908039177,0.08175244856372839,0.1032866627226714,0.12894235193584436,0.1581607835403931,0.19165845000985998,0.22880431210149216,0.2687043975547229,0.31127982646420826,0.35524880036810624,0.3981726155261947,0.43999868533491093,0.48125287582988235,0.5178071386314337,0.5452902123184119,0.5647866955892986,0.5787681588115428,1.0],\"xaxis\":\"x\",\"y\":[0.38575560375994217,0.4328994938539407,0.4702819956616052,0.4767895878524946,0.4836587129428778,0.49139551699204626,0.49884309472161964,0.5059291395516992,0.514172089660159,0.5207519884309472,0.5281995661605207,0.5352133044107014,0.5426608821402747,0.5511930585683297,0.5605206073752711,0.5690527838033261,0.577295733911786,0.577295733911786,0.5853940708604483,0.5934924078091106,0.6013015184381779,0.6083875632682574,0.6171366594360087,0.6259580621836587,0.6344902386117137,0.6446131597975415,0.6511930585683298,0.6579898770788142,0.6670281995661606,0.6753434562545192,0.6837310195227766,0.691467823571945,0.6997830802603037,0.7086044830079538,0.7162689804772234,0.724295010845987,0.7322487346348517,0.7403470715835141,0.748879248011569,0.7550253073029646,0.7632682574114245,0.7715112075198843,0.7797541576283442,0.7895155459146782,0.7977584960231381,0.8054229934924078,0.8141720896601591,0.8208966015907447,0.8208966015907447,0.8283441793203181,0.835936370209689,0.8428054953000723,0.8496023138105567,0.8561099060014461,0.8631959508315257,0.8700650759219088,0.8767895878524946,0.8853940708604483,0.8925524222704266,0.8925524222704266,0.8998553868402025,0.9060014461315979,0.9124367317425885,0.9177874186550976,0.9237888647866956,0.9292841648590021,0.9347071583514099,0.9395516992046277,0.944179320318149,0.9496023138105567,0.9540130151843818,0.9588575560375994,0.9631959508315256,0.9676789587852495,0.9717281272595806,0.9749096167751266,0.9771511207519884,0.979175704989154,0.9812725958062184,0.9830802603036877,0.9855386840202458,0.9875632682574115,0.9894432393347795,0.9906001446131598,0.9916847433116414,0.9924801156905279,0.9934201012292119,0.9938539407086044,0.9939262472885032,1.0],\"yaxis\":\"y\",\"type\":\"scatter\"},{\"customdata\":[[0.0],[0.1],[0.16],[0.17],[0.18],[0.19],[0.2],[0.21],[0.22],[0.23],[0.24],[0.25],[0.26],[0.27],[0.28],[0.29],[0.3],[0.30000000000000004],[0.31],[0.32],[0.33],[0.34],[0.35],[0.36],[0.37],[0.38],[0.39],[0.4],[0.41],[0.42],[0.43],[0.44],[0.45],[0.46],[0.47],[0.48],[0.49],[0.5],[0.51],[0.52],[0.53],[0.54],[0.55],[0.56],[0.57],[0.58],[0.59],[0.6],[0.6000000000000001],[0.61],[0.62],[0.63],[0.64],[0.65],[0.66],[0.67],[0.68],[0.69],[0.7],[0.7000000000000001],[0.71],[0.72],[0.73],[0.74],[0.75],[0.76],[0.77],[0.78],[0.79],[0.8],[0.81],[0.82],[0.83],[0.84],[0.85],[0.86],[0.87],[0.88],[0.89],[0.9],[0.91],[0.92],[0.93],[0.94],[0.95],[0.96],[0.97],[0.98],[0.99],[1.0]],\"hovertemplate\":\"fold=fold_3<br>fpr=%{x}<br>tpr=%{y}<br>threshold=%{customdata[0]}<extra></extra>\",\"legendgroup\":\"fold_3\",\"line\":{\"color\":\"#ab63fa\",\"dash\":\"solid\"},\"marker\":{\"symbol\":\"circle\"},\"mode\":\"lines\",\"name\":\"fold_3\",\"orientation\":\"v\",\"showlegend\":true,\"x\":[7.394991126010648e-05,0.00010845986984815618,0.00013310984026819169,0.00014296982843620587,0.00015282981660422009,0.00015282981660422009,0.00015775981068822718,0.00016761979885624137,0.00018240978110826267,0.00020705975152829817,0.00023170972194833366,0.00024649970420035494,0.00028593965687241174,0.000300729639124433,0.00032537960954446855,0.0003450995858804969,0.00035988956813251825,0.00035988956813251825,0.0003845395385525537,0.0003894695326365608,0.00041411950305659634,0.00044369946756063895,0.0004831394202326957,0.0005176493788207454,0.0005373693551567738,0.0005570893314928023,0.0005768093078288306,0.0006261092486689016,0.0006556892131729442,0.000695129165845001,0.0007148491421810294,0.0007542890948530862,0.0007838690593571288,0.0008627489647012424,0.0009219088937093275,0.0009761388286334057,0.0010550187339775192,0.0011043186748175902,0.0011684085979096826,0.001247288503253796,0.0013113784263458885,0.0013656083612699666,0.001449418260698087,0.0015135081837901795,0.0016268980477223427,0.0017501478998225202,0.0019029777164267403,0.002041017550778939,0.002041017550778939,0.002223427331887202,0.0024206270952474855,0.002622756852691777,0.0027657266811279826,0.002977716426740288,0.0032488661013606785,0.003520015775981069,0.0039045553145336228,0.004254584894498126,0.004801814237822915,0.004801814237822915,0.005324393610727667,0.006004732794320647,0.006832971800433839,0.007907710510747387,0.00939656872411753,0.01143758627489647,0.014139223032932361,0.01783178860185368,0.022653322816012622,0.02918063498323802,0.03795109445868665,0.04954644054427135,0.06415401301518438,0.08151252218497337,0.10330802603036876,0.12913133504239796,0.1587605994872806,0.19231906921711694,0.22980181423782292,0.2699122461053047,0.3120735555117334,0.3559159929008085,0.3989647012423585,0.4407759810688227,0.48157661210806546,0.5190790771051075,0.5471701833957799,0.5672401893117728,0.5825823309012029,1.0],\"xaxis\":\"x\",\"y\":[0.38481561822125815,0.431941431670282,0.46963123644251625,0.476409978308026,0.48329718004338396,0.49088937093275486,0.49837310195227763,0.5058026030368764,0.5141540130151844,0.5209869848156182,0.528470715835141,0.5359544468546638,0.5431127982646421,0.5517353579175704,0.5605748373101952,0.568709327548807,0.5773861171366594,0.5773861171366594,0.5863882863340564,0.5947396963123645,0.6022776572668113,0.6095444685466378,0.618058568329718,0.6266811279826464,0.6350867678958785,0.6450650759219089,0.6522234273318872,0.6591106290672452,0.668058568329718,0.6764642082429501,0.6842733188720174,0.6914859002169197,0.6995661605206074,0.7085683297180043,0.7164316702819956,0.7249457700650759,0.7325379609544469,0.7404013015184382,0.749349240780911,0.7559652928416486,0.7641540130151844,0.7729934924078091,0.7818329718004339,0.791648590021692,0.7994034707158352,0.8073210412147506,0.8154555314533622,0.8223969631236443,0.8223969631236443,0.8298264642082429,0.8372559652928416,0.8442516268980477,0.8514642082429501,0.858297180043384,0.8656724511930586,0.8722885032537961,0.8792841648590022,0.8873644251626898,0.8945770065075922,0.8945770065075922,0.9014642082429501,0.9080802603036876,0.9143709327548807,0.9199023861171367,0.9261388286334057,0.9317787418655098,0.9369305856832972,0.9418655097613883,0.9461496746203905,0.9514642082429501,0.9559110629067246,0.9603036876355748,0.9646963123644252,0.9689804772234273,0.9726681127982646,0.9757592190889371,0.9781453362255965,0.9799891540130152,0.9821041214750542,0.9839479392624729,0.986117136659436,0.9880694143167028,0.9898590021691974,0.9912689804772234,0.9921908893709328,0.993112798264642,0.9940347071583514,0.99441431670282,0.9944685466377441,1.0],\"yaxis\":\"y\",\"type\":\"scatter\"},{\"customdata\":[[0.0],[0.1],[0.16],[0.17],[0.18],[0.19],[0.2],[0.21],[0.22],[0.23],[0.24],[0.25],[0.26],[0.27],[0.28],[0.29],[0.3],[0.30000000000000004],[0.31],[0.32],[0.33],[0.34],[0.35],[0.36],[0.37],[0.38],[0.39],[0.4],[0.41],[0.42],[0.43],[0.44],[0.45],[0.46],[0.47],[0.48],[0.49],[0.5],[0.51],[0.52],[0.53],[0.54],[0.55],[0.56],[0.57],[0.58],[0.59],[0.6],[0.6000000000000001],[0.61],[0.62],[0.63],[0.64],[0.65],[0.66],[0.67],[0.68],[0.69],[0.7],[0.7000000000000001],[0.71],[0.72],[0.73],[0.74],[0.75],[0.76],[0.77],[0.78],[0.79],[0.8],[0.81],[0.82],[0.83],[0.84],[0.85],[0.86],[0.87],[0.88],[0.89],[0.9],[0.91],[0.92],[0.93],[0.94],[0.95],[0.96],[0.97],[0.98],[0.99],[1.0]],\"hovertemplate\":\"fold=fold_4<br>fpr=%{x}<br>tpr=%{y}<br>threshold=%{customdata[0]}<extra></extra>\",\"legendgroup\":\"fold_4\",\"line\":{\"color\":\"#FFA15A\",\"dash\":\"solid\"},\"marker\":{\"symbol\":\"circle\"},\"mode\":\"lines\",\"name\":\"fold_4\",\"orientation\":\"v\",\"showlegend\":true,\"x\":[8.282390061131926e-05,0.0001143758627489647,0.00014198382961940446,0.0001498718201538158,0.00016564780122263852,0.00016564780122263852,0.0001695917964898442,0.00017747978702425558,0.0001932557680930783,0.00021691973969631235,0.00023663971603234076,0.0002484717018339578,0.00028396765923880893,0.0002997436403076316,0.00032340761191086573,0.0003431275882468941,0.0003628475645829225,0.0003628475645829225,0.0003865115361861566,0.0003983435219877736,0.000418063498323802,0.00045355945572865314,0.00048511141786629857,0.0005206073752711496,0.0005363833563399724,0.0005639913232104121,0.0005876552948136462,0.000627095247485703,0.0006625912048905541,0.0006941431670281996,0.0007178071386314337,0.0007611910865706961,0.0007927430487083416,0.0008637349635180438,0.0009150069019917176,0.0009662788404653914,0.0010530467363439164,0.0011043186748175902,0.001167422599092881,0.0012463025044369947,0.0013212384145139026,0.0013725103529875764,0.001463222244133307,0.0015302701636758036,0.001636758035890357,0.0017629658844409387,0.0019049497140603432,0.0020351015578781305,0.0020351015578781305,0.002204693354367975,0.0024018931177282586,0.0025833169000197198,0.002733188720173536,0.002942220469335437,0.0032025241569710117,0.0034588838493393808,0.0038335633997239205,0.004200354959574049,0.0047367383159140205,0.0047367383159140205,0.005245513705383554,0.005912048905541313,0.006748175902188918,0.007793334647998422,0.00929205284953658,0.011271938473673832,0.013961743245908105,0.017527114967462037,0.022334845198185762,0.028822717412739104,0.03766515480181424,0.04944981266022481,0.06448432261881286,0.08220469335436797,0.10456320252415698,0.1310471307434431,0.16134095839084994,0.19553145336225597,0.2331768881877342,0.273346479984224,0.31506211792545846,0.35803589035693156,0.3999053441135871,0.440729639124433,0.48018536777755866,0.5165766121080655,0.5441964109643068,0.5642516268980478,0.579865904160915,1.0],\"xaxis\":\"x\",\"y\":[0.37982646420824295,0.4264642082429501,0.46338394793926246,0.470412147505423,0.4771366594360087,0.48425162689804774,0.49162689804772236,0.49882863340563993,0.5068980477223427,0.5135791757049891,0.5212581344902386,0.5281995661605207,0.535704989154013,0.5439045553145336,0.5520607375271149,0.5604772234273319,0.5686767895878525,0.5686767895878525,0.5776572668112798,0.5855965292841648,0.5932754880694143,0.6009544468546638,0.6091973969631237,0.6176138828633405,0.6253796095444686,0.6346203904555314,0.641995661605206,0.6491540130151844,0.6577874186550976,0.6655531453362256,0.6731453362255966,0.6805639913232104,0.6884598698481562,0.6973101952277657,0.7053796095444685,0.7135791757049892,0.7207809110629068,0.7284164859002169,0.7372668112798265,0.7440780911062906,0.7526247288503254,0.7616485900216919,0.7707592190889371,0.7808242950108459,0.7887201735357917,0.7964859002169198,0.8043383947939262,0.8120173535791757,0.8120173535791757,0.820173535791757,0.827765726681128,0.834880694143167,0.8422125813449024,0.8495444685466378,0.856702819956616,0.86412147505423,0.871236442516269,0.8796963123644251,0.887939262472885,0.887939262472885,0.8948373101952277,0.9019088937093276,0.9082429501084599,0.9143167028199566,0.9210845986984816,0.9268546637744035,0.9325379609544469,0.9372234273318872,0.9418655097613883,0.9474620390455532,0.9526681127982647,0.957353579175705,0.9619956616052061,0.9667245119305857,0.9708459869848156,0.9737960954446855,0.9761388286334056,0.978351409978308,0.980997830802603,0.9829934924078091,0.9851626898047723,0.9872451193058568,0.9892407809110629,0.9908459869848156,0.9917570498915401,0.992885032537961,0.9938394793926247,0.9941865509761388,0.9942299349240781,1.0],\"yaxis\":\"y\",\"type\":\"scatter\"},{\"customdata\":[[0.0],[0.1],[0.16],[0.17],[0.18],[0.19],[0.2],[0.21000000000000002],[0.22000000000000003],[0.23000000000000004],[0.24],[0.25],[0.26],[0.27],[0.28],[0.29],[0.3],[0.30000000000000004],[0.31],[0.32],[0.33],[0.34],[0.35],[0.36],[0.37],[0.38],[0.39],[0.4],[0.41],[0.42000000000000004],[0.43],[0.44000000000000006],[0.45],[0.4600000000000001],[0.4699999999999999],[0.48],[0.49000000000000005],[0.5],[0.51],[0.52],[0.53],[0.54],[0.55],[0.56],[0.57],[0.58],[0.59],[0.6],[0.6000000000000001],[0.61],[0.62],[0.63],[0.64],[0.65],[0.66],[0.67],[0.68],[0.69],[0.7],[0.7000000000000001],[0.71],[0.72],[0.73],[0.74],[0.75],[0.76],[0.77],[0.78],[0.79],[0.8],[0.8100000000000002],[0.82],[0.8299999999999998],[0.8400000000000001],[0.85],[0.86],[0.8699999999999999],[0.8800000000000001],[0.89],[0.9],[0.9099999999999999],[0.9200000000000002],[0.93],[0.9399999999999998],[0.95],[0.96],[0.97],[0.9800000000000001],[0.99],[1.0]],\"hovertemplate\":\"fold=fold_mean<br>fpr=%{x}<br>tpr=%{y}<br>threshold=%{customdata[0]}<extra></extra>\",\"legendgroup\":\"fold_mean\",\"line\":{\"color\":\"#19d3f3\",\"dash\":\"solid\"},\"marker\":{\"symbol\":\"circle\"},\"mode\":\"lines\",\"name\":\"fold_mean\",\"orientation\":\"v\",\"showlegend\":true,\"x\":[6.816538486820482e-05,0.0001030697429829751,0.0001378426345888385,0.00015190955104187208,0.00015703674488923947,0.00015703674488923947,0.00015881154275948202,0.00016564780122263852,0.00018950897258923288,0.00020048642608295537,0.00022382173141392232,0.00023571945046999275,0.00028094392953395124,0.00030151843817787416,0.0003243278774732137,0.00035127851179911915,0.00035949516860579766,0.00035949516860579766,0.0003862486031683429,0.00038960099914546773,0.00041030697429829746,0.0004417274699270361,0.00047367383159140205,0.0005080523236705448,0.0005269835009531321,0.0005449944126733714,0.0005635311904292383,0.0006207191218037206,0.0006593702754223362,0.0007064352856109906,0.0007190560704660488,0.0007507394991126011,0.0007754552027870899,0.0008455268520344443,0.0009116545060145927,0.00095839084993098,0.0010355616906593044,0.0010977453493722475,0.0011567080786169723,0.001242818641950963,0.0013054624334450798,0.0013660027607966872,0.0014508643922960627,0.0015079865904160915,0.0016295273779004798,0.0017300335239597714,0.0018921974626963781,0.0020161703805955432,0.0020161703805955432,0.0022009465588641295,0.0024316702819956616,0.0026523368171958188,0.0027878130546243342,0.002994281206862552,0.0032366397160323405,0.0034985867350292516,0.0038614342996121736,0.004209228948925261,0.004754617761125354,0.004754617761125354,0.005305988299480707,0.006070991914809702,0.006965227108394136,0.00806560178794452,0.009631367909025176,0.011713403010583054,0.014483665286268321,0.018155064747255638,0.0229922434759745,0.029631302175770723,0.03844146453690923,0.050281732728587394,0.06546013278117399,0.08308131203575889,0.10557411424439625,0.1321586143429961,0.1623000723065799,0.1967596134884638,0.23465319134950374,0.27525596529284163,0.3181741273910471,0.361736015250115,0.4042990863077631,0.44497922829159264,0.48477335173864455,0.5199747584302898,0.5463650824952343,0.5649942154736081,0.5786416222967199,1.0],\"xaxis\":\"x\",\"y\":[0.3820968908170643,0.4289551699204628,0.4670151843817788,0.4733991323210412,0.48042371655820676,0.4882313810556761,0.4956861894432393,0.5032400578452639,0.5117736804049169,0.5186992046276211,0.5261930585683297,0.5334960231381055,0.5404128705712219,0.5486941431670281,0.5577765726681128,0.5665459146782357,0.5744548083875632,0.5744548083875632,0.5830983369486622,0.5912733188720173,0.5988069414316703,0.6061851048445408,0.6139544468546638,0.6227274041937816,0.6310086767895878,0.6407816341287057,0.647650759219089,0.6545307302964569,0.663477223427332,0.6719754157628344,0.6797700650759219,0.6870853217642805,0.695761388286334,0.7050874909616776,0.7124533622559653,0.7208720173535792,0.7289790310918294,0.7369305856832972,0.7459493853940709,0.7521851048445408,0.7602176428054953,0.7682805495300074,0.7769898770788142,0.7874302241503977,0.7954627621113521,0.8031691973969632,0.8115437454808386,0.8190231381055675,0.8190231381055675,0.826406362979031,0.8339443239334778,0.8406131597975415,0.8475495300072307,0.8541352133044107,0.8616261749819234,0.8687136659436009,0.8755271149674619,0.8836579898770788,0.8905668835864062,0.8905668835864062,0.8980166305133768,0.9044128705712218,0.9111966738973247,0.9170824295010845,0.9234649313087491,0.929297180043384,0.934479392624729,0.9392812725958063,0.9438575560375995,0.9494237165582067,0.954123644251627,0.9590990600144613,0.9633355025307303,0.9680303687635575,0.9719421547360809,0.9750231381055675,0.9774150397686189,0.9792169197396964,0.9813261026753434,0.983236442516269,0.9855285610990598,0.9875213304410702,0.9894352856109906,0.9906167751265367,0.9916341287057122,0.9925719450469993,0.9935473608098337,0.9940397686189442,0.9940303687635575,1.0],\"yaxis\":\"y\",\"type\":\"scatter\"}],                        {\"template\":{\"data\":{\"histogram2dcontour\":[{\"type\":\"histogram2dcontour\",\"colorbar\":{\"outlinewidth\":0,\"ticks\":\"\"},\"colorscale\":[[0.0,\"#0d0887\"],[0.1111111111111111,\"#46039f\"],[0.2222222222222222,\"#7201a8\"],[0.3333333333333333,\"#9c179e\"],[0.4444444444444444,\"#bd3786\"],[0.5555555555555556,\"#d8576b\"],[0.6666666666666666,\"#ed7953\"],[0.7777777777777778,\"#fb9f3a\"],[0.8888888888888888,\"#fdca26\"],[1.0,\"#f0f921\"]]}],\"choropleth\":[{\"type\":\"choropleth\",\"colorbar\":{\"outlinewidth\":0,\"ticks\":\"\"}}],\"histogram2d\":[{\"type\":\"histogram2d\",\"colorbar\":{\"outlinewidth\":0,\"ticks\":\"\"},\"colorscale\":[[0.0,\"#0d0887\"],[0.1111111111111111,\"#46039f\"],[0.2222222222222222,\"#7201a8\"],[0.3333333333333333,\"#9c179e\"],[0.4444444444444444,\"#bd3786\"],[0.5555555555555556,\"#d8576b\"],[0.6666666666666666,\"#ed7953\"],[0.7777777777777778,\"#fb9f3a\"],[0.8888888888888888,\"#fdca26\"],[1.0,\"#f0f921\"]]}],\"heatmap\":[{\"type\":\"heatmap\",\"colorbar\":{\"outlinewidth\":0,\"ticks\":\"\"},\"colorscale\":[[0.0,\"#0d0887\"],[0.1111111111111111,\"#46039f\"],[0.2222222222222222,\"#7201a8\"],[0.3333333333333333,\"#9c179e\"],[0.4444444444444444,\"#bd3786\"],[0.5555555555555556,\"#d8576b\"],[0.6666666666666666,\"#ed7953\"],[0.7777777777777778,\"#fb9f3a\"],[0.8888888888888888,\"#fdca26\"],[1.0,\"#f0f921\"]]}],\"heatmapgl\":[{\"type\":\"heatmapgl\",\"colorbar\":{\"outlinewidth\":0,\"ticks\":\"\"},\"colorscale\":[[0.0,\"#0d0887\"],[0.1111111111111111,\"#46039f\"],[0.2222222222222222,\"#7201a8\"],[0.3333333333333333,\"#9c179e\"],[0.4444444444444444,\"#bd3786\"],[0.5555555555555556,\"#d8576b\"],[0.6666666666666666,\"#ed7953\"],[0.7777777777777778,\"#fb9f3a\"],[0.8888888888888888,\"#fdca26\"],[1.0,\"#f0f921\"]]}],\"contourcarpet\":[{\"type\":\"contourcarpet\",\"colorbar\":{\"outlinewidth\":0,\"ticks\":\"\"}}],\"contour\":[{\"type\":\"contour\",\"colorbar\":{\"outlinewidth\":0,\"ticks\":\"\"},\"colorscale\":[[0.0,\"#0d0887\"],[0.1111111111111111,\"#46039f\"],[0.2222222222222222,\"#7201a8\"],[0.3333333333333333,\"#9c179e\"],[0.4444444444444444,\"#bd3786\"],[0.5555555555555556,\"#d8576b\"],[0.6666666666666666,\"#ed7953\"],[0.7777777777777778,\"#fb9f3a\"],[0.8888888888888888,\"#fdca26\"],[1.0,\"#f0f921\"]]}],\"surface\":[{\"type\":\"surface\",\"colorbar\":{\"outlinewidth\":0,\"ticks\":\"\"},\"colorscale\":[[0.0,\"#0d0887\"],[0.1111111111111111,\"#46039f\"],[0.2222222222222222,\"#7201a8\"],[0.3333333333333333,\"#9c179e\"],[0.4444444444444444,\"#bd3786\"],[0.5555555555555556,\"#d8576b\"],[0.6666666666666666,\"#ed7953\"],[0.7777777777777778,\"#fb9f3a\"],[0.8888888888888888,\"#fdca26\"],[1.0,\"#f0f921\"]]}],\"mesh3d\":[{\"type\":\"mesh3d\",\"colorbar\":{\"outlinewidth\":0,\"ticks\":\"\"}}],\"scatter\":[{\"fillpattern\":{\"fillmode\":\"overlay\",\"size\":10,\"solidity\":0.2},\"type\":\"scatter\"}],\"parcoords\":[{\"type\":\"parcoords\",\"line\":{\"colorbar\":{\"outlinewidth\":0,\"ticks\":\"\"}}}],\"scatterpolargl\":[{\"type\":\"scatterpolargl\",\"marker\":{\"colorbar\":{\"outlinewidth\":0,\"ticks\":\"\"}}}],\"bar\":[{\"error_x\":{\"color\":\"#2a3f5f\"},\"error_y\":{\"color\":\"#2a3f5f\"},\"marker\":{\"line\":{\"color\":\"#E5ECF6\",\"width\":0.5},\"pattern\":{\"fillmode\":\"overlay\",\"size\":10,\"solidity\":0.2}},\"type\":\"bar\"}],\"scattergeo\":[{\"type\":\"scattergeo\",\"marker\":{\"colorbar\":{\"outlinewidth\":0,\"ticks\":\"\"}}}],\"scatterpolar\":[{\"type\":\"scatterpolar\",\"marker\":{\"colorbar\":{\"outlinewidth\":0,\"ticks\":\"\"}}}],\"histogram\":[{\"marker\":{\"pattern\":{\"fillmode\":\"overlay\",\"size\":10,\"solidity\":0.2}},\"type\":\"histogram\"}],\"scattergl\":[{\"type\":\"scattergl\",\"marker\":{\"colorbar\":{\"outlinewidth\":0,\"ticks\":\"\"}}}],\"scatter3d\":[{\"type\":\"scatter3d\",\"line\":{\"colorbar\":{\"outlinewidth\":0,\"ticks\":\"\"}},\"marker\":{\"colorbar\":{\"outlinewidth\":0,\"ticks\":\"\"}}}],\"scattermapbox\":[{\"type\":\"scattermapbox\",\"marker\":{\"colorbar\":{\"outlinewidth\":0,\"ticks\":\"\"}}}],\"scatterternary\":[{\"type\":\"scatterternary\",\"marker\":{\"colorbar\":{\"outlinewidth\":0,\"ticks\":\"\"}}}],\"scattercarpet\":[{\"type\":\"scattercarpet\",\"marker\":{\"colorbar\":{\"outlinewidth\":0,\"ticks\":\"\"}}}],\"carpet\":[{\"aaxis\":{\"endlinecolor\":\"#2a3f5f\",\"gridcolor\":\"white\",\"linecolor\":\"white\",\"minorgridcolor\":\"white\",\"startlinecolor\":\"#2a3f5f\"},\"baxis\":{\"endlinecolor\":\"#2a3f5f\",\"gridcolor\":\"white\",\"linecolor\":\"white\",\"minorgridcolor\":\"white\",\"startlinecolor\":\"#2a3f5f\"},\"type\":\"carpet\"}],\"table\":[{\"cells\":{\"fill\":{\"color\":\"#EBF0F8\"},\"line\":{\"color\":\"white\"}},\"header\":{\"fill\":{\"color\":\"#C8D4E3\"},\"line\":{\"color\":\"white\"}},\"type\":\"table\"}],\"barpolar\":[{\"marker\":{\"line\":{\"color\":\"#E5ECF6\",\"width\":0.5},\"pattern\":{\"fillmode\":\"overlay\",\"size\":10,\"solidity\":0.2}},\"type\":\"barpolar\"}],\"pie\":[{\"automargin\":true,\"type\":\"pie\"}]},\"layout\":{\"autotypenumbers\":\"strict\",\"colorway\":[\"#636efa\",\"#EF553B\",\"#00cc96\",\"#ab63fa\",\"#FFA15A\",\"#19d3f3\",\"#FF6692\",\"#B6E880\",\"#FF97FF\",\"#FECB52\"],\"font\":{\"color\":\"#2a3f5f\"},\"hovermode\":\"closest\",\"hoverlabel\":{\"align\":\"left\"},\"paper_bgcolor\":\"white\",\"plot_bgcolor\":\"#E5ECF6\",\"polar\":{\"bgcolor\":\"#E5ECF6\",\"angularaxis\":{\"gridcolor\":\"white\",\"linecolor\":\"white\",\"ticks\":\"\"},\"radialaxis\":{\"gridcolor\":\"white\",\"linecolor\":\"white\",\"ticks\":\"\"}},\"ternary\":{\"bgcolor\":\"#E5ECF6\",\"aaxis\":{\"gridcolor\":\"white\",\"linecolor\":\"white\",\"ticks\":\"\"},\"baxis\":{\"gridcolor\":\"white\",\"linecolor\":\"white\",\"ticks\":\"\"},\"caxis\":{\"gridcolor\":\"white\",\"linecolor\":\"white\",\"ticks\":\"\"}},\"coloraxis\":{\"colorbar\":{\"outlinewidth\":0,\"ticks\":\"\"}},\"colorscale\":{\"sequential\":[[0.0,\"#0d0887\"],[0.1111111111111111,\"#46039f\"],[0.2222222222222222,\"#7201a8\"],[0.3333333333333333,\"#9c179e\"],[0.4444444444444444,\"#bd3786\"],[0.5555555555555556,\"#d8576b\"],[0.6666666666666666,\"#ed7953\"],[0.7777777777777778,\"#fb9f3a\"],[0.8888888888888888,\"#fdca26\"],[1.0,\"#f0f921\"]],\"sequentialminus\":[[0.0,\"#0d0887\"],[0.1111111111111111,\"#46039f\"],[0.2222222222222222,\"#7201a8\"],[0.3333333333333333,\"#9c179e\"],[0.4444444444444444,\"#bd3786\"],[0.5555555555555556,\"#d8576b\"],[0.6666666666666666,\"#ed7953\"],[0.7777777777777778,\"#fb9f3a\"],[0.8888888888888888,\"#fdca26\"],[1.0,\"#f0f921\"]],\"diverging\":[[0,\"#8e0152\"],[0.1,\"#c51b7d\"],[0.2,\"#de77ae\"],[0.3,\"#f1b6da\"],[0.4,\"#fde0ef\"],[0.5,\"#f7f7f7\"],[0.6,\"#e6f5d0\"],[0.7,\"#b8e186\"],[0.8,\"#7fbc41\"],[0.9,\"#4d9221\"],[1,\"#276419\"]]},\"xaxis\":{\"gridcolor\":\"white\",\"linecolor\":\"white\",\"ticks\":\"\",\"title\":{\"standoff\":15},\"zerolinecolor\":\"white\",\"automargin\":true,\"zerolinewidth\":2},\"yaxis\":{\"gridcolor\":\"white\",\"linecolor\":\"white\",\"ticks\":\"\",\"title\":{\"standoff\":15},\"zerolinecolor\":\"white\",\"automargin\":true,\"zerolinewidth\":2},\"scene\":{\"xaxis\":{\"backgroundcolor\":\"#E5ECF6\",\"gridcolor\":\"white\",\"linecolor\":\"white\",\"showbackground\":true,\"ticks\":\"\",\"zerolinecolor\":\"white\",\"gridwidth\":2},\"yaxis\":{\"backgroundcolor\":\"#E5ECF6\",\"gridcolor\":\"white\",\"linecolor\":\"white\",\"showbackground\":true,\"ticks\":\"\",\"zerolinecolor\":\"white\",\"gridwidth\":2},\"zaxis\":{\"backgroundcolor\":\"#E5ECF6\",\"gridcolor\":\"white\",\"linecolor\":\"white\",\"showbackground\":true,\"ticks\":\"\",\"zerolinecolor\":\"white\",\"gridwidth\":2}},\"shapedefaults\":{\"line\":{\"color\":\"#2a3f5f\"}},\"annotationdefaults\":{\"arrowcolor\":\"#2a3f5f\",\"arrowhead\":0,\"arrowwidth\":1},\"geo\":{\"bgcolor\":\"white\",\"landcolor\":\"#E5ECF6\",\"subunitcolor\":\"white\",\"showland\":true,\"showlakes\":true,\"lakecolor\":\"white\"},\"title\":{\"x\":0.05},\"mapbox\":{\"style\":\"light\"}}},\"xaxis\":{\"anchor\":\"y\",\"domain\":[0.0,1.0],\"title\":{\"text\":\"fpr\"}},\"yaxis\":{\"anchor\":\"x\",\"domain\":[0.0,1.0],\"title\":{\"text\":\"tpr\"}},\"legend\":{\"title\":{\"text\":\"fold\"},\"tracegroupgap\":0},\"title\":{\"text\":\"Threshold-Dynamic\"},\"height\":500,\"width\":500},                        {\"responsive\": true}                    ).then(function(){\n",
       "                            \n",
       "var gd = document.getElementById('c3dc6110-8fd1-4fd1-92fd-cd0e141af130');\n",
       "var x = new MutationObserver(function (mutations, observer) {{\n",
       "        var display = window.getComputedStyle(gd).display;\n",
       "        if (!display || display === 'none') {{\n",
       "            console.log([gd, 'removed!']);\n",
       "            Plotly.purge(gd);\n",
       "            observer.disconnect();\n",
       "        }}\n",
       "}});\n",
       "\n",
       "// Listen for the removal of the full notebook cells\n",
       "var notebookContainer = gd.closest('#notebook-container');\n",
       "if (notebookContainer) {{\n",
       "    x.observe(notebookContainer, {childList: true});\n",
       "}}\n",
       "\n",
       "// Listen for the clearing of the current output cell\n",
       "var outputEl = gd.closest('.output');\n",
       "if (outputEl) {{\n",
       "    x.observe(outputEl, {childList: true});\n",
       "}}\n",
       "\n",
       "                        })                };                });            </script>        </div>"
      ]
     },
     "metadata": {},
     "output_type": "display_data"
    }
   ],
   "source": [
    "# import validation data\n",
    "with open('valid_dict_species_unknown.pkl', 'rb') as f:\n",
    "    valid_dict_species_unknown = pickle.load(f)\n",
    "\n",
    "# open data\n",
    "with open('own_dynamic_valid_df_lst.pkl', 'rb') as f:\n",
    "    own_dynamic_valid_df_lst = pickle.load(f)\n",
    "\n",
    "df_lst = own_dynamic_valid_df_lst # cahnge data source here\n",
    "\n",
    "best_threshold_lst = []\n",
    "avg_mean_df = sum(df_lst)/len(df_lst)\n",
    "avg_mean_df['fold'] = 'fold_mean'\n",
    "for i in range(len(df_lst)):\n",
    "    df_lst[i]['fold'] = \"fold_\"+str(i)\n",
    "    # get best threshold\n",
    "    best_theshold = find_best_threshold(tpr=df_lst[i]['tpr'], fpr=df_lst[i]['fpr'] , thresholds=df_lst[i]['threshold'])\n",
    "    best_threshold_lst.append(best_theshold)\n",
    "joined_data_df = pd.concat(df_lst+[avg_mean_df])\n",
    "mean_best_threshold = np.mean(best_threshold_lst).round(2)\n",
    "\n",
    "# plot \n",
    "fig = px.line(joined_data_df, \n",
    "              x=\"fpr\", \n",
    "              y=\"tpr\", \n",
    "              color='fold',\n",
    "              hover_data=['threshold'], \n",
    "              height=500, \n",
    "              width=500,\n",
    "              title='Threshold-Dynamic')\n",
    "fig.show()\n",
    "\n",
    "f1_score_lst = []\n",
    "for fold in range(1,6):\n",
    "    og_data_df = valid_dict_species_unknown['fold_'+str(fold)]\n",
    "    og_data_df['Unknown'] = og_data_df.iloc[:,2:].apply(unknown_prob_calc, axis=1, args=(mean_best_threshold, 1, 'dynamic'))\n",
    "    og_data_df['pred'] = og_data_df.iloc[:,2:].idxmax(axis=1)\n",
    "    og_data_df.loc[og_data_df['pred'] != 'Unknown', 'pred'] = \"Known\"\n",
    "    f1_score_val = f1_score(y_true=og_data_df['true'], y_pred=og_data_df['pred'], average='weighted')\n",
    "    f1_score_lst.append(f1_score_val)\n",
    "    \n",
    "print(\"Best Mean Threshold: \", mean_best_threshold)\n",
    "print(\"Best Mean F1-Score: \", np.mean(f1_score_lst))"
   ]
  },
  {
   "cell_type": "markdown",
   "id": "e6ab360f-da13-44d6-bb93-c342319a655c",
   "metadata": {},
   "source": [
    "### Basic"
   ]
  },
  {
   "cell_type": "code",
   "execution_count": null,
   "id": "92e8ffbe-354d-441c-bf13-f1eaf33751e7",
   "metadata": {
    "tags": []
   },
   "outputs": [],
   "source": [
    "# import validation data\n",
    "with open('valid_dict_species_unknown.pkl', 'rb') as f:\n",
    "    valid_dict_species_unknown = pickle.load(f)\n",
    "\n",
    "# open data\n",
    "with open('threshold_valid_df_lst.pkl', 'rb') as f:\n",
    "    threshold_valid_df_lst = pickle.load(f)\n",
    "\n",
    "df_lst = threshold_valid_df_lst # cahnge data source here\n",
    "\n",
    "best_threshold_lst = []\n",
    "avg_mean_df = sum(df_lst)/len(df_lst)\n",
    "avg_mean_df['fold'] = 'fold_mean'\n",
    "for i in range(len(df_lst)):\n",
    "    df_lst[i]['fold'] = \"fold_\"+str(i)\n",
    "    # get best threshold\n",
    "    best_theshold = find_best_threshold(tpr=df_lst[i]['tpr'], fpr=df_lst[i]['fpr'] , thresholds=df_lst[i]['threshold'])\n",
    "    best_threshold_lst.append(best_theshold)\n",
    "joined_data_df = pd.concat(df_lst+[avg_mean_df])\n",
    "mean_best_threshold = np.mean(best_threshold_lst).round(2)\n",
    "\n",
    "# plot \n",
    "fig = px.line(joined_data_df, \n",
    "              x=\"fpr\", \n",
    "              y=\"tpr\", \n",
    "              color='fold',\n",
    "              hover_data=['threshold'], \n",
    "              height=500, \n",
    "              width=500,\n",
    "              title='Threshold-Basic')\n",
    "fig.show()\n",
    "\n",
    "f1_score_lst = []\n",
    "for fold in range(1,6):\n",
    "    og_data_df = valid_dict_species_unknown['fold_'+str(fold)]\n",
    "    og_data_df['Unknown'] = mean_best_threshold\n",
    "    og_data_df['pred'] = og_data_df.iloc[:,2:].idxmax(axis=1)\n",
    "    og_data_df.loc[og_data_df['pred'] != 'Unknown', 'pred'] = \"Known\"\n",
    "    f1_score_val = f1_score(y_true=og_data_df['true'], y_pred=og_data_df['pred'], average='weighted') # [None, 'micro', 'macro', 'weighted']\n",
    "    f1_score_lst.append(f1_score_val)\n",
    "    \n",
    "print(\"Best Mean Threshold: \", mean_best_threshold)\n",
    "print(\"Best Mean F1-Score: \", np.mean(f1_score_lst))"
   ]
  },
  {
   "cell_type": "markdown",
   "id": "f8fd464f-852c-4ab4-acfc-0bd910db59ad",
   "metadata": {
    "execution": {
     "iopub.execute_input": "2023-06-09T00:29:30.592180Z",
     "iopub.status.busy": "2023-06-09T00:29:30.591682Z",
     "iopub.status.idle": "2023-06-09T00:29:30.597182Z",
     "shell.execute_reply": "2023-06-09T00:29:30.596181Z",
     "shell.execute_reply.started": "2023-06-09T00:29:30.592180Z"
    },
    "tags": []
   },
   "source": [
    "# Test"
   ]
  },
  {
   "cell_type": "code",
   "execution_count": null,
   "id": "a80da455-11fd-4038-9ff0-dac0b6515c4f",
   "metadata": {},
   "outputs": [],
   "source": [
    "# import validation data\n",
    "with open('test_dict_species_unknown.pkl', 'rb') as f:\n",
    "    test_dict_species_unknown = pickle.load(f)\n",
    "\n",
    "# testing calculation\n",
    "own_dynamic_test_df_lst = []\n",
    "own_strict_test_df_lst = []\n",
    "threshold_test_df_lst = []\n",
    "for fold in range(1,6):\n",
    "    og_data_df = test_dict_species_unknown['fold_'+str(fold)]\n",
    "    own_dynamic_test_df = roc_calc(threshold_data_df = og_data_df.iloc[:,2:], true_col = og_data_df['true'],  method = \"own\", wedge_magnitude = 1, wedge='dynamic')\n",
    "    own_dynamic_test_df_lst.append(own_dynamic_test_df)\n",
    "    \n",
    "    threshold_test_df = roc_calc(threshold_data_df = og_data_df.iloc[:,2:], true_col = og_data_df['true'],  method = \"threshold\")\n",
    "    threshold_test_df_lst.append(threshold_test_df)\n",
    "    \n",
    "# save dict as pickle file        \n",
    "with open('own_dynamic_test_df_lst.pkl', 'wb') as f:\n",
    "    pickle.dump(own_dynamic_test_df_lst, f)\n",
    "    \n",
    "# save dict as pickle file        \n",
    "with open('threshold_test_df_lst.pkl', 'wb') as f:\n",
    "    pickle.dump(threshold_test_df_lst, f)"
   ]
  },
  {
   "cell_type": "markdown",
   "id": "f9195872-a52d-47e8-a0b6-46adba2eb1f0",
   "metadata": {},
   "source": [
    "### Dynamic"
   ]
  },
  {
   "cell_type": "code",
   "execution_count": 100,
   "id": "14817527-be69-48d1-b793-486828f65f29",
   "metadata": {
    "execution": {
     "iopub.execute_input": "2023-06-09T02:20:29.344685Z",
     "iopub.status.busy": "2023-06-09T02:20:29.344187Z",
     "iopub.status.idle": "2023-06-09T02:20:29.684691Z",
     "shell.execute_reply": "2023-06-09T02:20:29.683184Z",
     "shell.execute_reply.started": "2023-06-09T02:20:29.344685Z"
    },
    "tags": []
   },
   "outputs": [
    {
     "ename": "FileNotFoundError",
     "evalue": "[Errno 2] No such file or directory: 'own_dynamic_test_df_lst.pkl'",
     "output_type": "error",
     "traceback": [
      "\u001b[1;31m---------------------------------------------------------------------------\u001b[0m",
      "\u001b[1;31mFileNotFoundError\u001b[0m                         Traceback (most recent call last)",
      "Cell \u001b[1;32mIn[100], line 6\u001b[0m\n\u001b[0;32m      3\u001b[0m     test_dict_species_unknown \u001b[38;5;241m=\u001b[39m pickle\u001b[38;5;241m.\u001b[39mload(f)\n\u001b[0;32m      5\u001b[0m \u001b[38;5;66;03m# open data\u001b[39;00m\n\u001b[1;32m----> 6\u001b[0m \u001b[38;5;28;01mwith\u001b[39;00m \u001b[38;5;28;43mopen\u001b[39;49m\u001b[43m(\u001b[49m\u001b[38;5;124;43m'\u001b[39;49m\u001b[38;5;124;43mown_dynamic_test_df_lst.pkl\u001b[39;49m\u001b[38;5;124;43m'\u001b[39;49m\u001b[43m,\u001b[49m\u001b[43m \u001b[49m\u001b[38;5;124;43m'\u001b[39;49m\u001b[38;5;124;43mrb\u001b[39;49m\u001b[38;5;124;43m'\u001b[39;49m\u001b[43m)\u001b[49m \u001b[38;5;28;01mas\u001b[39;00m f:\n\u001b[0;32m      7\u001b[0m     own_dynamic_test_df_lst \u001b[38;5;241m=\u001b[39m pickle\u001b[38;5;241m.\u001b[39mload(f)\n\u001b[0;32m      9\u001b[0m df_lst \u001b[38;5;241m=\u001b[39m own_dynamic_test_df_lst \u001b[38;5;66;03m# cahnge data source here\u001b[39;00m\n",
      "File \u001b[1;32m~\\anaconda3\\envs\\tube_test\\lib\\site-packages\\IPython\\core\\interactiveshell.py:282\u001b[0m, in \u001b[0;36m_modified_open\u001b[1;34m(file, *args, **kwargs)\u001b[0m\n\u001b[0;32m    275\u001b[0m \u001b[38;5;28;01mif\u001b[39;00m file \u001b[38;5;129;01min\u001b[39;00m {\u001b[38;5;241m0\u001b[39m, \u001b[38;5;241m1\u001b[39m, \u001b[38;5;241m2\u001b[39m}:\n\u001b[0;32m    276\u001b[0m     \u001b[38;5;28;01mraise\u001b[39;00m \u001b[38;5;167;01mValueError\u001b[39;00m(\n\u001b[0;32m    277\u001b[0m         \u001b[38;5;124mf\u001b[39m\u001b[38;5;124m\"\u001b[39m\u001b[38;5;124mIPython won\u001b[39m\u001b[38;5;124m'\u001b[39m\u001b[38;5;124mt let you open fd=\u001b[39m\u001b[38;5;132;01m{\u001b[39;00mfile\u001b[38;5;132;01m}\u001b[39;00m\u001b[38;5;124m by default \u001b[39m\u001b[38;5;124m\"\u001b[39m\n\u001b[0;32m    278\u001b[0m         \u001b[38;5;124m\"\u001b[39m\u001b[38;5;124mas it is likely to crash IPython. If you know what you are doing, \u001b[39m\u001b[38;5;124m\"\u001b[39m\n\u001b[0;32m    279\u001b[0m         \u001b[38;5;124m\"\u001b[39m\u001b[38;5;124myou can use builtins\u001b[39m\u001b[38;5;124m'\u001b[39m\u001b[38;5;124m open.\u001b[39m\u001b[38;5;124m\"\u001b[39m\n\u001b[0;32m    280\u001b[0m     )\n\u001b[1;32m--> 282\u001b[0m \u001b[38;5;28;01mreturn\u001b[39;00m io_open(file, \u001b[38;5;241m*\u001b[39margs, \u001b[38;5;241m*\u001b[39m\u001b[38;5;241m*\u001b[39mkwargs)\n",
      "\u001b[1;31mFileNotFoundError\u001b[0m: [Errno 2] No such file or directory: 'own_dynamic_test_df_lst.pkl'"
     ]
    }
   ],
   "source": [
    "# import testation data\n",
    "with open('test_dict_species_unknown.pkl', 'rb') as f:\n",
    "    test_dict_species_unknown = pickle.load(f)\n",
    "\n",
    "# open data\n",
    "with open('own_dynamic_test_df_lst.pkl', 'rb') as f:\n",
    "    own_dynamic_test_df_lst = pickle.load(f)\n",
    "\n",
    "df_lst = own_dynamic_test_df_lst # cahnge data source here\n",
    "\n",
    "best_threshold_lst = []\n",
    "avg_mean_df = sum(df_lst)/len(df_lst)\n",
    "avg_mean_df['fold'] = 'fold_mean'\n",
    "for i in range(len(df_lst)):\n",
    "    df_lst[i]['fold'] = \"fold_\"+str(i)\n",
    "    # get best threshold\n",
    "    best_theshold = find_best_threshold(tpr=df_lst[i]['tpr'], fpr=df_lst[i]['fpr'] , thresholds=df_lst[i]['threshold'])\n",
    "    best_threshold_lst.append(best_theshold)\n",
    "joined_data_df = pd.concat(df_lst+[avg_mean_df])\n",
    "mean_best_threshold = np.mean(best_threshold_lst).round(2)\n",
    "\n",
    "# plot \n",
    "fig = px.line(joined_data_df, \n",
    "              x=\"fpr\", \n",
    "              y=\"tpr\", \n",
    "              color='fold',\n",
    "              hover_data=['threshold'], \n",
    "              height=500, \n",
    "              width=500,\n",
    "              title='Threshold-Dynamic')\n",
    "fig.show()\n",
    "\n",
    "f1_score_lst = []\n",
    "for fold in range(1,6):\n",
    "    og_data_df = test_dict_species_unknown['fold_'+str(fold)]\n",
    "    og_data_df['Unknown'] = og_data_df.iloc[:,2:].apply(unknown_prob_calc, axis=1, args=(mean_best_threshold, 1, 'dynamic'))\n",
    "    og_data_df['pred'] = og_data_df.iloc[:,2:].idxmax(axis=1)\n",
    "    og_data_df.loc[og_data_df['pred'] != 'Unknown', 'pred'] = \"Known\"\n",
    "    f1_score_val = f1_score(y_true=og_data_df['true'], y_pred=og_data_df['pred'], average='weighted')\n",
    "    f1_score_lst.append(f1_score_val)\n",
    "    \n",
    "print(\"Best Mean Threshold: \", mean_best_threshold)\n",
    "print(\"Best Mean F1-Score: \", np.mean(f1_score_lst))"
   ]
  },
  {
   "cell_type": "markdown",
   "id": "c6cf3c56-7e25-4fad-83bb-44753b735a9f",
   "metadata": {},
   "source": [
    "### Basic"
   ]
  },
  {
   "cell_type": "code",
   "execution_count": 116,
   "id": "227e2ae8-9ec1-462b-818f-52ca8868c81a",
   "metadata": {
    "execution": {
     "iopub.execute_input": "2023-06-09T02:33:07.865644Z",
     "iopub.status.busy": "2023-06-09T02:33:07.865644Z",
     "iopub.status.idle": "2023-06-09T02:33:08.059644Z",
     "shell.execute_reply": "2023-06-09T02:33:08.058146Z",
     "shell.execute_reply.started": "2023-06-09T02:33:07.865644Z"
    },
    "tags": []
   },
   "outputs": [
    {
     "ename": "FileNotFoundError",
     "evalue": "[Errno 2] No such file or directory: 'threshold_test_df_lst.pkl'",
     "output_type": "error",
     "traceback": [
      "\u001b[1;31m---------------------------------------------------------------------------\u001b[0m",
      "\u001b[1;31mFileNotFoundError\u001b[0m                         Traceback (most recent call last)",
      "Cell \u001b[1;32mIn[116], line 6\u001b[0m\n\u001b[0;32m      3\u001b[0m     test_dict_species_unknown \u001b[38;5;241m=\u001b[39m pickle\u001b[38;5;241m.\u001b[39mload(f)\n\u001b[0;32m      5\u001b[0m \u001b[38;5;66;03m# open data\u001b[39;00m\n\u001b[1;32m----> 6\u001b[0m \u001b[38;5;28;01mwith\u001b[39;00m \u001b[38;5;28;43mopen\u001b[39;49m\u001b[43m(\u001b[49m\u001b[38;5;124;43m'\u001b[39;49m\u001b[38;5;124;43mthreshold_test_df_lst.pkl\u001b[39;49m\u001b[38;5;124;43m'\u001b[39;49m\u001b[43m,\u001b[49m\u001b[43m \u001b[49m\u001b[38;5;124;43m'\u001b[39;49m\u001b[38;5;124;43mrb\u001b[39;49m\u001b[38;5;124;43m'\u001b[39;49m\u001b[43m)\u001b[49m \u001b[38;5;28;01mas\u001b[39;00m f:\n\u001b[0;32m      7\u001b[0m     threshold_test_df_lst \u001b[38;5;241m=\u001b[39m pickle\u001b[38;5;241m.\u001b[39mload(f)\n\u001b[0;32m      9\u001b[0m df_lst \u001b[38;5;241m=\u001b[39m threshold_test_df_lst \u001b[38;5;66;03m# cahnge data source here\u001b[39;00m\n",
      "File \u001b[1;32m~\\anaconda3\\envs\\tube_test\\lib\\site-packages\\IPython\\core\\interactiveshell.py:282\u001b[0m, in \u001b[0;36m_modified_open\u001b[1;34m(file, *args, **kwargs)\u001b[0m\n\u001b[0;32m    275\u001b[0m \u001b[38;5;28;01mif\u001b[39;00m file \u001b[38;5;129;01min\u001b[39;00m {\u001b[38;5;241m0\u001b[39m, \u001b[38;5;241m1\u001b[39m, \u001b[38;5;241m2\u001b[39m}:\n\u001b[0;32m    276\u001b[0m     \u001b[38;5;28;01mraise\u001b[39;00m \u001b[38;5;167;01mValueError\u001b[39;00m(\n\u001b[0;32m    277\u001b[0m         \u001b[38;5;124mf\u001b[39m\u001b[38;5;124m\"\u001b[39m\u001b[38;5;124mIPython won\u001b[39m\u001b[38;5;124m'\u001b[39m\u001b[38;5;124mt let you open fd=\u001b[39m\u001b[38;5;132;01m{\u001b[39;00mfile\u001b[38;5;132;01m}\u001b[39;00m\u001b[38;5;124m by default \u001b[39m\u001b[38;5;124m\"\u001b[39m\n\u001b[0;32m    278\u001b[0m         \u001b[38;5;124m\"\u001b[39m\u001b[38;5;124mas it is likely to crash IPython. If you know what you are doing, \u001b[39m\u001b[38;5;124m\"\u001b[39m\n\u001b[0;32m    279\u001b[0m         \u001b[38;5;124m\"\u001b[39m\u001b[38;5;124myou can use builtins\u001b[39m\u001b[38;5;124m'\u001b[39m\u001b[38;5;124m open.\u001b[39m\u001b[38;5;124m\"\u001b[39m\n\u001b[0;32m    280\u001b[0m     )\n\u001b[1;32m--> 282\u001b[0m \u001b[38;5;28;01mreturn\u001b[39;00m io_open(file, \u001b[38;5;241m*\u001b[39margs, \u001b[38;5;241m*\u001b[39m\u001b[38;5;241m*\u001b[39mkwargs)\n",
      "\u001b[1;31mFileNotFoundError\u001b[0m: [Errno 2] No such file or directory: 'threshold_test_df_lst.pkl'"
     ]
    }
   ],
   "source": [
    "# import testation data\n",
    "with open('test_dict_species_unknown.pkl', 'rb') as f:\n",
    "    test_dict_species_unknown = pickle.load(f)\n",
    "\n",
    "# open data\n",
    "with open('threshold_test_df_lst.pkl', 'rb') as f:\n",
    "    threshold_test_df_lst = pickle.load(f)\n",
    "\n",
    "df_lst = threshold_test_df_lst # cahnge data source here\n",
    "\n",
    "best_threshold_lst = []\n",
    "avg_mean_df = sum(df_lst)/len(df_lst)\n",
    "avg_mean_df['fold'] = 'fold_mean'\n",
    "for i in range(len(df_lst)):\n",
    "    df_lst[i]['fold'] = \"fold_\"+str(i)\n",
    "    # get best threshold\n",
    "    best_theshold = find_best_threshold(tpr=df_lst[i]['tpr'], fpr=df_lst[i]['fpr'] , thresholds=df_lst[i]['threshold'])\n",
    "    best_threshold_lst.append(best_theshold)\n",
    "joined_data_df = pd.concat(df_lst+[avg_mean_df])\n",
    "mean_best_threshold = np.mean(best_threshold_lst).round(2)\n",
    "\n",
    "# plot \n",
    "fig = px.line(joined_data_df, \n",
    "              x=\"fpr\", \n",
    "              y=\"tpr\", \n",
    "              color='fold',\n",
    "              hover_data=['threshold'], \n",
    "              height=500, \n",
    "              width=500,\n",
    "              title='Threshold-Basic')\n",
    "fig.show()\n",
    "\n",
    "f1_score_lst = []\n",
    "for fold in range(1,6):\n",
    "    og_data_df = test_dict_species_unknown['fold_'+str(fold)]\n",
    "    og_data_df['Unknown'] = mean_best_threshold\n",
    "    og_data_df['pred'] = og_data_df.iloc[:,2:].idxmax(axis=1)\n",
    "    og_data_df.loc[og_data_df['pred'] != 'Unknown', 'pred'] = \"Known\"\n",
    "    f1_score_val = f1_score(y_true=og_data_df['true'], y_pred=og_data_df['pred'], average='weighted')\n",
    "    f1_score_lst.append(f1_score_val)\n",
    "    \n",
    "print(\"Best Mean Threshold: \", mean_best_threshold)\n",
    "print(\"Best Mean F1-Score: \", np.mean(f1_score_lst))"
   ]
  },
  {
   "cell_type": "code",
   "execution_count": null,
   "id": "b6a4becc-0d29-40ea-a092-df90cd799301",
   "metadata": {},
   "outputs": [],
   "source": []
  }
 ],
 "metadata": {
  "kernelspec": {
   "display_name": "Python 3 (ipykernel)",
   "language": "python",
   "name": "python3"
  },
  "language_info": {
   "codemirror_mode": {
    "name": "ipython",
    "version": 3
   },
   "file_extension": ".py",
   "mimetype": "text/x-python",
   "name": "python",
   "nbconvert_exporter": "python",
   "pygments_lexer": "ipython3",
   "version": "3.9.16"
  }
 },
 "nbformat": 4,
 "nbformat_minor": 5
}
