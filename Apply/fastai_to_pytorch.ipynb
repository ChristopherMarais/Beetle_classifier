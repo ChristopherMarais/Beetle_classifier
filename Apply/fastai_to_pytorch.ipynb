{
 "cells": [
  {
   "cell_type": "code",
   "execution_count": null,
   "id": "e4217f0a-8830-4f64-afc3-24b7d4f34ea5",
   "metadata": {},
   "outputs": [],
   "source": [
    "import os\n",
    "import dill\n",
    "import timm\n",
    "import numpy as np\n",
    "from fastai.tabular.all import *\n",
    "from fastai.vision.all import *\n",
    "from fastai.vision.utils import get_image_files\n",
    "from fastai.callback.wandb import *"
   ]
  },
  {
   "cell_type": "code",
   "execution_count": null,
   "id": "ae14b2ec-bf3d-4aeb-a331-79b198a49ef4",
   "metadata": {},
   "outputs": [],
   "source": [
    "# convert fastai modle to timm/pytorch model\n",
    "# load fastai model\n",
    "learn = load_learner(r\"C:\\Users\\gcmar\\Desktop\\GIT_REPOS\\LAB\\Beetle_classifier\\Models\\beetle_classifier.pkl\", cpu=False)\n",
    "# Remove the WandbCallback.\n",
    "learn.remove_cbs(WandbCallback)\n",
    "\n",
    "# Save the state dictionary of the PyTorch model.\n",
    "state_dict = learn.model.state_dict()\n",
    "torch.save(state_dict, r'C:\\Users\\gcmar\\Desktop\\GIT_REPOS\\LAB\\Beetle_classifier\\Apply\\gradio_test\\my-model.pth')\n",
    "\n",
    "# Load the state dictionary.\n",
    "state_dict = torch.load(r'C:\\Users\\gcmar\\Desktop\\GIT_REPOS\\LAB\\Beetle_classifier\\Apply\\gradio_test\\my-model.pth')\n",
    "# modify state_dict to be of the correct format\n",
    "remove_text = '0.model.'\n",
    "if list(state_dict.keys())[0].startswith(remove_text):\n",
    "    state_dict = {k[len(remove_text):]: v for k, v in state_dict.items()}\n",
    "    \n",
    "# Create a new instance of the timm model.\n",
    "model = timm.create_model('maxvit_rmlp_small_rw_224.sw_in1k', pretrained=False, num_classes=len(learn.dls.vocab))\n",
    "model.load_state_dict(state_dict, strict=False)\n",
    "\n",
    "torch.save(model.state_dict(),r\"C:\\Users\\gcmar\\Desktop\\GIT_REPOS\\LAB\\Beetle_classifier\\Apply\\gradio_test\\clean_model.pt\")"
   ]
  }
 ],
 "metadata": {
  "kernelspec": {
   "display_name": "Python 3 (ipykernel)",
   "language": "python",
   "name": "python3"
  },
  "language_info": {
   "codemirror_mode": {
    "name": "ipython",
    "version": 3
   },
   "file_extension": ".py",
   "mimetype": "text/x-python",
   "name": "python",
   "nbconvert_exporter": "python",
   "pygments_lexer": "ipython3",
   "version": "3.10.9"
  }
 },
 "nbformat": 4,
 "nbformat_minor": 5
}
