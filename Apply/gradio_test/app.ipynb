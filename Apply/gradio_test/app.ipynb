{
 "cells": [
  {
   "cell_type": "code",
   "execution_count": 4,
   "id": "d07df97e-617d-4ceb-912a-debb77f5ad8f",
   "metadata": {
    "execution": {
     "iopub.execute_input": "2023-03-28T02:54:37.327860Z",
     "iopub.status.busy": "2023-03-28T02:54:37.327361Z",
     "iopub.status.idle": "2023-03-28T02:54:37.986360Z",
     "shell.execute_reply": "2023-03-28T02:54:37.985359Z",
     "shell.execute_reply.started": "2023-03-28T02:54:37.327860Z"
    }
   },
   "outputs": [
    {
     "ename": "ModuleNotFoundError",
     "evalue": "No module named 'dill'",
     "output_type": "error",
     "traceback": [
      "\u001b[1;31m---------------------------------------------------------------------------\u001b[0m",
      "\u001b[1;31mModuleNotFoundError\u001b[0m                       Traceback (most recent call last)",
      "Cell \u001b[1;32mIn[4], line 2\u001b[0m\n\u001b[0;32m      1\u001b[0m \u001b[38;5;28;01mimport\u001b[39;00m \u001b[38;5;21;01mos\u001b[39;00m\n\u001b[1;32m----> 2\u001b[0m \u001b[38;5;28;01mimport\u001b[39;00m \u001b[38;5;21;01mdill\u001b[39;00m\n\u001b[0;32m      3\u001b[0m \u001b[38;5;28;01mimport\u001b[39;00m \u001b[38;5;21;01mnumpy\u001b[39;00m \u001b[38;5;28;01mas\u001b[39;00m \u001b[38;5;21;01mnp\u001b[39;00m\n\u001b[0;32m      4\u001b[0m \u001b[38;5;28;01mfrom\u001b[39;00m \u001b[38;5;21;01mfastai\u001b[39;00m\u001b[38;5;21;01m.\u001b[39;00m\u001b[38;5;21;01mtabular\u001b[39;00m\u001b[38;5;21;01m.\u001b[39;00m\u001b[38;5;21;01mall\u001b[39;00m \u001b[38;5;28;01mimport\u001b[39;00m \u001b[38;5;241m*\u001b[39m\n",
      "\u001b[1;31mModuleNotFoundError\u001b[0m: No module named 'dill'"
     ]
    }
   ],
   "source": [
    "import os\n",
    "import dill\n",
    "import numpy as np\n",
    "from fastai.tabular.all import *\n",
    "from fastai.vision.all import *\n",
    "from fastai.vision.utils import get_image_files\n",
    "from Ambrosia import pre_process_image\n",
    "\n",
    "from skimage import io\n",
    "from PIL import Image"
   ]
  },
  {
   "cell_type": "code",
   "execution_count": null,
   "id": "4122ae43-4804-473d-9f4e-1c9a8f54b69d",
   "metadata": {
    "execution": {
     "iopub.status.busy": "2023-03-28T02:54:37.986861Z",
     "iopub.status.idle": "2023-03-28T02:54:37.987360Z",
     "shell.execute_reply": "2023-03-28T02:54:37.986861Z",
     "shell.execute_reply.started": "2023-03-28T02:54:37.986861Z"
    }
   },
   "outputs": [],
   "source": [
    "# wd = \"/blue/hulcr/gmarais/Beetle_data/Beetle_classification_deep_data/Coccotypes_dactyliperda/Vial_16296/Subset_1\"\n",
    "wd = \"F:\\\\Beetle_classification_deep_data\\\\Coccotypes_dactyliperda\\\\Vial_16296\\\\Subset_1\"\n",
    "image_name = \"IMG_0052.JPG\"\n",
    "image_path = wd+\"/\"+image_name\n",
    "\n",
    "\n",
    "############################\n",
    "\n",
    "# load compound image\n",
    "# image_arr = io.imread(image_path)\n",
    "image = Image.open(image_path)\n",
    "# Segment image into smaller images\n",
    "pre_process = pre_process_image(manual_thresh_buffer=0.15, image = image_arr) # use image_dir if directory of image used\n",
    "pre_process.segment(cluster_num=2, \n",
    "                    image_edge_buffer=50)\n",
    "# load model\n",
    "# learn = load_learner(Path(\"/blue/hulcr/gmarais/Beetle_classifier/Models\") / 'beetle_classifier.pkl', cpu=False, pickle_module=dill)\n",
    "learn = load_learner(Path(\"E:\\\\GIT_REPOS\\\\Beetle_classifier\\\\Models\") / 'beetle_classifier.pkl', cpu=False, pickle_module=dill)\n",
    "# get class names\n",
    "class_arr = np.append(np.array(learn.dls.vocab), \"Unknown\")\n",
    "# get predictions for all segments\n",
    "compound_prob_lst = []\n",
    "for i in range(0,len(pre_process.col_image_lst)):\n",
    "    prob_ar = np.array(learn.predict(pre_process.col_image_lst[i])[2])\n",
    "    unkown_prob = unkown_prob_calc(probs=prob_ar, wedge_threshold=0.9, wedge_magnitude=1, wedge=True)\n",
    "    prob_ar = np.append(prob_ar, unkown_prob)\n",
    "    compound_prob_lst.append(prob_ar)\n",
    "compound_prob_arr = np.array(compound_prob_lst)\n",
    "compound_prob_arr"
   ]
  },
  {
   "cell_type": "code",
   "execution_count": 1,
   "id": "1d6e75c0-af55-43c1-a481-494026b7e94d",
   "metadata": {
    "execution": {
     "iopub.execute_input": "2023-03-28T02:33:59.010806Z",
     "iopub.status.busy": "2023-03-28T02:33:59.009805Z",
     "iopub.status.idle": "2023-03-28T02:34:01.322291Z",
     "shell.execute_reply": "2023-03-28T02:34:01.321291Z",
     "shell.execute_reply.started": "2023-03-28T02:33:59.010309Z"
    }
   },
   "outputs": [
    {
     "name": "stderr",
     "output_type": "stream",
     "text": [
      "Using cache found in C:\\Users\\GCM/.cache\\torch\\hub\\pytorch_vision_v0.6.0\n"
     ]
    }
   ],
   "source": [
    "import torch\n",
    "\n",
    "model = torch.hub.load('pytorch/vision:v0.6.0', 'resnet18', pretrained=True).eval()"
   ]
  },
  {
   "cell_type": "code",
   "execution_count": 2,
   "id": "1ffb15ce-50bc-463a-9091-bd6b9c5ce195",
   "metadata": {
    "execution": {
     "iopub.execute_input": "2023-03-28T02:34:01.324793Z",
     "iopub.status.busy": "2023-03-28T02:34:01.324294Z",
     "iopub.status.idle": "2023-03-28T02:34:02.803043Z",
     "shell.execute_reply": "2023-03-28T02:34:02.802541Z",
     "shell.execute_reply.started": "2023-03-28T02:34:01.324793Z"
    },
    "tags": []
   },
   "outputs": [],
   "source": [
    "import requests\n",
    "from PIL import Image\n",
    "from torchvision import transforms\n",
    "\n",
    "# Download human-readable labels for ImageNet.\n",
    "response = requests.get(\"https://git.io/JJkYN\")\n",
    "labels = response.text.split(\"\\n\")\n",
    "\n",
    "def predict(inp_og):\n",
    "    inp = transforms.ToTensor()(inp_og).unsqueeze(0)\n",
    "    with torch.no_grad():\n",
    "        prediction = torch.nn.functional.softmax(model(inp)[0], dim=0)\n",
    "        confidences = {labels[i]: float(prediction[i]) for i in range(1000)}    \n",
    "    return [inp_og, confidences]"
   ]
  },
  {
   "cell_type": "code",
   "execution_count": 3,
   "id": "89234f58-3d16-4b31-a9c7-f29269e20447",
   "metadata": {
    "execution": {
     "iopub.execute_input": "2023-03-28T02:34:02.805541Z",
     "iopub.status.busy": "2023-03-28T02:34:02.805040Z",
     "iopub.status.idle": "2023-03-28T02:34:06.411712Z",
     "shell.execute_reply": "2023-03-28T02:34:06.409709Z",
     "shell.execute_reply.started": "2023-03-28T02:34:02.805040Z"
    },
    "tags": []
   },
   "outputs": [
    {
     "name": "stdout",
     "output_type": "stream",
     "text": [
      "Running on local URL:  http://127.0.0.1:7860\n",
      "\n",
      "To create a public link, set `share=True` in `launch()`.\n"
     ]
    },
    {
     "data": {
      "text/html": [
       "<div><iframe src=\"http://127.0.0.1:7860/\" width=\"100%\" height=\"500\" allow=\"autoplay; camera; microphone; clipboard-read; clipboard-write;\" frameborder=\"0\" allowfullscreen></iframe></div>"
      ],
      "text/plain": [
       "<IPython.core.display.HTML object>"
      ]
     },
     "metadata": {},
     "output_type": "display_data"
    },
    {
     "data": {
      "text/plain": []
     },
     "execution_count": 3,
     "metadata": {},
     "output_type": "execute_result"
    }
   ],
   "source": [
    "import gradio as gr\n",
    "\n",
    "gr.Interface(fn=predict, \n",
    "             inputs=gr.Image(type=\"pil\"),\n",
    "             outputs=[gr.Image(type=\"pil\"), gr.Label(num_top_classes=3)],\n",
    "             examples=[\"lion.jpg\", \"cheetah.jpg\"]).launch()"
   ]
  },
  {
   "cell_type": "code",
   "execution_count": null,
   "id": "e15ac704-ef93-456a-ae8c-80c088b54b66",
   "metadata": {},
   "outputs": [],
   "source": []
  }
 ],
 "metadata": {
  "kernelspec": {
   "display_name": "Python 3 (ipykernel)",
   "language": "python",
   "name": "python3"
  },
  "language_info": {
   "codemirror_mode": {
    "name": "ipython",
    "version": 3
   },
   "file_extension": ".py",
   "mimetype": "text/x-python",
   "name": "python",
   "nbconvert_exporter": "python",
   "pygments_lexer": "ipython3",
   "version": "3.10.9"
  }
 },
 "nbformat": 4,
 "nbformat_minor": 5
}
