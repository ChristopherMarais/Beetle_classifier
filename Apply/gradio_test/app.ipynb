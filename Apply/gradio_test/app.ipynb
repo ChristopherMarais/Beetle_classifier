{
 "cells": [
  {
   "cell_type": "code",
   "execution_count": 1,
   "id": "d07df97e-617d-4ceb-912a-debb77f5ad8f",
   "metadata": {
    "execution": {
     "iopub.execute_input": "2023-03-28T05:42:40.923590Z",
     "iopub.status.busy": "2023-03-28T05:42:40.923091Z",
     "iopub.status.idle": "2023-03-28T05:42:48.149556Z",
     "shell.execute_reply": "2023-03-28T05:42:48.149054Z",
     "shell.execute_reply.started": "2023-03-28T05:42:40.923590Z"
    },
    "tags": []
   },
   "outputs": [],
   "source": [
    "import os\n",
    "import dill\n",
    "import numpy as np\n",
    "from fastai.tabular.all import *\n",
    "from fastai.vision.all import *\n",
    "from fastai.vision.utils import get_image_files\n",
    "from Ambrosia import pre_process_image\n",
    "from huggingface_hub import from_pretrained_fastai, push_to_hub_fastai\n",
    "import gradio as gr\n",
    "###########\n",
    "# use this to laod on windows\n",
    "import pathlib\n",
    "temp = pathlib.PosixPath\n",
    "pathlib.PosixPath = pathlib.WindowsPath\n",
    "###########\n",
    "\n",
    "# from PIL import Image"
   ]
  },
  {
   "cell_type": "code",
   "execution_count": 2,
   "id": "8e1ca7cd-a19f-4d08-a5df-594b3832a9a8",
   "metadata": {
    "execution": {
     "iopub.execute_input": "2023-03-28T05:42:48.151056Z",
     "iopub.status.busy": "2023-03-28T05:42:48.150555Z",
     "iopub.status.idle": "2023-03-28T05:42:48.165560Z",
     "shell.execute_reply": "2023-03-28T05:42:48.164562Z",
     "shell.execute_reply.started": "2023-03-28T05:42:48.151056Z"
    },
    "tags": []
   },
   "outputs": [],
   "source": [
    "# load local model and push to hugging_face_Hub\n",
    "# learn = load_learner(\"E:\\\\GIT_REPOS\\\\Beetle_classifier\\\\Models\\\\beetle_classifier.pkl\", cpu=False)\n",
    "\n",
    "# # repo_id = \"YOUR_USERNAME/YOUR_LEARNER_NAME\"\n",
    "# repo_id = \"ChristopherMarais/Andrew_Alpha_model\"\n",
    "# push_to_hub_fastai(learner=learn, repo_id=repo_id)"
   ]
  },
  {
   "cell_type": "code",
   "execution_count": 3,
   "id": "01815caf-d8a3-4de5-814e-aa956f472878",
   "metadata": {
    "execution": {
     "iopub.execute_input": "2023-03-28T05:42:48.167561Z",
     "iopub.status.busy": "2023-03-28T05:42:48.167561Z",
     "iopub.status.idle": "2023-03-28T05:42:49.064057Z",
     "shell.execute_reply": "2023-03-28T05:42:49.063554Z",
     "shell.execute_reply.started": "2023-03-28T05:42:48.167561Z"
    },
    "tags": []
   },
   "outputs": [],
   "source": [
    "# this function only describes how much a singular value in al ist stands out.\n",
    "# if all values in the lsit are high or low this is 1\n",
    "# the smaller the proportiopn of number of disimilar vlaues are to other more similar values the lower this number\n",
    "# the larger the gap between the dissimilar numbers and the simialr number the smaller this number\n",
    "# only able to interpret probabilities or values between 0 and 1\n",
    "# this function outputs an estimate an inverse of the classification confidence based on the probabilities of all the classes.\n",
    "# the wedge threshold splits the data on a threshold with a magnitude of a positive int to force a ledge/peak in the data\n",
    "def unkown_prob_calc(probs, wedge_threshold, wedge_magnitude=1, wedge=True):\n",
    "    if wedge:\n",
    "        probs = np.where(probs<=wedge_threshold , probs**(2*wedge_magnitude), probs)\n",
    "        probs = np.where(probs>=wedge_threshold , probs**(1/(2*wedge_magnitude)), probs)\n",
    "    diff_matrix = np.abs(probs[:, np.newaxis] - probs)\n",
    "    diff_matrix_sum = np.sum(diff_matrix)\n",
    "    probs_sum = np.sum(probs)\n",
    "    class_val = (diff_matrix_sum/probs_sum)\n",
    "    max_class_val = ((len(probs)-1)*2)\n",
    "    kown_prob = class_val/max_class_val\n",
    "    unknown_prob = 1-kown_prob\n",
    "    return(unknown_prob)\n",
    "\n",
    "# load model\n",
    "learn = load_learner(\"E:\\\\GIT_REPOS\\\\Beetle_classifier\\\\Models\\\\beetle_classifier.pkl\", cpu=False)\n",
    "# get class names\n",
    "labels = np.append(np.array(learn.dls.vocab), \"Unknown\")\n",
    "\n",
    "def predict(img):\n",
    "    # Segment image into smaller images\n",
    "    pre_process = pre_process_image(manual_thresh_buffer=0.15, image = img) # use image_dir if directory of image used\n",
    "    pre_process.segment(cluster_num=2, \n",
    "                        image_edge_buffer=50)\n",
    "    # get predictions for all segments\n",
    "    conf_dict_lst = []\n",
    "    output_lst = []\n",
    "    img_cnt = len(pre_process.col_image_lst)\n",
    "    for i in range(0,img_cnt):\n",
    "        prob_ar = np.array(learn.predict(pre_process.col_image_lst[i])[2])\n",
    "        unkown_prob = unkown_prob_calc(probs=prob_ar, wedge_threshold=0.9, wedge_magnitude=1, wedge=True)\n",
    "        prob_ar = np.append(prob_ar, unkown_prob)\n",
    "        conf_dict = {labels[i]: float(prob_ar[i]) for i in range(len(prob_ar))}\n",
    "        conf_dict_lst.append(conf_dict)\n",
    "        output_lst.append(conf_dict)\n",
    "    # return(pre_process.col_image_lst[0], conf_dict_lst[0])\n",
    "    return [gr.outputs.gr.Image(pre_process.col_image_lst[0], type=\"numpy\"), gr.outputs.gr.Label(conf_dict_lst[0], num_top_classes=3)]"
   ]
  },
  {
   "cell_type": "code",
   "execution_count": 4,
   "id": "78a4fc70-f82e-48d4-a996-dcaf8b39c85a",
   "metadata": {
    "execution": {
     "iopub.execute_input": "2023-03-28T05:42:49.066063Z",
     "iopub.status.busy": "2023-03-28T05:42:49.065559Z",
     "iopub.status.idle": "2023-03-28T05:42:49.886056Z",
     "shell.execute_reply": "2023-03-28T05:42:49.885056Z",
     "shell.execute_reply.started": "2023-03-28T05:42:49.066063Z"
    },
    "tags": []
   },
   "outputs": [
    {
     "ename": "TypeError",
     "evalue": "Interface.__init__() missing 1 required positional argument: 'outputs'",
     "output_type": "error",
     "traceback": [
      "\u001b[1;31m---------------------------------------------------------------------------\u001b[0m",
      "\u001b[1;31mTypeError\u001b[0m                                 Traceback (most recent call last)",
      "Cell \u001b[1;32mIn[4], line 2\u001b[0m\n\u001b[0;32m      1\u001b[0m \u001b[38;5;66;03m# launch app\u001b[39;00m\n\u001b[1;32m----> 2\u001b[0m \u001b[43mgr\u001b[49m\u001b[38;5;241;43m.\u001b[39;49m\u001b[43mInterface\u001b[49m\u001b[43m(\u001b[49m\u001b[43mfn\u001b[49m\u001b[38;5;241;43m=\u001b[39;49m\u001b[43mpredict\u001b[49m\u001b[43m,\u001b[49m\u001b[43m \u001b[49m\n\u001b[0;32m      3\u001b[0m \u001b[43m             \u001b[49m\u001b[43minputs\u001b[49m\u001b[38;5;241;43m=\u001b[39;49m\u001b[43mgr\u001b[49m\u001b[38;5;241;43m.\u001b[39;49m\u001b[43mImage\u001b[49m\u001b[43m(\u001b[49m\u001b[38;5;28;43mtype\u001b[39;49m\u001b[38;5;241;43m=\u001b[39;49m\u001b[38;5;124;43m\"\u001b[39;49m\u001b[38;5;124;43mnumpy\u001b[39;49m\u001b[38;5;124;43m\"\u001b[39;49m\u001b[43m)\u001b[49m\u001b[43m,\u001b[49m\n\u001b[0;32m      4\u001b[0m \u001b[43m             \u001b[49m\u001b[38;5;66;43;03m# outputs=[gr.Image(type=\"numpy\"), gr.Label(num_top_classes=5)],\u001b[39;49;00m\n\u001b[0;32m      5\u001b[0m \u001b[43m             \u001b[49m\u001b[43mexamples\u001b[49m\u001b[38;5;241;43m=\u001b[39;49m\u001b[43m[\u001b[49m\u001b[38;5;124;43m\"\u001b[39;49m\u001b[38;5;124;43mlion.jpg\u001b[39;49m\u001b[38;5;124;43m\"\u001b[39;49m\u001b[43m,\u001b[49m\u001b[43m \u001b[49m\u001b[38;5;124;43m\"\u001b[39;49m\u001b[38;5;124;43mcheetah.jpg\u001b[39;49m\u001b[38;5;124;43m\"\u001b[39;49m\u001b[43m]\u001b[49m\u001b[43m)\u001b[49m\u001b[38;5;241m.\u001b[39mlaunch()\n",
      "\u001b[1;31mTypeError\u001b[0m: Interface.__init__() missing 1 required positional argument: 'outputs'"
     ]
    }
   ],
   "source": [
    "# launch app\n",
    "gr.Interface(fn=predict, \n",
    "             inputs=gr.Image(type=\"numpy\"),\n",
    "             outputs=[gr.Image(type=\"numpy\"), gr.Label(num_top_classes=5)],\n",
    "             examples=[\"lion.jpg\", \"cheetah.jpg\"]).launch()"
   ]
  },
  {
   "cell_type": "code",
   "execution_count": null,
   "id": "67af10ab-b893-4bea-bd34-86445ffd45c6",
   "metadata": {},
   "outputs": [],
   "source": []
  }
 ],
 "metadata": {
  "kernelspec": {
   "display_name": "Python 3 (ipykernel)",
   "language": "python",
   "name": "python3"
  },
  "language_info": {
   "codemirror_mode": {
    "name": "ipython",
    "version": 3
   },
   "file_extension": ".py",
   "mimetype": "text/x-python",
   "name": "python",
   "nbconvert_exporter": "python",
   "pygments_lexer": "ipython3",
   "version": "3.10.9"
  }
 },
 "nbformat": 4,
 "nbformat_minor": 5
}
