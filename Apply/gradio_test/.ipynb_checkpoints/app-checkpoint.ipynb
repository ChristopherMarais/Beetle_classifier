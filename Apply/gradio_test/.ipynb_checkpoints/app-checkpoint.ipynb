{
 "cells": [
  {
   "cell_type": "code",
   "execution_count": 1,
   "id": "d07df97e-617d-4ceb-912a-debb77f5ad8f",
   "metadata": {
    "execution": {
     "iopub.execute_input": "2023-03-28T05:14:57.347564Z",
     "iopub.status.busy": "2023-03-28T05:14:57.347564Z",
     "iopub.status.idle": "2023-03-28T05:15:04.891366Z",
     "shell.execute_reply": "2023-03-28T05:15:04.889864Z",
     "shell.execute_reply.started": "2023-03-28T05:14:57.347564Z"
    },
    "tags": []
   },
   "outputs": [],
   "source": [
    "import os\n",
    "import dill\n",
    "import numpy as np\n",
    "from fastai.tabular.all import *\n",
    "from fastai.vision.all import *\n",
    "from fastai.vision.utils import get_image_files\n",
    "from Ambrosia import pre_process_image\n",
    "from huggingface_hub import from_pretrained_fastai, push_to_hub_fastai\n",
    "import gradio as gr\n",
    "###########\n",
    "# use this to laod on windows\n",
    "import pathlib\n",
    "temp = pathlib.PosixPath\n",
    "pathlib.PosixPath = pathlib.WindowsPath\n",
    "###########\n",
    "\n",
    "# from PIL import Image"
   ]
  },
  {
   "cell_type": "code",
   "execution_count": 2,
   "id": "8e1ca7cd-a19f-4d08-a5df-594b3832a9a8",
   "metadata": {
    "execution": {
     "iopub.execute_input": "2023-03-28T05:15:04.893870Z",
     "iopub.status.busy": "2023-03-28T05:15:04.892866Z",
     "iopub.status.idle": "2023-03-28T05:15:04.906864Z",
     "shell.execute_reply": "2023-03-28T05:15:04.905364Z",
     "shell.execute_reply.started": "2023-03-28T05:15:04.893870Z"
    },
    "tags": []
   },
   "outputs": [],
   "source": [
    "# load local model and push to hugging_face_Hub\n",
    "# learn = load_learner(\"E:\\\\GIT_REPOS\\\\Beetle_classifier\\\\Models\\\\beetle_classifier.pkl\", cpu=False)\n",
    "\n",
    "# # repo_id = \"YOUR_USERNAME/YOUR_LEARNER_NAME\"\n",
    "# repo_id = \"ChristopherMarais/Andrew_Alpha_model\"\n",
    "# push_to_hub_fastai(learner=learn, repo_id=repo_id)"
   ]
  },
  {
   "cell_type": "code",
   "execution_count": 3,
   "id": "01815caf-d8a3-4de5-814e-aa956f472878",
   "metadata": {
    "execution": {
     "iopub.execute_input": "2023-03-28T05:15:04.909869Z",
     "iopub.status.busy": "2023-03-28T05:15:04.909365Z",
     "iopub.status.idle": "2023-03-28T05:15:05.867238Z",
     "shell.execute_reply": "2023-03-28T05:15:05.866240Z",
     "shell.execute_reply.started": "2023-03-28T05:15:04.909365Z"
    },
    "tags": []
   },
   "outputs": [],
   "source": [
    "# this function only describes how much a singular value in al ist stands out.\n",
    "# if all values in the lsit are high or low this is 1\n",
    "# the smaller the proportiopn of number of disimilar vlaues are to other more similar values the lower this number\n",
    "# the larger the gap between the dissimilar numbers and the simialr number the smaller this number\n",
    "# only able to interpret probabilities or values between 0 and 1\n",
    "# this function outputs an estimate an inverse of the classification confidence based on the probabilities of all the classes.\n",
    "# the wedge threshold splits the data on a threshold with a magnitude of a positive int to force a ledge/peak in the data\n",
    "def unkown_prob_calc(probs, wedge_threshold, wedge_magnitude=1, wedge=True):\n",
    "    if wedge:\n",
    "        probs = np.where(probs<=wedge_threshold , probs**(2*wedge_magnitude), probs)\n",
    "        probs = np.where(probs>=wedge_threshold , probs**(1/(2*wedge_magnitude)), probs)\n",
    "    diff_matrix = np.abs(probs[:, np.newaxis] - probs)\n",
    "    diff_matrix_sum = np.sum(diff_matrix)\n",
    "    probs_sum = np.sum(probs)\n",
    "    class_val = (diff_matrix_sum/probs_sum)\n",
    "    max_class_val = ((len(probs)-1)*2)\n",
    "    kown_prob = class_val/max_class_val\n",
    "    unknown_prob = 1-kown_prob\n",
    "    return(unknown_prob)\n",
    "\n",
    "# load model\n",
    "learn = load_learner(\"E:\\\\GIT_REPOS\\\\Beetle_classifier\\\\Models\\\\beetle_classifier.pkl\", cpu=False)\n",
    "# get class names\n",
    "labels = np.append(np.array(learn.dls.vocab), \"Unknown\")\n",
    "\n",
    "def predict(img):\n",
    "    # Segment image into smaller images\n",
    "    pre_process = pre_process_image(manual_thresh_buffer=0.15, image = img) # use image_dir if directory of image used\n",
    "    pre_process.segment(cluster_num=2, \n",
    "                        image_edge_buffer=50)\n",
    "    # get predictions for all segments\n",
    "    conf_dict_lst = []\n",
    "    output_lst = []\n",
    "    img_cnt = len(pre_process.col_image_lst)\n",
    "    for i in range(0,img_cnt):\n",
    "        prob_ar = np.array(learn.predict(pre_process.col_image_lst[i])[2])\n",
    "        unkown_prob = unkown_prob_calc(probs=prob_ar, wedge_threshold=0.9, wedge_magnitude=1, wedge=True)\n",
    "        prob_ar = np.append(prob_ar, unkown_prob)\n",
    "        conf_dict = {labels[i]: float(prob_ar[i]) for i in range(len(prob_ar))}\n",
    "        conf_dict_lst.append(conf_dict)\n",
    "        output_lst.append(conf_dict)\n",
    "    return(pre_process.col_image_lst, conf_dict_lst)\n",
    "    # return [gr.Image(pre_process.col_image_lst[0], type=\"numpy\"), gr.Label(conf_dict_lst[0], num_top_classes=3)]"
   ]
  },
  {
   "cell_type": "code",
   "execution_count": 4,
   "id": "c50a8b56-cba7-4281-8383-f4cd97184b74",
   "metadata": {
    "execution": {
     "iopub.execute_input": "2023-03-28T05:15:05.869238Z",
     "iopub.status.busy": "2023-03-28T05:15:05.868741Z",
     "iopub.status.idle": "2023-03-28T05:15:05.975788Z",
     "shell.execute_reply": "2023-03-28T05:15:05.974788Z",
     "shell.execute_reply.started": "2023-03-28T05:15:05.869238Z"
    },
    "tags": []
   },
   "outputs": [],
   "source": [
    "# wd = \"F:\\\\Beetle_classification_deep_data\\\\Coccotypes_dactyliperda\\\\Vial_16296\\\\Subset_1\"\n",
    "# image_name = \"IMG_0052.JPG\"\n",
    "# image_path = wd+\"\\\\\"+image_name\n",
    "# image_arr = np.array(Image.open(image_path))\n",
    "# a = predict(image_arr)"
   ]
  },
  {
   "cell_type": "code",
   "execution_count": 5,
   "id": "78a4fc70-f82e-48d4-a996-dcaf8b39c85a",
   "metadata": {
    "execution": {
     "iopub.execute_input": "2023-03-28T05:15:05.977792Z",
     "iopub.status.busy": "2023-03-28T05:15:05.977289Z",
     "iopub.status.idle": "2023-03-28T05:15:07.337563Z",
     "shell.execute_reply": "2023-03-28T05:15:07.334563Z",
     "shell.execute_reply.started": "2023-03-28T05:15:05.977792Z"
    },
    "tags": []
   },
   "outputs": [
    {
     "name": "stdout",
     "output_type": "stream",
     "text": [
      "Running on local URL:  http://127.0.0.1:7860\n",
      "\n",
      "To create a public link, set `share=True` in `launch()`.\n"
     ]
    },
    {
     "data": {
      "text/html": [
       "<div><iframe src=\"http://127.0.0.1:7860/\" width=\"100%\" height=\"500\" allow=\"autoplay; camera; microphone; clipboard-read; clipboard-write;\" frameborder=\"0\" allowfullscreen></iframe></div>"
      ],
      "text/plain": [
       "<IPython.core.display.HTML object>"
      ]
     },
     "metadata": {},
     "output_type": "display_data"
    },
    {
     "data": {
      "text/plain": []
     },
     "execution_count": 5,
     "metadata": {},
     "output_type": "execute_result"
    }
   ],
   "source": [
    "# launch app\n",
    "gr.Interface(fn=predict, \n",
    "             inputs=gr.Image(type=\"numpy\"),\n",
    "             outputs=[gr.Image(type=\"numpy\"), gr.Label(num_top_classes=3)],\n",
    "             examples=[\"lion.jpg\", \"cheetah.jpg\"]).launch()"
   ]
  },
  {
   "cell_type": "code",
   "execution_count": null,
   "id": "7c60c223-e125-4d47-be34-3ffae4a11906",
   "metadata": {},
   "outputs": [],
   "source": []
  },
  {
   "cell_type": "code",
   "execution_count": null,
   "id": "cbe0b787-0772-4ed7-8f17-0f16cb0c4a34",
   "metadata": {},
   "outputs": [],
   "source": []
  },
  {
   "cell_type": "code",
   "execution_count": 6,
   "id": "4122ae43-4804-473d-9f4e-1c9a8f54b69d",
   "metadata": {
    "execution": {
     "iopub.execute_input": "2023-03-28T05:15:07.342065Z",
     "iopub.status.busy": "2023-03-28T05:15:07.340561Z",
     "iopub.status.idle": "2023-03-28T05:15:07.369562Z",
     "shell.execute_reply": "2023-03-28T05:15:07.365564Z",
     "shell.execute_reply.started": "2023-03-28T05:15:07.342065Z"
    },
    "tags": []
   },
   "outputs": [],
   "source": [
    "# # wd = \"/blue/hulcr/gmarais/Beetle_data/Beetle_classification_deep_data/Coccotypes_dactyliperda/Vial_16296/Subset_1\"\n",
    "# wd = \"F:\\\\Beetle_classification_deep_data\\\\Coccotypes_dactyliperda\\\\Vial_16296\\\\Subset_1\"\n",
    "# image_name = \"IMG_0052.JPG\"\n",
    "# image_path = wd+\"\\\\\"+image_name\n",
    "\n",
    "\n",
    "# ############################\n",
    "\n",
    "# # load compound image\n",
    "# # image_arr = io.imread(image_path)\n",
    "# image_arr = np.array(Image.open(image_path))"
   ]
  },
  {
   "cell_type": "code",
   "execution_count": null,
   "id": "5d06571c-3cff-460e-9388-1b997a1131b3",
   "metadata": {},
   "outputs": [],
   "source": []
  },
  {
   "cell_type": "code",
   "execution_count": null,
   "id": "974e0950-2e54-4597-b18c-84ee6a22ee97",
   "metadata": {},
   "outputs": [],
   "source": []
  },
  {
   "cell_type": "code",
   "execution_count": 7,
   "id": "1d6e75c0-af55-43c1-a481-494026b7e94d",
   "metadata": {
    "execution": {
     "iopub.execute_input": "2023-03-28T05:15:07.374567Z",
     "iopub.status.busy": "2023-03-28T05:15:07.373067Z",
     "iopub.status.idle": "2023-03-28T05:15:08.094211Z",
     "shell.execute_reply": "2023-03-28T05:15:08.093202Z",
     "shell.execute_reply.started": "2023-03-28T05:15:07.374567Z"
    },
    "tags": []
   },
   "outputs": [],
   "source": [
    "# import torch\n",
    "# import requests\n",
    "# from PIL import Image\n",
    "# from torchvision import transforms"
   ]
  },
  {
   "cell_type": "code",
   "execution_count": 8,
   "id": "1ffb15ce-50bc-463a-9091-bd6b9c5ce195",
   "metadata": {
    "execution": {
     "iopub.execute_input": "2023-03-28T05:15:08.096212Z",
     "iopub.status.busy": "2023-03-28T05:15:08.095210Z",
     "iopub.status.idle": "2023-03-28T05:15:09.004668Z",
     "shell.execute_reply": "2023-03-28T05:15:09.003665Z",
     "shell.execute_reply.started": "2023-03-28T05:15:08.096212Z"
    },
    "tags": []
   },
   "outputs": [],
   "source": [
    "# model = torch.hub.load('pytorch/vision:v0.6.0', 'resnet18', pretrained=True).eval()\n",
    "\n",
    "# # Download human-readable labels for ImageNet.\n",
    "# response = requests.get(\"https://git.io/JJkYN\")\n",
    "# labels = response.text.split(\"\\n\")\n",
    "\n",
    "# def predict(inp_og):\n",
    "#     inp = transforms.ToTensor()(inp_og).unsqueeze(0)\n",
    "#     with torch.no_grad():\n",
    "#         prediction = torch.nn.functional.softmax(model(inp)[0], dim=0)\n",
    "#         confidences = {labels[i]: float(prediction[i]) for i in range(1000)}    \n",
    "#     return [inp_og, confidences]"
   ]
  },
  {
   "cell_type": "code",
   "execution_count": 9,
   "id": "89234f58-3d16-4b31-a9c7-f29269e20447",
   "metadata": {
    "execution": {
     "iopub.execute_input": "2023-03-28T05:15:09.006165Z",
     "iopub.status.busy": "2023-03-28T05:15:09.006165Z",
     "iopub.status.idle": "2023-03-28T05:15:10.071116Z",
     "shell.execute_reply": "2023-03-28T05:15:10.069618Z",
     "shell.execute_reply.started": "2023-03-28T05:15:09.006165Z"
    },
    "tags": []
   },
   "outputs": [
    {
     "name": "stderr",
     "output_type": "stream",
     "text": [
      "C:\\Users\\GCM\\anaconda3\\envs\\BC_310\\lib\\site-packages\\sklearn\\cluster\\_kmeans.py:1382: UserWarning: KMeans is known to have a memory leak on Windows with MKL, when there are less chunks than available threads. You can avoid it by setting the environment variable OMP_NUM_THREADS=1.\n",
      "  warnings.warn(\n"
     ]
    },
    {
     "data": {
      "text/html": [],
      "text/plain": [
       "<IPython.core.display.HTML object>"
      ]
     },
     "metadata": {},
     "output_type": "display_data"
    },
    {
     "data": {
      "text/html": [],
      "text/plain": [
       "<IPython.core.display.HTML object>"
      ]
     },
     "metadata": {},
     "output_type": "display_data"
    },
    {
     "data": {
      "text/html": [],
      "text/plain": [
       "<IPython.core.display.HTML object>"
      ]
     },
     "metadata": {},
     "output_type": "display_data"
    },
    {
     "data": {
      "text/html": [],
      "text/plain": [
       "<IPython.core.display.HTML object>"
      ]
     },
     "metadata": {},
     "output_type": "display_data"
    },
    {
     "data": {
      "text/html": [],
      "text/plain": [
       "<IPython.core.display.HTML object>"
      ]
     },
     "metadata": {},
     "output_type": "display_data"
    },
    {
     "data": {
      "text/html": [],
      "text/plain": [
       "<IPython.core.display.HTML object>"
      ]
     },
     "metadata": {},
     "output_type": "display_data"
    },
    {
     "data": {
      "text/html": [],
      "text/plain": [
       "<IPython.core.display.HTML object>"
      ]
     },
     "metadata": {},
     "output_type": "display_data"
    },
    {
     "data": {
      "text/html": [],
      "text/plain": [
       "<IPython.core.display.HTML object>"
      ]
     },
     "metadata": {},
     "output_type": "display_data"
    },
    {
     "data": {
      "text/html": [],
      "text/plain": [
       "<IPython.core.display.HTML object>"
      ]
     },
     "metadata": {},
     "output_type": "display_data"
    },
    {
     "data": {
      "text/html": [],
      "text/plain": [
       "<IPython.core.display.HTML object>"
      ]
     },
     "metadata": {},
     "output_type": "display_data"
    },
    {
     "data": {
      "text/html": [],
      "text/plain": [
       "<IPython.core.display.HTML object>"
      ]
     },
     "metadata": {},
     "output_type": "display_data"
    },
    {
     "data": {
      "text/html": [],
      "text/plain": [
       "<IPython.core.display.HTML object>"
      ]
     },
     "metadata": {},
     "output_type": "display_data"
    },
    {
     "data": {
      "text/html": [],
      "text/plain": [
       "<IPython.core.display.HTML object>"
      ]
     },
     "metadata": {},
     "output_type": "display_data"
    },
    {
     "data": {
      "text/html": [],
      "text/plain": [
       "<IPython.core.display.HTML object>"
      ]
     },
     "metadata": {},
     "output_type": "display_data"
    },
    {
     "data": {
      "text/html": [],
      "text/plain": [
       "<IPython.core.display.HTML object>"
      ]
     },
     "metadata": {},
     "output_type": "display_data"
    },
    {
     "data": {
      "text/html": [],
      "text/plain": [
       "<IPython.core.display.HTML object>"
      ]
     },
     "metadata": {},
     "output_type": "display_data"
    },
    {
     "data": {
      "text/html": [],
      "text/plain": [
       "<IPython.core.display.HTML object>"
      ]
     },
     "metadata": {},
     "output_type": "display_data"
    },
    {
     "data": {
      "text/html": [],
      "text/plain": [
       "<IPython.core.display.HTML object>"
      ]
     },
     "metadata": {},
     "output_type": "display_data"
    },
    {
     "data": {
      "text/html": [],
      "text/plain": [
       "<IPython.core.display.HTML object>"
      ]
     },
     "metadata": {},
     "output_type": "display_data"
    },
    {
     "data": {
      "text/html": [],
      "text/plain": [
       "<IPython.core.display.HTML object>"
      ]
     },
     "metadata": {},
     "output_type": "display_data"
    },
    {
     "data": {
      "text/html": [],
      "text/plain": [
       "<IPython.core.display.HTML object>"
      ]
     },
     "metadata": {},
     "output_type": "display_data"
    },
    {
     "data": {
      "text/html": [],
      "text/plain": [
       "<IPython.core.display.HTML object>"
      ]
     },
     "metadata": {},
     "output_type": "display_data"
    },
    {
     "data": {
      "text/html": [],
      "text/plain": [
       "<IPython.core.display.HTML object>"
      ]
     },
     "metadata": {},
     "output_type": "display_data"
    },
    {
     "data": {
      "text/html": [],
      "text/plain": [
       "<IPython.core.display.HTML object>"
      ]
     },
     "metadata": {},
     "output_type": "display_data"
    },
    {
     "data": {
      "text/html": [],
      "text/plain": [
       "<IPython.core.display.HTML object>"
      ]
     },
     "metadata": {},
     "output_type": "display_data"
    },
    {
     "data": {
      "text/html": [],
      "text/plain": [
       "<IPython.core.display.HTML object>"
      ]
     },
     "metadata": {},
     "output_type": "display_data"
    },
    {
     "data": {
      "text/html": [],
      "text/plain": [
       "<IPython.core.display.HTML object>"
      ]
     },
     "metadata": {},
     "output_type": "display_data"
    },
    {
     "data": {
      "text/html": [],
      "text/plain": [
       "<IPython.core.display.HTML object>"
      ]
     },
     "metadata": {},
     "output_type": "display_data"
    },
    {
     "data": {
      "text/html": [],
      "text/plain": [
       "<IPython.core.display.HTML object>"
      ]
     },
     "metadata": {},
     "output_type": "display_data"
    },
    {
     "data": {
      "text/html": [],
      "text/plain": [
       "<IPython.core.display.HTML object>"
      ]
     },
     "metadata": {},
     "output_type": "display_data"
    },
    {
     "data": {
      "text/html": [],
      "text/plain": [
       "<IPython.core.display.HTML object>"
      ]
     },
     "metadata": {},
     "output_type": "display_data"
    },
    {
     "name": "stderr",
     "output_type": "stream",
     "text": [
      "Traceback (most recent call last):\n",
      "  File \"C:\\Users\\GCM\\anaconda3\\envs\\BC_310\\lib\\site-packages\\gradio\\routes.py\", line 394, in run_predict\n",
      "    output = await app.get_blocks().process_api(\n",
      "  File \"C:\\Users\\GCM\\anaconda3\\envs\\BC_310\\lib\\site-packages\\gradio\\blocks.py\", line 1078, in process_api\n",
      "    data = self.postprocess_data(fn_index, result[\"prediction\"], state)\n",
      "  File \"C:\\Users\\GCM\\anaconda3\\envs\\BC_310\\lib\\site-packages\\gradio\\blocks.py\", line 1012, in postprocess_data\n",
      "    prediction_value = block.postprocess(prediction_value)\n",
      "  File \"C:\\Users\\GCM\\anaconda3\\envs\\BC_310\\lib\\site-packages\\gradio\\components.py\", line 1636, in postprocess\n",
      "    raise ValueError(\"Cannot process this value as an Image\")\n",
      "ValueError: Cannot process this value as an Image\n"
     ]
    }
   ],
   "source": [
    "# import gradio as gr\n",
    "\n",
    "# gr.Interface(fn=predict, \n",
    "#              inputs=gr.Image(type=\"pil\"),\n",
    "#              outputs=[gr.Image(type=\"pil\"), gr.Label(num_top_classes=3)],\n",
    "#              examples=[\"lion.jpg\", \"cheetah.jpg\"]).launch()"
   ]
  },
  {
   "cell_type": "code",
   "execution_count": null,
   "id": "e15ac704-ef93-456a-ae8c-80c088b54b66",
   "metadata": {},
   "outputs": [],
   "source": []
  }
 ],
 "metadata": {
  "kernelspec": {
   "display_name": "Python 3 (ipykernel)",
   "language": "python",
   "name": "python3"
  },
  "language_info": {
   "codemirror_mode": {
    "name": "ipython",
    "version": 3
   },
   "file_extension": ".py",
   "mimetype": "text/x-python",
   "name": "python",
   "nbconvert_exporter": "python",
   "pygments_lexer": "ipython3",
   "version": "3.10.9"
  }
 },
 "nbformat": 4,
 "nbformat_minor": 5
}
