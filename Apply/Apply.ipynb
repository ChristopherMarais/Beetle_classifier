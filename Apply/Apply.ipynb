{
 "cells": [
  {
   "cell_type": "code",
   "execution_count": 324,
   "id": "710a009a-6fd3-4c76-a12e-137730b994a1",
   "metadata": {},
   "outputs": [
    {
     "data": {
      "text/plain": [
       "['Coccotypes_dactyliperda', 'Hylesinus_varius', 'Phloeosinus_dentatus', 'Pityophthorus_juglandis', 'Platypus_cylindrus', 'Pycnarthrum_hispidium', 'Scolotodes_schwarzi', 'Xyleborus_affinis', 'Xylosandrus_compactus', 'Xylosandrus_crassiusculus']"
      ]
     },
     "execution_count": 324,
     "metadata": {},
     "output_type": "execute_result"
    }
   ],
   "source": [
    "import dill\n",
    "from fastai.tabular.all import *\n",
    "from fastai.vision.all import *\n",
    "from fastai.vision.utils import get_image_files\n",
    "\n",
    "learn = load_learner(Path(\"/blue/hulcr/gmarais/Beetle_classifier/Models\") / 'beetle_classifier3.pkl', cpu=False, pickle_module=dill)\n",
    "learn.dls.vocab # get the classes in the model other than unknown\n",
    "### Aplly to single image\n",
    "# pred = learn.predict(\"/blue/hulcr/gmarais/Beetle_data/selected_images/test_data/Coccotypes_dactyliperda/Coccotypes_dactyliperda_16296_1_0052_1.JPG\")\n",
    "# print(pred)\n",
    "\n",
    "### apply to multiple unlabelled images\n",
    "# dataset_path=r\"/blue/hulcr/gmarais/Beetle_data/selected_images\"\n",
    "# files = get_image_files(path=dataset_path, recurse=True, folders=('test_data'))\n",
    "# apply_dl = learn.dls.test_dl(files, with_labels=False)\n",
    "# preds, targets = learn.get_preds(dl=apply_dl)"
   ]
  },
  {
   "cell_type": "code",
   "execution_count": 59,
   "id": "1b59924b-a1d5-4ddd-8709-6a78aaf57d3f",
   "metadata": {},
   "outputs": [],
   "source": [
    "import numpy as np"
   ]
  },
  {
   "cell_type": "code",
   "execution_count": 334,
   "id": "11101a65-bf08-4f29-935d-1647d8084ea1",
   "metadata": {},
   "outputs": [
    {
     "data": {
      "text/html": [
       "\n",
       "<style>\n",
       "    /* Turns off some styling */\n",
       "    progress {\n",
       "        /* gets rid of default border in Firefox and Opera. */\n",
       "        border: none;\n",
       "        /* Needs to be in here for Safari polyfill so background images work as expected. */\n",
       "        background-size: auto;\n",
       "    }\n",
       "    progress:not([value]), progress:not([value])::-webkit-progress-bar {\n",
       "        background: repeating-linear-gradient(45deg, #7e7e7e, #7e7e7e 10px, #5c5c5c 10px, #5c5c5c 20px);\n",
       "    }\n",
       "    .progress-bar-interrupted, .progress-bar-interrupted::-webkit-progress-bar {\n",
       "        background: #F44336;\n",
       "    }\n",
       "</style>\n"
      ],
      "text/plain": [
       "<IPython.core.display.HTML object>"
      ]
     },
     "metadata": {},
     "output_type": "display_data"
    },
    {
     "data": {
      "text/html": [],
      "text/plain": [
       "<IPython.core.display.HTML object>"
      ]
     },
     "metadata": {},
     "output_type": "display_data"
    },
    {
     "data": {
      "text/plain": [
       "array([0.93305004, 0.00879687, 0.00597848, 0.00576069, 0.00848262,\n",
       "       0.00607262, 0.00165288, 0.0157974 , 0.00234922, 0.01205918],\n",
       "      dtype=float32)"
      ]
     },
     "execution_count": 334,
     "metadata": {},
     "output_type": "execute_result"
    }
   ],
   "source": [
    "pred = learn.predict(\"/blue/hulcr/gmarais/Beetle_data/selected_images/test_data/Coccotypes_dactyliperda/Coccotypes_dactyliperda_16296_1_0052_1.JPG\")\n",
    "pred = np.array(pred[2])\n",
    "pred"
   ]
  },
  {
   "cell_type": "code",
   "execution_count": 413,
   "id": "c30beee2-b3e5-498a-85df-95625fc2e11f",
   "metadata": {},
   "outputs": [],
   "source": [
    "pred_max = np.array([0.5,0.5,0.05,0.07,0.03,0,0,0])"
   ]
  },
  {
   "cell_type": "code",
   "execution_count": 433,
   "id": "b63b724c-618a-4e0a-8894-8e066fd01d30",
   "metadata": {},
   "outputs": [
    {
     "data": {
      "text/plain": [
       "(0.05343659718831384, 0.09999999999999998)"
      ]
     },
     "execution_count": 433,
     "metadata": {},
     "output_type": "execute_result"
    }
   ],
   "source": [
    "# this function only describes how much a singular value in al ist stands out.\n",
    "# if all values in the lsit are high or low this is 1\n",
    "# the smaller the proportiopn of number of disimilar vlaues are to other more similar values the lower this number\n",
    "# the larger the gap between the dissimilar numbers and the simialr number the smaller this number\n",
    "# only able to interpret probabilities or values between 0 and 1\n",
    "# this function outputs an estimate an inverse of the classification confidence based on the probabilities of all the classes.\n",
    "\n",
    "def unkown_probs_calc(probs, threshold):\n",
    "    # above threshold sqrt the probs and below threshold **2 the probs\n",
    "    probs = probs - threshold\n",
    "    diff_matrix = np.abs(probs[:, np.newaxis] - probs)\n",
    "    diff_matrix_sum = np.sum(diff_matrix)\n",
    "    probs_sum = np.sum(probs)\n",
    "    class_val = (diff_matrix_sum/probs_sum)\n",
    "    max_class_val = ((len(probs)-1)*2)\n",
    "    kown_prob = class_val/max_class_val\n",
    "    unknown_prob = 1-kown_prob\n",
    "    \n",
    "    return(unknown_prob)\n",
    "\n",
    "\n",
    "unkown_probs_calc(probs=pred, threshold=0.9)"
   ]
  },
  {
   "cell_type": "code",
   "execution_count": 439,
   "id": "a61af188-5fc2-409d-8be4-42b398cf255a",
   "metadata": {},
   "outputs": [
    {
     "data": {
      "text/plain": [
       "0.99498743710662"
      ]
     },
     "execution_count": 439,
     "metadata": {},
     "output_type": "execute_result"
    }
   ],
   "source": [
    "np.sqrt(0.99)"
   ]
  },
  {
   "cell_type": "code",
   "execution_count": 437,
   "id": "a08f9710-4b66-4d26-a77e-d02a643ff40c",
   "metadata": {},
   "outputs": [
    {
     "data": {
      "text/plain": [
       "0.0001"
      ]
     },
     "execution_count": 437,
     "metadata": {},
     "output_type": "execute_result"
    }
   ],
   "source": [
    "0.01*0.01"
   ]
  },
  {
   "cell_type": "code",
   "execution_count": null,
   "id": "125f03a2-24c5-4508-aac2-daeab321ea55",
   "metadata": {},
   "outputs": [],
   "source": [
    "# becasue the softmax output alsways sums to 1 we can use a different function too\n",
    "\n",
    "def unkown_probs_calc_zero_sum(probs):\n",
    "    \n",
    "    return(unknown_prob)"
   ]
  },
  {
   "cell_type": "code",
   "execution_count": null,
   "id": "a4c757ba-41a6-448e-bf04-09d484ec96f2",
   "metadata": {},
   "outputs": [],
   "source": [
    "# ADD SEGMENTATION HERE AND ADD SCRIPT TO GRADIO\n",
    "# ADD UNKNOWN CLASS APPLY FUNCTION"
   ]
  },
  {
   "cell_type": "code",
   "execution_count": null,
   "id": "7778c871-73a6-49df-a322-1f57ea465f0f",
   "metadata": {},
   "outputs": [],
   "source": []
  }
 ],
 "metadata": {
  "kernelspec": {
   "display_name": "BC_310",
   "language": "python",
   "name": "bc_310"
  },
  "language_info": {
   "codemirror_mode": {
    "name": "ipython",
    "version": 3
   },
   "file_extension": ".py",
   "mimetype": "text/x-python",
   "name": "python",
   "nbconvert_exporter": "python",
   "pygments_lexer": "ipython3",
   "version": "3.10.9"
  }
 },
 "nbformat": 4,
 "nbformat_minor": 5
}
