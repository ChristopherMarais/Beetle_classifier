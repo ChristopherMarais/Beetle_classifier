{
 "cells": [
  {
   "cell_type": "code",
   "execution_count": 1,
   "id": "710a009a-6fd3-4c76-a12e-137730b994a1",
   "metadata": {},
   "outputs": [],
   "source": [
    "import os\n",
    "import dill\n",
    "import numpy as np\n",
    "from fastai.tabular.all import *\n",
    "from fastai.vision.all import *\n",
    "from fastai.vision.utils import get_image_files\n",
    "from Ambrosia import pre_process_image\n",
    "\n",
    "from skimage import io"
   ]
  },
  {
   "cell_type": "code",
   "execution_count": 2,
   "id": "b63b724c-618a-4e0a-8894-8e066fd01d30",
   "metadata": {},
   "outputs": [],
   "source": [
    "# this function only describes how much a singular value in al ist stands out.\n",
    "# if all values in the lsit are high or low this is 1\n",
    "# the smaller the proportiopn of number of disimilar vlaues are to other more similar values the lower this number\n",
    "# the larger the gap between the dissimilar numbers and the simialr number the smaller this number\n",
    "# only able to interpret probabilities or values between 0 and 1\n",
    "# this function outputs an estimate an inverse of the classification confidence based on the probabilities of all the classes.\n",
    "# the wedge threshold splits the data on a threshold with a magnitude of a positive int to force a ledge/peak in the data\n",
    "def unkown_prob_calc(probs, wedge_threshold, wedge_magnitude=1, wedge=True):\n",
    "    if wedge:\n",
    "        probs = np.where(probs<=wedge_threshold , probs**(2*wedge_magnitude), probs)\n",
    "        probs = np.where(probs>=wedge_threshold , probs**(1/(2*wedge_magnitude)), probs)\n",
    "    diff_matrix = np.abs(probs[:, np.newaxis] - probs)\n",
    "    diff_matrix_sum = np.sum(diff_matrix)\n",
    "    probs_sum = np.sum(probs)\n",
    "    class_val = (diff_matrix_sum/probs_sum)\n",
    "    max_class_val = ((len(probs)-1)*2)\n",
    "    kown_prob = class_val/max_class_val\n",
    "    unknown_prob = 1-kown_prob\n",
    "    return(unknown_prob)"
   ]
  },
  {
   "cell_type": "code",
   "execution_count": 3,
   "id": "28b72984-3847-4ef7-987c-46c364bdb0b7",
   "metadata": {},
   "outputs": [
    {
     "ename": "AttributeError",
     "evalue": "module 'numpy' has no attribute 'arry'",
     "output_type": "error",
     "traceback": [
      "\u001b[0;31m---------------------------------------------------------------------------\u001b[0m",
      "\u001b[0;31mAttributeError\u001b[0m                            Traceback (most recent call last)",
      "Cell \u001b[0;32mIn[3], line 19\u001b[0m\n\u001b[1;32m     17\u001b[0m class_arr \u001b[38;5;241m=\u001b[39m np\u001b[38;5;241m.\u001b[39mappend(np\u001b[38;5;241m.\u001b[39marray(learn\u001b[38;5;241m.\u001b[39mdls\u001b[38;5;241m.\u001b[39mvocab), \u001b[38;5;124m\"\u001b[39m\u001b[38;5;124mUnknown\u001b[39m\u001b[38;5;124m\"\u001b[39m)\n\u001b[1;32m     18\u001b[0m \u001b[38;5;66;03m# get predictions for all segments\u001b[39;00m\n\u001b[0;32m---> 19\u001b[0m compound_prob_arr \u001b[38;5;241m=\u001b[39m \u001b[43mnp\u001b[49m\u001b[38;5;241;43m.\u001b[39;49m\u001b[43marry\u001b[49m([])\n\u001b[1;32m     20\u001b[0m \u001b[38;5;28;01mfor\u001b[39;00m i \u001b[38;5;129;01min\u001b[39;00m pre_process\u001b[38;5;241m.\u001b[39mcol_image_lst:\n\u001b[1;32m     21\u001b[0m     prob_ar \u001b[38;5;241m=\u001b[39m np\u001b[38;5;241m.\u001b[39marray(learn\u001b[38;5;241m.\u001b[39mpredict(pre_process\u001b[38;5;241m.\u001b[39mcol_image_lst[i])[\u001b[38;5;241m2\u001b[39m])\n",
      "File \u001b[0;32m/blue/hulcr/gmarais/conda/envs/BC_310/lib/python3.10/site-packages/numpy/__init__.py:311\u001b[0m, in \u001b[0;36m__getattr__\u001b[0;34m(attr)\u001b[0m\n\u001b[1;32m    308\u001b[0m     \u001b[38;5;28;01mfrom\u001b[39;00m \u001b[38;5;21;01m.\u001b[39;00m\u001b[38;5;21;01mtesting\u001b[39;00m \u001b[38;5;28;01mimport\u001b[39;00m Tester\n\u001b[1;32m    309\u001b[0m     \u001b[38;5;28;01mreturn\u001b[39;00m Tester\n\u001b[0;32m--> 311\u001b[0m \u001b[38;5;28;01mraise\u001b[39;00m \u001b[38;5;167;01mAttributeError\u001b[39;00m(\u001b[38;5;124m\"\u001b[39m\u001b[38;5;124mmodule \u001b[39m\u001b[38;5;132;01m{!r}\u001b[39;00m\u001b[38;5;124m has no attribute \u001b[39m\u001b[38;5;124m\"\u001b[39m\n\u001b[1;32m    312\u001b[0m                      \u001b[38;5;124m\"\u001b[39m\u001b[38;5;132;01m{!r}\u001b[39;00m\u001b[38;5;124m\"\u001b[39m\u001b[38;5;241m.\u001b[39mformat(\u001b[38;5;18m__name__\u001b[39m, attr))\n",
      "\u001b[0;31mAttributeError\u001b[0m: module 'numpy' has no attribute 'arry'"
     ]
    }
   ],
   "source": [
    "wd = \"/blue/hulcr/gmarais/Beetle_data/Beetle_classification_deep_data/Coccotypes_dactyliperda/Vial_16296/Subset_1\"\n",
    "image_name = \"IMG_0052.JPG\"\n",
    "image_path = wd+\"/\"+image_name\n",
    "\n",
    "\n",
    "\n",
    "\n",
    "# load compound image\n",
    "image_arr = io.imread(image_path)\n",
    "# Segment image into smaller images\n",
    "pre_process = pre_process_image(manual_thresh_buffer=0.15, image = image_arr) # use image_dir if directory of image used\n",
    "pre_process.segment(cluster_num=2, \n",
    "                    image_edge_buffer=50)\n",
    "# load model\n",
    "learn = load_learner(Path(\"/blue/hulcr/gmarais/Beetle_classifier/Models\") / 'beetle_classifier.pkl', cpu=False, pickle_module=dill)\n",
    "# get class names\n",
    "class_arr = np.append(np.array(learn.dls.vocab), \"Unknown\")\n",
    "# get predictions for all segments\n",
    "compound_prob_arr = np.arry([])\n",
    "for i in pre_process.col_image_lst:\n",
    "    prob_ar = np.array(learn.predict(pre_process.col_image_lst[i])[2])\n",
    "    unkown_prob = unkown_prob_calc(probs=pred, wedge_threshold=0.9, wedge_magnitude=1, wedge=True)\n",
    "    prob_ar = np.append(prob_ar, unkown_prob)\n",
    "    compound_prob_arr = np.append(compound_prob_arr, unkown_prob)"
   ]
  },
  {
   "cell_type": "code",
   "execution_count": null,
   "id": "569b20b4-b130-4074-bb4e-fb66c5a7f2b1",
   "metadata": {},
   "outputs": [],
   "source": [
    "compound_prob_arr"
   ]
  }
 ],
 "metadata": {
  "kernelspec": {
   "display_name": "BC_310",
   "language": "python",
   "name": "bc_310"
  },
  "language_info": {
   "codemirror_mode": {
    "name": "ipython",
    "version": 3
   },
   "file_extension": ".py",
   "mimetype": "text/x-python",
   "name": "python",
   "nbconvert_exporter": "python",
   "pygments_lexer": "ipython3",
   "version": "3.10.9"
  }
 },
 "nbformat": 4,
 "nbformat_minor": 5
}
