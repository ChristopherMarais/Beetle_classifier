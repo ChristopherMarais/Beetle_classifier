{
 "cells": [
  {
   "cell_type": "code",
   "execution_count": null,
   "id": "710a009a-6fd3-4c76-a12e-137730b994a1",
   "metadata": {},
   "outputs": [],
   "source": [
    "import dill\n",
    "from fastai.tabular.all import *\n",
    "from fastai.vision.all import *\n",
    "from fastai.vision.utils import get_image_files\n",
    "\n",
    "learn = load_learner(Path(\"/blue/hulcr/gmarais/Beetle_classifier/Models\") / 'beetle_classifier.pkl', cpu=False, pickle_module=dill)\n",
    "learn.dls.vocab # get the classes in the model other than unknown\n",
    "### Aplly to single image\n",
    "# pred = learn.predict(\"/blue/hulcr/gmarais/Beetle_data/selected_images/test_data/Coccotypes_dactyliperda/Coccotypes_dactyliperda_16296_1_0052_1.JPG\")\n",
    "# print(pred)\n",
    "\n",
    "### apply to multiple unlabelled images\n",
    "# dataset_path=r\"/blue/hulcr/gmarais/Beetle_data/selected_images\"\n",
    "# files = get_image_files(path=dataset_path, recurse=True, folders=('test_data'))\n",
    "# apply_dl = learn.dls.test_dl(files, with_labels=False)\n",
    "# preds, targets = learn.get_preds(dl=apply_dl)"
   ]
  },
  {
   "cell_type": "code",
   "execution_count": null,
   "id": "1b59924b-a1d5-4ddd-8709-6a78aaf57d3f",
   "metadata": {},
   "outputs": [],
   "source": [
    "import numpy as np"
   ]
  },
  {
   "cell_type": "code",
   "execution_count": null,
   "id": "11101a65-bf08-4f29-935d-1647d8084ea1",
   "metadata": {},
   "outputs": [],
   "source": [
    "pred = learn.predict(\"/blue/hulcr/gmarais/Beetle_data/selected_images/test_data/Coccotypes_dactyliperda/Coccotypes_dactyliperda_16296_1_0052_1.JPG\")\n",
    "pred = np.array(pred[2])\n",
    "pred"
   ]
  },
  {
   "cell_type": "code",
   "execution_count": null,
   "id": "b63b724c-618a-4e0a-8894-8e066fd01d30",
   "metadata": {},
   "outputs": [],
   "source": [
    "# this function only describes how much a singular value in al ist stands out.\n",
    "# if all values in the lsit are high or low this is 1\n",
    "# the smaller the proportiopn of number of disimilar vlaues are to other more similar values the lower this number\n",
    "# the larger the gap between the dissimilar numbers and the simialr number the smaller this number\n",
    "# only able to interpret probabilities or values between 0 and 1\n",
    "# this function outputs an estimate an inverse of the classification confidence based on the probabilities of all the classes.\n",
    "# the wedge threshold splits the data on a threshold with a magnitude of a positive int to force a ledge/peak in the data\n",
    "def unkown_prob_calc(probs, wedge_threshold, wedge_magnitude=1, wedge=True):\n",
    "    if wedge:\n",
    "        probs = np.where(probs<=wedge_threshold , probs**(2*wedge_magnitude), probs)\n",
    "        probs = np.where(probs>=wedge_threshold , probs**(1/(2*wedge_magnitude)), probs)\n",
    "    diff_matrix = np.abs(probs[:, np.newaxis] - probs)\n",
    "    diff_matrix_sum = np.sum(diff_matrix)\n",
    "    probs_sum = np.sum(probs)\n",
    "    class_val = (diff_matrix_sum/probs_sum)\n",
    "    max_class_val = ((len(probs)-1)*2)\n",
    "    kown_prob = class_val/max_class_val\n",
    "    unknown_prob = 1-kown_prob\n",
    "    \n",
    "    return(unknown_prob)\n",
    "\n",
    "\n",
    "unkown_probs_calc(probs=pred, wedge_threshold=0.9, wedge_magnitude=1, wedge=True)"
   ]
  },
  {
   "cell_type": "code",
   "execution_count": null,
   "id": "a4c757ba-41a6-448e-bf04-09d484ec96f2",
   "metadata": {},
   "outputs": [],
   "source": [
    "# ADD SEGMENTATION HERE AND ADD SCRIPT TO GRADIO\n",
    "# ADD UNKNOWN CLASS APPLY FUNCTION"
   ]
  },
  {
   "cell_type": "code",
   "execution_count": null,
   "id": "7778c871-73a6-49df-a322-1f57ea465f0f",
   "metadata": {},
   "outputs": [],
   "source": []
  }
 ],
 "metadata": {
  "kernelspec": {
   "display_name": "BC_310",
   "language": "python",
   "name": "bc_310"
  },
  "language_info": {
   "codemirror_mode": {
    "name": "ipython",
    "version": 3
   },
   "file_extension": ".py",
   "mimetype": "text/x-python",
   "name": "python",
   "nbconvert_exporter": "python",
   "pygments_lexer": "ipython3",
   "version": "3.10.9"
  }
 },
 "nbformat": 4,
 "nbformat_minor": 5
}
