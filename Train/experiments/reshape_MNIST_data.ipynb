{
 "cells": [
  {
   "cell_type": "code",
   "execution_count": 1,
   "id": "10911142-8b75-4063-a3f0-a199940047d5",
   "metadata": {
    "execution": {
     "iopub.execute_input": "2023-02-22T22:38:39.193179Z",
     "iopub.status.busy": "2023-02-22T22:38:39.192678Z",
     "iopub.status.idle": "2023-02-22T22:38:41.209154Z",
     "shell.execute_reply": "2023-02-22T22:38:41.208651Z",
     "shell.execute_reply.started": "2023-02-22T22:38:39.193179Z"
    },
    "tags": []
   },
   "outputs": [
    {
     "name": "stderr",
     "output_type": "stream",
     "text": [
      "C:\\Users\\GCM\\AppData\\Local\\Temp\\ipykernel_21916\\3519828886.py:5: UserWarning: viewer requires Qt\n",
      "  from skimage.viewer import ImageViewer\n"
     ]
    }
   ],
   "source": [
    "import os\n",
    "import re\n",
    "import numpy as np\n",
    "from skimage import color, io, transform, util\n",
    "from skimage.viewer import ImageViewer\n",
    "import matplotlib.pyplot as plt\n",
    "io.use_plugin('matplotlib')"
   ]
  },
  {
   "cell_type": "code",
   "execution_count": 2,
   "id": "e1c0be5e-43bf-4dd1-a400-053733c7e53b",
   "metadata": {
    "execution": {
     "iopub.execute_input": "2023-02-22T22:38:41.210652Z",
     "iopub.status.busy": "2023-02-22T22:38:41.210153Z",
     "iopub.status.idle": "2023-02-22T22:38:41.488154Z",
     "shell.execute_reply": "2023-02-22T22:38:41.487652Z",
     "shell.execute_reply.started": "2023-02-22T22:38:41.210652Z"
    },
    "tags": []
   },
   "outputs": [],
   "source": [
    "# Set the path of the directory containing the images\n",
    "path = 'E:\\\\GIT_REPOS\\\\LAB\\\\Beetle_classifier\\\\Train\\\\DATASET'\n",
    "\n",
    "# Get a list of all files in the directory and its subdirectories\n",
    "files = []\n",
    "for dirpath, dirnames, filenames in os.walk(path):\n",
    "    for filename in filenames:\n",
    "        files.append(os.path.join(dirpath, filename))\n",
    "\n",
    "# Filter the list to keep only image files (JPEG, PNG, GIF, BMP, etc.)\n",
    "image_files = [f for f in files if f.endswith(('.jpeg', '.jpg', '.png', '.gif', '.bmp'))]"
   ]
  },
  {
   "cell_type": "code",
   "execution_count": 3,
   "id": "e029d6f3-c286-4597-968f-84f41903a780",
   "metadata": {
    "execution": {
     "iopub.execute_input": "2023-02-22T22:38:41.490652Z",
     "iopub.status.busy": "2023-02-22T22:38:41.490152Z",
     "iopub.status.idle": "2023-02-22T22:45:51.639793Z",
     "shell.execute_reply": "2023-02-22T22:45:51.638292Z",
     "shell.execute_reply.started": "2023-02-22T22:38:41.490652Z"
    },
    "tags": []
   },
   "outputs": [
    {
     "name": "stdout",
     "output_type": "stream",
     "text": [
      "1000\n",
      "2000\n",
      "3000\n",
      "4000\n",
      "5000\n",
      "6000\n",
      "7000\n",
      "8000\n",
      "9000\n",
      "10000\n",
      "11000\n",
      "12000\n",
      "13000\n",
      "14000\n",
      "15000\n",
      "16000\n",
      "17000\n",
      "18000\n",
      "19000\n",
      "20000\n",
      "21000\n",
      "22000\n",
      "23000\n",
      "24000\n",
      "25000\n",
      "26000\n",
      "27000\n",
      "28000\n",
      "29000\n",
      "30000\n",
      "31000\n",
      "32000\n",
      "33000\n",
      "34000\n",
      "35000\n",
      "36000\n",
      "37000\n",
      "38000\n",
      "39000\n",
      "40000\n",
      "41000\n",
      "42000\n"
     ]
    }
   ],
   "source": [
    "j = 0\n",
    "for i in image_files:\n",
    "    # Load the grayscale image\n",
    "    img_gray = io.imread(i, as_gray=True)\n",
    "    # Resize the grayscale image to 224x224\n",
    "    img_gray_resized = transform.resize(img_gray, (224, 224), anti_aliasing=True)\n",
    "    # Convert the grayscale image to RGB color format\n",
    "    img_color = util.img_as_ubyte(color.gray2rgb(img_gray_resized))\n",
    "    \n",
    "    # new directory\n",
    "    new_i = re.sub(\"DATASET\", \"DATASET_C\", i)\n",
    "    # Save the RGB color image\n",
    "    io.imsave(new_i, img_color)\n",
    "    j += 1\n",
    "    if j % 1000 == 0:\n",
    "        print(j)"
   ]
  }
 ],
 "metadata": {
  "kernelspec": {
   "display_name": "Python 3 (ipykernel)",
   "language": "python",
   "name": "python3"
  },
  "language_info": {
   "codemirror_mode": {
    "name": "ipython",
    "version": 3
   },
   "file_extension": ".py",
   "mimetype": "text/x-python",
   "name": "python",
   "nbconvert_exporter": "python",
   "pygments_lexer": "ipython3",
   "version": "3.10.9"
  }
 },
 "nbformat": 4,
 "nbformat_minor": 5
}
