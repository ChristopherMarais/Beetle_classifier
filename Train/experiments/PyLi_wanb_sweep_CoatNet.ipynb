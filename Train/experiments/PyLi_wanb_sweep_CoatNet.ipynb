{
 "cells": [
  {
   "cell_type": "code",
   "execution_count": 1,
   "id": "c7b471f1-f5fa-4eb1-b9ae-2d67ed8838df",
   "metadata": {
    "execution": {
     "iopub.execute_input": "2023-03-08T17:58:59.109318Z",
     "iopub.status.busy": "2023-03-08T17:58:59.108321Z",
     "iopub.status.idle": "2023-03-08T17:59:03.628342Z",
     "shell.execute_reply": "2023-03-08T17:59:03.627372Z",
     "shell.execute_reply.started": "2023-03-08T17:58:59.109318Z"
    },
    "tags": []
   },
   "outputs": [],
   "source": [
    "# General\n",
    "import os\n",
    "from random import randint\n",
    "\n",
    "# Weights & Biases\n",
    "import wandb\n",
    "from pytorch_lightning.loggers import WandbLogger\n",
    "\n",
    "# Pytorch modules\n",
    "import torch\n",
    "from torch.nn import Linear, CrossEntropyLoss, functional as F\n",
    "from torch import nn\n",
    "from torch.optim import Adam\n",
    "from torch.utils.data import DataLoader, random_split, Dataset\n",
    "\n",
    "# Pytorch-Lightning\n",
    "from pytorch_lightning import LightningDataModule, LightningModule, Trainer\n",
    "from pytorch_lightning.callbacks import ModelCheckpoint, Callback\n",
    "import pytorch_lightning as pl\n",
    "from pytorch_lightning.loggers import WandbLogger\n",
    "import torchmetrics # a new pakage for torchmetrics\n",
    "from torchmetrics.functional import accuracy\n",
    "\n",
    "# pytorch dependent packages\n",
    "import timm # try using maxvit from torchvision it should be just as good if not better\n",
    "\n",
    "# sci-kit learn and scikit-image\n",
    "import sklearn\n",
    "import skimage\n",
    "\n",
    "# Dataset\n",
    "from torchvision.datasets import MNIST ######### not required\n",
    "from torchvision import transforms, models\n",
    "\n",
    "# to describe model\n",
    "from torchvision.models.feature_extraction import get_graph_node_names, create_feature_extractor\n",
    "\n",
    "# number of CPUs\n",
    "# cpu_count = 0 if torch.cuda.is_available() else os.cpu_count()\n",
    "\n",
    "# use GPU tensor cores\n",
    "torch.set_float32_matmul_precision('high')"
   ]
  },
  {
   "cell_type": "markdown",
   "id": "2aeb5a33-290c-4449-8127-0a8a1ed4c6f0",
   "metadata": {},
   "source": [
    "# Load data"
   ]
  },
  {
   "cell_type": "code",
   "execution_count": 2,
   "id": "01c28e3c-850d-48b6-8db9-3a8804e0c9ae",
   "metadata": {
    "execution": {
     "iopub.execute_input": "2023-03-08T17:59:03.630342Z",
     "iopub.status.busy": "2023-03-08T17:59:03.630342Z",
     "iopub.status.idle": "2023-03-08T17:59:03.658662Z",
     "shell.execute_reply": "2023-03-08T17:59:03.657659Z",
     "shell.execute_reply.started": "2023-03-08T17:59:03.630342Z"
    },
    "tags": []
   },
   "outputs": [
    {
     "name": "stdout",
     "output_type": "stream",
     "text": [
      "Total Number of Classes : 10\n"
     ]
    },
    {
     "data": {
      "text/plain": [
       "{'0': 0,\n",
       " '1': 1,\n",
       " '2': 2,\n",
       " '3': 3,\n",
       " '4': 4,\n",
       " '5': 5,\n",
       " '6': 6,\n",
       " '7': 7,\n",
       " '8': 8,\n",
       " '9': 9}"
      ]
     },
     "execution_count": 2,
     "metadata": {},
     "output_type": "execute_result"
    }
   ],
   "source": [
    "# declaring the path of the train and test folders\n",
    "train_path = \"DATASET_C/TRAIN\"\n",
    "test_path = \"DATASET_C/TEST\"\n",
    "classes_dir_data = os.listdir(train_path)\n",
    "num_of_classes = len(classes_dir_data)\n",
    "print(\"Total Number of Classes :\" , num_of_classes)\n",
    "num = 0\n",
    "classes_dict = {}\n",
    "classes_lst = []\n",
    "num_dict = {}\n",
    "for c in  classes_dir_data:\n",
    "    classes_dict[c] = num\n",
    "    num_dict[num] = c\n",
    "    classes_lst.append(c)\n",
    "    num = num +1\n",
    "\"\"\"\n",
    "num_dict contains a dictionary of the classes numerically and it's corresponding classes.\n",
    "classes_dict contains a dictionary of the classes and the coresponding values numerically.\n",
    "\"\"\"\n",
    "num_of_classes = len(classes_dir_data)\n",
    "\n",
    "classes_dict"
   ]
  },
  {
   "cell_type": "code",
   "execution_count": 3,
   "id": "8b9e722b-cda4-4956-a0c1-8eb31023f765",
   "metadata": {
    "execution": {
     "iopub.execute_input": "2023-03-08T17:59:03.661650Z",
     "iopub.status.busy": "2023-03-08T17:59:03.661650Z",
     "iopub.status.idle": "2023-03-08T17:59:03.674640Z",
     "shell.execute_reply": "2023-03-08T17:59:03.673635Z",
     "shell.execute_reply.started": "2023-03-08T17:59:03.661650Z"
    },
    "tags": []
   },
   "outputs": [],
   "source": [
    "#creating the dataset\n",
    "#dataset\n",
    "class Image_Dataset(Dataset):\n",
    "\n",
    "    def __init__(self,classes,image_base_dir,transform = None, target_transform = None):\n",
    "        \"\"\"\n",
    "        classes:The classes in the dataset\n",
    "        image_base_dir:The directory of the folders containing the images\n",
    "        transform:The trasformations for the Images\n",
    "        Target_transform:The trasformations for the target\n",
    "        \"\"\"\n",
    "        self.img_labels = classes\n",
    "        self.imge_base_dir = image_base_dir\n",
    "        self.transform = transform\n",
    "        self.target_transform = target_transform\n",
    "\n",
    "    def __len__(self):\n",
    "        return len(self.img_labels)\n",
    "\n",
    "    def __getitem__(self,idx):\n",
    "        img_dir_list = os.listdir(os.path.join(self.imge_base_dir,self.img_labels[idx]))\n",
    "        image_path = img_dir_list[randint(0,len(img_dir_list)-1)]\n",
    "        #print(image_path)\n",
    "        image_path = os.path.join(self.imge_base_dir,self.img_labels[idx],image_path)\n",
    "        image = skimage.io.imread(image_path)\n",
    "        if self.transform:\n",
    "            image = self.transform(image)\n",
    "        if self.transform:\n",
    "            label = self.target_transform(self.img_labels[idx])\n",
    "        return image,label"
   ]
  },
  {
   "cell_type": "code",
   "execution_count": 4,
   "id": "9dbe4b19-9805-40b4-a513-ea35715a0c64",
   "metadata": {
    "execution": {
     "iopub.execute_input": "2023-03-08T17:59:03.676649Z",
     "iopub.status.busy": "2023-03-08T17:59:03.675645Z",
     "iopub.status.idle": "2023-03-08T17:59:03.689651Z",
     "shell.execute_reply": "2023-03-08T17:59:03.688635Z",
     "shell.execute_reply.started": "2023-03-08T17:59:03.676649Z"
    },
    "tags": []
   },
   "outputs": [],
   "source": [
    "size = 224 # need to be the same as what is used in layer_5/ input layer ot the cnn\n",
    "\n",
    "basic_transformations = transforms.Compose([\n",
    "    transforms.ToPILImage(),\n",
    "    transforms.Resize((size,size)),\n",
    "        transforms.Grayscale(1),\n",
    "    transforms.ToTensor()])\n",
    "training_transformations = transforms.Compose([\n",
    "    transforms.ToPILImage(),\n",
    "    transforms.Resize((size,size)),\n",
    "    transforms.RandomRotation(degrees = 45),\n",
    "    transforms.RandomHorizontalFlip(p = 0.005),\n",
    "        transforms.Grayscale(1),\n",
    "    transforms.ToTensor()\n",
    "])\n",
    "\n",
    "def target_transformations(x):\n",
    "    return torch.tensor(classes_dict.get(x))"
   ]
  },
  {
   "cell_type": "code",
   "execution_count": 5,
   "id": "7539d3a5-ca4f-4ba3-a462-05875d4b9a90",
   "metadata": {
    "execution": {
     "iopub.execute_input": "2023-03-08T17:59:03.691640Z",
     "iopub.status.busy": "2023-03-08T17:59:03.690649Z",
     "iopub.status.idle": "2023-03-08T17:59:03.705647Z",
     "shell.execute_reply": "2023-03-08T17:59:03.704646Z",
     "shell.execute_reply.started": "2023-03-08T17:59:03.691640Z"
    },
    "tags": []
   },
   "outputs": [],
   "source": [
    "class DataModule(LightningDataModule):\n",
    "\n",
    "    def __init__(self):\n",
    "            super().__init__()            \n",
    "\n",
    "    def prepare_data(self):\n",
    "        self.train = Image_Dataset(classes_dir_data,train_path,training_transformations,target_transformations)\n",
    "        self.valid = Image_Dataset(classes_dir_data,train_path,basic_transformations,target_transformations)\n",
    "        self.test = Image_Dataset(classes_dir_data,test_path,basic_transformations,target_transformations)\n",
    "\n",
    "    def train_dataloader(self):\n",
    "        return DataLoader(self.train,batch_size = 8,shuffle = True)#False, num_workers = cpu_count)\n",
    "\n",
    "    def val_dataloader(self):  \n",
    "        return DataLoader(self.valid,batch_size = 8,shuffle = True)#False, num_workers = cpu_count)\n",
    "\n",
    "    def test_dataloader(self):\n",
    "        return DataLoader(self.test,batch_size = 8,shuffle = True)#False, num_workers = cpu_count)"
   ]
  },
  {
   "cell_type": "code",
   "execution_count": 6,
   "id": "66eadea7-8c62-4c3f-93d6-ee1bf7b03494",
   "metadata": {
    "execution": {
     "iopub.execute_input": "2023-03-08T17:59:03.707636Z",
     "iopub.status.busy": "2023-03-08T17:59:03.706646Z",
     "iopub.status.idle": "2023-03-08T17:59:03.721656Z",
     "shell.execute_reply": "2023-03-08T17:59:03.720654Z",
     "shell.execute_reply.started": "2023-03-08T17:59:03.707636Z"
    },
    "tags": []
   },
   "outputs": [],
   "source": [
    "# import matplotlib.pyplot as plt\n",
    "# train_img_dataset = Image_Dataset(classes_dir_data,train_path,training_transformations,target_transformations)\n",
    "# train_loader_obj = DataLoader(train_img_dataset, batch_size = 8, shuffle = True)\n",
    "\n",
    "# # Display image and label.\n",
    "# train_features, train_labels = next(iter(train_loader_obj))\n",
    "# print(f\"Feature batch shape: {train_features.size()}\")\n",
    "# print(f\"Labels batch shape: {train_labels.size()}\")\n",
    "# img = train_features[0].squeeze()\n",
    "# label = train_labels[0]\n",
    "# plt.imshow(img, cmap=\"gray\")\n",
    "# plt.show()\n",
    "# print(f\"Label: {label}\")"
   ]
  },
  {
   "cell_type": "code",
   "execution_count": 7,
   "id": "958c02c1-2355-4c2d-85e4-31a101fdf612",
   "metadata": {
    "execution": {
     "iopub.execute_input": "2023-03-08T17:59:03.722654Z",
     "iopub.status.busy": "2023-03-08T17:59:03.722654Z",
     "iopub.status.idle": "2023-03-08T17:59:03.737167Z",
     "shell.execute_reply": "2023-03-08T17:59:03.736164Z",
     "shell.execute_reply.started": "2023-03-08T17:59:03.722654Z"
    },
    "tags": []
   },
   "outputs": [],
   "source": [
    "# test_img_dataset = Image_Dataset(classes_dir_data,test_path,basic_transformations,target_transformations)\n",
    "# test_loader_obj = DataLoader(test_img_dataset, batch_size = 8, shuffle = True)\n",
    "\n",
    "# # Display image and label.\n",
    "# train_features, train_labels = next(iter(test_loader_obj))\n",
    "# print(f\"Feature batch shape: {train_features.size()}\")\n",
    "# print(f\"Labels batch shape: {train_labels.size()}\")\n",
    "# img = train_features[0].squeeze()\n",
    "# label = train_labels[0]\n",
    "# plt.imshow(img, cmap=\"gray\")\n",
    "# plt.show()\n",
    "# print(f\"Label: {label}\")"
   ]
  },
  {
   "cell_type": "markdown",
   "id": "8c0e41f1-2dd9-481f-ae64-3bf0f7e1bbee",
   "metadata": {},
   "source": [
    "# Define Model"
   ]
  },
  {
   "cell_type": "markdown",
   "id": "f4a602fc-86b5-4dd1-a70a-a784bff9b1b9",
   "metadata": {},
   "source": [
    "Repalce layers with linear part of other model, then repalce with pretrained model"
   ]
  },
  {
   "cell_type": "code",
   "execution_count": 8,
   "id": "1816bdd2-4846-4dee-a595-190697564b38",
   "metadata": {
    "execution": {
     "iopub.execute_input": "2023-03-08T17:59:03.739171Z",
     "iopub.status.busy": "2023-03-08T17:59:03.738165Z",
     "iopub.status.idle": "2023-03-08T17:59:03.769176Z",
     "shell.execute_reply": "2023-03-08T17:59:03.768170Z",
     "shell.execute_reply.started": "2023-03-08T17:59:03.739171Z"
    },
    "tags": []
   },
   "outputs": [],
   "source": [
    "class MyModel(LightningModule):\n",
    "\n",
    "    def __init__(self, classes_lst, input_shape, num_classes=10, acc_task=\"multiclass\", lr=1e-3, transfer=False): #input_shape=(3,224,224) image shape\n",
    "        super().__init__()\n",
    "        \n",
    "        # metrics\n",
    "        self.acc_task = acc_task\n",
    "        self.lr = lr\n",
    "        self.num_classes = num_classes\n",
    "        self.accuracy = torchmetrics.Accuracy(task=self.acc_task, num_classes=self.num_classes)\n",
    "        self.class_names = classes_lst\n",
    "        self.loss = CrossEntropyLoss()\n",
    "        \n",
    "       # transfer learning if pretrained=True\n",
    "        self.feature_extractor = models.resnet18(pretrained=transfer)\n",
    "\n",
    "        if transfer:\n",
    "            # layers are frozen by using eval()\n",
    "            self.feature_extractor.eval()\n",
    "            # freeze params\n",
    "            for param in self.feature_extractor.parameters():\n",
    "                param.requires_grad = False\n",
    "        \n",
    "        n_sizes = self._get_conv_output(input_shape)\n",
    "\n",
    "        self.classifier = nn.Linear(n_sizes, num_classes)\n",
    "        \n",
    "    # returns the size of the output tensor going into the Linear layer from the conv block.\n",
    "    def _get_conv_output(self, shape):\n",
    "        batch_size = 1\n",
    "        tmp_input = torch.autograd.Variable(torch.rand(batch_size, *shape))\n",
    "\n",
    "        output_feat = self._forward_features(tmp_input) \n",
    "        n_size = output_feat.data.view(batch_size, -1).size(1)\n",
    "        \n",
    "        return n_size\n",
    "        \n",
    "    # returns the feature tensor from the conv block\n",
    "    def _forward_features(self, x):\n",
    "        x = self.feature_extractor(x)\n",
    "        \n",
    "        return x\n",
    "    \n",
    "    # will be used during inference\n",
    "    def forward(self, x):\n",
    "        x = self._forward_features(x)\n",
    "        x = x.view(x.size(0), -1)\n",
    "        x = self.classifier(x)\n",
    "       \n",
    "        return x\n",
    "\n",
    "    def configure_optimizers(self):\n",
    "        optimizer = torch.optim.Adam(self.parameters(),lr = self.lr)\n",
    "        return optimizer\n",
    "\n",
    "# The Pytorch-Lightning module handles all the iterations of the epoch\n",
    "\n",
    "    def training_step(self,batch,batch_idx):\n",
    "        x,y = batch\n",
    "        y_pred = self(x)\n",
    "        loss = F.cross_entropy(y_pred,y)\n",
    "        # Log training loss\n",
    "        self.log('train_loss', loss)\n",
    "        # Log metrics\n",
    "        self.log('train_acc', self.accuracy(y_pred, y))\n",
    "        return loss\n",
    "\n",
    "    def validation_step(self,batch,batch_idx):\n",
    "        preds, loss, acc = self._get_preds_loss_accuracy(batch)\n",
    "        # Log loss and metric\n",
    "        self.log('val_loss_alt', loss)\n",
    "        self.log('val_accuracy_alt', acc)\n",
    "        \n",
    "        x,y = batch\n",
    "        y_pred = self(x)\n",
    "        loss = F.cross_entropy(y_pred,y)\n",
    "        # Log training loss\n",
    "        self.log('val_loss', loss)\n",
    "        # Log metrics\n",
    "        self.log('val_acc', self.accuracy(y_pred, y))\n",
    "        self.cpu_pred = y_pred.to(\"cpu\").detach().numpy()\n",
    "        self.cpu_y = y.to(\"cpu\").detach().numpy()\n",
    "        wandb.log({\"val_conf_mat\" : wandb.plot.confusion_matrix(probs=self.cpu_pred,\n",
    "                        y_true=self.cpu_y, preds=None,\n",
    "                        class_names=self.class_names)})\n",
    "        return preds\n",
    "\n",
    "    def test_step(self,batch,batch_idx):\n",
    "        x,y = batch\n",
    "        y_pred = self(x)\n",
    "        loss = F.cross_entropy(y_pred,y)\n",
    "        # Log training loss\n",
    "        self.log('test_loss', loss)\n",
    "        # Log metrics\n",
    "        self.log('test_acc', self.accuracy(y_pred, y))\n",
    "        self.cpu_pred = y_pred.to(\"cpu\").detach().numpy()\n",
    "        self.cpu_y = y.to(\"cpu\").detach().numpy()\n",
    "        wandb.log({\"test_conf_mat\" : wandb.plot.confusion_matrix(probs=self.cpu_pred,\n",
    "                        y_true=self.cpu_y, preds=None,\n",
    "                        class_names=self.class_names)})\n",
    "        return loss\n",
    "    \n",
    "    def _get_preds_loss_accuracy(self, batch):\n",
    "        '''convenience function since train/valid/test steps are similar'''\n",
    "        x, y = batch\n",
    "        logits = self(x)\n",
    "        preds = torch.argmax(logits, dim=1)\n",
    "        loss = self.loss(logits, y)\n",
    "        acc = accuracy(preds, y, self.acc_task, num_classes=10)\n",
    "        return preds, loss, acc"
   ]
  },
  {
   "cell_type": "markdown",
   "id": "f561a2e3-1272-4e67-9322-dd9b7534fed3",
   "metadata": {},
   "source": [
    "# Single training run"
   ]
  },
  {
   "cell_type": "code",
   "execution_count": 9,
   "id": "188ce4ef-e6b7-4320-8e5d-ceeb616bf7d1",
   "metadata": {
    "execution": {
     "iopub.execute_input": "2023-03-08T17:59:03.771164Z",
     "iopub.status.busy": "2023-03-08T17:59:03.770163Z",
     "iopub.status.idle": "2023-03-08T17:59:03.784173Z",
     "shell.execute_reply": "2023-03-08T17:59:03.783174Z",
     "shell.execute_reply.started": "2023-03-08T17:59:03.771164Z"
    },
    "tags": []
   },
   "outputs": [],
   "source": [
    "checkpoint_callback = ModelCheckpoint(monitor='val_acc', mode='max')\n",
    "\n",
    "class LogPredictionsCallback(Callback):\n",
    "    \n",
    "    def on_validation_batch_end(\n",
    "        self, trainer, pl_module, outputs, batch, batch_idx, dataloader_idx):\n",
    "        \"\"\"Called when the validation batch ends.\"\"\"\n",
    " \n",
    "        # `outputs` comes from `LightningModule.validation_step`\n",
    "        # which corresponds to our model predictions in this case\n",
    "        \n",
    "        # Let's log 20 sample image predictions from first batch\n",
    "        if batch_idx == 0:\n",
    "            n = 20\n",
    "            x, y = batch\n",
    "            images = [img for img in x[:n]]\n",
    "            captions = [f'Ground Truth: {y_i} - Prediction: {y_pred}' for y_i, y_pred in zip(y[:n], outputs[:n])]\n",
    "            \n",
    "            # Option 1: log images with `WandbLogger.log_image`\n",
    "            wandb_logger.log_image(key='sample_images', images=images, caption=captions)\n",
    "\n",
    "            # Option 2: log predictions as a Table\n",
    "            columns = ['image', 'ground truth', 'prediction']\n",
    "            data = [[wandb.Image(x_i), y_i, y_pred] for x_i, y_i, y_pred in list(zip(x[:n], y[:n], outputs[:n]))]\n",
    "            wandb_logger.log_table(key='sample_table', columns=columns, data=data)\n",
    "\n",
    "log_predictions_callback = LogPredictionsCallback()"
   ]
  },
  {
   "cell_type": "code",
   "execution_count": 10,
   "id": "762279ca-26d9-4310-992f-b6f8912da7fe",
   "metadata": {
    "execution": {
     "iopub.execute_input": "2023-03-08T17:59:03.786167Z",
     "iopub.status.busy": "2023-03-08T17:59:03.785168Z",
     "iopub.status.idle": "2023-03-08T17:59:10.225274Z",
     "shell.execute_reply": "2023-03-08T17:59:10.224269Z",
     "shell.execute_reply.started": "2023-03-08T17:59:03.786167Z"
    },
    "tags": []
   },
   "outputs": [
    {
     "name": "stderr",
     "output_type": "stream",
     "text": [
      "\u001b[34m\u001b[1mwandb\u001b[0m: Currently logged in as: \u001b[33mchristopher-marais\u001b[0m. Use \u001b[1m`wandb login --relogin`\u001b[0m to force relogin\n"
     ]
    },
    {
     "data": {
      "application/vnd.jupyter.widget-view+json": {
       "model_id": "088f97a3d4f446e09bb11c8bef030328",
       "version_major": 2,
       "version_minor": 0
      },
      "text/plain": [
       "VBox(children=(Label(value='Waiting for wandb.init()...\\r'), FloatProgress(value=0.016933333332417533, max=1.0…"
      ]
     },
     "metadata": {},
     "output_type": "display_data"
    },
    {
     "data": {
      "text/html": [
       "wandb version 0.13.11 is available!  To upgrade, please run:\n",
       " $ pip install wandb --upgrade"
      ],
      "text/plain": [
       "<IPython.core.display.HTML object>"
      ]
     },
     "metadata": {},
     "output_type": "display_data"
    },
    {
     "data": {
      "text/html": [
       "Tracking run with wandb version 0.13.10"
      ],
      "text/plain": [
       "<IPython.core.display.HTML object>"
      ]
     },
     "metadata": {},
     "output_type": "display_data"
    },
    {
     "data": {
      "text/html": [
       "Run data is saved locally in <code>.\\wandb\\run-20230308_125906-kgjxxqrc</code>"
      ],
      "text/plain": [
       "<IPython.core.display.HTML object>"
      ]
     },
     "metadata": {},
     "output_type": "display_data"
    },
    {
     "data": {
      "text/html": [
       "Syncing run <strong><a href='https://wandb.ai/christopher-marais/computer_vision_test_single/runs/kgjxxqrc' target=\"_blank\">balmy-durian-49</a></strong> to <a href='https://wandb.ai/christopher-marais/computer_vision_test_single' target=\"_blank\">Weights & Biases</a> (<a href='https://wandb.me/run' target=\"_blank\">docs</a>)<br/>"
      ],
      "text/plain": [
       "<IPython.core.display.HTML object>"
      ]
     },
     "metadata": {},
     "output_type": "display_data"
    },
    {
     "data": {
      "text/html": [
       " View project at <a href='https://wandb.ai/christopher-marais/computer_vision_test_single' target=\"_blank\">https://wandb.ai/christopher-marais/computer_vision_test_single</a>"
      ],
      "text/plain": [
       "<IPython.core.display.HTML object>"
      ]
     },
     "metadata": {},
     "output_type": "display_data"
    },
    {
     "data": {
      "text/html": [
       " View run at <a href='https://wandb.ai/christopher-marais/computer_vision_test_single/runs/kgjxxqrc' target=\"_blank\">https://wandb.ai/christopher-marais/computer_vision_test_single/runs/kgjxxqrc</a>"
      ],
      "text/plain": [
       "<IPython.core.display.HTML object>"
      ]
     },
     "metadata": {},
     "output_type": "display_data"
    },
    {
     "name": "stderr",
     "output_type": "stream",
     "text": [
      "C:\\Users\\gcmar\\.conda\\envs\\BC_310\\lib\\site-packages\\torchvision\\models\\_utils.py:208: UserWarning: The parameter 'pretrained' is deprecated since 0.13 and may be removed in the future, please use 'weights' instead.\n",
      "  warnings.warn(\n",
      "C:\\Users\\gcmar\\.conda\\envs\\BC_310\\lib\\site-packages\\torchvision\\models\\_utils.py:223: UserWarning: Arguments other than a weight enum or `None` for 'weights' are deprecated since 0.13 and may be removed in the future. The current behavior is equivalent to passing `weights=None`.\n",
      "  warnings.warn(msg)\n",
      "GPU available: True (cuda), used: True\n",
      "TPU available: False, using: 0 TPU cores\n",
      "IPU available: False, using: 0 IPUs\n",
      "HPU available: False, using: 0 HPUs\n"
     ]
    }
   ],
   "source": [
    "wandb.login()\n",
    "wandb_logger = WandbLogger(project='computer_vision_test_single', log_model=True)\n",
    "\n",
    "# TRAIN\n",
    "# setup data\n",
    "# data = MNISTDataModule()\n",
    "data = DataModule()\n",
    "\n",
    "# setup model - choose different hyperparameters per experiment\n",
    "model = MyModel(classes_lst=classes_lst, num_classes=num_of_classes, input_shape=(3,224,224))\n",
    "\n",
    "\n",
    "trainer = Trainer(\n",
    "    accelerator='gpu', \n",
    "    devices=-1, # use all GPU's (-1)\n",
    "    #callbacks=[log_predictions_callback, checkpoint_callbacks], # log_predictions_callback, checkpoint_callback\n",
    "    logger=wandb_logger,    # W&B integration\n",
    "    max_epochs=5            # number of epochs\n",
    "    )"
   ]
  },
  {
   "cell_type": "code",
   "execution_count": 11,
   "id": "05c5995d-f9be-4377-bfc0-ea1298711b12",
   "metadata": {
    "execution": {
     "iopub.execute_input": "2023-03-08T17:59:10.227272Z",
     "iopub.status.busy": "2023-03-08T17:59:10.226268Z",
     "iopub.status.idle": "2023-03-08T17:59:13.745838Z",
     "shell.execute_reply": "2023-03-08T17:59:13.743815Z",
     "shell.execute_reply.started": "2023-03-08T17:59:10.227272Z"
    },
    "tags": []
   },
   "outputs": [
    {
     "name": "stderr",
     "output_type": "stream",
     "text": [
      "LOCAL_RANK: 0 - CUDA_VISIBLE_DEVICES: [0]\n",
      "\n",
      "  | Name              | Type               | Params\n",
      "---------------------------------------------------------\n",
      "0 | accuracy          | MulticlassAccuracy | 0     \n",
      "1 | loss              | CrossEntropyLoss   | 0     \n",
      "2 | feature_extractor | ResNet             | 11.7 M\n",
      "3 | classifier        | Linear             | 10.0 K\n",
      "---------------------------------------------------------\n",
      "11.7 M    Trainable params\n",
      "0         Non-trainable params\n",
      "11.7 M    Total params\n",
      "46.798    Total estimated model params size (MB)\n"
     ]
    },
    {
     "data": {
      "application/vnd.jupyter.widget-view+json": {
       "model_id": "a6e74542deec4d0caab8e996dd6ea1d5",
       "version_major": 2,
       "version_minor": 0
      },
      "text/plain": [
       "Sanity Checking: 0it [00:00, ?it/s]"
      ]
     },
     "metadata": {},
     "output_type": "display_data"
    },
    {
     "name": "stderr",
     "output_type": "stream",
     "text": [
      "C:\\Users\\gcmar\\.conda\\envs\\BC_310\\lib\\site-packages\\pytorch_lightning\\trainer\\connectors\\data_connector.py:488: PossibleUserWarning: Your `val_dataloader`'s sampler has shuffling enabled, it is strongly recommended that you turn shuffling off for val/test/predict dataloaders.\n",
      "  rank_zero_warn(\n",
      "C:\\Users\\gcmar\\.conda\\envs\\BC_310\\lib\\site-packages\\pytorch_lightning\\trainer\\connectors\\data_connector.py:224: PossibleUserWarning: The dataloader, val_dataloader 0, does not have many workers which may be a bottleneck. Consider increasing the value of the `num_workers` argument` (try 16 which is the number of cpus on this machine) in the `DataLoader` init to improve performance.\n",
      "  rank_zero_warn(\n"
     ]
    },
    {
     "ename": "RuntimeError",
     "evalue": "Given groups=1, weight of size [64, 3, 7, 7], expected input[8, 1, 224, 224] to have 3 channels, but got 1 channels instead",
     "output_type": "error",
     "traceback": [
      "\u001b[1;31m---------------------------------------------------------------------------\u001b[0m",
      "\u001b[1;31mRuntimeError\u001b[0m                              Traceback (most recent call last)",
      "Cell \u001b[1;32mIn[11], line 1\u001b[0m\n\u001b[1;32m----> 1\u001b[0m \u001b[43mtrainer\u001b[49m\u001b[38;5;241;43m.\u001b[39;49m\u001b[43mfit\u001b[49m\u001b[43m(\u001b[49m\u001b[43mmodel\u001b[49m\u001b[43m,\u001b[49m\u001b[43m \u001b[49m\u001b[43mdata\u001b[49m\u001b[43m)\u001b[49m\n",
      "File \u001b[1;32m~\\.conda\\envs\\BC_310\\lib\\site-packages\\pytorch_lightning\\trainer\\trainer.py:608\u001b[0m, in \u001b[0;36mTrainer.fit\u001b[1;34m(self, model, train_dataloaders, val_dataloaders, datamodule, ckpt_path)\u001b[0m\n\u001b[0;32m    606\u001b[0m model \u001b[38;5;241m=\u001b[39m \u001b[38;5;28mself\u001b[39m\u001b[38;5;241m.\u001b[39m_maybe_unwrap_optimized(model)\n\u001b[0;32m    607\u001b[0m \u001b[38;5;28mself\u001b[39m\u001b[38;5;241m.\u001b[39mstrategy\u001b[38;5;241m.\u001b[39m_lightning_module \u001b[38;5;241m=\u001b[39m model\n\u001b[1;32m--> 608\u001b[0m \u001b[43mcall\u001b[49m\u001b[38;5;241;43m.\u001b[39;49m\u001b[43m_call_and_handle_interrupt\u001b[49m\u001b[43m(\u001b[49m\n\u001b[0;32m    609\u001b[0m \u001b[43m    \u001b[49m\u001b[38;5;28;43mself\u001b[39;49m\u001b[43m,\u001b[49m\u001b[43m \u001b[49m\u001b[38;5;28;43mself\u001b[39;49m\u001b[38;5;241;43m.\u001b[39;49m\u001b[43m_fit_impl\u001b[49m\u001b[43m,\u001b[49m\u001b[43m \u001b[49m\u001b[43mmodel\u001b[49m\u001b[43m,\u001b[49m\u001b[43m \u001b[49m\u001b[43mtrain_dataloaders\u001b[49m\u001b[43m,\u001b[49m\u001b[43m \u001b[49m\u001b[43mval_dataloaders\u001b[49m\u001b[43m,\u001b[49m\u001b[43m \u001b[49m\u001b[43mdatamodule\u001b[49m\u001b[43m,\u001b[49m\u001b[43m \u001b[49m\u001b[43mckpt_path\u001b[49m\n\u001b[0;32m    610\u001b[0m \u001b[43m\u001b[49m\u001b[43m)\u001b[49m\n",
      "File \u001b[1;32m~\\.conda\\envs\\BC_310\\lib\\site-packages\\pytorch_lightning\\trainer\\call.py:38\u001b[0m, in \u001b[0;36m_call_and_handle_interrupt\u001b[1;34m(trainer, trainer_fn, *args, **kwargs)\u001b[0m\n\u001b[0;32m     36\u001b[0m         \u001b[38;5;28;01mreturn\u001b[39;00m trainer\u001b[38;5;241m.\u001b[39mstrategy\u001b[38;5;241m.\u001b[39mlauncher\u001b[38;5;241m.\u001b[39mlaunch(trainer_fn, \u001b[38;5;241m*\u001b[39margs, trainer\u001b[38;5;241m=\u001b[39mtrainer, \u001b[38;5;241m*\u001b[39m\u001b[38;5;241m*\u001b[39mkwargs)\n\u001b[0;32m     37\u001b[0m     \u001b[38;5;28;01melse\u001b[39;00m:\n\u001b[1;32m---> 38\u001b[0m         \u001b[38;5;28;01mreturn\u001b[39;00m trainer_fn(\u001b[38;5;241m*\u001b[39margs, \u001b[38;5;241m*\u001b[39m\u001b[38;5;241m*\u001b[39mkwargs)\n\u001b[0;32m     40\u001b[0m \u001b[38;5;28;01mexcept\u001b[39;00m _TunerExitException:\n\u001b[0;32m     41\u001b[0m     trainer\u001b[38;5;241m.\u001b[39m_call_teardown_hook()\n",
      "File \u001b[1;32m~\\.conda\\envs\\BC_310\\lib\\site-packages\\pytorch_lightning\\trainer\\trainer.py:650\u001b[0m, in \u001b[0;36mTrainer._fit_impl\u001b[1;34m(self, model, train_dataloaders, val_dataloaders, datamodule, ckpt_path)\u001b[0m\n\u001b[0;32m    643\u001b[0m ckpt_path \u001b[38;5;241m=\u001b[39m ckpt_path \u001b[38;5;129;01mor\u001b[39;00m \u001b[38;5;28mself\u001b[39m\u001b[38;5;241m.\u001b[39mresume_from_checkpoint\n\u001b[0;32m    644\u001b[0m \u001b[38;5;28mself\u001b[39m\u001b[38;5;241m.\u001b[39m_ckpt_path \u001b[38;5;241m=\u001b[39m \u001b[38;5;28mself\u001b[39m\u001b[38;5;241m.\u001b[39m_checkpoint_connector\u001b[38;5;241m.\u001b[39m_set_ckpt_path(\n\u001b[0;32m    645\u001b[0m     \u001b[38;5;28mself\u001b[39m\u001b[38;5;241m.\u001b[39mstate\u001b[38;5;241m.\u001b[39mfn,\n\u001b[0;32m    646\u001b[0m     ckpt_path,  \u001b[38;5;66;03m# type: ignore[arg-type]\u001b[39;00m\n\u001b[0;32m    647\u001b[0m     model_provided\u001b[38;5;241m=\u001b[39m\u001b[38;5;28;01mTrue\u001b[39;00m,\n\u001b[0;32m    648\u001b[0m     model_connected\u001b[38;5;241m=\u001b[39m\u001b[38;5;28mself\u001b[39m\u001b[38;5;241m.\u001b[39mlightning_module \u001b[38;5;129;01mis\u001b[39;00m \u001b[38;5;129;01mnot\u001b[39;00m \u001b[38;5;28;01mNone\u001b[39;00m,\n\u001b[0;32m    649\u001b[0m )\n\u001b[1;32m--> 650\u001b[0m \u001b[38;5;28;43mself\u001b[39;49m\u001b[38;5;241;43m.\u001b[39;49m\u001b[43m_run\u001b[49m\u001b[43m(\u001b[49m\u001b[43mmodel\u001b[49m\u001b[43m,\u001b[49m\u001b[43m \u001b[49m\u001b[43mckpt_path\u001b[49m\u001b[38;5;241;43m=\u001b[39;49m\u001b[38;5;28;43mself\u001b[39;49m\u001b[38;5;241;43m.\u001b[39;49m\u001b[43mckpt_path\u001b[49m\u001b[43m)\u001b[49m\n\u001b[0;32m    652\u001b[0m \u001b[38;5;28;01massert\u001b[39;00m \u001b[38;5;28mself\u001b[39m\u001b[38;5;241m.\u001b[39mstate\u001b[38;5;241m.\u001b[39mstopped\n\u001b[0;32m    653\u001b[0m \u001b[38;5;28mself\u001b[39m\u001b[38;5;241m.\u001b[39mtraining \u001b[38;5;241m=\u001b[39m \u001b[38;5;28;01mFalse\u001b[39;00m\n",
      "File \u001b[1;32m~\\.conda\\envs\\BC_310\\lib\\site-packages\\pytorch_lightning\\trainer\\trainer.py:1112\u001b[0m, in \u001b[0;36mTrainer._run\u001b[1;34m(self, model, ckpt_path)\u001b[0m\n\u001b[0;32m   1108\u001b[0m \u001b[38;5;28mself\u001b[39m\u001b[38;5;241m.\u001b[39m_checkpoint_connector\u001b[38;5;241m.\u001b[39mrestore_training_state()\n\u001b[0;32m   1110\u001b[0m \u001b[38;5;28mself\u001b[39m\u001b[38;5;241m.\u001b[39m_checkpoint_connector\u001b[38;5;241m.\u001b[39mresume_end()\n\u001b[1;32m-> 1112\u001b[0m results \u001b[38;5;241m=\u001b[39m \u001b[38;5;28;43mself\u001b[39;49m\u001b[38;5;241;43m.\u001b[39;49m\u001b[43m_run_stage\u001b[49m\u001b[43m(\u001b[49m\u001b[43m)\u001b[49m\n\u001b[0;32m   1114\u001b[0m log\u001b[38;5;241m.\u001b[39mdetail(\u001b[38;5;124mf\u001b[39m\u001b[38;5;124m\"\u001b[39m\u001b[38;5;132;01m{\u001b[39;00m\u001b[38;5;28mself\u001b[39m\u001b[38;5;241m.\u001b[39m\u001b[38;5;18m__class__\u001b[39m\u001b[38;5;241m.\u001b[39m\u001b[38;5;18m__name__\u001b[39m\u001b[38;5;132;01m}\u001b[39;00m\u001b[38;5;124m: trainer tearing down\u001b[39m\u001b[38;5;124m\"\u001b[39m)\n\u001b[0;32m   1115\u001b[0m \u001b[38;5;28mself\u001b[39m\u001b[38;5;241m.\u001b[39m_teardown()\n",
      "File \u001b[1;32m~\\.conda\\envs\\BC_310\\lib\\site-packages\\pytorch_lightning\\trainer\\trainer.py:1191\u001b[0m, in \u001b[0;36mTrainer._run_stage\u001b[1;34m(self)\u001b[0m\n\u001b[0;32m   1189\u001b[0m \u001b[38;5;28;01mif\u001b[39;00m \u001b[38;5;28mself\u001b[39m\u001b[38;5;241m.\u001b[39mpredicting:\n\u001b[0;32m   1190\u001b[0m     \u001b[38;5;28;01mreturn\u001b[39;00m \u001b[38;5;28mself\u001b[39m\u001b[38;5;241m.\u001b[39m_run_predict()\n\u001b[1;32m-> 1191\u001b[0m \u001b[38;5;28;43mself\u001b[39;49m\u001b[38;5;241;43m.\u001b[39;49m\u001b[43m_run_train\u001b[49m\u001b[43m(\u001b[49m\u001b[43m)\u001b[49m\n",
      "File \u001b[1;32m~\\.conda\\envs\\BC_310\\lib\\site-packages\\pytorch_lightning\\trainer\\trainer.py:1204\u001b[0m, in \u001b[0;36mTrainer._run_train\u001b[1;34m(self)\u001b[0m\n\u001b[0;32m   1201\u001b[0m \u001b[38;5;28mself\u001b[39m\u001b[38;5;241m.\u001b[39m_pre_training_routine()\n\u001b[0;32m   1203\u001b[0m \u001b[38;5;28;01mwith\u001b[39;00m isolate_rng():\n\u001b[1;32m-> 1204\u001b[0m     \u001b[38;5;28;43mself\u001b[39;49m\u001b[38;5;241;43m.\u001b[39;49m\u001b[43m_run_sanity_check\u001b[49m\u001b[43m(\u001b[49m\u001b[43m)\u001b[49m\n\u001b[0;32m   1206\u001b[0m \u001b[38;5;66;03m# enable train mode\u001b[39;00m\n\u001b[0;32m   1207\u001b[0m \u001b[38;5;28;01massert\u001b[39;00m \u001b[38;5;28mself\u001b[39m\u001b[38;5;241m.\u001b[39mmodel \u001b[38;5;129;01mis\u001b[39;00m \u001b[38;5;129;01mnot\u001b[39;00m \u001b[38;5;28;01mNone\u001b[39;00m\n",
      "File \u001b[1;32m~\\.conda\\envs\\BC_310\\lib\\site-packages\\pytorch_lightning\\trainer\\trainer.py:1276\u001b[0m, in \u001b[0;36mTrainer._run_sanity_check\u001b[1;34m(self)\u001b[0m\n\u001b[0;32m   1274\u001b[0m \u001b[38;5;66;03m# run eval step\u001b[39;00m\n\u001b[0;32m   1275\u001b[0m \u001b[38;5;28;01mwith\u001b[39;00m torch\u001b[38;5;241m.\u001b[39mno_grad():\n\u001b[1;32m-> 1276\u001b[0m     \u001b[43mval_loop\u001b[49m\u001b[38;5;241;43m.\u001b[39;49m\u001b[43mrun\u001b[49m\u001b[43m(\u001b[49m\u001b[43m)\u001b[49m\n\u001b[0;32m   1278\u001b[0m \u001b[38;5;28mself\u001b[39m\u001b[38;5;241m.\u001b[39m_call_callback_hooks(\u001b[38;5;124m\"\u001b[39m\u001b[38;5;124mon_sanity_check_end\u001b[39m\u001b[38;5;124m\"\u001b[39m)\n\u001b[0;32m   1280\u001b[0m \u001b[38;5;66;03m# reset logger connector\u001b[39;00m\n",
      "File \u001b[1;32m~\\.conda\\envs\\BC_310\\lib\\site-packages\\pytorch_lightning\\loops\\loop.py:199\u001b[0m, in \u001b[0;36mLoop.run\u001b[1;34m(self, *args, **kwargs)\u001b[0m\n\u001b[0;32m    197\u001b[0m \u001b[38;5;28;01mtry\u001b[39;00m:\n\u001b[0;32m    198\u001b[0m     \u001b[38;5;28mself\u001b[39m\u001b[38;5;241m.\u001b[39mon_advance_start(\u001b[38;5;241m*\u001b[39margs, \u001b[38;5;241m*\u001b[39m\u001b[38;5;241m*\u001b[39mkwargs)\n\u001b[1;32m--> 199\u001b[0m     \u001b[38;5;28mself\u001b[39m\u001b[38;5;241m.\u001b[39madvance(\u001b[38;5;241m*\u001b[39margs, \u001b[38;5;241m*\u001b[39m\u001b[38;5;241m*\u001b[39mkwargs)\n\u001b[0;32m    200\u001b[0m     \u001b[38;5;28mself\u001b[39m\u001b[38;5;241m.\u001b[39mon_advance_end()\n\u001b[0;32m    201\u001b[0m     \u001b[38;5;28mself\u001b[39m\u001b[38;5;241m.\u001b[39m_restarting \u001b[38;5;241m=\u001b[39m \u001b[38;5;28;01mFalse\u001b[39;00m\n",
      "File \u001b[1;32m~\\.conda\\envs\\BC_310\\lib\\site-packages\\pytorch_lightning\\loops\\dataloader\\evaluation_loop.py:152\u001b[0m, in \u001b[0;36mEvaluationLoop.advance\u001b[1;34m(self, *args, **kwargs)\u001b[0m\n\u001b[0;32m    150\u001b[0m \u001b[38;5;28;01mif\u001b[39;00m \u001b[38;5;28mself\u001b[39m\u001b[38;5;241m.\u001b[39mnum_dataloaders \u001b[38;5;241m>\u001b[39m \u001b[38;5;241m1\u001b[39m:\n\u001b[0;32m    151\u001b[0m     kwargs[\u001b[38;5;124m\"\u001b[39m\u001b[38;5;124mdataloader_idx\u001b[39m\u001b[38;5;124m\"\u001b[39m] \u001b[38;5;241m=\u001b[39m dataloader_idx\n\u001b[1;32m--> 152\u001b[0m dl_outputs \u001b[38;5;241m=\u001b[39m \u001b[38;5;28;43mself\u001b[39;49m\u001b[38;5;241;43m.\u001b[39;49m\u001b[43mepoch_loop\u001b[49m\u001b[38;5;241;43m.\u001b[39;49m\u001b[43mrun\u001b[49m\u001b[43m(\u001b[49m\u001b[38;5;28;43mself\u001b[39;49m\u001b[38;5;241;43m.\u001b[39;49m\u001b[43m_data_fetcher\u001b[49m\u001b[43m,\u001b[49m\u001b[43m \u001b[49m\u001b[43mdl_max_batches\u001b[49m\u001b[43m,\u001b[49m\u001b[43m \u001b[49m\u001b[43mkwargs\u001b[49m\u001b[43m)\u001b[49m\n\u001b[0;32m    154\u001b[0m \u001b[38;5;66;03m# store batch level output per dataloader\u001b[39;00m\n\u001b[0;32m    155\u001b[0m \u001b[38;5;28mself\u001b[39m\u001b[38;5;241m.\u001b[39m_outputs\u001b[38;5;241m.\u001b[39mappend(dl_outputs)\n",
      "File \u001b[1;32m~\\.conda\\envs\\BC_310\\lib\\site-packages\\pytorch_lightning\\loops\\loop.py:199\u001b[0m, in \u001b[0;36mLoop.run\u001b[1;34m(self, *args, **kwargs)\u001b[0m\n\u001b[0;32m    197\u001b[0m \u001b[38;5;28;01mtry\u001b[39;00m:\n\u001b[0;32m    198\u001b[0m     \u001b[38;5;28mself\u001b[39m\u001b[38;5;241m.\u001b[39mon_advance_start(\u001b[38;5;241m*\u001b[39margs, \u001b[38;5;241m*\u001b[39m\u001b[38;5;241m*\u001b[39mkwargs)\n\u001b[1;32m--> 199\u001b[0m     \u001b[38;5;28mself\u001b[39m\u001b[38;5;241m.\u001b[39madvance(\u001b[38;5;241m*\u001b[39margs, \u001b[38;5;241m*\u001b[39m\u001b[38;5;241m*\u001b[39mkwargs)\n\u001b[0;32m    200\u001b[0m     \u001b[38;5;28mself\u001b[39m\u001b[38;5;241m.\u001b[39mon_advance_end()\n\u001b[0;32m    201\u001b[0m     \u001b[38;5;28mself\u001b[39m\u001b[38;5;241m.\u001b[39m_restarting \u001b[38;5;241m=\u001b[39m \u001b[38;5;28;01mFalse\u001b[39;00m\n",
      "File \u001b[1;32m~\\.conda\\envs\\BC_310\\lib\\site-packages\\pytorch_lightning\\loops\\epoch\\evaluation_epoch_loop.py:137\u001b[0m, in \u001b[0;36mEvaluationEpochLoop.advance\u001b[1;34m(self, data_fetcher, dl_max_batches, kwargs)\u001b[0m\n\u001b[0;32m    134\u001b[0m \u001b[38;5;28mself\u001b[39m\u001b[38;5;241m.\u001b[39mbatch_progress\u001b[38;5;241m.\u001b[39mincrement_started()\n\u001b[0;32m    136\u001b[0m \u001b[38;5;66;03m# lightning module methods\u001b[39;00m\n\u001b[1;32m--> 137\u001b[0m output \u001b[38;5;241m=\u001b[39m \u001b[38;5;28mself\u001b[39m\u001b[38;5;241m.\u001b[39m_evaluation_step(\u001b[38;5;241m*\u001b[39m\u001b[38;5;241m*\u001b[39mkwargs)\n\u001b[0;32m    138\u001b[0m output \u001b[38;5;241m=\u001b[39m \u001b[38;5;28mself\u001b[39m\u001b[38;5;241m.\u001b[39m_evaluation_step_end(output)\n\u001b[0;32m    140\u001b[0m \u001b[38;5;28mself\u001b[39m\u001b[38;5;241m.\u001b[39mbatch_progress\u001b[38;5;241m.\u001b[39mincrement_processed()\n",
      "File \u001b[1;32m~\\.conda\\envs\\BC_310\\lib\\site-packages\\pytorch_lightning\\loops\\epoch\\evaluation_epoch_loop.py:234\u001b[0m, in \u001b[0;36mEvaluationEpochLoop._evaluation_step\u001b[1;34m(self, **kwargs)\u001b[0m\n\u001b[0;32m    223\u001b[0m \u001b[38;5;250m\u001b[39m\u001b[38;5;124;03m\"\"\"The evaluation step (validation_step or test_step depending on the trainer's state).\u001b[39;00m\n\u001b[0;32m    224\u001b[0m \n\u001b[0;32m    225\u001b[0m \u001b[38;5;124;03mArgs:\u001b[39;00m\n\u001b[1;32m   (...)\u001b[0m\n\u001b[0;32m    231\u001b[0m \u001b[38;5;124;03m    the outputs of the step\u001b[39;00m\n\u001b[0;32m    232\u001b[0m \u001b[38;5;124;03m\"\"\"\u001b[39;00m\n\u001b[0;32m    233\u001b[0m hook_name \u001b[38;5;241m=\u001b[39m \u001b[38;5;124m\"\u001b[39m\u001b[38;5;124mtest_step\u001b[39m\u001b[38;5;124m\"\u001b[39m \u001b[38;5;28;01mif\u001b[39;00m \u001b[38;5;28mself\u001b[39m\u001b[38;5;241m.\u001b[39mtrainer\u001b[38;5;241m.\u001b[39mtesting \u001b[38;5;28;01melse\u001b[39;00m \u001b[38;5;124m\"\u001b[39m\u001b[38;5;124mvalidation_step\u001b[39m\u001b[38;5;124m\"\u001b[39m\n\u001b[1;32m--> 234\u001b[0m output \u001b[38;5;241m=\u001b[39m \u001b[38;5;28;43mself\u001b[39;49m\u001b[38;5;241;43m.\u001b[39;49m\u001b[43mtrainer\u001b[49m\u001b[38;5;241;43m.\u001b[39;49m\u001b[43m_call_strategy_hook\u001b[49m\u001b[43m(\u001b[49m\u001b[43mhook_name\u001b[49m\u001b[43m,\u001b[49m\u001b[43m \u001b[49m\u001b[38;5;241;43m*\u001b[39;49m\u001b[43mkwargs\u001b[49m\u001b[38;5;241;43m.\u001b[39;49m\u001b[43mvalues\u001b[49m\u001b[43m(\u001b[49m\u001b[43m)\u001b[49m\u001b[43m)\u001b[49m\n\u001b[0;32m    236\u001b[0m \u001b[38;5;28;01mreturn\u001b[39;00m output\n",
      "File \u001b[1;32m~\\.conda\\envs\\BC_310\\lib\\site-packages\\pytorch_lightning\\trainer\\trainer.py:1494\u001b[0m, in \u001b[0;36mTrainer._call_strategy_hook\u001b[1;34m(self, hook_name, *args, **kwargs)\u001b[0m\n\u001b[0;32m   1491\u001b[0m     \u001b[38;5;28;01mreturn\u001b[39;00m\n\u001b[0;32m   1493\u001b[0m \u001b[38;5;28;01mwith\u001b[39;00m \u001b[38;5;28mself\u001b[39m\u001b[38;5;241m.\u001b[39mprofiler\u001b[38;5;241m.\u001b[39mprofile(\u001b[38;5;124mf\u001b[39m\u001b[38;5;124m\"\u001b[39m\u001b[38;5;124m[Strategy]\u001b[39m\u001b[38;5;132;01m{\u001b[39;00m\u001b[38;5;28mself\u001b[39m\u001b[38;5;241m.\u001b[39mstrategy\u001b[38;5;241m.\u001b[39m\u001b[38;5;18m__class__\u001b[39m\u001b[38;5;241m.\u001b[39m\u001b[38;5;18m__name__\u001b[39m\u001b[38;5;132;01m}\u001b[39;00m\u001b[38;5;124m.\u001b[39m\u001b[38;5;132;01m{\u001b[39;00mhook_name\u001b[38;5;132;01m}\u001b[39;00m\u001b[38;5;124m\"\u001b[39m):\n\u001b[1;32m-> 1494\u001b[0m     output \u001b[38;5;241m=\u001b[39m fn(\u001b[38;5;241m*\u001b[39margs, \u001b[38;5;241m*\u001b[39m\u001b[38;5;241m*\u001b[39mkwargs)\n\u001b[0;32m   1496\u001b[0m \u001b[38;5;66;03m# restore current_fx when nested context\u001b[39;00m\n\u001b[0;32m   1497\u001b[0m pl_module\u001b[38;5;241m.\u001b[39m_current_fx_name \u001b[38;5;241m=\u001b[39m prev_fx_name\n",
      "File \u001b[1;32m~\\.conda\\envs\\BC_310\\lib\\site-packages\\pytorch_lightning\\strategies\\strategy.py:390\u001b[0m, in \u001b[0;36mStrategy.validation_step\u001b[1;34m(self, *args, **kwargs)\u001b[0m\n\u001b[0;32m    388\u001b[0m \u001b[38;5;28;01mwith\u001b[39;00m \u001b[38;5;28mself\u001b[39m\u001b[38;5;241m.\u001b[39mprecision_plugin\u001b[38;5;241m.\u001b[39mval_step_context():\n\u001b[0;32m    389\u001b[0m     \u001b[38;5;28;01massert\u001b[39;00m \u001b[38;5;28misinstance\u001b[39m(\u001b[38;5;28mself\u001b[39m\u001b[38;5;241m.\u001b[39mmodel, ValidationStep)\n\u001b[1;32m--> 390\u001b[0m     \u001b[38;5;28;01mreturn\u001b[39;00m \u001b[38;5;28mself\u001b[39m\u001b[38;5;241m.\u001b[39mmodel\u001b[38;5;241m.\u001b[39mvalidation_step(\u001b[38;5;241m*\u001b[39margs, \u001b[38;5;241m*\u001b[39m\u001b[38;5;241m*\u001b[39mkwargs)\n",
      "Cell \u001b[1;32mIn[8], line 69\u001b[0m, in \u001b[0;36mMyModel.validation_step\u001b[1;34m(self, batch, batch_idx)\u001b[0m\n\u001b[0;32m     68\u001b[0m \u001b[38;5;28;01mdef\u001b[39;00m \u001b[38;5;21mvalidation_step\u001b[39m(\u001b[38;5;28mself\u001b[39m,batch,batch_idx):\n\u001b[1;32m---> 69\u001b[0m     preds, loss, acc \u001b[38;5;241m=\u001b[39m \u001b[38;5;28;43mself\u001b[39;49m\u001b[38;5;241;43m.\u001b[39;49m\u001b[43m_get_preds_loss_accuracy\u001b[49m\u001b[43m(\u001b[49m\u001b[43mbatch\u001b[49m\u001b[43m)\u001b[49m\n\u001b[0;32m     70\u001b[0m     \u001b[38;5;66;03m# Log loss and metric\u001b[39;00m\n\u001b[0;32m     71\u001b[0m     \u001b[38;5;28mself\u001b[39m\u001b[38;5;241m.\u001b[39mlog(\u001b[38;5;124m'\u001b[39m\u001b[38;5;124mval_loss_alt\u001b[39m\u001b[38;5;124m'\u001b[39m, loss)\n",
      "Cell \u001b[1;32mIn[8], line 106\u001b[0m, in \u001b[0;36mMyModel._get_preds_loss_accuracy\u001b[1;34m(self, batch)\u001b[0m\n\u001b[0;32m    104\u001b[0m \u001b[38;5;250m\u001b[39m\u001b[38;5;124;03m'''convenience function since train/valid/test steps are similar'''\u001b[39;00m\n\u001b[0;32m    105\u001b[0m x, y \u001b[38;5;241m=\u001b[39m batch\n\u001b[1;32m--> 106\u001b[0m logits \u001b[38;5;241m=\u001b[39m \u001b[38;5;28;43mself\u001b[39;49m\u001b[43m(\u001b[49m\u001b[43mx\u001b[49m\u001b[43m)\u001b[49m\n\u001b[0;32m    107\u001b[0m preds \u001b[38;5;241m=\u001b[39m torch\u001b[38;5;241m.\u001b[39margmax(logits, dim\u001b[38;5;241m=\u001b[39m\u001b[38;5;241m1\u001b[39m)\n\u001b[0;32m    108\u001b[0m loss \u001b[38;5;241m=\u001b[39m \u001b[38;5;28mself\u001b[39m\u001b[38;5;241m.\u001b[39mloss(logits, y)\n",
      "File \u001b[1;32m~\\.conda\\envs\\BC_310\\lib\\site-packages\\torch\\nn\\modules\\module.py:1194\u001b[0m, in \u001b[0;36mModule._call_impl\u001b[1;34m(self, *input, **kwargs)\u001b[0m\n\u001b[0;32m   1190\u001b[0m \u001b[38;5;66;03m# If we don't have any hooks, we want to skip the rest of the logic in\u001b[39;00m\n\u001b[0;32m   1191\u001b[0m \u001b[38;5;66;03m# this function, and just call forward.\u001b[39;00m\n\u001b[0;32m   1192\u001b[0m \u001b[38;5;28;01mif\u001b[39;00m \u001b[38;5;129;01mnot\u001b[39;00m (\u001b[38;5;28mself\u001b[39m\u001b[38;5;241m.\u001b[39m_backward_hooks \u001b[38;5;129;01mor\u001b[39;00m \u001b[38;5;28mself\u001b[39m\u001b[38;5;241m.\u001b[39m_forward_hooks \u001b[38;5;129;01mor\u001b[39;00m \u001b[38;5;28mself\u001b[39m\u001b[38;5;241m.\u001b[39m_forward_pre_hooks \u001b[38;5;129;01mor\u001b[39;00m _global_backward_hooks\n\u001b[0;32m   1193\u001b[0m         \u001b[38;5;129;01mor\u001b[39;00m _global_forward_hooks \u001b[38;5;129;01mor\u001b[39;00m _global_forward_pre_hooks):\n\u001b[1;32m-> 1194\u001b[0m     \u001b[38;5;28;01mreturn\u001b[39;00m forward_call(\u001b[38;5;241m*\u001b[39m\u001b[38;5;28minput\u001b[39m, \u001b[38;5;241m*\u001b[39m\u001b[38;5;241m*\u001b[39mkwargs)\n\u001b[0;32m   1195\u001b[0m \u001b[38;5;66;03m# Do not call functions when jit is used\u001b[39;00m\n\u001b[0;32m   1196\u001b[0m full_backward_hooks, non_full_backward_hooks \u001b[38;5;241m=\u001b[39m [], []\n",
      "Cell \u001b[1;32mIn[8], line 46\u001b[0m, in \u001b[0;36mMyModel.forward\u001b[1;34m(self, x)\u001b[0m\n\u001b[0;32m     45\u001b[0m \u001b[38;5;28;01mdef\u001b[39;00m \u001b[38;5;21mforward\u001b[39m(\u001b[38;5;28mself\u001b[39m, x):\n\u001b[1;32m---> 46\u001b[0m     x \u001b[38;5;241m=\u001b[39m \u001b[38;5;28;43mself\u001b[39;49m\u001b[38;5;241;43m.\u001b[39;49m\u001b[43m_forward_features\u001b[49m\u001b[43m(\u001b[49m\u001b[43mx\u001b[49m\u001b[43m)\u001b[49m\n\u001b[0;32m     47\u001b[0m     x \u001b[38;5;241m=\u001b[39m x\u001b[38;5;241m.\u001b[39mview(x\u001b[38;5;241m.\u001b[39msize(\u001b[38;5;241m0\u001b[39m), \u001b[38;5;241m-\u001b[39m\u001b[38;5;241m1\u001b[39m)\n\u001b[0;32m     48\u001b[0m     x \u001b[38;5;241m=\u001b[39m \u001b[38;5;28mself\u001b[39m\u001b[38;5;241m.\u001b[39mclassifier(x)\n",
      "Cell \u001b[1;32mIn[8], line 40\u001b[0m, in \u001b[0;36mMyModel._forward_features\u001b[1;34m(self, x)\u001b[0m\n\u001b[0;32m     39\u001b[0m \u001b[38;5;28;01mdef\u001b[39;00m \u001b[38;5;21m_forward_features\u001b[39m(\u001b[38;5;28mself\u001b[39m, x):\n\u001b[1;32m---> 40\u001b[0m     x \u001b[38;5;241m=\u001b[39m \u001b[38;5;28;43mself\u001b[39;49m\u001b[38;5;241;43m.\u001b[39;49m\u001b[43mfeature_extractor\u001b[49m\u001b[43m(\u001b[49m\u001b[43mx\u001b[49m\u001b[43m)\u001b[49m\n\u001b[0;32m     42\u001b[0m     \u001b[38;5;28;01mreturn\u001b[39;00m x\n",
      "File \u001b[1;32m~\\.conda\\envs\\BC_310\\lib\\site-packages\\torch\\nn\\modules\\module.py:1194\u001b[0m, in \u001b[0;36mModule._call_impl\u001b[1;34m(self, *input, **kwargs)\u001b[0m\n\u001b[0;32m   1190\u001b[0m \u001b[38;5;66;03m# If we don't have any hooks, we want to skip the rest of the logic in\u001b[39;00m\n\u001b[0;32m   1191\u001b[0m \u001b[38;5;66;03m# this function, and just call forward.\u001b[39;00m\n\u001b[0;32m   1192\u001b[0m \u001b[38;5;28;01mif\u001b[39;00m \u001b[38;5;129;01mnot\u001b[39;00m (\u001b[38;5;28mself\u001b[39m\u001b[38;5;241m.\u001b[39m_backward_hooks \u001b[38;5;129;01mor\u001b[39;00m \u001b[38;5;28mself\u001b[39m\u001b[38;5;241m.\u001b[39m_forward_hooks \u001b[38;5;129;01mor\u001b[39;00m \u001b[38;5;28mself\u001b[39m\u001b[38;5;241m.\u001b[39m_forward_pre_hooks \u001b[38;5;129;01mor\u001b[39;00m _global_backward_hooks\n\u001b[0;32m   1193\u001b[0m         \u001b[38;5;129;01mor\u001b[39;00m _global_forward_hooks \u001b[38;5;129;01mor\u001b[39;00m _global_forward_pre_hooks):\n\u001b[1;32m-> 1194\u001b[0m     \u001b[38;5;28;01mreturn\u001b[39;00m forward_call(\u001b[38;5;241m*\u001b[39m\u001b[38;5;28minput\u001b[39m, \u001b[38;5;241m*\u001b[39m\u001b[38;5;241m*\u001b[39mkwargs)\n\u001b[0;32m   1195\u001b[0m \u001b[38;5;66;03m# Do not call functions when jit is used\u001b[39;00m\n\u001b[0;32m   1196\u001b[0m full_backward_hooks, non_full_backward_hooks \u001b[38;5;241m=\u001b[39m [], []\n",
      "File \u001b[1;32m~\\.conda\\envs\\BC_310\\lib\\site-packages\\torchvision\\models\\resnet.py:285\u001b[0m, in \u001b[0;36mResNet.forward\u001b[1;34m(self, x)\u001b[0m\n\u001b[0;32m    284\u001b[0m \u001b[38;5;28;01mdef\u001b[39;00m \u001b[38;5;21mforward\u001b[39m(\u001b[38;5;28mself\u001b[39m, x: Tensor) \u001b[38;5;241m-\u001b[39m\u001b[38;5;241m>\u001b[39m Tensor:\n\u001b[1;32m--> 285\u001b[0m     \u001b[38;5;28;01mreturn\u001b[39;00m \u001b[38;5;28;43mself\u001b[39;49m\u001b[38;5;241;43m.\u001b[39;49m\u001b[43m_forward_impl\u001b[49m\u001b[43m(\u001b[49m\u001b[43mx\u001b[49m\u001b[43m)\u001b[49m\n",
      "File \u001b[1;32m~\\.conda\\envs\\BC_310\\lib\\site-packages\\torchvision\\models\\resnet.py:268\u001b[0m, in \u001b[0;36mResNet._forward_impl\u001b[1;34m(self, x)\u001b[0m\n\u001b[0;32m    266\u001b[0m \u001b[38;5;28;01mdef\u001b[39;00m \u001b[38;5;21m_forward_impl\u001b[39m(\u001b[38;5;28mself\u001b[39m, x: Tensor) \u001b[38;5;241m-\u001b[39m\u001b[38;5;241m>\u001b[39m Tensor:\n\u001b[0;32m    267\u001b[0m     \u001b[38;5;66;03m# See note [TorchScript super()]\u001b[39;00m\n\u001b[1;32m--> 268\u001b[0m     x \u001b[38;5;241m=\u001b[39m \u001b[38;5;28;43mself\u001b[39;49m\u001b[38;5;241;43m.\u001b[39;49m\u001b[43mconv1\u001b[49m\u001b[43m(\u001b[49m\u001b[43mx\u001b[49m\u001b[43m)\u001b[49m\n\u001b[0;32m    269\u001b[0m     x \u001b[38;5;241m=\u001b[39m \u001b[38;5;28mself\u001b[39m\u001b[38;5;241m.\u001b[39mbn1(x)\n\u001b[0;32m    270\u001b[0m     x \u001b[38;5;241m=\u001b[39m \u001b[38;5;28mself\u001b[39m\u001b[38;5;241m.\u001b[39mrelu(x)\n",
      "File \u001b[1;32m~\\.conda\\envs\\BC_310\\lib\\site-packages\\torch\\nn\\modules\\module.py:1194\u001b[0m, in \u001b[0;36mModule._call_impl\u001b[1;34m(self, *input, **kwargs)\u001b[0m\n\u001b[0;32m   1190\u001b[0m \u001b[38;5;66;03m# If we don't have any hooks, we want to skip the rest of the logic in\u001b[39;00m\n\u001b[0;32m   1191\u001b[0m \u001b[38;5;66;03m# this function, and just call forward.\u001b[39;00m\n\u001b[0;32m   1192\u001b[0m \u001b[38;5;28;01mif\u001b[39;00m \u001b[38;5;129;01mnot\u001b[39;00m (\u001b[38;5;28mself\u001b[39m\u001b[38;5;241m.\u001b[39m_backward_hooks \u001b[38;5;129;01mor\u001b[39;00m \u001b[38;5;28mself\u001b[39m\u001b[38;5;241m.\u001b[39m_forward_hooks \u001b[38;5;129;01mor\u001b[39;00m \u001b[38;5;28mself\u001b[39m\u001b[38;5;241m.\u001b[39m_forward_pre_hooks \u001b[38;5;129;01mor\u001b[39;00m _global_backward_hooks\n\u001b[0;32m   1193\u001b[0m         \u001b[38;5;129;01mor\u001b[39;00m _global_forward_hooks \u001b[38;5;129;01mor\u001b[39;00m _global_forward_pre_hooks):\n\u001b[1;32m-> 1194\u001b[0m     \u001b[38;5;28;01mreturn\u001b[39;00m forward_call(\u001b[38;5;241m*\u001b[39m\u001b[38;5;28minput\u001b[39m, \u001b[38;5;241m*\u001b[39m\u001b[38;5;241m*\u001b[39mkwargs)\n\u001b[0;32m   1195\u001b[0m \u001b[38;5;66;03m# Do not call functions when jit is used\u001b[39;00m\n\u001b[0;32m   1196\u001b[0m full_backward_hooks, non_full_backward_hooks \u001b[38;5;241m=\u001b[39m [], []\n",
      "File \u001b[1;32m~\\.conda\\envs\\BC_310\\lib\\site-packages\\torch\\nn\\modules\\conv.py:463\u001b[0m, in \u001b[0;36mConv2d.forward\u001b[1;34m(self, input)\u001b[0m\n\u001b[0;32m    462\u001b[0m \u001b[38;5;28;01mdef\u001b[39;00m \u001b[38;5;21mforward\u001b[39m(\u001b[38;5;28mself\u001b[39m, \u001b[38;5;28minput\u001b[39m: Tensor) \u001b[38;5;241m-\u001b[39m\u001b[38;5;241m>\u001b[39m Tensor:\n\u001b[1;32m--> 463\u001b[0m     \u001b[38;5;28;01mreturn\u001b[39;00m \u001b[38;5;28;43mself\u001b[39;49m\u001b[38;5;241;43m.\u001b[39;49m\u001b[43m_conv_forward\u001b[49m\u001b[43m(\u001b[49m\u001b[38;5;28;43minput\u001b[39;49m\u001b[43m,\u001b[49m\u001b[43m \u001b[49m\u001b[38;5;28;43mself\u001b[39;49m\u001b[38;5;241;43m.\u001b[39;49m\u001b[43mweight\u001b[49m\u001b[43m,\u001b[49m\u001b[43m \u001b[49m\u001b[38;5;28;43mself\u001b[39;49m\u001b[38;5;241;43m.\u001b[39;49m\u001b[43mbias\u001b[49m\u001b[43m)\u001b[49m\n",
      "File \u001b[1;32m~\\.conda\\envs\\BC_310\\lib\\site-packages\\torch\\nn\\modules\\conv.py:459\u001b[0m, in \u001b[0;36mConv2d._conv_forward\u001b[1;34m(self, input, weight, bias)\u001b[0m\n\u001b[0;32m    455\u001b[0m \u001b[38;5;28;01mif\u001b[39;00m \u001b[38;5;28mself\u001b[39m\u001b[38;5;241m.\u001b[39mpadding_mode \u001b[38;5;241m!=\u001b[39m \u001b[38;5;124m'\u001b[39m\u001b[38;5;124mzeros\u001b[39m\u001b[38;5;124m'\u001b[39m:\n\u001b[0;32m    456\u001b[0m     \u001b[38;5;28;01mreturn\u001b[39;00m F\u001b[38;5;241m.\u001b[39mconv2d(F\u001b[38;5;241m.\u001b[39mpad(\u001b[38;5;28minput\u001b[39m, \u001b[38;5;28mself\u001b[39m\u001b[38;5;241m.\u001b[39m_reversed_padding_repeated_twice, mode\u001b[38;5;241m=\u001b[39m\u001b[38;5;28mself\u001b[39m\u001b[38;5;241m.\u001b[39mpadding_mode),\n\u001b[0;32m    457\u001b[0m                     weight, bias, \u001b[38;5;28mself\u001b[39m\u001b[38;5;241m.\u001b[39mstride,\n\u001b[0;32m    458\u001b[0m                     _pair(\u001b[38;5;241m0\u001b[39m), \u001b[38;5;28mself\u001b[39m\u001b[38;5;241m.\u001b[39mdilation, \u001b[38;5;28mself\u001b[39m\u001b[38;5;241m.\u001b[39mgroups)\n\u001b[1;32m--> 459\u001b[0m \u001b[38;5;28;01mreturn\u001b[39;00m \u001b[43mF\u001b[49m\u001b[38;5;241;43m.\u001b[39;49m\u001b[43mconv2d\u001b[49m\u001b[43m(\u001b[49m\u001b[38;5;28;43minput\u001b[39;49m\u001b[43m,\u001b[49m\u001b[43m \u001b[49m\u001b[43mweight\u001b[49m\u001b[43m,\u001b[49m\u001b[43m \u001b[49m\u001b[43mbias\u001b[49m\u001b[43m,\u001b[49m\u001b[43m \u001b[49m\u001b[38;5;28;43mself\u001b[39;49m\u001b[38;5;241;43m.\u001b[39;49m\u001b[43mstride\u001b[49m\u001b[43m,\u001b[49m\n\u001b[0;32m    460\u001b[0m \u001b[43m                \u001b[49m\u001b[38;5;28;43mself\u001b[39;49m\u001b[38;5;241;43m.\u001b[39;49m\u001b[43mpadding\u001b[49m\u001b[43m,\u001b[49m\u001b[43m \u001b[49m\u001b[38;5;28;43mself\u001b[39;49m\u001b[38;5;241;43m.\u001b[39;49m\u001b[43mdilation\u001b[49m\u001b[43m,\u001b[49m\u001b[43m \u001b[49m\u001b[38;5;28;43mself\u001b[39;49m\u001b[38;5;241;43m.\u001b[39;49m\u001b[43mgroups\u001b[49m\u001b[43m)\u001b[49m\n",
      "\u001b[1;31mRuntimeError\u001b[0m: Given groups=1, weight of size [64, 3, 7, 7], expected input[8, 1, 224, 224] to have 3 channels, but got 1 channels instead"
     ]
    }
   ],
   "source": [
    "trainer.fit(model, data)"
   ]
  },
  {
   "cell_type": "code",
   "execution_count": null,
   "id": "28625e66-e2a3-4a91-acce-e2948485412b",
   "metadata": {
    "execution": {
     "iopub.status.busy": "2023-03-08T17:59:13.745838Z",
     "iopub.status.idle": "2023-03-08T17:59:13.746826Z",
     "shell.execute_reply": "2023-03-08T17:59:13.746826Z",
     "shell.execute_reply.started": "2023-03-08T17:59:13.746826Z"
    }
   },
   "outputs": [],
   "source": [
    "trainer.test(model, datamodule=data)"
   ]
  },
  {
   "cell_type": "code",
   "execution_count": null,
   "id": "378d95e1-4e29-4c7f-bd8c-eaa16677a063",
   "metadata": {
    "execution": {
     "iopub.status.busy": "2023-03-08T17:59:13.747823Z",
     "iopub.status.idle": "2023-03-08T17:59:13.748822Z",
     "shell.execute_reply": "2023-03-08T17:59:13.747823Z",
     "shell.execute_reply.started": "2023-03-08T17:59:13.747823Z"
    },
    "tags": []
   },
   "outputs": [],
   "source": [
    "wandb_logger.experiment"
   ]
  },
  {
   "cell_type": "code",
   "execution_count": null,
   "id": "91967e96-f127-4758-b427-c996a9fcb4dc",
   "metadata": {
    "execution": {
     "iopub.status.busy": "2023-03-08T17:59:13.749825Z",
     "iopub.status.idle": "2023-03-08T17:59:13.750812Z",
     "shell.execute_reply": "2023-03-08T17:59:13.750812Z",
     "shell.execute_reply.started": "2023-03-08T17:59:13.749825Z"
    }
   },
   "outputs": [],
   "source": [
    "# wandb_logger.experiment.finish()"
   ]
  },
  {
   "cell_type": "code",
   "execution_count": null,
   "id": "f04c136e-5986-4628-88b7-38a8b433f654",
   "metadata": {
    "execution": {
     "iopub.status.busy": "2023-03-08T17:59:13.751820Z",
     "iopub.status.idle": "2023-03-08T17:59:13.752821Z",
     "shell.execute_reply": "2023-03-08T17:59:13.752821Z",
     "shell.execute_reply.started": "2023-03-08T17:59:13.752821Z"
    },
    "tags": []
   },
   "outputs": [],
   "source": [
    "data = data.train_dataloader.dataset.data \n",
    "shape = train_iterator.dataset.data.shape  \n",
    "datatype = train_iterator.dataset.data.dtype"
   ]
  },
  {
   "cell_type": "code",
   "execution_count": null,
   "id": "3b58022d-6961-41b0-a4e1-60bbc1c09791",
   "metadata": {
    "execution": {
     "iopub.status.busy": "2023-03-08T17:59:13.753812Z",
     "iopub.status.idle": "2023-03-08T17:59:13.754819Z",
     "shell.execute_reply": "2023-03-08T17:59:13.754819Z",
     "shell.execute_reply.started": "2023-03-08T17:59:13.754819Z"
    },
    "tags": []
   },
   "outputs": [],
   "source": [
    "d'd"
   ]
  },
  {
   "cell_type": "markdown",
   "id": "8956e1be-a0ff-4f71-af46-2af5a8bca845",
   "metadata": {},
   "source": [
    "# Parameter tuning sweep"
   ]
  },
  {
   "cell_type": "code",
   "execution_count": null,
   "id": "ebde1018-ddfa-43f2-b9c6-f2c1d4b19736",
   "metadata": {
    "execution": {
     "iopub.status.busy": "2023-03-08T17:59:13.755821Z",
     "iopub.status.idle": "2023-03-08T17:59:13.756817Z",
     "shell.execute_reply": "2023-03-08T17:59:13.756817Z",
     "shell.execute_reply.started": "2023-03-08T17:59:13.756817Z"
    },
    "tags": []
   },
   "outputs": [],
   "source": [
    "sweep_config = {\n",
    "    \"project\": \"computer_vision_test_sweep\",\n",
    "    \"method\": \"bayes\",   # Random search\n",
    "    \"metric\": {           # We want to maximize val_acc\n",
    "        \"name\": \"val_acc\",\n",
    "        \"goal\": \"maximize\"\n",
    "    },\n",
    "    \"run_cap\": 10, #terminates the sweep after a number of runs\n",
    "    \"early_terminate\": { # only terminates a run early not the sweep (reduces computation time)\n",
    "        \"type\": \"hyperband\",\n",
    "        \"min_iter\": 3\n",
    "    },\n",
    "    \"parameters\": {\n",
    "        # \"n_layer_1\": {\n",
    "        #     # Choose from pre-defined values\n",
    "        #     \"values\": [32, 64, 128, 256, 512]\n",
    "        # },\n",
    "        # \"n_layer_2\": {\n",
    "        #     # Choose from pre-defined values\n",
    "        #     \"values\": [32, 64, 128, 256, 512, 1024]\n",
    "        # },\n",
    "        \"lr\": {\n",
    "            # log uniform distribution between exp(min) and exp(max)\n",
    "            \"distribution\": \"log_uniform\",\n",
    "            \"min\": -9.21,   # exp(-9.21) = 1e-4\n",
    "            \"max\": -4.61    # exp(-4.61) = 1e-2\n",
    "        }\n",
    "    }\n",
    "}"
   ]
  },
  {
   "cell_type": "code",
   "execution_count": null,
   "id": "91aeb8a0-9ffd-4439-808c-2951d1f74b36",
   "metadata": {
    "execution": {
     "iopub.status.busy": "2023-03-08T17:59:13.758821Z",
     "iopub.status.idle": "2023-03-08T17:59:13.758821Z",
     "shell.execute_reply": "2023-03-08T17:59:13.758821Z",
     "shell.execute_reply.started": "2023-03-08T17:59:13.758821Z"
    },
    "tags": []
   },
   "outputs": [],
   "source": [
    "def sweep_iteration():\n",
    "    # set up W&B logger\n",
    "    wandb.init()    # required to have access to `wandb.config`\n",
    "    wandb_logger = WandbLogger(log_model='all')\n",
    "\n",
    "    # setup data\n",
    "    # data = MNISTDataModule()\n",
    "    data = DataModule()\n",
    "\n",
    "    # setup model - note how we refer to sweep parameters with wandb.config\n",
    "    # model = LitMNIST(\n",
    "    #     n_layer_1=wandb.config.n_layer_1,\n",
    "    #     n_layer_2=wandb.config.n_layer_2,\n",
    "    #     lr=wandb.config.lr\n",
    "    # )\n",
    "    model = MyModel(lr=wandb.config.lr, num_classes=num_of_classes)\n",
    "\n",
    "    # setup Trainer\n",
    "    trainer = Trainer(\n",
    "        logger=wandb_logger,    # W&B integration\n",
    "        gpus=-1,                # use all GPU's\n",
    "        max_epochs=100            # number of epochs\n",
    "        )\n",
    "\n",
    "    # train\n",
    "    trainer.fit(model, data)"
   ]
  },
  {
   "cell_type": "code",
   "execution_count": null,
   "id": "869b0393-21cf-4fba-8efd-7678a852b697",
   "metadata": {
    "execution": {
     "iopub.status.busy": "2023-03-08T17:59:13.760819Z",
     "iopub.status.idle": "2023-03-08T17:59:13.761816Z",
     "shell.execute_reply": "2023-03-08T17:59:13.760819Z",
     "shell.execute_reply.started": "2023-03-08T17:59:13.760819Z"
    },
    "tags": []
   },
   "outputs": [],
   "source": [
    "sweep_id = wandb.sweep(sweep_config)\n",
    "wandb.agent(sweep_id, function=sweep_iteration)"
   ]
  },
  {
   "cell_type": "code",
   "execution_count": null,
   "id": "b049f934-e5e5-490d-87ab-d3c122a29dca",
   "metadata": {},
   "outputs": [],
   "source": []
  },
  {
   "cell_type": "code",
   "execution_count": null,
   "id": "f87009dd-3c3a-409c-ada8-3f991d17d0c1",
   "metadata": {
    "execution": {
     "iopub.status.busy": "2023-03-08T17:59:13.762815Z",
     "iopub.status.idle": "2023-03-08T17:59:13.763815Z",
     "shell.execute_reply": "2023-03-08T17:59:13.763815Z",
     "shell.execute_reply.started": "2023-03-08T17:59:13.763815Z"
    },
    "tags": []
   },
   "outputs": [],
   "source": [
    "# class MyModel(pl.LightningModule):\n",
    "#     def __init__(self, input_shape, num_classes=10, lr=2e-4, transfer=False):\n",
    "#         super().__init__()\n",
    "        \n",
    "#         # log hyperparameters\n",
    "#         self.save_hyperparameters()\n",
    "#         self.learning_rate = lr\n",
    "#         self.dim = input_shape\n",
    "#         self.num_classes = num_classes\n",
    "        \n",
    "#         # transfer learning if pretrained=True\n",
    "#         self.feature_extractor = models.resnet18(pretrained=transfer)\n",
    "\n",
    "#         if transfer:\n",
    "#             # layers are frozen by using eval()\n",
    "#             self.feature_extractor.eval()\n",
    "#             # freeze params\n",
    "#             for param in self.feature_extractor.parameters():\n",
    "#                 param.requires_grad = False\n",
    "        \n",
    "#         n_sizes = self._get_conv_output(input_shape)\n",
    "\n",
    "#         self.classifier = nn.Linear(n_sizes, num_classes)\n",
    "\n",
    "#         self.criterion = nn.CrossEntropyLoss()\n",
    "#         self.accuracy = Accuracy()\n",
    "  \n",
    "#     # returns the size of the output tensor going into the Linear layer from the conv block.\n",
    "#     def _get_conv_output(self, shape):\n",
    "#         batch_size = 1\n",
    "#         tmp_input = torch.autograd.Variable(torch.rand(batch_size, *shape))\n",
    "\n",
    "#         output_feat = self._forward_features(tmp_input) \n",
    "#         n_size = output_feat.data.view(batch_size, -1).size(1)\n",
    "#         return n_size\n",
    "        \n",
    "#     # returns the feature tensor from the conv block\n",
    "#     def _forward_features(self, x):\n",
    "#         x = self.feature_extractor(x)\n",
    "#         return x\n",
    "    \n",
    "#     # will be used during inference\n",
    "#     def forward(self, x):\n",
    "#         x = self._forward_features(x)\n",
    "#         x = x.view(x.size(0), -1)\n",
    "#         x = self.classifier(x)\n",
    "\n",
    "#         return x\n",
    "    \n",
    "#     def training_step(self, batch):\n",
    "#         batch, gt = batch[0], batch[1]\n",
    "#         out = self.forward(batch)\n",
    "#         loss = self.criterion(out, gt)\n",
    "\n",
    "#         acc = self.accuracy(out, gt)\n",
    "\n",
    "#         self.log(\"train/loss\", loss)\n",
    "#         self.log(\"train/acc\", acc)\n",
    "\n",
    "#         return loss\n",
    "    \n",
    "#     def validation_step(self, batch, batch_idx):\n",
    "#         batch, gt = batch[0], batch[1]\n",
    "#         out = self.forward(batch)\n",
    "#         loss = self.criterion(out, gt)\n",
    "\n",
    "#         self.log(\"val/loss\", loss)\n",
    "\n",
    "#         acc = self.accuracy(out, gt)\n",
    "#         self.log(\"val/acc\", acc)\n",
    "\n",
    "#         return loss\n",
    "    \n",
    "#     def test_step(self, batch, batch_idx):\n",
    "#         batch, gt = batch[0], batch[1]\n",
    "#         out = self.forward(batch)\n",
    "#         loss = self.criterion(out, gt)\n",
    "        \n",
    "#         return {\"loss\": loss, \"outputs\": out, \"gt\": gt}\n",
    "    \n",
    "#     def test_epoch_end(self, outputs):\n",
    "#         loss = torch.stack([x['loss'] for x in outputs]).mean()\n",
    "#         output = torch.cat([x['outputs'] for x in outputs], dim=0)\n",
    "        \n",
    "#         gts = torch.cat([x['gt'] for x in outputs], dim=0)\n",
    "        \n",
    "#         self.log(\"test/loss\", loss)\n",
    "#         acc = self.accuracy(output, gts)\n",
    "#         self.log(\"test/acc\", acc)\n",
    "        \n",
    "#         self.test_gts = gts\n",
    "#         self.test_output = output\n",
    "    \n",
    "#     def configure_optimizers(self):\n",
    "#         return torch.optim.Adam(self.parameters(), lr=self.learning_rate)"
   ]
  },
  {
   "cell_type": "code",
   "execution_count": null,
   "id": "deb34aed-792a-4022-a878-f8d6c4ffa97c",
   "metadata": {
    "execution": {
     "iopub.status.busy": "2023-03-08T17:59:13.765821Z",
     "iopub.status.idle": "2023-03-08T17:59:13.765821Z",
     "shell.execute_reply": "2023-03-08T17:59:13.765821Z",
     "shell.execute_reply.started": "2023-03-08T17:59:13.765821Z"
    },
    "tags": []
   },
   "outputs": [],
   "source": [
    "# class MyModel(LightningModule):\n",
    "\n",
    "#     def __init__(self, classes_lst, num_classes=10, acc_task=\"multiclass\", lr=1e-3):\n",
    "#         super().__init__()\n",
    "        \n",
    "        \n",
    "#         \"\"\"\n",
    "#         The convolutions are arranged in such a way that the image maintain the x and y dimensions. only the channels change\n",
    "#         \"\"\"\n",
    "#         self.layer_1 = nn.Conv2d(in_channels = 1,out_channels = 3,kernel_size = (3,3),padding = (1,1),stride = (1,1))\n",
    "#         self.layer_2 = nn.Conv2d(in_channels = 3,out_channels = 6,kernel_size = (3,3),padding = (1,1),stride = (1,1))\n",
    "#         self.layer_3 = nn.Conv2d(in_channels = 6,out_channels = 12,kernel_size = (3,3),padding = (1,1),stride = (1,1))\n",
    "#         self.pool = nn.MaxPool2d(kernel_size = (3,3),padding = (1,1),stride = (1,1))\n",
    "#         self.layer_5 = nn.Linear(12*50*50,1000)#the input dimensions are (Number of dimensions * height * width)\n",
    "#         self.layer_6 = nn.Linear(1000,100)\n",
    "#         self.layer_7 = nn.Linear(100,50)\n",
    "#         self.layer_8 = nn.Linear(50,10)\n",
    "#         self.layer_9 = nn.Linear(10,10)\n",
    "        \n",
    "        \n",
    "        \n",
    "#         # metrics\n",
    "#         self.acc_task = acc_task\n",
    "#         self.lr = lr\n",
    "#         self.num_classes = num_classes\n",
    "#         self.accuracy = torchmetrics.Accuracy(task=self.acc_task, num_classes=self.num_classes)\n",
    "#         self.class_names = classes_lst\n",
    "#         self.loss = CrossEntropyLoss()\n",
    "\n",
    "#         # optional - save hyper-parameters to self.hparams\n",
    "#         # they will also be automatically logged as config parameters in W&B\n",
    "#         self.save_hyperparameters()\n",
    "\n",
    "#     def forward(self,x):\n",
    "#         \"\"\"\n",
    "#         x is the input data\n",
    "#         \"\"\"\n",
    "#         x = self.layer_1(x)\n",
    "#         x = self.pool(x)\n",
    "#         x = self.layer_2(x)\n",
    "#         x = self.pool(x)\n",
    "#         x = self.layer_3(x)\n",
    "#         x = self.pool(x)\n",
    "#         x = x.view(x.size(0),-1)\n",
    "#         print(x.size())\n",
    "#         x = self.layer_5(x)\n",
    "#         x = self.layer_6(x)\n",
    "#         x = self.layer_7(x)\n",
    "#         x = self.layer_8(x)\n",
    "#         x = self.layer_9(x)\n",
    "#         return x\n",
    "\n",
    "#     def configure_optimizers(self):\n",
    "#         optimizer = torch.optim.Adam(self.parameters(),lr = self.lr)\n",
    "#         return optimizer\n",
    "\n",
    "# # The Pytorch-Lightning module handles all the iterations of the epoch\n",
    "\n",
    "#     def training_step(self,batch,batch_idx):\n",
    "#         x,y = batch\n",
    "#         y_pred = self(x)\n",
    "#         loss = F.cross_entropy(y_pred,y)\n",
    "#         # Log training loss\n",
    "#         self.log('train_loss', loss)\n",
    "#         # Log metrics\n",
    "#         self.log('train_acc', self.accuracy(y_pred, y))\n",
    "#         return loss\n",
    "\n",
    "#     def validation_step(self,batch,batch_idx):\n",
    "#         preds, loss, acc = self._get_preds_loss_accuracy(batch)\n",
    "#         # Log loss and metric\n",
    "#         self.log('val_loss_alt', loss)\n",
    "#         self.log('val_accuracy_alt', acc)\n",
    "        \n",
    "#         x,y = batch\n",
    "#         y_pred = self(x)\n",
    "#         loss = F.cross_entropy(y_pred,y)\n",
    "#         # Log training loss\n",
    "#         self.log('val_loss', loss)\n",
    "#         # Log metrics\n",
    "#         self.log('val_acc', self.accuracy(y_pred, y))\n",
    "#         self.cpu_pred = y_pred.to(\"cpu\").detach().numpy()\n",
    "#         self.cpu_y = y.to(\"cpu\").detach().numpy()\n",
    "#         wandb.log({\"val_conf_mat\" : wandb.plot.confusion_matrix(probs=self.cpu_pred,\n",
    "#                         y_true=self.cpu_y, preds=None,\n",
    "#                         class_names=self.class_names)})\n",
    "#         return preds\n",
    "\n",
    "#     def test_step(self,batch,batch_idx):\n",
    "#         x,y = batch\n",
    "#         y_pred = self(x)\n",
    "#         loss = F.cross_entropy(y_pred,y)\n",
    "#         # Log training loss\n",
    "#         self.log('test_loss', loss)\n",
    "#         # Log metrics\n",
    "#         self.log('test_acc', self.accuracy(y_pred, y))\n",
    "#         self.cpu_pred = y_pred.to(\"cpu\").detach().numpy()\n",
    "#         self.cpu_y = y.to(\"cpu\").detach().numpy()\n",
    "#         wandb.log({\"test_conf_mat\" : wandb.plot.confusion_matrix(probs=self.cpu_pred,\n",
    "#                         y_true=self.cpu_y, preds=None,\n",
    "#                         class_names=self.class_names)})\n",
    "#         return loss\n",
    "    \n",
    "#     def _get_preds_loss_accuracy(self, batch):\n",
    "#         '''convenience function since train/valid/test steps are similar'''\n",
    "#         x, y = batch\n",
    "#         logits = self(x)\n",
    "#         preds = torch.argmax(logits, dim=1)\n",
    "#         loss = self.loss(logits, y)\n",
    "#         acc = accuracy(preds, y, self.acc_task, num_classes=10)\n",
    "#         return preds, loss, acc"
   ]
  }
 ],
 "metadata": {
  "kernelspec": {
   "display_name": "Python 3 (ipykernel)",
   "language": "python",
   "name": "python3"
  },
  "language_info": {
   "codemirror_mode": {
    "name": "ipython",
    "version": 3
   },
   "file_extension": ".py",
   "mimetype": "text/x-python",
   "name": "python",
   "nbconvert_exporter": "python",
   "pygments_lexer": "ipython3",
   "version": "3.10.9"
  }
 },
 "nbformat": 4,
 "nbformat_minor": 5
}
