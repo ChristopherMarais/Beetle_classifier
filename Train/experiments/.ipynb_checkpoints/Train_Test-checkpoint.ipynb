{
 "cells": [
  {
   "cell_type": "code",
   "execution_count": 4,
   "id": "8c056919-5267-4e1a-9a58-6f2f60b72d41",
   "metadata": {
    "execution": {
     "iopub.execute_input": "2023-02-10T03:41:47.701766Z",
     "iopub.status.busy": "2023-02-10T03:41:47.701766Z",
     "iopub.status.idle": "2023-02-10T03:41:47.718766Z",
     "shell.execute_reply": "2023-02-10T03:41:47.717766Z",
     "shell.execute_reply.started": "2023-02-10T03:41:47.701766Z"
    },
    "tags": []
   },
   "outputs": [],
   "source": [
    "import wandb\n",
    "import os\n",
    "import random\n",
    "\n",
    "import numpy as np\n",
    "import torch\n",
    "import torch.nn as nn\n",
    "import torchvision\n",
    "import torchvision.transforms as transforms\n",
    "from tqdm.auto import tqdm"
   ]
  },
  {
   "cell_type": "markdown",
   "id": "a89e6a4f-b907-40b2-81cc-54ba8da7f095",
   "metadata": {},
   "source": [
    "## Prepare script"
   ]
  },
  {
   "cell_type": "code",
   "execution_count": 5,
   "id": "95bef7c1-3c7c-4575-9aca-182c0df7cc7a",
   "metadata": {
    "execution": {
     "iopub.execute_input": "2023-02-10T03:41:49.759126Z",
     "iopub.status.busy": "2023-02-10T03:41:49.758627Z",
     "iopub.status.idle": "2023-02-10T03:41:50.234045Z",
     "shell.execute_reply": "2023-02-10T03:41:50.233045Z",
     "shell.execute_reply.started": "2023-02-10T03:41:49.759126Z"
    }
   },
   "outputs": [],
   "source": [
    "# Ensure deterministic behavior\n",
    "torch.backends.cudnn.deterministic = True\n",
    "random.seed(hash(\"setting random seeds\") % 2**32 - 1)\n",
    "np.random.seed(hash(\"improves reproducibility\") % 2**32 - 1)\n",
    "torch.manual_seed(hash(\"by removing stochasticity\") % 2**32 - 1)\n",
    "torch.cuda.manual_seed_all(hash(\"so runs are repeatable\") % 2**32 - 1)\n",
    "\n",
    "# Device configuration\n",
    "device = torch.device(\"cuda:0\" if torch.cuda.is_available() else \"cpu\")\n",
    "\n",
    "# remove slow mirror from list of MNIST mirrors\n",
    "torchvision.datasets.MNIST.mirrors = [mirror for mirror in torchvision.datasets.MNIST.mirrors\n",
    "                                      if not mirror.startswith(\"http://yann.lecun.com\")]"
   ]
  },
  {
   "cell_type": "markdown",
   "id": "780dd2cc-5a56-44b8-9fd8-8e9ba68fbad4",
   "metadata": {},
   "source": [
    "## Wandb Login"
   ]
  },
  {
   "cell_type": "code",
   "execution_count": 6,
   "id": "99cd48c5-90c0-47ac-9021-26b8d64cfbcc",
   "metadata": {
    "execution": {
     "iopub.execute_input": "2023-02-10T03:41:57.722023Z",
     "iopub.status.busy": "2023-02-10T03:41:57.721520Z",
     "iopub.status.idle": "2023-02-10T03:42:03.104124Z",
     "shell.execute_reply": "2023-02-10T03:42:03.103121Z",
     "shell.execute_reply.started": "2023-02-10T03:41:57.722023Z"
    },
    "tags": []
   },
   "outputs": [
    {
     "name": "stderr",
     "output_type": "stream",
     "text": [
      "\u001b[34m\u001b[1mwandb\u001b[0m: Currently logged in as: \u001b[33mchristopher-marais\u001b[0m. Use \u001b[1m`wandb login --relogin`\u001b[0m to force relogin\n"
     ]
    },
    {
     "data": {
      "text/plain": [
       "True"
      ]
     },
     "execution_count": 6,
     "metadata": {},
     "output_type": "execute_result"
    }
   ],
   "source": [
    "wandb.login()"
   ]
  },
  {
   "cell_type": "markdown",
   "id": "6d8906c5-70f5-4046-995c-c4551db5b2be",
   "metadata": {},
   "source": [
    "## Track metadata and hyperparameters with wandb.init"
   ]
  },
  {
   "cell_type": "code",
   "execution_count": 7,
   "id": "5aa24d45-e232-40f7-a0b7-7e4e255db9a7",
   "metadata": {
    "execution": {
     "iopub.execute_input": "2023-02-10T03:42:57.920704Z",
     "iopub.status.busy": "2023-02-10T03:42:57.920194Z",
     "iopub.status.idle": "2023-02-10T03:42:57.936194Z",
     "shell.execute_reply": "2023-02-10T03:42:57.934698Z",
     "shell.execute_reply.started": "2023-02-10T03:42:57.920704Z"
    },
    "tags": []
   },
   "outputs": [],
   "source": [
    "config = dict(\n",
    "    epochs=5,\n",
    "    classes=10,\n",
    "    kernels=[16, 32],\n",
    "    batch_size=128,\n",
    "    learning_rate=0.005,\n",
    "    dataset=\"MNIST\",\n",
    "    architecture=\"CNN\")"
   ]
  },
  {
   "cell_type": "code",
   "execution_count": 9,
   "id": "c3f0f3a8-8fbe-4603-9fcd-fe3b553e95f1",
   "metadata": {
    "execution": {
     "iopub.execute_input": "2023-02-10T03:44:49.641689Z",
     "iopub.status.busy": "2023-02-10T03:44:49.641689Z",
     "iopub.status.idle": "2023-02-10T03:44:49.659687Z",
     "shell.execute_reply": "2023-02-10T03:44:49.659188Z",
     "shell.execute_reply.started": "2023-02-10T03:44:49.641689Z"
    },
    "tags": []
   },
   "outputs": [],
   "source": [
    "def model_pipeline(hyperparameters):\n",
    "\n",
    "    # tell wandb to get started\n",
    "    with wandb.init(project=\"pytorch-demo\", config=hyperparameters):\n",
    "        # access all HPs through wandb.config, so logging matches execution!\n",
    "        config = wandb.config\n",
    "\n",
    "        # make the model, data, and optimization problem\n",
    "        model, train_loader, test_loader, criterion, optimizer = make(config)\n",
    "        print(model)\n",
    "\n",
    "        # and use them to train the model\n",
    "        train(model, train_loader, criterion, optimizer, config)\n",
    "\n",
    "        # and test its final performance\n",
    "        test(model, test_loader)\n",
    "\n",
    "    return model"
   ]
  },
  {
   "cell_type": "code",
   "execution_count": 10,
   "id": "1556ecf8-59c5-4c0e-a10c-43fcf87160e0",
   "metadata": {
    "execution": {
     "iopub.execute_input": "2023-02-10T03:45:09.525918Z",
     "iopub.status.busy": "2023-02-10T03:45:09.525418Z",
     "iopub.status.idle": "2023-02-10T03:45:09.570930Z",
     "shell.execute_reply": "2023-02-10T03:45:09.569432Z",
     "shell.execute_reply.started": "2023-02-10T03:45:09.525918Z"
    }
   },
   "outputs": [],
   "source": [
    "def make(config):\n",
    "    # Make the data\n",
    "    train, test = get_data(train=True), get_data(train=False)\n",
    "    train_loader = make_loader(train, batch_size=config.batch_size)\n",
    "    test_loader = make_loader(test, batch_size=config.batch_size)\n",
    "\n",
    "    # Make the model\n",
    "    model = ConvNet(config.kernels, config.classes).to(device)\n",
    "\n",
    "    # Make the loss and optimizer\n",
    "    criterion = nn.CrossEntropyLoss()\n",
    "    optimizer = torch.optim.Adam(\n",
    "        model.parameters(), lr=config.learning_rate)\n",
    "    \n",
    "    return model, train_loader, test_loader, criterion, optimizer"
   ]
  },
  {
   "cell_type": "markdown",
   "id": "51af7ff4-445c-4476-b257-88ed35e77ff7",
   "metadata": {},
   "source": [
    "## Define data loading model"
   ]
  },
  {
   "cell_type": "code",
   "execution_count": 11,
   "id": "8ef118f5-2507-41e6-aedb-4aa0c23dbbb1",
   "metadata": {
    "execution": {
     "iopub.execute_input": "2023-02-10T03:45:33.860479Z",
     "iopub.status.busy": "2023-02-10T03:45:33.859981Z",
     "iopub.status.idle": "2023-02-10T03:45:33.880479Z",
     "shell.execute_reply": "2023-02-10T03:45:33.879478Z",
     "shell.execute_reply.started": "2023-02-10T03:45:33.860479Z"
    },
    "tags": []
   },
   "outputs": [],
   "source": [
    "def get_data(slice=5, train=True):\n",
    "    full_dataset = torchvision.datasets.MNIST(root=\".\",\n",
    "                                              train=train, \n",
    "                                              transform=transforms.ToTensor(),\n",
    "                                              download=True)\n",
    "    #  equiv to slicing with [::slice] \n",
    "    sub_dataset = torch.utils.data.Subset(\n",
    "      full_dataset, indices=range(0, len(full_dataset), slice))\n",
    "    \n",
    "    return sub_dataset\n",
    "\n",
    "\n",
    "def make_loader(dataset, batch_size):\n",
    "    loader = torch.utils.data.DataLoader(dataset=dataset,\n",
    "                                         batch_size=batch_size, \n",
    "                                         shuffle=True,\n",
    "                                         pin_memory=True, num_workers=2)\n",
    "    return loader"
   ]
  },
  {
   "cell_type": "code",
   "execution_count": 12,
   "id": "c78e4193-99e8-4cd6-bb7c-0e139685aafe",
   "metadata": {
    "execution": {
     "iopub.execute_input": "2023-02-10T03:45:46.007341Z",
     "iopub.status.busy": "2023-02-10T03:45:46.006841Z",
     "iopub.status.idle": "2023-02-10T03:45:46.026343Z",
     "shell.execute_reply": "2023-02-10T03:45:46.025342Z",
     "shell.execute_reply.started": "2023-02-10T03:45:46.007341Z"
    }
   },
   "outputs": [],
   "source": [
    "# Conventional and convolutional neural network\n",
    "\n",
    "class ConvNet(nn.Module):\n",
    "    def __init__(self, kernels, classes=10):\n",
    "        super(ConvNet, self).__init__()\n",
    "        \n",
    "        self.layer1 = nn.Sequential(\n",
    "            nn.Conv2d(1, kernels[0], kernel_size=5, stride=1, padding=2),\n",
    "            nn.ReLU(),\n",
    "            nn.MaxPool2d(kernel_size=2, stride=2))\n",
    "        self.layer2 = nn.Sequential(\n",
    "            nn.Conv2d(16, kernels[1], kernel_size=5, stride=1, padding=2),\n",
    "            nn.ReLU(),\n",
    "            nn.MaxPool2d(kernel_size=2, stride=2))\n",
    "        self.fc = nn.Linear(7 * 7 * kernels[-1], classes)\n",
    "        \n",
    "    def forward(self, x):\n",
    "        out = self.layer1(x)\n",
    "        out = self.layer2(out)\n",
    "        out = out.reshape(out.size(0), -1)\n",
    "        out = self.fc(out)\n",
    "        return out"
   ]
  },
  {
   "cell_type": "markdown",
   "id": "a14c29be-aa52-422f-843e-724b4d053772",
   "metadata": {
    "execution": {
     "iopub.execute_input": "2023-02-10T03:47:52.406710Z",
     "iopub.status.busy": "2023-02-10T03:47:52.406211Z",
     "iopub.status.idle": "2023-02-10T03:47:52.416211Z",
     "shell.execute_reply": "2023-02-10T03:47:52.414710Z",
     "shell.execute_reply.started": "2023-02-10T03:47:52.406710Z"
    },
    "tags": []
   },
   "source": [
    "# Define Train logic"
   ]
  },
  {
   "cell_type": "markdown",
   "id": "9df78245-66a4-4bf1-ad51-f30175c9d649",
   "metadata": {},
   "source": [
    "## Track gradients with `wandb.watch` and everything else with `wandb.log`"
   ]
  },
  {
   "cell_type": "code",
   "execution_count": 13,
   "id": "a504d8db-cb78-4073-ab9d-520c04fabc63",
   "metadata": {
    "execution": {
     "iopub.execute_input": "2023-02-10T03:47:14.977883Z",
     "iopub.status.busy": "2023-02-10T03:47:14.977383Z",
     "iopub.status.idle": "2023-02-10T03:47:15.001885Z",
     "shell.execute_reply": "2023-02-10T03:47:15.000886Z",
     "shell.execute_reply.started": "2023-02-10T03:47:14.977883Z"
    },
    "tags": []
   },
   "outputs": [],
   "source": [
    "def train(model, loader, criterion, optimizer, config):\n",
    "    # Tell wandb to watch what the model gets up to: gradients, weights, and more!\n",
    "    wandb.watch(model, criterion, log=\"all\", log_freq=10)\n",
    "\n",
    "    # Run training and track with wandb\n",
    "    total_batches = len(loader) * config.epochs\n",
    "    example_ct = 0  # number of examples seen\n",
    "    batch_ct = 0\n",
    "    for epoch in tqdm(range(config.epochs)):\n",
    "        for _, (images, labels) in enumerate(loader):\n",
    "\n",
    "            loss = train_batch(images, labels, model, optimizer, criterion)\n",
    "            example_ct +=  len(images)\n",
    "            batch_ct += 1\n",
    "\n",
    "            # Report metrics every 25th batch\n",
    "            if ((batch_ct + 1) % 25) == 0:\n",
    "                train_log(loss, example_ct, epoch)\n",
    "\n",
    "\n",
    "def train_batch(images, labels, model, optimizer, criterion):\n",
    "    images, labels = images.to(device), labels.to(device)\n",
    "    \n",
    "    # Forward pass ➡\n",
    "    outputs = model(images)\n",
    "    loss = criterion(outputs, labels)\n",
    "    \n",
    "    # Backward pass ⬅\n",
    "    optimizer.zero_grad()\n",
    "    loss.backward()\n",
    "\n",
    "    # Step with optimizer\n",
    "    optimizer.step()\n",
    "\n",
    "    return loss"
   ]
  },
  {
   "cell_type": "code",
   "execution_count": 14,
   "id": "e3d53093-b2bf-4721-937e-c130591f29a5",
   "metadata": {
    "execution": {
     "iopub.execute_input": "2023-02-10T03:47:28.792571Z",
     "iopub.status.busy": "2023-02-10T03:47:28.792073Z",
     "iopub.status.idle": "2023-02-10T03:47:28.801574Z",
     "shell.execute_reply": "2023-02-10T03:47:28.800571Z",
     "shell.execute_reply.started": "2023-02-10T03:47:28.792571Z"
    },
    "tags": []
   },
   "outputs": [],
   "source": [
    "def train_log(loss, example_ct, epoch):\n",
    "    # Where the magic happens\n",
    "    wandb.log({\"epoch\": epoch, \n",
    "               \"loss\": loss,\n",
    "               \"conf_mat\" : wandb.plot.confusion_matrix(probs=None,\n",
    "                        y_true=correct, preds=predictions,\n",
    "                        class_names=labels)\n",
    "              }, step=example_ct)\n",
    "    print(f\"Loss after {str(example_ct).zfill(5)} examples: {loss:.3f}\")"
   ]
  },
  {
   "cell_type": "markdown",
   "id": "8aff5ae8-1028-48ef-9626-a1350f884814",
   "metadata": {
    "execution": {
     "iopub.execute_input": "2023-02-10T03:47:52.406710Z",
     "iopub.status.busy": "2023-02-10T03:47:52.406211Z",
     "iopub.status.idle": "2023-02-10T03:47:52.416211Z",
     "shell.execute_reply": "2023-02-10T03:47:52.414710Z",
     "shell.execute_reply.started": "2023-02-10T03:47:52.406710Z"
    },
    "tags": []
   },
   "source": [
    "# Define Test logic"
   ]
  },
  {
   "cell_type": "markdown",
   "id": "9a4bfe0f-d3a6-47cb-aaad-88d831065764",
   "metadata": {},
   "source": [
    "## Call wandb.save"
   ]
  },
  {
   "cell_type": "code",
   "execution_count": 16,
   "id": "bd2ba8ef-0d44-43cc-b85d-63f17ce3e4db",
   "metadata": {
    "execution": {
     "iopub.execute_input": "2023-02-10T03:48:40.760092Z",
     "iopub.status.busy": "2023-02-10T03:48:40.759593Z",
     "iopub.status.idle": "2023-02-10T03:48:40.775594Z",
     "shell.execute_reply": "2023-02-10T03:48:40.774592Z",
     "shell.execute_reply.started": "2023-02-10T03:48:40.759593Z"
    },
    "tags": []
   },
   "outputs": [],
   "source": [
    "def test(model, test_loader):\n",
    "    model.eval()\n",
    "\n",
    "    # Run the model on some test examples\n",
    "    with torch.no_grad():\n",
    "        correct, total = 0, 0\n",
    "        for images, labels in test_loader:\n",
    "            images, labels = images.to(device), labels.to(device)\n",
    "            outputs = model(images)\n",
    "            _, predicted = torch.max(outputs.data, 1)\n",
    "            total += labels.size(0)\n",
    "            correct += (predicted == labels).sum().item()\n",
    "\n",
    "        print(f\"Accuracy of the model on the {total} \" +\n",
    "              f\"test images: {correct / total:%}\")\n",
    "        \n",
    "        wandb.log({\"test_accuracy\": correct / total})\n",
    "\n",
    "    # Save the model in the exchangeable ONNX format\n",
    "    torch.onnx.export(model, images, \"model.onnx\")\n",
    "    wandb.save(\"model.onnx\")"
   ]
  },
  {
   "cell_type": "markdown",
   "id": "351c65ea-7aaa-452a-a927-b605cc294414",
   "metadata": {},
   "source": [
    "## Run trianing and record metrics"
   ]
  },
  {
   "cell_type": "code",
   "execution_count": 17,
   "id": "6c18d273-4be0-4e11-80b9-aad463233f26",
   "metadata": {
    "execution": {
     "iopub.execute_input": "2023-02-10T03:51:45.830151Z",
     "iopub.status.busy": "2023-02-10T03:51:45.829149Z",
     "iopub.status.idle": "2023-02-10T03:53:27.093285Z",
     "shell.execute_reply": "2023-02-10T03:53:27.092275Z",
     "shell.execute_reply.started": "2023-02-10T03:51:45.829650Z"
    },
    "tags": []
   },
   "outputs": [
    {
     "data": {
      "text/html": [
       "Tracking run with wandb version 0.13.10"
      ],
      "text/plain": [
       "<IPython.core.display.HTML object>"
      ]
     },
     "metadata": {},
     "output_type": "display_data"
    },
    {
     "data": {
      "text/html": [
       "Run data is saved locally in <code>E:\\GIT_REPOS\\LAB\\Beetle_classifier\\Train\\wandb\\run-20230209_225146-ydakyiam</code>"
      ],
      "text/plain": [
       "<IPython.core.display.HTML object>"
      ]
     },
     "metadata": {},
     "output_type": "display_data"
    },
    {
     "data": {
      "text/html": [
       "Syncing run <strong><a href='https://wandb.ai/christopher-marais/pytorch-demo/runs/ydakyiam' target=\"_blank\">woven-water-1</a></strong> to <a href='https://wandb.ai/christopher-marais/pytorch-demo' target=\"_blank\">Weights & Biases</a> (<a href='https://wandb.me/run' target=\"_blank\">docs</a>)<br/>"
      ],
      "text/plain": [
       "<IPython.core.display.HTML object>"
      ]
     },
     "metadata": {},
     "output_type": "display_data"
    },
    {
     "data": {
      "text/html": [
       " View project at <a href='https://wandb.ai/christopher-marais/pytorch-demo' target=\"_blank\">https://wandb.ai/christopher-marais/pytorch-demo</a>"
      ],
      "text/plain": [
       "<IPython.core.display.HTML object>"
      ]
     },
     "metadata": {},
     "output_type": "display_data"
    },
    {
     "data": {
      "text/html": [
       " View run at <a href='https://wandb.ai/christopher-marais/pytorch-demo/runs/ydakyiam' target=\"_blank\">https://wandb.ai/christopher-marais/pytorch-demo/runs/ydakyiam</a>"
      ],
      "text/plain": [
       "<IPython.core.display.HTML object>"
      ]
     },
     "metadata": {},
     "output_type": "display_data"
    },
    {
     "name": "stdout",
     "output_type": "stream",
     "text": [
      "Downloading https://ossci-datasets.s3.amazonaws.com/mnist/train-images-idx3-ubyte.gz\n",
      "Downloading https://ossci-datasets.s3.amazonaws.com/mnist/train-images-idx3-ubyte.gz to .\\MNIST\\raw\\train-images-idx3-ubyte.gz\n"
     ]
    },
    {
     "name": "stderr",
     "output_type": "stream",
     "text": [
      "100.0%\n"
     ]
    },
    {
     "name": "stdout",
     "output_type": "stream",
     "text": [
      "Extracting .\\MNIST\\raw\\train-images-idx3-ubyte.gz to .\\MNIST\\raw\n",
      "\n",
      "Downloading https://ossci-datasets.s3.amazonaws.com/mnist/train-labels-idx1-ubyte.gz\n",
      "Downloading https://ossci-datasets.s3.amazonaws.com/mnist/train-labels-idx1-ubyte.gz to .\\MNIST\\raw\\train-labels-idx1-ubyte.gz\n"
     ]
    },
    {
     "name": "stderr",
     "output_type": "stream",
     "text": [
      "100.0%\n"
     ]
    },
    {
     "name": "stdout",
     "output_type": "stream",
     "text": [
      "Extracting .\\MNIST\\raw\\train-labels-idx1-ubyte.gz to .\\MNIST\\raw\n",
      "\n",
      "Downloading https://ossci-datasets.s3.amazonaws.com/mnist/t10k-images-idx3-ubyte.gz\n",
      "Downloading https://ossci-datasets.s3.amazonaws.com/mnist/t10k-images-idx3-ubyte.gz to .\\MNIST\\raw\\t10k-images-idx3-ubyte.gz\n"
     ]
    },
    {
     "name": "stderr",
     "output_type": "stream",
     "text": [
      "100.0%\n"
     ]
    },
    {
     "name": "stdout",
     "output_type": "stream",
     "text": [
      "Extracting .\\MNIST\\raw\\t10k-images-idx3-ubyte.gz to .\\MNIST\\raw\n",
      "\n",
      "Downloading https://ossci-datasets.s3.amazonaws.com/mnist/t10k-labels-idx1-ubyte.gz\n",
      "Downloading https://ossci-datasets.s3.amazonaws.com/mnist/t10k-labels-idx1-ubyte.gz to .\\MNIST\\raw\\t10k-labels-idx1-ubyte.gz\n"
     ]
    },
    {
     "name": "stderr",
     "output_type": "stream",
     "text": [
      "100.0%\n"
     ]
    },
    {
     "name": "stdout",
     "output_type": "stream",
     "text": [
      "Extracting .\\MNIST\\raw\\t10k-labels-idx1-ubyte.gz to .\\MNIST\\raw\n",
      "\n",
      "ConvNet(\n",
      "  (layer1): Sequential(\n",
      "    (0): Conv2d(1, 16, kernel_size=(5, 5), stride=(1, 1), padding=(2, 2))\n",
      "    (1): ReLU()\n",
      "    (2): MaxPool2d(kernel_size=2, stride=2, padding=0, dilation=1, ceil_mode=False)\n",
      "  )\n",
      "  (layer2): Sequential(\n",
      "    (0): Conv2d(16, 32, kernel_size=(5, 5), stride=(1, 1), padding=(2, 2))\n",
      "    (1): ReLU()\n",
      "    (2): MaxPool2d(kernel_size=2, stride=2, padding=0, dilation=1, ceil_mode=False)\n",
      "  )\n",
      "  (fc): Linear(in_features=1568, out_features=10, bias=True)\n",
      ")\n"
     ]
    },
    {
     "name": "stderr",
     "output_type": "stream",
     "text": [
      "  0%|                                                                                            | 0/5 [00:00<?, ?it/s]"
     ]
    },
    {
     "name": "stdout",
     "output_type": "stream",
     "text": [
      "Loss after 03072 examples: 0.394\n",
      "Loss after 06272 examples: 0.227\n",
      "Loss after 09472 examples: 0.190\n"
     ]
    },
    {
     "name": "stderr",
     "output_type": "stream",
     "text": [
      " 20%|████████████████▊                                                                   | 1/5 [00:55<03:40, 55.06s/it]"
     ]
    },
    {
     "name": "stdout",
     "output_type": "stream",
     "text": [
      "Loss after 12640 examples: 0.086\n",
      "Loss after 15840 examples: 0.134\n",
      "Loss after 19040 examples: 0.040\n",
      "Loss after 22240 examples: 0.111\n"
     ]
    },
    {
     "name": "stderr",
     "output_type": "stream",
     "text": [
      " 40%|█████████████████████████████████▌                                                  | 2/5 [00:58<01:14, 24.93s/it]"
     ]
    },
    {
     "name": "stdout",
     "output_type": "stream",
     "text": [
      "Loss after 25408 examples: 0.019\n",
      "Loss after 28608 examples: 0.027\n",
      "Loss after 31808 examples: 0.102\n",
      "Loss after 35008 examples: 0.114\n"
     ]
    },
    {
     "name": "stderr",
     "output_type": "stream",
     "text": [
      " 60%|██████████████████████████████████████████████████▍                                 | 3/5 [01:03<00:30, 15.42s/it]"
     ]
    },
    {
     "name": "stdout",
     "output_type": "stream",
     "text": [
      "Loss after 38176 examples: 0.005\n",
      "Loss after 41376 examples: 0.023\n",
      "Loss after 44576 examples: 0.051\n",
      "Loss after 47776 examples: 0.053\n"
     ]
    },
    {
     "name": "stderr",
     "output_type": "stream",
     "text": [
      " 80%|███████████████████████████████████████████████████████████████████▏                | 4/5 [01:07<00:11, 11.07s/it]"
     ]
    },
    {
     "name": "stdout",
     "output_type": "stream",
     "text": [
      "Loss after 50944 examples: 0.048\n",
      "Loss after 54144 examples: 0.012\n",
      "Loss after 57344 examples: 0.083\n"
     ]
    },
    {
     "name": "stderr",
     "output_type": "stream",
     "text": [
      "100%|████████████████████████████████████████████████████████████████████████████████████| 5/5 [01:11<00:00, 14.29s/it]\n"
     ]
    },
    {
     "name": "stdout",
     "output_type": "stream",
     "text": [
      "Accuracy of the model on the 2000 test images: 97.750000%\n"
     ]
    },
    {
     "data": {
      "text/html": [
       "Waiting for W&B process to finish... <strong style=\"color:green\">(success).</strong>"
      ],
      "text/plain": [
       "<IPython.core.display.HTML object>"
      ]
     },
     "metadata": {},
     "output_type": "display_data"
    },
    {
     "data": {
      "text/html": [
       "<style>\n",
       "    table.wandb td:nth-child(1) { padding: 0 10px; text-align: left ; width: auto;} td:nth-child(2) {text-align: left ; width: 100%}\n",
       "    .wandb-row { display: flex; flex-direction: row; flex-wrap: wrap; justify-content: flex-start; width: 100% }\n",
       "    .wandb-col { display: flex; flex-direction: column; flex-basis: 100%; flex: 1; padding: 10px; }\n",
       "    </style>\n",
       "<div class=\"wandb-row\"><div class=\"wandb-col\"><h3>Run history:</h3><br/><table class=\"wandb\"><tr><td>epoch</td><td>▁▁▁▃▃▃▃▅▅▅▅▆▆▆▆███</td></tr><tr><td>loss</td><td>█▅▄▂▃▂▃▁▁▃▃▁▁▂▂▂▁▂</td></tr><tr><td>test_accuracy</td><td>▁</td></tr></table><br/></div><div class=\"wandb-col\"><h3>Run summary:</h3><br/><table class=\"wandb\"><tr><td>epoch</td><td>4</td></tr><tr><td>loss</td><td>0.0832</td></tr><tr><td>test_accuracy</td><td>0.9775</td></tr></table><br/></div></div>"
      ],
      "text/plain": [
       "<IPython.core.display.HTML object>"
      ]
     },
     "metadata": {},
     "output_type": "display_data"
    },
    {
     "data": {
      "text/html": [
       " View run <strong style=\"color:#cdcd00\">woven-water-1</strong> at: <a href='https://wandb.ai/christopher-marais/pytorch-demo/runs/ydakyiam' target=\"_blank\">https://wandb.ai/christopher-marais/pytorch-demo/runs/ydakyiam</a><br/>Synced 5 W&B file(s), 0 media file(s), 0 artifact file(s) and 1 other file(s)"
      ],
      "text/plain": [
       "<IPython.core.display.HTML object>"
      ]
     },
     "metadata": {},
     "output_type": "display_data"
    },
    {
     "data": {
      "text/html": [
       "Find logs at: <code>.\\wandb\\run-20230209_225146-ydakyiam\\logs</code>"
      ],
      "text/plain": [
       "<IPython.core.display.HTML object>"
      ]
     },
     "metadata": {},
     "output_type": "display_data"
    }
   ],
   "source": [
    "# Build, train and analyze the model with the pipeline\n",
    "model = model_pipeline(config)"
   ]
  }
 ],
 "metadata": {
  "kernelspec": {
   "display_name": "Python 3 (ipykernel)",
   "language": "python",
   "name": "python3"
  },
  "language_info": {
   "codemirror_mode": {
    "name": "ipython",
    "version": 3
   },
   "file_extension": ".py",
   "mimetype": "text/x-python",
   "name": "python",
   "nbconvert_exporter": "python",
   "pygments_lexer": "ipython3",
   "version": "3.10.9"
  }
 },
 "nbformat": 4,
 "nbformat_minor": 5
}
