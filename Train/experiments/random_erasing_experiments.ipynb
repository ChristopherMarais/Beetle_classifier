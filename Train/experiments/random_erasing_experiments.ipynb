{
 "cells": [
  {
   "cell_type": "code",
   "execution_count": null,
   "id": "0504153d-0568-407b-86bc-2b8dd5f57c5d",
   "metadata": {},
   "outputs": [],
   "source": [
    "def custom_cutout_gaussian(x, prob=0.5, p=0.3, rectangle_num=5):\n",
    "    if x.ndim == 4:\n",
    "        # Get the dimensions of the input data\n",
    "        batch_size, c, h, w = x.shape\n",
    "        # Initialize a list to store the results\n",
    "        results = []\n",
    "        areas_lst = []\n",
    "        # Iterate over each image in the batch\n",
    "        for i in range(batch_size):\n",
    "            # Check if the random number is less than the given probability\n",
    "            if random.random() < prob:\n",
    "                # Calculate the total area to cut out\n",
    "                usable_area = int(h * w * p)\n",
    "                side = usable_area ** 0.5\n",
    "                rectangles = []\n",
    "                # get the rectangles that would make up the required area\n",
    "                for j in range(rectangle_num-1):\n",
    "                    width = random.uniform(0, side)\n",
    "                    height = random.uniform(0, side)\n",
    "                    rectangles.append((width, height))\n",
    "                    side -= max(width, height)\n",
    "                rectangles.append((side, side))\n",
    "                # generate areas from rectangles\n",
    "                areas = []\n",
    "                for rec in rectangles:\n",
    "                    area_w = round(rec[0])\n",
    "                    area_h = round(rec[1])\n",
    "                    # Generate a random position for the area\n",
    "                    x1 = random.randint(0, w - area_w)\n",
    "                    y1 = random.randint(0, h - area_h)\n",
    "                    x2 = x1 + area_w\n",
    "                    y2 = y1 + area_h\n",
    "                    rl_t = min(y1,y2)\n",
    "                    rh_t = max(y1,y2)\n",
    "                    cl_t = min(x1,x2)\n",
    "                    ch_t = max(x1,x2)\n",
    "                    areas.append((rl_t, rh_t, cl_t, ch_t))\n",
    "                # Apply cutout_gaussian to the current image using the generated areas\n",
    "                areas_lst.append(areas)\n",
    "                # nrm = Normalize.from_stats(*imagenet_stats, cuda=True)\n",
    "                # f = partial(cutout_gaussian, areas=areas)\n",
    "                # result = norm_apply_denorm(x[i], f, nrm)[0]\n",
    "                x[i] = cutout_gaussian(x=x[i], areas=areas)\n",
    "            else:\n",
    "                # If the random number is greater than or equal to the given probability,\n",
    "                # do not apply cutout_gaussian to the current image\n",
    "                areas_lst.append([(0,0,0,0)])\n",
    "                x[i] = x[i]\n",
    "        #     # Add the result to the list of results\n",
    "        #     results.append(result)\n",
    "        # # Stack the results into a single tensor\n",
    "        # results = torch.stack(results)\n",
    "    return x"
   ]
  }
 ],
 "metadata": {
  "kernelspec": {
   "display_name": "Python 3 (ipykernel)",
   "language": "python",
   "name": "python3"
  },
  "language_info": {
   "codemirror_mode": {
    "name": "ipython",
    "version": 3
   },
   "file_extension": ".py",
   "mimetype": "text/x-python",
   "name": "python",
   "nbconvert_exporter": "python",
   "pygments_lexer": "ipython3",
   "version": "3.10.9"
  }
 },
 "nbformat": 4,
 "nbformat_minor": 5
}
