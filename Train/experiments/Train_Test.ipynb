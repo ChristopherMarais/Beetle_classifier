{
 "cells": [
  {
   "cell_type": "code",
   "execution_count": 1,
   "id": "8c056919-5267-4e1a-9a58-6f2f60b72d41",
   "metadata": {
    "execution": {
     "iopub.execute_input": "2023-02-10T04:24:43.614493Z",
     "iopub.status.busy": "2023-02-10T04:24:43.613993Z",
     "iopub.status.idle": "2023-02-10T04:24:46.672539Z",
     "shell.execute_reply": "2023-02-10T04:24:46.671537Z",
     "shell.execute_reply.started": "2023-02-10T04:24:43.614493Z"
    },
    "tags": []
   },
   "outputs": [],
   "source": [
    "import wandb\n",
    "import os\n",
    "import random\n",
    "\n",
    "import numpy as np\n",
    "import torch\n",
    "import torch.nn as nn\n",
    "import torchvision\n",
    "import torchvision.transforms as transforms\n",
    "from tqdm.auto import tqdm"
   ]
  },
  {
   "cell_type": "markdown",
   "id": "a89e6a4f-b907-40b2-81cc-54ba8da7f095",
   "metadata": {},
   "source": [
    "## Prepare script"
   ]
  },
  {
   "cell_type": "code",
   "execution_count": 2,
   "id": "95bef7c1-3c7c-4575-9aca-182c0df7cc7a",
   "metadata": {
    "execution": {
     "iopub.execute_input": "2023-02-10T04:24:46.676039Z",
     "iopub.status.busy": "2023-02-10T04:24:46.675040Z",
     "iopub.status.idle": "2023-02-10T04:24:46.734537Z",
     "shell.execute_reply": "2023-02-10T04:24:46.733538Z",
     "shell.execute_reply.started": "2023-02-10T04:24:46.676039Z"
    }
   },
   "outputs": [],
   "source": [
    "# Ensure deterministic behavior\n",
    "torch.backends.cudnn.deterministic = True\n",
    "random.seed(hash(\"setting random seeds\") % 2**32 - 1)\n",
    "np.random.seed(hash(\"improves reproducibility\") % 2**32 - 1)\n",
    "torch.manual_seed(hash(\"by removing stochasticity\") % 2**32 - 1)\n",
    "torch.cuda.manual_seed_all(hash(\"so runs are repeatable\") % 2**32 - 1)\n",
    "\n",
    "# Device configuration\n",
    "device = torch.device(\"cuda:0\" if torch.cuda.is_available() else \"cpu\")\n",
    "\n",
    "# remove slow mirror from list of MNIST mirrors\n",
    "torchvision.datasets.MNIST.mirrors = [mirror for mirror in torchvision.datasets.MNIST.mirrors\n",
    "                                      if not mirror.startswith(\"http://yann.lecun.com\")]"
   ]
  },
  {
   "cell_type": "markdown",
   "id": "780dd2cc-5a56-44b8-9fd8-8e9ba68fbad4",
   "metadata": {},
   "source": [
    "## Wandb Login"
   ]
  },
  {
   "cell_type": "code",
   "execution_count": 3,
   "id": "99cd48c5-90c0-47ac-9021-26b8d64cfbcc",
   "metadata": {
    "execution": {
     "iopub.execute_input": "2023-02-10T04:24:46.736538Z",
     "iopub.status.busy": "2023-02-10T04:24:46.736038Z",
     "iopub.status.idle": "2023-02-10T04:24:51.056820Z",
     "shell.execute_reply": "2023-02-10T04:24:51.055823Z",
     "shell.execute_reply.started": "2023-02-10T04:24:46.736538Z"
    },
    "tags": []
   },
   "outputs": [
    {
     "name": "stderr",
     "output_type": "stream",
     "text": [
      "\u001b[34m\u001b[1mwandb\u001b[0m: Currently logged in as: \u001b[33mchristopher-marais\u001b[0m. Use \u001b[1m`wandb login --relogin`\u001b[0m to force relogin\n"
     ]
    },
    {
     "data": {
      "text/plain": [
       "True"
      ]
     },
     "execution_count": 3,
     "metadata": {},
     "output_type": "execute_result"
    }
   ],
   "source": [
    "wandb.login()"
   ]
  },
  {
   "cell_type": "markdown",
   "id": "6d8906c5-70f5-4046-995c-c4551db5b2be",
   "metadata": {},
   "source": [
    "## Track metadata and hyperparameters with wandb.init"
   ]
  },
  {
   "cell_type": "code",
   "execution_count": 4,
   "id": "5aa24d45-e232-40f7-a0b7-7e4e255db9a7",
   "metadata": {
    "execution": {
     "iopub.execute_input": "2023-02-10T04:24:51.060826Z",
     "iopub.status.busy": "2023-02-10T04:24:51.060323Z",
     "iopub.status.idle": "2023-02-10T04:24:51.072821Z",
     "shell.execute_reply": "2023-02-10T04:24:51.071324Z",
     "shell.execute_reply.started": "2023-02-10T04:24:51.060826Z"
    },
    "tags": []
   },
   "outputs": [],
   "source": [
    "config = dict(\n",
    "    epochs=5,\n",
    "    classes=10,\n",
    "    kernels=[16, 32],\n",
    "    batch_size=128,\n",
    "    learning_rate=0.005,\n",
    "    dataset=\"MNIST\",\n",
    "    architecture=\"CNN\")"
   ]
  },
  {
   "cell_type": "code",
   "execution_count": 5,
   "id": "c3f0f3a8-8fbe-4603-9fcd-fe3b553e95f1",
   "metadata": {
    "execution": {
     "iopub.execute_input": "2023-02-10T04:24:51.075324Z",
     "iopub.status.busy": "2023-02-10T04:24:51.074823Z",
     "iopub.status.idle": "2023-02-10T04:24:52.353340Z",
     "shell.execute_reply": "2023-02-10T04:24:52.352124Z",
     "shell.execute_reply.started": "2023-02-10T04:24:51.075324Z"
    },
    "tags": []
   },
   "outputs": [],
   "source": [
    "def model_pipeline(hyperparameters):\n",
    "\n",
    "    # tell wandb to get started\n",
    "    with wandb.init(project=\"pytorch-demo\", config=hyperparameters):\n",
    "        # access all HPs through wandb.config, so logging matches execution!\n",
    "        config = wandb.config\n",
    "\n",
    "        # make the model, data, and optimization problem\n",
    "        model, train_loader, test_loader, criterion, optimizer = make(config)\n",
    "        print(model)\n",
    "\n",
    "        # and use them to train the model\n",
    "        train(model, train_loader, criterion, optimizer, config)\n",
    "\n",
    "        # and test its final performance\n",
    "        test(model, test_loader)\n",
    "\n",
    "    return model"
   ]
  },
  {
   "cell_type": "code",
   "execution_count": 6,
   "id": "1556ecf8-59c5-4c0e-a10c-43fcf87160e0",
   "metadata": {
    "execution": {
     "iopub.execute_input": "2023-02-10T04:24:52.355340Z",
     "iopub.status.busy": "2023-02-10T04:24:52.354341Z",
     "iopub.status.idle": "2023-02-10T04:24:53.403098Z",
     "shell.execute_reply": "2023-02-10T04:24:53.402097Z",
     "shell.execute_reply.started": "2023-02-10T04:24:52.355340Z"
    }
   },
   "outputs": [],
   "source": [
    "def make(config):\n",
    "    # Make the data\n",
    "    train, test = get_data(train=True), get_data(train=False)\n",
    "    train_loader = make_loader(train, batch_size=config.batch_size)\n",
    "    test_loader = make_loader(test, batch_size=config.batch_size)\n",
    "\n",
    "    # Make the model\n",
    "    model = ConvNet(config.kernels, config.classes).to(device)\n",
    "\n",
    "    # Make the loss and optimizer\n",
    "    criterion = nn.CrossEntropyLoss()\n",
    "    optimizer = torch.optim.Adam(\n",
    "        model.parameters(), lr=config.learning_rate)\n",
    "    \n",
    "    return model, train_loader, test_loader, criterion, optimizer"
   ]
  },
  {
   "cell_type": "markdown",
   "id": "51af7ff4-445c-4476-b257-88ed35e77ff7",
   "metadata": {},
   "source": [
    "## Define data loading model"
   ]
  },
  {
   "cell_type": "code",
   "execution_count": 7,
   "id": "8ef118f5-2507-41e6-aedb-4aa0c23dbbb1",
   "metadata": {
    "execution": {
     "iopub.execute_input": "2023-02-10T04:24:53.405098Z",
     "iopub.status.busy": "2023-02-10T04:24:53.404598Z",
     "iopub.status.idle": "2023-02-10T04:24:54.455420Z",
     "shell.execute_reply": "2023-02-10T04:24:54.454415Z",
     "shell.execute_reply.started": "2023-02-10T04:24:53.405098Z"
    },
    "tags": []
   },
   "outputs": [],
   "source": [
    "def get_data(slice=5, train=True):\n",
    "    full_dataset = torchvision.datasets.MNIST(root=\".\",\n",
    "                                              train=train, \n",
    "                                              transform=transforms.ToTensor(),\n",
    "                                              download=True)\n",
    "    #  equiv to slicing with [::slice] \n",
    "    sub_dataset = torch.utils.data.Subset(\n",
    "      full_dataset, indices=range(0, len(full_dataset), slice))\n",
    "    \n",
    "    return sub_dataset\n",
    "\n",
    "\n",
    "def make_loader(dataset, batch_size):\n",
    "    loader = torch.utils.data.DataLoader(dataset=dataset,\n",
    "                                         batch_size=batch_size, \n",
    "                                         shuffle=True,\n",
    "                                         pin_memory=True, num_workers=2)\n",
    "    return loader"
   ]
  },
  {
   "cell_type": "code",
   "execution_count": 8,
   "id": "c78e4193-99e8-4cd6-bb7c-0e139685aafe",
   "metadata": {
    "execution": {
     "iopub.execute_input": "2023-02-10T04:24:54.457420Z",
     "iopub.status.busy": "2023-02-10T04:24:54.456921Z",
     "iopub.status.idle": "2023-02-10T04:24:55.830000Z",
     "shell.execute_reply": "2023-02-10T04:24:55.829001Z",
     "shell.execute_reply.started": "2023-02-10T04:24:54.457420Z"
    }
   },
   "outputs": [],
   "source": [
    "# Conventional and convolutional neural network\n",
    "\n",
    "class ConvNet(nn.Module):\n",
    "    def __init__(self, kernels, classes=10):\n",
    "        super(ConvNet, self).__init__()\n",
    "        \n",
    "        self.layer1 = nn.Sequential(\n",
    "            nn.Conv2d(1, kernels[0], kernel_size=5, stride=1, padding=2),\n",
    "            nn.ReLU(),\n",
    "            nn.MaxPool2d(kernel_size=2, stride=2))\n",
    "        self.layer2 = nn.Sequential(\n",
    "            nn.Conv2d(16, kernels[1], kernel_size=5, stride=1, padding=2),\n",
    "            nn.ReLU(),\n",
    "            nn.MaxPool2d(kernel_size=2, stride=2))\n",
    "        self.fc = nn.Linear(7 * 7 * kernels[-1], classes)\n",
    "        \n",
    "    def forward(self, x):\n",
    "        out = self.layer1(x)\n",
    "        out = self.layer2(out)\n",
    "        out = out.reshape(out.size(0), -1)\n",
    "        out = self.fc(out)\n",
    "        return out"
   ]
  },
  {
   "cell_type": "markdown",
   "id": "a14c29be-aa52-422f-843e-724b4d053772",
   "metadata": {
    "execution": {
     "iopub.execute_input": "2023-02-10T03:47:52.406710Z",
     "iopub.status.busy": "2023-02-10T03:47:52.406211Z",
     "iopub.status.idle": "2023-02-10T03:47:52.416211Z",
     "shell.execute_reply": "2023-02-10T03:47:52.414710Z",
     "shell.execute_reply.started": "2023-02-10T03:47:52.406710Z"
    },
    "tags": []
   },
   "source": [
    "# Define Train logic"
   ]
  },
  {
   "cell_type": "markdown",
   "id": "9df78245-66a4-4bf1-ad51-f30175c9d649",
   "metadata": {},
   "source": [
    "## Track gradients with `wandb.watch` and everything else with `wandb.log`"
   ]
  },
  {
   "cell_type": "code",
   "execution_count": 9,
   "id": "a504d8db-cb78-4073-ab9d-520c04fabc63",
   "metadata": {
    "execution": {
     "iopub.execute_input": "2023-02-10T04:24:55.832001Z",
     "iopub.status.busy": "2023-02-10T04:24:55.831500Z",
     "iopub.status.idle": "2023-02-10T04:24:56.757473Z",
     "shell.execute_reply": "2023-02-10T04:24:56.756472Z",
     "shell.execute_reply.started": "2023-02-10T04:24:55.832001Z"
    },
    "tags": []
   },
   "outputs": [],
   "source": [
    "def train(model, loader, criterion, optimizer, config):\n",
    "    # Tell wandb to watch what the model gets up to: gradients, weights, and more!\n",
    "    wandb.watch(model, criterion, log=\"all\", log_freq=10)\n",
    "\n",
    "    # Run training and track with wandb\n",
    "    total_batches = len(loader) * config.epochs\n",
    "    example_ct = 0  # number of examples seen\n",
    "    batch_ct = 0\n",
    "    for epoch in tqdm(range(config.epochs)):\n",
    "        for _, (images, labels) in enumerate(loader):\n",
    "\n",
    "            loss = train_batch(images, labels, model, optimizer, criterion)\n",
    "            example_ct +=  len(images)\n",
    "            batch_ct += 1\n",
    "\n",
    "            # Report metrics every 25th batch\n",
    "            if ((batch_ct + 1) % 25) == 0:\n",
    "                train_log(loss, example_ct, epoch)\n",
    "\n",
    "\n",
    "def train_batch(images, labels, model, optimizer, criterion):\n",
    "    images, labels = images.to(device), labels.to(device)\n",
    "    \n",
    "    # Forward pass ➡\n",
    "    outputs = model(images)\n",
    "    loss = criterion(outputs, labels)\n",
    "    \n",
    "    # Backward pass ⬅\n",
    "    optimizer.zero_grad()\n",
    "    loss.backward()\n",
    "\n",
    "    # Step with optimizer\n",
    "    optimizer.step()\n",
    "\n",
    "    return loss"
   ]
  },
  {
   "cell_type": "code",
   "execution_count": 10,
   "id": "e3d53093-b2bf-4721-937e-c130591f29a5",
   "metadata": {
    "execution": {
     "iopub.execute_input": "2023-02-10T04:24:56.759472Z",
     "iopub.status.busy": "2023-02-10T04:24:56.758977Z",
     "iopub.status.idle": "2023-02-10T04:24:57.836791Z",
     "shell.execute_reply": "2023-02-10T04:24:57.835788Z",
     "shell.execute_reply.started": "2023-02-10T04:24:56.759472Z"
    },
    "tags": []
   },
   "outputs": [],
   "source": [
    "def train_log(loss, example_ct, epoch):\n",
    "    # Where the magic happens\n",
    "    wandb.log({\"epoch\": epoch, \n",
    "               \"loss\": loss,\n",
    "               \"conf_mat\" : wandb.plot.confusion_matrix(probs=None,\n",
    "                        y_true=correct, preds=predictions,\n",
    "                        class_names=labels)\n",
    "              }, step=example_ct)\n",
    "    print(f\"Loss after {str(example_ct).zfill(5)} examples: {loss:.3f}\")"
   ]
  },
  {
   "cell_type": "markdown",
   "id": "8aff5ae8-1028-48ef-9626-a1350f884814",
   "metadata": {
    "execution": {
     "iopub.execute_input": "2023-02-10T03:47:52.406710Z",
     "iopub.status.busy": "2023-02-10T03:47:52.406211Z",
     "iopub.status.idle": "2023-02-10T03:47:52.416211Z",
     "shell.execute_reply": "2023-02-10T03:47:52.414710Z",
     "shell.execute_reply.started": "2023-02-10T03:47:52.406710Z"
    },
    "tags": []
   },
   "source": [
    "# Define Test logic"
   ]
  },
  {
   "cell_type": "markdown",
   "id": "9a4bfe0f-d3a6-47cb-aaad-88d831065764",
   "metadata": {},
   "source": [
    "## Call wandb.save"
   ]
  },
  {
   "cell_type": "code",
   "execution_count": 11,
   "id": "bd2ba8ef-0d44-43cc-b85d-63f17ce3e4db",
   "metadata": {
    "execution": {
     "iopub.execute_input": "2023-02-10T04:24:57.838788Z",
     "iopub.status.busy": "2023-02-10T04:24:57.838287Z",
     "iopub.status.idle": "2023-02-10T04:24:58.454992Z",
     "shell.execute_reply": "2023-02-10T04:24:58.453485Z",
     "shell.execute_reply.started": "2023-02-10T04:24:57.838788Z"
    },
    "tags": []
   },
   "outputs": [],
   "source": [
    "def test(model, test_loader):\n",
    "    model.eval()\n",
    "\n",
    "    # Run the model on some test examples\n",
    "    with torch.no_grad():\n",
    "        correct, total = 0, 0\n",
    "        for images, labels in test_loader:\n",
    "            images, labels = images.to(device), labels.to(device)\n",
    "            outputs = model(images)\n",
    "            _, predicted = torch.max(outputs.data, 1)\n",
    "            total += labels.size(0)\n",
    "            correct += (predicted == labels).sum().item()\n",
    "\n",
    "        print(f\"Accuracy of the model on the {total} \" +\n",
    "              f\"test images: {correct / total:%}\")\n",
    "        \n",
    "        wandb.log({\"test_accuracy\": correct / total})\n",
    "\n",
    "    # Save the model in the exchangeable ONNX format\n",
    "    torch.onnx.export(model, images, \"model.onnx\")\n",
    "    wandb.save(\"model.onnx\")"
   ]
  },
  {
   "cell_type": "markdown",
   "id": "351c65ea-7aaa-452a-a927-b605cc294414",
   "metadata": {},
   "source": [
    "## Run trianing and record metrics"
   ]
  },
  {
   "cell_type": "code",
   "execution_count": 12,
   "id": "6c18d273-4be0-4e11-80b9-aad463233f26",
   "metadata": {
    "execution": {
     "iopub.execute_input": "2023-02-10T04:24:58.456991Z",
     "iopub.status.busy": "2023-02-10T04:24:58.456486Z",
     "iopub.status.idle": "2023-02-10T04:25:13.494521Z",
     "shell.execute_reply": "2023-02-10T04:25:13.489022Z",
     "shell.execute_reply.started": "2023-02-10T04:24:58.456991Z"
    },
    "tags": []
   },
   "outputs": [
    {
     "data": {
      "text/html": [
       "Tracking run with wandb version 0.13.10"
      ],
      "text/plain": [
       "<IPython.core.display.HTML object>"
      ]
     },
     "metadata": {},
     "output_type": "display_data"
    },
    {
     "data": {
      "text/html": [
       "Run data is saved locally in <code>E:\\GIT_REPOS\\LAB\\Beetle_classifier\\Train\\wandb\\run-20230209_232459-nvhmzsly</code>"
      ],
      "text/plain": [
       "<IPython.core.display.HTML object>"
      ]
     },
     "metadata": {},
     "output_type": "display_data"
    },
    {
     "data": {
      "text/html": [
       "Syncing run <strong><a href='https://wandb.ai/christopher-marais/pytorch-demo/runs/nvhmzsly' target=\"_blank\">fine-cosmos-2</a></strong> to <a href='https://wandb.ai/christopher-marais/pytorch-demo' target=\"_blank\">Weights & Biases</a> (<a href='https://wandb.me/run' target=\"_blank\">docs</a>)<br/>"
      ],
      "text/plain": [
       "<IPython.core.display.HTML object>"
      ]
     },
     "metadata": {},
     "output_type": "display_data"
    },
    {
     "data": {
      "text/html": [
       " View project at <a href='https://wandb.ai/christopher-marais/pytorch-demo' target=\"_blank\">https://wandb.ai/christopher-marais/pytorch-demo</a>"
      ],
      "text/plain": [
       "<IPython.core.display.HTML object>"
      ]
     },
     "metadata": {},
     "output_type": "display_data"
    },
    {
     "data": {
      "text/html": [
       " View run at <a href='https://wandb.ai/christopher-marais/pytorch-demo/runs/nvhmzsly' target=\"_blank\">https://wandb.ai/christopher-marais/pytorch-demo/runs/nvhmzsly</a>"
      ],
      "text/plain": [
       "<IPython.core.display.HTML object>"
      ]
     },
     "metadata": {},
     "output_type": "display_data"
    },
    {
     "name": "stdout",
     "output_type": "stream",
     "text": [
      "ConvNet(\n",
      "  (layer1): Sequential(\n",
      "    (0): Conv2d(1, 16, kernel_size=(5, 5), stride=(1, 1), padding=(2, 2))\n",
      "    (1): ReLU()\n",
      "    (2): MaxPool2d(kernel_size=2, stride=2, padding=0, dilation=1, ceil_mode=False)\n",
      "  )\n",
      "  (layer2): Sequential(\n",
      "    (0): Conv2d(16, 32, kernel_size=(5, 5), stride=(1, 1), padding=(2, 2))\n",
      "    (1): ReLU()\n",
      "    (2): MaxPool2d(kernel_size=2, stride=2, padding=0, dilation=1, ceil_mode=False)\n",
      "  )\n",
      "  (fc): Linear(in_features=1568, out_features=10, bias=True)\n",
      ")\n"
     ]
    },
    {
     "data": {
      "application/vnd.jupyter.widget-view+json": {
       "model_id": "b55e2f4597464ef78c73a9e9ab3796a7",
       "version_major": 2,
       "version_minor": 0
      },
      "text/plain": [
       "  0%|          | 0/5 [00:00<?, ?it/s]"
      ]
     },
     "metadata": {},
     "output_type": "display_data"
    },
    {
     "data": {
      "text/html": [
       "Waiting for W&B process to finish... <strong style=\"color:red\">(failed 1).</strong> Press Ctrl-C to abort syncing."
      ],
      "text/plain": [
       "<IPython.core.display.HTML object>"
      ]
     },
     "metadata": {},
     "output_type": "display_data"
    },
    {
     "data": {
      "application/vnd.jupyter.widget-view+json": {
       "model_id": "a91a66ee4eca4865babe6985143be247",
       "version_major": 2,
       "version_minor": 0
      },
      "text/plain": [
       "VBox(children=(Label(value='0.002 MB of 0.026 MB uploaded (0.000 MB deduped)\\r'), FloatProgress(value=0.067728…"
      ]
     },
     "metadata": {},
     "output_type": "display_data"
    },
    {
     "data": {
      "text/html": [
       " View run <strong style=\"color:#cdcd00\">fine-cosmos-2</strong> at: <a href='https://wandb.ai/christopher-marais/pytorch-demo/runs/nvhmzsly' target=\"_blank\">https://wandb.ai/christopher-marais/pytorch-demo/runs/nvhmzsly</a><br/>Synced 5 W&B file(s), 0 media file(s), 0 artifact file(s) and 0 other file(s)"
      ],
      "text/plain": [
       "<IPython.core.display.HTML object>"
      ]
     },
     "metadata": {},
     "output_type": "display_data"
    },
    {
     "data": {
      "text/html": [
       "Find logs at: <code>.\\wandb\\run-20230209_232459-nvhmzsly\\logs</code>"
      ],
      "text/plain": [
       "<IPython.core.display.HTML object>"
      ]
     },
     "metadata": {},
     "output_type": "display_data"
    },
    {
     "ename": "NameError",
     "evalue": "name 'correct' is not defined",
     "output_type": "error",
     "traceback": [
      "\u001b[1;31m---------------------------------------------------------------------------\u001b[0m",
      "\u001b[1;31mNameError\u001b[0m                                 Traceback (most recent call last)",
      "Cell \u001b[1;32mIn[12], line 2\u001b[0m\n\u001b[0;32m      1\u001b[0m \u001b[38;5;66;03m# Build, train and analyze the model with the pipeline\u001b[39;00m\n\u001b[1;32m----> 2\u001b[0m model \u001b[38;5;241m=\u001b[39m \u001b[43mmodel_pipeline\u001b[49m\u001b[43m(\u001b[49m\u001b[43mconfig\u001b[49m\u001b[43m)\u001b[49m\n",
      "Cell \u001b[1;32mIn[5], line 13\u001b[0m, in \u001b[0;36mmodel_pipeline\u001b[1;34m(hyperparameters)\u001b[0m\n\u001b[0;32m     10\u001b[0m \u001b[38;5;28mprint\u001b[39m(model)\n\u001b[0;32m     12\u001b[0m \u001b[38;5;66;03m# and use them to train the model\u001b[39;00m\n\u001b[1;32m---> 13\u001b[0m \u001b[43mtrain\u001b[49m\u001b[43m(\u001b[49m\u001b[43mmodel\u001b[49m\u001b[43m,\u001b[49m\u001b[43m \u001b[49m\u001b[43mtrain_loader\u001b[49m\u001b[43m,\u001b[49m\u001b[43m \u001b[49m\u001b[43mcriterion\u001b[49m\u001b[43m,\u001b[49m\u001b[43m \u001b[49m\u001b[43moptimizer\u001b[49m\u001b[43m,\u001b[49m\u001b[43m \u001b[49m\u001b[43mconfig\u001b[49m\u001b[43m)\u001b[49m\n\u001b[0;32m     15\u001b[0m \u001b[38;5;66;03m# and test its final performance\u001b[39;00m\n\u001b[0;32m     16\u001b[0m test(model, test_loader)\n",
      "Cell \u001b[1;32mIn[9], line 18\u001b[0m, in \u001b[0;36mtrain\u001b[1;34m(model, loader, criterion, optimizer, config)\u001b[0m\n\u001b[0;32m     16\u001b[0m \u001b[38;5;66;03m# Report metrics every 25th batch\u001b[39;00m\n\u001b[0;32m     17\u001b[0m \u001b[38;5;28;01mif\u001b[39;00m ((batch_ct \u001b[38;5;241m+\u001b[39m \u001b[38;5;241m1\u001b[39m) \u001b[38;5;241m%\u001b[39m \u001b[38;5;241m25\u001b[39m) \u001b[38;5;241m==\u001b[39m \u001b[38;5;241m0\u001b[39m:\n\u001b[1;32m---> 18\u001b[0m     \u001b[43mtrain_log\u001b[49m\u001b[43m(\u001b[49m\u001b[43mloss\u001b[49m\u001b[43m,\u001b[49m\u001b[43m \u001b[49m\u001b[43mexample_ct\u001b[49m\u001b[43m,\u001b[49m\u001b[43m \u001b[49m\u001b[43mepoch\u001b[49m\u001b[43m)\u001b[49m\n",
      "Cell \u001b[1;32mIn[10], line 6\u001b[0m, in \u001b[0;36mtrain_log\u001b[1;34m(loss, example_ct, epoch)\u001b[0m\n\u001b[0;32m      1\u001b[0m \u001b[38;5;28;01mdef\u001b[39;00m \u001b[38;5;21mtrain_log\u001b[39m(loss, example_ct, epoch):\n\u001b[0;32m      2\u001b[0m     \u001b[38;5;66;03m# Where the magic happens\u001b[39;00m\n\u001b[0;32m      3\u001b[0m     wandb\u001b[38;5;241m.\u001b[39mlog({\u001b[38;5;124m\"\u001b[39m\u001b[38;5;124mepoch\u001b[39m\u001b[38;5;124m\"\u001b[39m: epoch, \n\u001b[0;32m      4\u001b[0m                \u001b[38;5;124m\"\u001b[39m\u001b[38;5;124mloss\u001b[39m\u001b[38;5;124m\"\u001b[39m: loss,\n\u001b[0;32m      5\u001b[0m                \u001b[38;5;124m\"\u001b[39m\u001b[38;5;124mconf_mat\u001b[39m\u001b[38;5;124m\"\u001b[39m : wandb\u001b[38;5;241m.\u001b[39mplot\u001b[38;5;241m.\u001b[39mconfusion_matrix(probs\u001b[38;5;241m=\u001b[39m\u001b[38;5;28;01mNone\u001b[39;00m,\n\u001b[1;32m----> 6\u001b[0m                         y_true\u001b[38;5;241m=\u001b[39m\u001b[43mcorrect\u001b[49m, preds\u001b[38;5;241m=\u001b[39mpredictions,\n\u001b[0;32m      7\u001b[0m                         class_names\u001b[38;5;241m=\u001b[39mlabels)\n\u001b[0;32m      8\u001b[0m               }, step\u001b[38;5;241m=\u001b[39mexample_ct)\n\u001b[0;32m      9\u001b[0m     \u001b[38;5;28mprint\u001b[39m(\u001b[38;5;124mf\u001b[39m\u001b[38;5;124m\"\u001b[39m\u001b[38;5;124mLoss after \u001b[39m\u001b[38;5;132;01m{\u001b[39;00m\u001b[38;5;28mstr\u001b[39m(example_ct)\u001b[38;5;241m.\u001b[39mzfill(\u001b[38;5;241m5\u001b[39m)\u001b[38;5;132;01m}\u001b[39;00m\u001b[38;5;124m examples: \u001b[39m\u001b[38;5;132;01m{\u001b[39;00mloss\u001b[38;5;132;01m:\u001b[39;00m\u001b[38;5;124m.3f\u001b[39m\u001b[38;5;132;01m}\u001b[39;00m\u001b[38;5;124m\"\u001b[39m)\n",
      "\u001b[1;31mNameError\u001b[0m: name 'correct' is not defined"
     ]
    }
   ],
   "source": [
    "# Build, train and analyze the model with the pipeline\n",
    "model = model_pipeline(config)"
   ]
  }
 ],
 "metadata": {
  "kernelspec": {
   "display_name": "Python 3 (ipykernel)",
   "language": "python",
   "name": "python3"
  },
  "language_info": {
   "codemirror_mode": {
    "name": "ipython",
    "version": 3
   },
   "file_extension": ".py",
   "mimetype": "text/x-python",
   "name": "python",
   "nbconvert_exporter": "python",
   "pygments_lexer": "ipython3",
   "version": "3.10.9"
  }
 },
 "nbformat": 4,
 "nbformat_minor": 5
}
