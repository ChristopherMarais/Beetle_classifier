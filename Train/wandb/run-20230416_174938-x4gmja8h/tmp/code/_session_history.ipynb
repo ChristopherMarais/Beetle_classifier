{
 "cells": [
  {
   "cell_type": "code",
   "execution_count": 1,
   "id": "995b1320",
   "metadata": {},
   "outputs": [],
   "source": [
    "import timm\n",
    "import torch\n",
    "import wandb\n",
    "import fastai\n",
    "import dill\n",
    "from fastai.callback.wandb import WandbCallback\n",
    "from fastai.vision.all import *\n",
    "from fastai.vision.core import *\n",
    "from fastai.text.core import RegexLabeller\n",
    "from fastai.vision.utils import get_image_files\n",
    "from fastai.data.block import DataBlock\n",
    "from fastai.data.core import *\n",
    "from fastai.tabular.all import *\n",
    "os.environ['WANDB_NOTEBOOK_NAME'] = 'Parameter_Optimization_Sweep.ipynb'"
   ]
  },
  {
   "cell_type": "code",
   "execution_count": 2,
   "id": "2ae7f0fe",
   "metadata": {},
   "outputs": [],
   "source": [
    "# define configs and parameters\n",
    "# define static parameters\n",
    "meta_config = SimpleNamespace(\n",
    "    dataset_path = r\"/blue/hulcr/gmarais/Beetle_data/selected_images/train_data\",\n",
    "    img_size=224,\n",
    "    seed=42,\n",
    "    project=\"Ambrosia_Symbiosis\",\n",
    "    # group=\"Beetle_classifier\",\n",
    "    # job_type=\"parameter_optimization\"\n",
    "    )\n",
    "\n",
    "# define parameter optimization config\n",
    "sweep_config = {\n",
    "    'name': 'Beetle_Classifier_Sweep',\n",
    "    'project':meta_config.project,\n",
    "    'method': 'bayes',\n",
    "    'run_cap':10,\n",
    "    'metric': {\n",
    "        'goal': 'minimize', \n",
    "        'name': 'validation_loss'\n",
    "        },\n",
    "    # 'early_terminate':{\n",
    "    #     'type': 'hyperband',\n",
    "    #     'min_iter': 1,\n",
    "    #     'max_iter': 100,\n",
    "    #     'eta': 3,\n",
    "    #     's': 2\n",
    "    # },\n",
    "    'parameters': {\n",
    "        'pretrained':{'values': [True, False]},\n",
    "        'model_name':{'values': [\"maxvit_rmlp_small_rw_224.sw_in1k\"]},\n",
    "        'batch_size': {'values': [128, 64, 256]},\n",
    "        'epochs': {'values': [2, 5, 3]},\n",
    "     }\n",
    "}"
   ]
  },
  {
   "cell_type": "code",
   "execution_count": 3,
   "id": "1f1eb453",
   "metadata": {},
   "outputs": [],
   "source": [
    "# define functions required for sweep\n",
    "def get_images(dataset_path, batch_size, img_size, seed, subfolders=('train','valid')):\n",
    "    \"The beetles dataset\"\n",
    "    files = get_image_files(path=dataset_path, recurse=True, folders=subfolders)\n",
    "    dblock = DataBlock(blocks = (ImageBlock, CategoryBlock),\n",
    "                       get_items = get_image_files,\n",
    "                       splitter = GrandparentSplitter(train_name=subfolders[0], valid_name=subfolders[1]),\n",
    "                       get_y = parent_label,\n",
    "                       item_tfms = Resize(img_size, ResizeMethod.Pad, pad_mode='zeros'))\n",
    "    dls = dblock.dataloaders(dataset_path, bs = batch_size)\n",
    "    return dls\n",
    "\n",
    "def train(meta_config):\n",
    "    \"Train the model using the supplied configs\"\n",
    "    run = wandb.init(project=meta_config.project) # , job_type=meta_config.job_type, group =meta_config.group, \n",
    "    dls = get_images(dataset_path=meta_config.dataset_path, img_size=meta_config.img_size, seed=meta_config.seed, batch_size=wandb.config.batch_size)\n",
    "    labels = np.array([str(x).split('/')[-2] for x in dls.items])\n",
    "    classes = np.unique(labels)\n",
    "    weights = compute_class_weight(class_weight='balanced', classes=classes, y=labels)\n",
    "    class_weights = {c: w for c, w in zip(classes, weights)}\n",
    "    weights = tensor([class_weights[c] for c in dls.vocab]).to(dls.device)\n",
    "    cbs = [MixedPrecision(), ShowGraphCallback(), SaveModelCallback(), WandbCallback(log='all')] \n",
    "    learn = vision_learner(dls, \n",
    "                           wandb.config.model_name,\n",
    "                           loss_func=LabelSmoothingCrossEntropy(weight=weights),\n",
    "                           metrics=[error_rate, \n",
    "                                    accuracy, \n",
    "                                    top_k_accuracy], \n",
    "                           cbs=cbs, \n",
    "                           pretrained=wandb.config.pretrained)\n",
    "    learn.fine_tune(wandb.config.epochs)\n",
    "    run.finish()\n",
    "    \n",
    "# Prepare training wrapper based on configs\n",
    "def train_wrapper():\n",
    "    train(meta_config = meta_config)"
   ]
  },
  {
   "cell_type": "code",
   "execution_count": 4,
   "id": "a6c52a91",
   "metadata": {},
   "outputs": [
    {
     "data": {
      "text/html": [
       "wandb version 0.14.2 is available!  To upgrade, please run:\n",
       " $ pip install wandb --upgrade"
      ],
      "text/plain": [
       "<IPython.core.display.HTML object>"
      ]
     },
     "metadata": {},
     "output_type": "display_data"
    },
    {
     "data": {
      "text/html": [
       "Tracking run with wandb version 0.14.0"
      ],
      "text/plain": [
       "<IPython.core.display.HTML object>"
      ]
     },
     "metadata": {},
     "output_type": "display_data"
    },
    {
     "data": {
      "text/html": [
       "Run data is saved locally in <code>/blue/hulcr/gmarais/Beetle_classifier/Train/wandb/run-20230416_174938-x4gmja8h</code>"
      ],
      "text/plain": [
       "<IPython.core.display.HTML object>"
      ]
     },
     "metadata": {},
     "output_type": "display_data"
    },
    {
     "data": {
      "text/html": [
       "Syncing run <strong><a href='https://wandb.ai/christopher-marais/Ambrosia_Symbiosis/runs/x4gmja8h' target=\"_blank\">stilted-sweep-1</a></strong> to <a href='https://wandb.ai/christopher-marais/Ambrosia_Symbiosis' target=\"_blank\">Weights & Biases</a> (<a href='https://wandb.me/run' target=\"_blank\">docs</a>)<br/>Sweep page: <a href='https://wandb.ai/christopher-marais/Ambrosia_Symbiosis/sweeps/h6cewgdt' target=\"_blank\">https://wandb.ai/christopher-marais/Ambrosia_Symbiosis/sweeps/h6cewgdt</a>"
      ],
      "text/plain": [
       "<IPython.core.display.HTML object>"
      ]
     },
     "metadata": {},
     "output_type": "display_data"
    },
    {
     "data": {
      "text/html": [
       " View project at <a href='https://wandb.ai/christopher-marais/Ambrosia_Symbiosis' target=\"_blank\">https://wandb.ai/christopher-marais/Ambrosia_Symbiosis</a>"
      ],
      "text/plain": [
       "<IPython.core.display.HTML object>"
      ]
     },
     "metadata": {},
     "output_type": "display_data"
    },
    {
     "data": {
      "text/html": [
       " View sweep at <a href='https://wandb.ai/christopher-marais/Ambrosia_Symbiosis/sweeps/h6cewgdt' target=\"_blank\">https://wandb.ai/christopher-marais/Ambrosia_Symbiosis/sweeps/h6cewgdt</a>"
      ],
      "text/plain": [
       "<IPython.core.display.HTML object>"
      ]
     },
     "metadata": {},
     "output_type": "display_data"
    },
    {
     "data": {
      "text/html": [
       " View run at <a href='https://wandb.ai/christopher-marais/Ambrosia_Symbiosis/runs/x4gmja8h' target=\"_blank\">https://wandb.ai/christopher-marais/Ambrosia_Symbiosis/runs/x4gmja8h</a>"
      ],
      "text/plain": [
       "<IPython.core.display.HTML object>"
      ]
     },
     "metadata": {},
     "output_type": "display_data"
    }
   ],
   "source": [
    "# Run sweep    \n",
    "sweep_id = wandb.sweep(sweep_config)\n",
    "wandb.agent(sweep_id, function=train_wrapper)"
   ]
  }
 ],
 "metadata": {
  "kernelspec": {
   "display_name": "Python 3",
   "language": "python",
   "name": "python3"
  },
  "language_info": {
   "codemirror_mode": {
    "name": "ipython",
    "version": 3
   },
   "file_extension": ".py",
   "mimetype": "text/x-python",
   "name": "python",
   "nbconvert_exporter": "python",
   "pygments_lexer": "ipython3",
   "version": "3.10.9"
  }
 },
 "nbformat": 4,
 "nbformat_minor": 5
}
