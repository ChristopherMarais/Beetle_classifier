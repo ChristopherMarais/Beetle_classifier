{
 "cells": [
  {
   "cell_type": "code",
   "execution_count": 1,
   "id": "7c0433ff-3f8b-4d29-86bd-8c513b8572a8",
   "metadata": {
    "execution": {
     "iopub.execute_input": "2023-02-28T18:33:24.533276Z",
     "iopub.status.busy": "2023-02-28T18:33:24.532275Z",
     "iopub.status.idle": "2023-02-28T18:33:30.505393Z",
     "shell.execute_reply": "2023-02-28T18:33:30.503402Z",
     "shell.execute_reply.started": "2023-02-28T18:33:24.533276Z"
    }
   },
   "outputs": [
    {
     "name": "stderr",
     "output_type": "stream",
     "text": [
      "\u001b[34m\u001b[1mwandb\u001b[0m: Currently logged in as: \u001b[33mchristopher-marais\u001b[0m. Use \u001b[1m`wandb login --relogin`\u001b[0m to force relogin\n"
     ]
    },
    {
     "data": {
      "text/plain": [
       "True"
      ]
     },
     "execution_count": 1,
     "metadata": {},
     "output_type": "execute_result"
    }
   ],
   "source": [
    "# from pytorch_lightning.loggers import WandbLogger\n",
    "# from pytorch_lightning import Trainer\n",
    "import wandb\n",
    "\n",
    "wandb.login()\n",
    "# wandb_logger = WandbLogger()\n",
    "# trainer = Trainer(logger=wandb_logger)"
   ]
  },
  {
   "cell_type": "code",
   "execution_count": null,
   "id": "41102332-296d-4140-8a20-30c2b1ed7318",
   "metadata": {},
   "outputs": [],
   "source": [
    "from torchvision.datasets import MNIST\n",
    "from torchvision import transforms\n",
    "from torch.utils.data import DataLoader, random_split\n",
    "\n",
    "transform = transforms.Compose([\n",
    "            transforms.ToTensor(),\n",
    "            transforms.Normalize((0.1307,), (0.3081,))])\n",
    "\n",
    "dataset = MNIST(root=\"./MNIST\", download=True, transform=transform)\n",
    "training_set, validation_set = random_split(dataset, [55000, 5000])"
   ]
  }
 ],
 "metadata": {
  "kernelspec": {
   "display_name": "Python 3 (ipykernel)",
   "language": "python",
   "name": "python3"
  },
  "language_info": {
   "codemirror_mode": {
    "name": "ipython",
    "version": 3
   },
   "file_extension": ".py",
   "mimetype": "text/x-python",
   "name": "python",
   "nbconvert_exporter": "python",
   "pygments_lexer": "ipython3",
   "version": "3.10.9"
  }
 },
 "nbformat": 4,
 "nbformat_minor": 5
}
