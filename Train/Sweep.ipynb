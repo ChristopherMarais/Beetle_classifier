{
 "cells": [
  {
   "cell_type": "code",
   "execution_count": 1,
   "id": "19b4c2bd-a555-44a6-a4c0-371eb17ba22a",
   "metadata": {},
   "outputs": [],
   "source": [
    "import timm\n",
    "import torch\n",
    "import wandb\n",
    "import fastai\n",
    "import dill\n",
    "import re\n",
    "import random\n",
    "from sklearn.utils.class_weight import compute_class_weight\n",
    "from fastai.callback.wandb import WandbCallback\n",
    "from fastai.vision.all import *\n",
    "from fastai.vision.core import *\n",
    "from fastai.text.core import RegexLabeller\n",
    "from fastai.vision.utils import get_image_files\n",
    "from fastai.data.block import DataBlock\n",
    "from fastai.data.core import *\n",
    "from fastai.tabular.all import *\n",
    "from torchvision.transforms import GaussianBlur\n",
    "os.environ['WANDB_NOTEBOOK_NAME'] = 'Parameter_Optimization_Sweep.ipynb'"
   ]
  },
  {
   "cell_type": "code",
   "execution_count": 2,
   "id": "061c5062-b647-4a3e-aaba-07025d1e6520",
   "metadata": {},
   "outputs": [],
   "source": [
    "# define configs and parameters\n",
    "# define static parameters\n",
    "meta_config = SimpleNamespace(\n",
    "    dataset_path = r\"/blue/hulcr/gmarais/Beetle_data/selected_images/train_data\",\n",
    "    img_size=224,\n",
    "    seed=42,\n",
    "    project=\"Ambrosia_Symbiosis\",\n",
    "    # group=\"Beetle_classifier\",\n",
    "    # job_type=\"parameter_optimization\"\n",
    "    )\n",
    "\n",
    "# define parameter optimization config\n",
    "sweep_config = {\n",
    "    'name': 'Beetle_Classifier_Sweep',\n",
    "    'project':meta_config.project,\n",
    "    'method': 'bayes',\n",
    "    # 'run_cap':100,\n",
    "    'metric': {\n",
    "        'goal': 'minimize', \n",
    "        'name': 'validation_loss'\n",
    "        },\n",
    "    # 'early_terminate':{\n",
    "    #     'type': 'hyperband',\n",
    "    #     'min_iter': 1,\n",
    "    #     'max_iter': 100,\n",
    "    #     'eta': 3,\n",
    "    #     's': 2\n",
    "    # },\n",
    "    'parameters': {\n",
    "        'pretrained':{'values': [True, False]},\n",
    "        'model_name':{'values': ['resnet50', 'maxvit_rmlp_small_rw_224.sw_in1k', 'maxvit_rmlp_base_rw_224.sw_in12k', 'maxvit_rmlp_base_rw_224.sw_in12k_ft_in1k', 'vit_huge_patch14_224.orig_in21k']},\n",
    "        'batch_size': {'values': [8, 16, 32, 64]},\n",
    "        'epochs': {'max': 20, 'min': 1},\n",
    "        'lr':{'min':1e-8,'max': 1e-1}\n",
    "     }\n",
    "}"
   ]
  },
  {
   "cell_type": "code",
   "execution_count": 3,
   "id": "79c3aff0-b845-479e-a58e-8aee3565b73f",
   "metadata": {},
   "outputs": [],
   "source": [
    "# Define a custom transform for Gaussian blur\n",
    "def gaussian_blur(x, p=0.5, kernel_size_min=3, kernel_size_max=20, sigma_min=0.1, sigma_max=3):\n",
    "    if x.ndim == 4:\n",
    "        for i in range(x.shape[0]):\n",
    "            if random.random() < p:\n",
    "                kernel_size = random.randrange(kernel_size_min, kernel_size_max + 1, 2)\n",
    "                sigma = random.uniform(sigma_min, sigma_max)\n",
    "                x[i] = GaussianBlur(kernel_size=kernel_size, sigma=sigma)(x[i])\n",
    "    return x\n",
    "\n",
    "def get_images(dataset_path, batch_size, img_size, seed, subfolders=('train','valid')):\n",
    "    \"The beetles dataset\"\n",
    "    files = get_image_files(path=dataset_path, recurse=True, folders=subfolders)\n",
    "    transforms = aug_transforms(    # transformatiosn that are only applied ot training and not inference\n",
    "                           batch=False,\n",
    "                           pad_mode='zeros',\n",
    "                           size=img_size,\n",
    "                           p_affine=0.8,\n",
    "                           p_lighting=0.8,\n",
    "                           max_rotate=360.0,\n",
    "                           mult=1.0, \n",
    "                           do_flip=True, \n",
    "                           flip_vert=False,\n",
    "                           min_zoom=1.0,\n",
    "                           max_zoom=1.1, \n",
    "                           max_lighting=0.75,\n",
    "                           max_warp=0.2, \n",
    "                           mode='bilinear', \n",
    "                           align_corners=True,\n",
    "                           min_scale=1.0,\n",
    "                           xtra_tfms=[RandomErasing(p=0.8, max_count=5, sh=0.25)]) # this adds random erasing to entire batches\n",
    "    transforms.append(partial(gaussian_blur, p=0.8))\n",
    "    transforms.append(Normalize.from_stats(*imagenet_stats))\n",
    "    dblock = DataBlock(blocks = (ImageBlock, CategoryBlock),\n",
    "                       get_items = get_image_files,\n",
    "                       splitter = GrandparentSplitter(train_name=subfolders[0], valid_name=subfolders[1]),\n",
    "                       get_y = parent_label,\n",
    "                       item_tfms = Resize(img_size, ResizeMethod.Pad, pad_mode='zeros'), # resize trasnformation is applied during inference too                                    \n",
    "                       batch_tfms = transforms)\n",
    "    dls = dblock.dataloaders(dataset_path, bs = batch_size)\n",
    "    return dls\n",
    "\n",
    "def train(meta_config):\n",
    "    \"Train the model using the supplied configs\"\n",
    "    run = wandb.init(project=meta_config.project) # , job_type=meta_config.job_type, group =meta_config.group, \n",
    "    dls = get_images(dataset_path=meta_config.dataset_path, img_size=meta_config.img_size, seed=meta_config.seed, batch_size=wandb.config.batch_size)\n",
    "    labels = np.array([re.split(r'/|\\\\', str(x))[-2] for x in dls.items])\n",
    "    classes = np.unique(labels)\n",
    "    weights = compute_class_weight(class_weight='balanced', classes=classes, y=labels)\n",
    "    class_weights = {c: w for c, w in zip(classes, weights)}\n",
    "    weights = tensor([class_weights[c] for c in dls.vocab]).to(dls.device)\n",
    "    cbs = [MixedPrecision(), ShowGraphCallback(), SaveModelCallback(), WandbCallback(log='all')] \n",
    "    learn = vision_learner(dls, \n",
    "                           wandb.config.model_name,\n",
    "                           loss_func=LabelSmoothingCrossEntropy(weight=weights),\n",
    "                           metrics=[error_rate, \n",
    "                                    accuracy, \n",
    "                                    top_k_accuracy], \n",
    "                           cbs=cbs, \n",
    "                           pretrained=wandb.config.pretrained)\n",
    "    learn.fine_tune(wandb.config.epochs, base_lr=wandb.config.lr)\n",
    "    run.finish()\n",
    "    \n",
    "# Prepare training wrapper based on configs\n",
    "def train_wrapper():\n",
    "    train(meta_config = meta_config)"
   ]
  },
  {
   "cell_type": "code",
   "execution_count": 4,
   "id": "12602698-224e-4370-a039-3f0ba589feb6",
   "metadata": {
    "tags": []
   },
   "outputs": [
    {
     "name": "stderr",
     "output_type": "stream",
     "text": [
      "\u001b[34m\u001b[1mwandb\u001b[0m: \u001b[33mWARNING\u001b[0m WANDB_NOTEBOOK_NAME should be a path to a notebook file, couldn't find Parameter_Optimization_Sweep.ipynb.\n"
     ]
    },
    {
     "name": "stdout",
     "output_type": "stream",
     "text": [
      "Create sweep with ID: mfj9eqa9\n",
      "Sweep URL: https://wandb.ai/christopher-marais/Ambrosia_Symbiosis/sweeps/mfj9eqa9\n"
     ]
    },
    {
     "name": "stderr",
     "output_type": "stream",
     "text": [
      "\u001b[34m\u001b[1mwandb\u001b[0m: Agent Starting Run: nu1zoxgt with config:\n",
      "\u001b[34m\u001b[1mwandb\u001b[0m: \tbatch_size: 64\n",
      "\u001b[34m\u001b[1mwandb\u001b[0m: \tepochs: 20\n",
      "\u001b[34m\u001b[1mwandb\u001b[0m: \tlr: 0.049937524150250254\n",
      "\u001b[34m\u001b[1mwandb\u001b[0m: \tmodel_name: resnet50\n",
      "\u001b[34m\u001b[1mwandb\u001b[0m: \tpretrained: False\n",
      "\u001b[34m\u001b[1mwandb\u001b[0m: \u001b[33mWARNING\u001b[0m WANDB_NOTEBOOK_NAME should be a path to a notebook file, couldn't find Parameter_Optimization_Sweep.ipynb.\n",
      "\u001b[34m\u001b[1mwandb\u001b[0m: Currently logged in as: \u001b[33mchristopher-marais\u001b[0m. Use \u001b[1m`wandb login --relogin`\u001b[0m to force relogin\n",
      "\u001b[34m\u001b[1mwandb\u001b[0m: \u001b[33mWARNING\u001b[0m Ignored wandb.init() arg project when running a sweep.\n"
     ]
    },
    {
     "data": {
      "text/html": [
       "wandb version 0.15.2 is available!  To upgrade, please run:\n",
       " $ pip install wandb --upgrade"
      ],
      "text/plain": [
       "<IPython.core.display.HTML object>"
      ]
     },
     "metadata": {},
     "output_type": "display_data"
    },
    {
     "data": {
      "text/html": [
       "Tracking run with wandb version 0.14.0"
      ],
      "text/plain": [
       "<IPython.core.display.HTML object>"
      ]
     },
     "metadata": {},
     "output_type": "display_data"
    },
    {
     "data": {
      "text/html": [
       "Run data is saved locally in <code>/blue/hulcr/gmarais/Beetle_classifier/Train/wandb/run-20230506_021350-nu1zoxgt</code>"
      ],
      "text/plain": [
       "<IPython.core.display.HTML object>"
      ]
     },
     "metadata": {},
     "output_type": "display_data"
    },
    {
     "data": {
      "text/html": [
       "Syncing run <strong><a href='https://wandb.ai/christopher-marais/Ambrosia_Symbiosis/runs/nu1zoxgt' target=\"_blank\">wise-sweep-1</a></strong> to <a href='https://wandb.ai/christopher-marais/Ambrosia_Symbiosis' target=\"_blank\">Weights & Biases</a> (<a href='https://wandb.me/run' target=\"_blank\">docs</a>)<br/>Sweep page: <a href='https://wandb.ai/christopher-marais/Ambrosia_Symbiosis/sweeps/mfj9eqa9' target=\"_blank\">https://wandb.ai/christopher-marais/Ambrosia_Symbiosis/sweeps/mfj9eqa9</a>"
      ],
      "text/plain": [
       "<IPython.core.display.HTML object>"
      ]
     },
     "metadata": {},
     "output_type": "display_data"
    },
    {
     "data": {
      "text/html": [
       " View project at <a href='https://wandb.ai/christopher-marais/Ambrosia_Symbiosis' target=\"_blank\">https://wandb.ai/christopher-marais/Ambrosia_Symbiosis</a>"
      ],
      "text/plain": [
       "<IPython.core.display.HTML object>"
      ]
     },
     "metadata": {},
     "output_type": "display_data"
    },
    {
     "data": {
      "text/html": [
       " View sweep at <a href='https://wandb.ai/christopher-marais/Ambrosia_Symbiosis/sweeps/mfj9eqa9' target=\"_blank\">https://wandb.ai/christopher-marais/Ambrosia_Symbiosis/sweeps/mfj9eqa9</a>"
      ],
      "text/plain": [
       "<IPython.core.display.HTML object>"
      ]
     },
     "metadata": {},
     "output_type": "display_data"
    },
    {
     "data": {
      "text/html": [
       " View run at <a href='https://wandb.ai/christopher-marais/Ambrosia_Symbiosis/runs/nu1zoxgt' target=\"_blank\">https://wandb.ai/christopher-marais/Ambrosia_Symbiosis/runs/nu1zoxgt</a>"
      ],
      "text/plain": [
       "<IPython.core.display.HTML object>"
      ]
     },
     "metadata": {},
     "output_type": "display_data"
    },
    {
     "data": {
      "text/html": [
       "\n",
       "<style>\n",
       "    /* Turns off some styling */\n",
       "    progress {\n",
       "        /* gets rid of default border in Firefox and Opera. */\n",
       "        border: none;\n",
       "        /* Needs to be in here for Safari polyfill so background images work as expected. */\n",
       "        background-size: auto;\n",
       "    }\n",
       "    progress:not([value]), progress:not([value])::-webkit-progress-bar {\n",
       "        background: repeating-linear-gradient(45deg, #7e7e7e, #7e7e7e 10px, #5c5c5c 10px, #5c5c5c 20px);\n",
       "    }\n",
       "    .progress-bar-interrupted, .progress-bar-interrupted::-webkit-progress-bar {\n",
       "        background: #F44336;\n",
       "    }\n",
       "</style>\n"
      ],
      "text/plain": [
       "<IPython.core.display.HTML object>"
      ]
     },
     "metadata": {},
     "output_type": "display_data"
    },
    {
     "data": {
      "text/html": [
       "<table border=\"1\" class=\"dataframe\">\n",
       "  <thead>\n",
       "    <tr style=\"text-align: left;\">\n",
       "      <th>epoch</th>\n",
       "      <th>train_loss</th>\n",
       "      <th>valid_loss</th>\n",
       "      <th>error_rate</th>\n",
       "      <th>accuracy</th>\n",
       "      <th>top_k_accuracy</th>\n",
       "      <th>time</th>\n",
       "    </tr>\n",
       "  </thead>\n",
       "  <tbody>\n",
       "    <tr>\n",
       "      <td>0</td>\n",
       "      <td>1.992791</td>\n",
       "      <td>1.531434</td>\n",
       "      <td>0.408196</td>\n",
       "      <td>0.591804</td>\n",
       "      <td>0.955939</td>\n",
       "      <td>03:35</td>\n",
       "    </tr>\n",
       "  </tbody>\n",
       "</table>"
      ],
      "text/plain": [
       "<IPython.core.display.HTML object>"
      ]
     },
     "metadata": {},
     "output_type": "display_data"
    },
    {
     "name": "stdout",
     "output_type": "stream",
     "text": [
      "Better model found at epoch 0 with valid_loss value: 1.5314335823059082.\n"
     ]
    },
    {
     "data": {
      "image/png": "[encoded data removed]",
      "text/plain": [
       "<Figure size 600x400 with 1 Axes>"
      ]
     },
     "metadata": {},
     "output_type": "display_data"
    },
    {
     "data": {
      "text/html": [
       "\n",
       "<style>\n",
       "    /* Turns off some styling */\n",
       "    progress {\n",
       "        /* gets rid of default border in Firefox and Opera. */\n",
       "        border: none;\n",
       "        /* Needs to be in here for Safari polyfill so background images work as expected. */\n",
       "        background-size: auto;\n",
       "    }\n",
       "    progress:not([value]), progress:not([value])::-webkit-progress-bar {\n",
       "        background: repeating-linear-gradient(45deg, #7e7e7e, #7e7e7e 10px, #5c5c5c 10px, #5c5c5c 20px);\n",
       "    }\n",
       "    .progress-bar-interrupted, .progress-bar-interrupted::-webkit-progress-bar {\n",
       "        background: #F44336;\n",
       "    }\n",
       "</style>\n"
      ],
      "text/plain": [
       "<IPython.core.display.HTML object>"
      ]
     },
     "metadata": {},
     "output_type": "display_data"
    },
    {
     "data": {
      "text/html": [
       "\n",
       "    <div>\n",
       "      <progress value='13' class='' max='20' style='width:300px; height:20px; vertical-align: middle;'></progress>\n",
       "      65.00% [13/20 18:31&lt;09:58]\n",
       "    </div>\n",
       "    \n",
       "<table border=\"1\" class=\"dataframe\">\n",
       "  <thead>\n",
       "    <tr style=\"text-align: left;\">\n",
       "      <th>epoch</th>\n",
       "      <th>train_loss</th>\n",
       "      <th>valid_loss</th>\n",
       "      <th>error_rate</th>\n",
       "      <th>accuracy</th>\n",
       "      <th>top_k_accuracy</th>\n",
       "      <th>time</th>\n",
       "    </tr>\n",
       "  </thead>\n",
       "  <tbody>\n",
       "    <tr>\n",
       "      <td>0</td>\n",
       "      <td>1.485724</td>\n",
       "      <td>1.140210</td>\n",
       "      <td>0.251105</td>\n",
       "      <td>0.748895</td>\n",
       "      <td>0.993304</td>\n",
       "      <td>01:53</td>\n",
       "    </tr>\n",
       "    <tr>\n",
       "      <td>1</td>\n",
       "      <td>1.314795</td>\n",
       "      <td>1.097287</td>\n",
       "      <td>0.226195</td>\n",
       "      <td>0.773805</td>\n",
       "      <td>0.991295</td>\n",
       "      <td>01:19</td>\n",
       "    </tr>\n",
       "    <tr>\n",
       "      <td>2</td>\n",
       "      <td>1.276939</td>\n",
       "      <td>1.518051</td>\n",
       "      <td>0.389849</td>\n",
       "      <td>0.610151</td>\n",
       "      <td>0.986340</td>\n",
       "      <td>01:24</td>\n",
       "    </tr>\n",
       "    <tr>\n",
       "      <td>3</td>\n",
       "      <td>1.270903</td>\n",
       "      <td>2.202763</td>\n",
       "      <td>0.596223</td>\n",
       "      <td>0.403777</td>\n",
       "      <td>0.918709</td>\n",
       "      <td>01:22</td>\n",
       "    </tr>\n",
       "    <tr>\n",
       "      <td>4</td>\n",
       "      <td>1.240704</td>\n",
       "      <td>1.290447</td>\n",
       "      <td>0.251239</td>\n",
       "      <td>0.748761</td>\n",
       "      <td>0.958484</td>\n",
       "      <td>01:21</td>\n",
       "    </tr>\n",
       "    <tr>\n",
       "      <td>5</td>\n",
       "      <td>1.181959</td>\n",
       "      <td>1.382863</td>\n",
       "      <td>0.332128</td>\n",
       "      <td>0.667872</td>\n",
       "      <td>0.974421</td>\n",
       "      <td>01:22</td>\n",
       "    </tr>\n",
       "    <tr>\n",
       "      <td>6</td>\n",
       "      <td>1.092410</td>\n",
       "      <td>1.110514</td>\n",
       "      <td>0.216419</td>\n",
       "      <td>0.783581</td>\n",
       "      <td>0.992233</td>\n",
       "      <td>01:23</td>\n",
       "    </tr>\n",
       "    <tr>\n",
       "      <td>7</td>\n",
       "      <td>1.035467</td>\n",
       "      <td>1.050798</td>\n",
       "      <td>0.128432</td>\n",
       "      <td>0.871568</td>\n",
       "      <td>0.991563</td>\n",
       "      <td>01:21</td>\n",
       "    </tr>\n",
       "    <tr>\n",
       "      <td>8</td>\n",
       "      <td>1.009557</td>\n",
       "      <td>1.970839</td>\n",
       "      <td>0.517477</td>\n",
       "      <td>0.482523</td>\n",
       "      <td>0.959421</td>\n",
       "      <td>01:24</td>\n",
       "    </tr>\n",
       "    <tr>\n",
       "      <td>9</td>\n",
       "      <td>0.925134</td>\n",
       "      <td>0.755040</td>\n",
       "      <td>0.051158</td>\n",
       "      <td>0.948842</td>\n",
       "      <td>0.996518</td>\n",
       "      <td>01:23</td>\n",
       "    </tr>\n",
       "    <tr>\n",
       "      <td>10</td>\n",
       "      <td>0.847999</td>\n",
       "      <td>1.014482</td>\n",
       "      <td>0.170216</td>\n",
       "      <td>0.829784</td>\n",
       "      <td>0.974689</td>\n",
       "      <td>01:21</td>\n",
       "    </tr>\n",
       "    <tr>\n",
       "      <td>11</td>\n",
       "      <td>0.807434</td>\n",
       "      <td>1.634874</td>\n",
       "      <td>0.385831</td>\n",
       "      <td>0.614169</td>\n",
       "      <td>0.869827</td>\n",
       "      <td>01:23</td>\n",
       "    </tr>\n",
       "    <tr>\n",
       "      <td>12</td>\n",
       "      <td>0.760711</td>\n",
       "      <td>0.945731</td>\n",
       "      <td>0.157091</td>\n",
       "      <td>0.842909</td>\n",
       "      <td>0.999063</td>\n",
       "      <td>01:26</td>\n",
       "    </tr>\n",
       "  </tbody>\n",
       "</table><p>\n",
       "\n",
       "    <div>\n",
       "      <progress value='321' class='' max='390' style='width:300px; height:20px; vertical-align: middle;'></progress>\n",
       "      82.31% [321/390 00:52&lt;00:11 0.7184]\n",
       "    </div>\n",
       "    "
      ],
      "text/plain": [
       "<IPython.core.display.HTML object>"
      ]
     },
     "metadata": {},
     "output_type": "display_data"
    },
    {
     "name": "stdout",
     "output_type": "stream",
     "text": [
      "Better model found at epoch 0 with valid_loss value: 1.1402097940444946.\n"
     ]
    },
    {
     "data": {
      "image/png": "[encoded data removed]",
      "text/plain": [
       "<Figure size 600x400 with 1 Axes>"
      ]
     },
     "metadata": {},
     "output_type": "display_data"
    },
    {
     "name": "stdout",
     "output_type": "stream",
     "text": [
      "Better model found at epoch 1 with valid_loss value: 1.0972869396209717.\n",
      "Better model found at epoch 7 with valid_loss value: 1.0507975816726685.\n",
      "Better model found at epoch 9 with valid_loss value: 0.7550395131111145.\n"
     ]
    },
    {
     "name": "stderr",
     "output_type": "stream",
     "text": [
      "\u001b[34m\u001b[1mwandb\u001b[0m: Ctrl + C detected. Stopping sweep.\n"
     ]
    },
    {
     "data": {
      "image/png": "[encoded data removed]",
      "text/plain": [
       "<Figure size 600x400 with 1 Axes>"
      ]
     },
     "metadata": {},
     "output_type": "display_data"
    }
   ],
   "source": [
    "# Run sweep    \n",
    "sweep_id = wandb.sweep(sweep_config)\n",
    "# sweep_id = \"lzlixbyw\" # ob554xgh\n",
    "wandb.agent(sweep_id, function=train_wrapper)"
   ]
  }
 ],
 "metadata": {
  "kernelspec": {
   "display_name": "BC_310",
   "language": "python",
   "name": "bc_310"
  },
  "language_info": {
   "codemirror_mode": {
    "name": "ipython",
    "version": 3
   },
   "file_extension": ".py",
   "mimetype": "text/x-python",
   "name": "python",
   "nbconvert_exporter": "python",
   "pygments_lexer": "ipython3",
   "version": "3.10.9"
  }
 },
 "nbformat": 4,
 "nbformat_minor": 5
}
