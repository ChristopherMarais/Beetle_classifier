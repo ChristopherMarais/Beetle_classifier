{
 "cells": [
  {
   "cell_type": "code",
   "execution_count": 2,
   "id": "19b4c2bd-a555-44a6-a4c0-371eb17ba22a",
   "metadata": {},
   "outputs": [],
   "source": [
    "import timm\n",
    "import torch\n",
    "import wandb\n",
    "import fastai\n",
    "import dill\n",
    "import re\n",
    "import random\n",
    "from sklearn.utils.class_weight import compute_class_weight\n",
    "from fastai.callback.wandb import WandbCallback\n",
    "from fastai.vision.all import *\n",
    "from fastai.vision.core import *\n",
    "from fastai.text.core import RegexLabeller\n",
    "from fastai.vision.utils import get_image_files\n",
    "from fastai.data.block import DataBlock\n",
    "from fastai.data.core import *\n",
    "from fastai.tabular.all import *\n",
    "from torchvision.transforms import GaussianBlur\n",
    "os.environ['WANDB_NOTEBOOK_NAME'] = 'Parameter_Optimization_Sweep.ipynb'"
   ]
  },
  {
   "cell_type": "code",
   "execution_count": 2,
   "id": "061c5062-b647-4a3e-aaba-07025d1e6520",
   "metadata": {},
   "outputs": [],
   "source": [
    "# define configs and parameters\n",
    "# define static parameters\n",
    "meta_config = SimpleNamespace(\n",
    "    dataset_path = r\"/blue/hulcr/gmarais/Beetle_data/selected_images/train_data\",\n",
    "    img_size=224,\n",
    "    seed=42,\n",
    "    project=\"Ambrosia_Symbiosis\",\n",
    "    # group=\"Beetle_classifier\",\n",
    "    # job_type=\"parameter_optimization\"\n",
    "    )\n",
    "\n",
    "# define parameter optimization config\n",
    "sweep_config = {\n",
    "    'name': 'Beetle_Classifier_Sweep',\n",
    "    'project':meta_config.project,\n",
    "    'method': 'bayes',\n",
    "    # 'run_cap':100,\n",
    "    'metric': {\n",
    "        'goal': 'minimize', \n",
    "        'name': 'validation_loss'\n",
    "        },\n",
    "    # 'early_terminate':{\n",
    "    #     'type': 'hyperband',\n",
    "    #     'min_iter': 1,\n",
    "    #     'max_iter': 100,\n",
    "    #     'eta': 3,\n",
    "    #     's': 2\n",
    "    # },\n",
    "    'parameters': {\n",
    "        'pretrained':{'values': [True, False]},\n",
    "        'model_name':{'values': ['resnet50', 'maxvit_rmlp_small_rw_224.sw_in1k', 'maxvit_rmlp_base_rw_224.sw_in12k', 'maxvit_rmlp_base_rw_224.sw_in12k_ft_in1k', 'vit_huge_patch14_224.orig_in21k']},\n",
    "        'batch_size': {'values': [8, 16, 32, 64]},\n",
    "        'epochs': {'max': 20, 'min': 1},\n",
    "        'lr':{'min':1e-8,'max': 1e-1}\n",
    "     }\n",
    "}"
   ]
  },
  {
   "cell_type": "code",
   "execution_count": 3,
   "id": "79c3aff0-b845-479e-a58e-8aee3565b73f",
   "metadata": {},
   "outputs": [],
   "source": [
    "# Define a custom transform for Gaussian blur\n",
    "def gaussian_blur(x, p=0.5, kernel_size_min=3, kernel_size_max=20, sigma_min=0.1, sigma_max=3):\n",
    "    if x.ndim == 4:\n",
    "        for i in range(x.shape[0]):\n",
    "            if random.random() < p:\n",
    "                kernel_size = random.randrange(kernel_size_min, kernel_size_max + 1, 2)\n",
    "                sigma = random.uniform(sigma_min, sigma_max)\n",
    "                x[i] = GaussianBlur(kernel_size=kernel_size, sigma=sigma)(x[i])\n",
    "    return x\n",
    "\n",
    "def get_images(dataset_path, batch_size, img_size, seed, subfolders=('train','valid')):\n",
    "    \"The beetles dataset\"\n",
    "    files = get_image_files(path=dataset_path, recurse=True, folders=subfolders)\n",
    "    transforms = aug_transforms(    # transformatiosn that are only applied ot training and not inference\n",
    "                           batch=False,\n",
    "                           pad_mode='zeros',\n",
    "                           size=img_size,\n",
    "                           p_affine=0.8,\n",
    "                           p_lighting=0.8,\n",
    "                           max_rotate=360.0,\n",
    "                           mult=1.0, \n",
    "                           do_flip=True, \n",
    "                           flip_vert=False,\n",
    "                           min_zoom=1.0,\n",
    "                           max_zoom=1.1, \n",
    "                           max_lighting=0.75,\n",
    "                           max_warp=0.2, \n",
    "                           mode='bilinear', \n",
    "                           align_corners=True,\n",
    "                           min_scale=1.0,\n",
    "                           xtra_tfms=[RandomErasing(p=0.8, max_count=5, sh=0.25)]) # this adds random erasing to entire batches\n",
    "    transforms.append(partial(gaussian_blur, p=0.8))\n",
    "    transforms.append(Normalize.from_stats(*imagenet_stats))\n",
    "    dblock = DataBlock(blocks = (ImageBlock, CategoryBlock),\n",
    "                       get_items = get_image_files,\n",
    "                       splitter = GrandparentSplitter(train_name=subfolders[0], valid_name=subfolders[1]),\n",
    "                       get_y = parent_label,\n",
    "                       item_tfms = Resize(img_size, ResizeMethod.Pad, pad_mode='zeros'), # resize trasnformation is applied during inference too                                    \n",
    "                       batch_tfms = transforms)\n",
    "    dls = dblock.dataloaders(dataset_path, bs = batch_size)\n",
    "    return dls\n",
    "\n",
    "def train(meta_config):\n",
    "    \"Train the model using the supplied configs\"\n",
    "    run = wandb.init(project=meta_config.project) # , job_type=meta_config.job_type, group =meta_config.group, \n",
    "    dls = get_images(dataset_path=meta_config.dataset_path, img_size=meta_config.img_size, seed=meta_config.seed, batch_size=wandb.config.batch_size)\n",
    "    labels = np.array([re.split(r'/|\\\\', str(x))[-2] for x in dls.items])\n",
    "    classes = np.unique(labels)\n",
    "    weights = compute_class_weight(class_weight='balanced', classes=classes, y=labels)\n",
    "    class_weights = {c: w for c, w in zip(classes, weights)}\n",
    "    weights = tensor([class_weights[c] for c in dls.vocab]).to(dls.device)\n",
    "    cbs = [MixedPrecision(), ShowGraphCallback(), SaveModelCallback(), WandbCallback(log='all')] \n",
    "    learn = vision_learner(dls, \n",
    "                           wandb.config.model_name,\n",
    "                           loss_func=LabelSmoothingCrossEntropy(weight=weights),\n",
    "                           metrics=[error_rate, \n",
    "                                    accuracy, \n",
    "                                    top_k_accuracy], \n",
    "                           cbs=cbs, \n",
    "                           pretrained=wandb.config.pretrained)\n",
    "    learn.fine_tune(wandb.config.epochs, base_lr=wandb.config.lr)\n",
    "    run.finish()\n",
    "    \n",
    "# Prepare training wrapper based on configs\n",
    "def train_wrapper():\n",
    "    train(meta_config = meta_config)"
   ]
  },
  {
   "cell_type": "code",
   "execution_count": null,
   "id": "12602698-224e-4370-a039-3f0ba589feb6",
   "metadata": {
    "collapsed": true,
    "jupyter": {
     "outputs_hidden": true
    },
    "tags": []
   },
   "outputs": [
    {
     "name": "stderr",
     "output_type": "stream",
     "text": [
      "\u001b[34m\u001b[1mwandb\u001b[0m: \u001b[33mWARNING\u001b[0m WANDB_NOTEBOOK_NAME should be a path to a notebook file, couldn't find Parameter_Optimization_Sweep.ipynb.\n"
     ]
    },
    {
     "name": "stdout",
     "output_type": "stream",
     "text": [
      "Create sweep with ID: 9fubrsfu\n",
      "Sweep URL: https://wandb.ai/christopher-marais/Ambrosia_Symbiosis/sweeps/9fubrsfu\n"
     ]
    },
    {
     "name": "stderr",
     "output_type": "stream",
     "text": [
      "\u001b[34m\u001b[1mwandb\u001b[0m: Agent Starting Run: s5ur9zpz with config:\n",
      "\u001b[34m\u001b[1mwandb\u001b[0m: \tbatch_size: 8\n",
      "\u001b[34m\u001b[1mwandb\u001b[0m: \tepochs: 14\n",
      "\u001b[34m\u001b[1mwandb\u001b[0m: \tlr: 0.09200998111050764\n",
      "\u001b[34m\u001b[1mwandb\u001b[0m: \tmodel_name: maxvit_rmlp_base_rw_224.sw_in12k_ft_in1k\n",
      "\u001b[34m\u001b[1mwandb\u001b[0m: \tpretrained: True\n",
      "\u001b[34m\u001b[1mwandb\u001b[0m: \u001b[33mWARNING\u001b[0m WANDB_NOTEBOOK_NAME should be a path to a notebook file, couldn't find Parameter_Optimization_Sweep.ipynb.\n",
      "\u001b[34m\u001b[1mwandb\u001b[0m: Currently logged in as: \u001b[33mchristopher-marais\u001b[0m. Use \u001b[1m`wandb login --relogin`\u001b[0m to force relogin\n",
      "\u001b[34m\u001b[1mwandb\u001b[0m: \u001b[33mWARNING\u001b[0m Ignored wandb.init() arg project when running a sweep.\n"
     ]
    },
    {
     "data": {
      "text/html": [
       "wandb version 0.15.0 is available!  To upgrade, please run:\n",
       " $ pip install wandb --upgrade"
      ],
      "text/plain": [
       "<IPython.core.display.HTML object>"
      ]
     },
     "metadata": {},
     "output_type": "display_data"
    },
    {
     "data": {
      "text/html": [
       "Tracking run with wandb version 0.14.0"
      ],
      "text/plain": [
       "<IPython.core.display.HTML object>"
      ]
     },
     "metadata": {},
     "output_type": "display_data"
    },
    {
     "data": {
      "text/html": [
       "Run data is saved locally in <code>/blue/hulcr/gmarais/Beetle_classifier/Train/wandb/run-20230423_213302-s5ur9zpz</code>"
      ],
      "text/plain": [
       "<IPython.core.display.HTML object>"
      ]
     },
     "metadata": {},
     "output_type": "display_data"
    },
    {
     "data": {
      "text/html": [
       "Syncing run <strong><a href='https://wandb.ai/christopher-marais/Ambrosia_Symbiosis/runs/s5ur9zpz' target=\"_blank\">clear-sweep-48</a></strong> to <a href='https://wandb.ai/christopher-marais/Ambrosia_Symbiosis' target=\"_blank\">Weights & Biases</a> (<a href='https://wandb.me/run' target=\"_blank\">docs</a>)<br/>Sweep page: <a href='https://wandb.ai/christopher-marais/Ambrosia_Symbiosis/sweeps/lzlixbyw' target=\"_blank\">https://wandb.ai/christopher-marais/Ambrosia_Symbiosis/sweeps/lzlixbyw</a>"
      ],
      "text/plain": [
       "<IPython.core.display.HTML object>"
      ]
     },
     "metadata": {},
     "output_type": "display_data"
    },
    {
     "data": {
      "text/html": [
       " View project at <a href='https://wandb.ai/christopher-marais/Ambrosia_Symbiosis' target=\"_blank\">https://wandb.ai/christopher-marais/Ambrosia_Symbiosis</a>"
      ],
      "text/plain": [
       "<IPython.core.display.HTML object>"
      ]
     },
     "metadata": {},
     "output_type": "display_data"
    },
    {
     "data": {
      "text/html": [
       " View sweep at <a href='https://wandb.ai/christopher-marais/Ambrosia_Symbiosis/sweeps/lzlixbyw' target=\"_blank\">https://wandb.ai/christopher-marais/Ambrosia_Symbiosis/sweeps/lzlixbyw</a>"
      ],
      "text/plain": [
       "<IPython.core.display.HTML object>"
      ]
     },
     "metadata": {},
     "output_type": "display_data"
    },
    {
     "data": {
      "text/html": [
       " View run at <a href='https://wandb.ai/christopher-marais/Ambrosia_Symbiosis/runs/s5ur9zpz' target=\"_blank\">https://wandb.ai/christopher-marais/Ambrosia_Symbiosis/runs/s5ur9zpz</a>"
      ],
      "text/plain": [
       "<IPython.core.display.HTML object>"
      ]
     },
     "metadata": {},
     "output_type": "display_data"
    },
    {
     "name": "stderr",
     "output_type": "stream",
     "text": [
      "/blue/hulcr/gmarais/conda/envs/BC_310/lib/python3.10/site-packages/torch/functional.py:478: UserWarning: torch.meshgrid: in an upcoming release, it will be required to pass the indexing argument. (Triggered internally at  /opt/conda/conda-bld/pytorch_1659484808560/work/aten/src/ATen/native/TensorShape.cpp:2894.)\n",
      "  return _VF.meshgrid(tensors, **kwargs)  # type: ignore[attr-defined]\n"
     ]
    },
    {
     "data": {
      "text/html": [
       "\n",
       "<style>\n",
       "    /* Turns off some styling */\n",
       "    progress {\n",
       "        /* gets rid of default border in Firefox and Opera. */\n",
       "        border: none;\n",
       "        /* Needs to be in here for Safari polyfill so background images work as expected. */\n",
       "        background-size: auto;\n",
       "    }\n",
       "    progress:not([value]), progress:not([value])::-webkit-progress-bar {\n",
       "        background: repeating-linear-gradient(45deg, #7e7e7e, #7e7e7e 10px, #5c5c5c 10px, #5c5c5c 20px);\n",
       "    }\n",
       "    .progress-bar-interrupted, .progress-bar-interrupted::-webkit-progress-bar {\n",
       "        background: #F44336;\n",
       "    }\n",
       "</style>\n"
      ],
      "text/plain": [
       "<IPython.core.display.HTML object>"
      ]
     },
     "metadata": {},
     "output_type": "display_data"
    },
    {
     "data": {
      "text/html": [
       "<table border=\"1\" class=\"dataframe\">\n",
       "  <thead>\n",
       "    <tr style=\"text-align: left;\">\n",
       "      <th>epoch</th>\n",
       "      <th>train_loss</th>\n",
       "      <th>valid_loss</th>\n",
       "      <th>error_rate</th>\n",
       "      <th>accuracy</th>\n",
       "      <th>top_k_accuracy</th>\n",
       "      <th>time</th>\n",
       "    </tr>\n",
       "  </thead>\n",
       "  <tbody>\n",
       "    <tr>\n",
       "      <td>0</td>\n",
       "      <td>10.608073</td>\n",
       "      <td>227.423416</td>\n",
       "      <td>0.202893</td>\n",
       "      <td>0.797107</td>\n",
       "      <td>0.926343</td>\n",
       "      <td>13:01</td>\n",
       "    </tr>\n",
       "  </tbody>\n",
       "</table>"
      ],
      "text/plain": [
       "<IPython.core.display.HTML object>"
      ]
     },
     "metadata": {},
     "output_type": "display_data"
    },
    {
     "name": "stdout",
     "output_type": "stream",
     "text": [
      "Better model found at epoch 0 with valid_loss value: 227.4234161376953.\n"
     ]
    },
    {
     "data": {
      "image/png": "[encoded data removed]",
      "text/plain": [
       "<Figure size 600x400 with 1 Axes>"
      ]
     },
     "metadata": {},
     "output_type": "display_data"
    },
    {
     "data": {
      "text/html": [
       "\n",
       "<style>\n",
       "    /* Turns off some styling */\n",
       "    progress {\n",
       "        /* gets rid of default border in Firefox and Opera. */\n",
       "        border: none;\n",
       "        /* Needs to be in here for Safari polyfill so background images work as expected. */\n",
       "        background-size: auto;\n",
       "    }\n",
       "    progress:not([value]), progress:not([value])::-webkit-progress-bar {\n",
       "        background: repeating-linear-gradient(45deg, #7e7e7e, #7e7e7e 10px, #5c5c5c 10px, #5c5c5c 20px);\n",
       "    }\n",
       "    .progress-bar-interrupted, .progress-bar-interrupted::-webkit-progress-bar {\n",
       "        background: #F44336;\n",
       "    }\n",
       "</style>\n"
      ],
      "text/plain": [
       "<IPython.core.display.HTML object>"
      ]
     },
     "metadata": {},
     "output_type": "display_data"
    },
    {
     "data": {
      "text/html": [
       "\n",
       "    <div>\n",
       "      <progress value='12' class='' max='14' style='width:300px; height:20px; vertical-align: middle;'></progress>\n",
       "      85.71% [12/14 3:38:20&lt;36:23]\n",
       "    </div>\n",
       "    \n",
       "<table border=\"1\" class=\"dataframe\">\n",
       "  <thead>\n",
       "    <tr style=\"text-align: left;\">\n",
       "      <th>epoch</th>\n",
       "      <th>train_loss</th>\n",
       "      <th>valid_loss</th>\n",
       "      <th>error_rate</th>\n",
       "      <th>accuracy</th>\n",
       "      <th>top_k_accuracy</th>\n",
       "      <th>time</th>\n",
       "    </tr>\n",
       "  </thead>\n",
       "  <tbody>\n",
       "    <tr>\n",
       "      <td>0</td>\n",
       "      <td>0.842107</td>\n",
       "      <td>29.590431</td>\n",
       "      <td>0.120530</td>\n",
       "      <td>0.879470</td>\n",
       "      <td>0.950047</td>\n",
       "      <td>17:55</td>\n",
       "    </tr>\n",
       "    <tr>\n",
       "      <td>1</td>\n",
       "      <td>1.034059</td>\n",
       "      <td>27.088350</td>\n",
       "      <td>0.136199</td>\n",
       "      <td>0.863801</td>\n",
       "      <td>0.965850</td>\n",
       "      <td>17:35</td>\n",
       "    </tr>\n",
       "    <tr>\n",
       "      <td>2</td>\n",
       "      <td>1.980238</td>\n",
       "      <td>34.810020</td>\n",
       "      <td>0.240391</td>\n",
       "      <td>0.759609</td>\n",
       "      <td>0.963439</td>\n",
       "      <td>17:33</td>\n",
       "    </tr>\n",
       "    <tr>\n",
       "      <td>3</td>\n",
       "      <td>2.406326</td>\n",
       "      <td>308.908264</td>\n",
       "      <td>0.280702</td>\n",
       "      <td>0.719298</td>\n",
       "      <td>0.873309</td>\n",
       "      <td>18:20</td>\n",
       "    </tr>\n",
       "    <tr>\n",
       "      <td>4</td>\n",
       "      <td>1.844706</td>\n",
       "      <td>nan</td>\n",
       "      <td>0.130039</td>\n",
       "      <td>0.869961</td>\n",
       "      <td>0.930226</td>\n",
       "      <td>17:45</td>\n",
       "    </tr>\n",
       "    <tr>\n",
       "      <td>5</td>\n",
       "      <td>1.276220</td>\n",
       "      <td>nan</td>\n",
       "      <td>0.149859</td>\n",
       "      <td>0.850141</td>\n",
       "      <td>0.985670</td>\n",
       "      <td>17:46</td>\n",
       "    </tr>\n",
       "    <tr>\n",
       "      <td>6</td>\n",
       "      <td>1.175229</td>\n",
       "      <td>nan</td>\n",
       "      <td>0.096960</td>\n",
       "      <td>0.903040</td>\n",
       "      <td>0.978037</td>\n",
       "      <td>17:44</td>\n",
       "    </tr>\n",
       "    <tr>\n",
       "      <td>7</td>\n",
       "      <td>0.844197</td>\n",
       "      <td>30.623192</td>\n",
       "      <td>0.044462</td>\n",
       "      <td>0.955538</td>\n",
       "      <td>0.990224</td>\n",
       "      <td>18:17</td>\n",
       "    </tr>\n",
       "    <tr>\n",
       "      <td>8</td>\n",
       "      <td>0.754127</td>\n",
       "      <td>15.649798</td>\n",
       "      <td>0.029999</td>\n",
       "      <td>0.970001</td>\n",
       "      <td>0.976831</td>\n",
       "      <td>17:52</td>\n",
       "    </tr>\n",
       "    <tr>\n",
       "      <td>9</td>\n",
       "      <td>0.662658</td>\n",
       "      <td>2.373693</td>\n",
       "      <td>0.022231</td>\n",
       "      <td>0.977769</td>\n",
       "      <td>0.999732</td>\n",
       "      <td>17:57</td>\n",
       "    </tr>\n",
       "    <tr>\n",
       "      <td>10</td>\n",
       "      <td>0.602204</td>\n",
       "      <td>1.036237</td>\n",
       "      <td>0.007098</td>\n",
       "      <td>0.992902</td>\n",
       "      <td>0.994777</td>\n",
       "      <td>21:25</td>\n",
       "    </tr>\n",
       "    <tr>\n",
       "      <td>11</td>\n",
       "      <td>0.578311</td>\n",
       "      <td>0.557215</td>\n",
       "      <td>0.001741</td>\n",
       "      <td>0.998259</td>\n",
       "      <td>0.999866</td>\n",
       "      <td>17:52</td>\n",
       "    </tr>\n",
       "  </tbody>\n",
       "</table><p>\n",
       "\n",
       "    <div>\n",
       "      <progress value='982' class='' max='3125' style='width:300px; height:20px; vertical-align: middle;'></progress>\n",
       "      31.42% [982/3125 05:13&lt;11:25 0.5591]\n",
       "    </div>\n",
       "    "
      ],
      "text/plain": [
       "<IPython.core.display.HTML object>"
      ]
     },
     "metadata": {},
     "output_type": "display_data"
    },
    {
     "name": "stdout",
     "output_type": "stream",
     "text": [
      "Better model found at epoch 0 with valid_loss value: 29.590431213378906.\n"
     ]
    },
    {
     "data": {
      "image/png": "[encoded data removed]",
      "text/plain": [
       "<Figure size 600x400 with 1 Axes>"
      ]
     },
     "metadata": {},
     "output_type": "display_data"
    },
    {
     "name": "stdout",
     "output_type": "stream",
     "text": [
      "Better model found at epoch 1 with valid_loss value: 27.088350296020508.\n"
     ]
    },
    {
     "name": "stderr",
     "output_type": "stream",
     "text": [
      "IOPub message rate exceeded.\n",
      "The Jupyter server will temporarily stop sending output\n",
      "to the client in order to avoid crashing it.\n",
      "To change this limit, set the config variable\n",
      "`--ServerApp.iopub_msg_rate_limit`.\n",
      "\n",
      "Current values:\n",
      "ServerApp.iopub_msg_rate_limit=1000.0 (msgs/sec)\n",
      "ServerApp.rate_limit_window=3.0 (secs)\n",
      "\n"
     ]
    },
    {
     "name": "stdout",
     "output_type": "stream",
     "text": [
      "Better model found at epoch 8 with valid_loss value: 15.649798393249512.\n"
     ]
    },
    {
     "name": "stderr",
     "output_type": "stream",
     "text": [
      "IOPub message rate exceeded.\n",
      "The Jupyter server will temporarily stop sending output\n",
      "to the client in order to avoid crashing it.\n",
      "To change this limit, set the config variable\n",
      "`--ServerApp.iopub_msg_rate_limit`.\n",
      "\n",
      "Current values:\n",
      "ServerApp.iopub_msg_rate_limit=1000.0 (msgs/sec)\n",
      "ServerApp.rate_limit_window=3.0 (secs)\n",
      "\n"
     ]
    },
    {
     "name": "stdout",
     "output_type": "stream",
     "text": [
      "Better model found at epoch 9 with valid_loss value: 0.538946270942688.\n",
      "Better model found at epoch 10 with valid_loss value: 0.5355876684188843.\n",
      "Better model found at epoch 11 with valid_loss value: 0.5340772271156311.\n"
     ]
    }
   ],
   "source": [
    "# Run sweep    \n",
    "sweep_id = wandb.sweep(sweep_config)\n",
    "sweep_id = \"lzlixbyw\"\n",
    "wandb.agent(sweep_id, function=train_wrapper)"
   ]
  }
 ],
 "metadata": {
  "kernelspec": {
   "display_name": "BC_310",
   "language": "python",
   "name": "bc_310"
  },
  "language_info": {
   "codemirror_mode": {
    "name": "ipython",
    "version": 3
   },
   "file_extension": ".py",
   "mimetype": "text/x-python",
   "name": "python",
   "nbconvert_exporter": "python",
   "pygments_lexer": "ipython3",
   "version": "3.10.9"
  }
 },
 "nbformat": 4,
 "nbformat_minor": 5
}
