{
 "cells": [
  {
   "cell_type": "code",
   "execution_count": 1,
   "id": "7c0433ff-3f8b-4d29-86bd-8c513b8572a8",
   "metadata": {
    "execution": {
     "iopub.execute_input": "2023-02-28T18:34:27.247765Z",
     "iopub.status.busy": "2023-02-28T18:34:27.247765Z",
     "iopub.status.idle": "2023-02-28T18:34:32.925541Z",
     "shell.execute_reply": "2023-02-28T18:34:32.924538Z",
     "shell.execute_reply.started": "2023-02-28T18:34:27.247765Z"
    }
   },
   "outputs": [
    {
     "name": "stderr",
     "output_type": "stream",
     "text": [
      "\u001b[34m\u001b[1mwandb\u001b[0m: Currently logged in as: \u001b[33mchristopher-marais\u001b[0m. Use \u001b[1m`wandb login --relogin`\u001b[0m to force relogin\n"
     ]
    },
    {
     "data": {
      "text/plain": [
       "True"
      ]
     },
     "execution_count": 1,
     "metadata": {},
     "output_type": "execute_result"
    }
   ],
   "source": [
    "# from pytorch_lightning.loggers import WandbLogger\n",
    "# from pytorch_lightning import Trainer\n",
    "import wandb\n",
    "\n",
    "wandb.login()\n",
    "# wandb_logger = WandbLogger()\n",
    "# trainer = Trainer(logger=wandb_logger)"
   ]
  },
  {
   "cell_type": "code",
   "execution_count": 8,
   "id": "f48d32ac-498e-4144-87b6-0bc70e617051",
   "metadata": {
    "execution": {
     "iopub.execute_input": "2023-03-01T03:54:38.002679Z",
     "iopub.status.busy": "2023-03-01T03:54:38.002679Z",
     "iopub.status.idle": "2023-03-01T03:54:41.906164Z",
     "shell.execute_reply": "2023-03-01T03:54:41.905163Z",
     "shell.execute_reply.started": "2023-03-01T03:54:38.002679Z"
    }
   },
   "outputs": [],
   "source": [
    "from pytorch_lightning import LightningModule"
   ]
  },
  {
   "cell_type": "code",
   "execution_count": 9,
   "id": "41102332-296d-4140-8a20-30c2b1ed7318",
   "metadata": {
    "execution": {
     "iopub.execute_input": "2023-03-01T04:05:54.146838Z",
     "iopub.status.busy": "2023-03-01T04:05:54.145838Z",
     "iopub.status.idle": "2023-03-01T04:05:54.177833Z",
     "shell.execute_reply": "2023-03-01T04:05:54.176337Z",
     "shell.execute_reply.started": "2023-03-01T04:05:54.146336Z"
    },
    "tags": []
   },
   "outputs": [],
   "source": [
    "class LitModel(LightningModule):\n",
    "    def __init__(self, input_shape, num_classes, learning_rate=2e-4, transfer=False):\n",
    "        super().__init__()\n",
    "        \n",
    "        # log hyperparameters\n",
    "        self.save_hyperparameters()\n",
    "        self.learning_rate = learning_rate\n",
    "        self.dim = input_shape\n",
    "        self.num_classes = num_classes\n",
    "        \n",
    "        # transfer learning if pretrained=True\n",
    "        self.feature_extractor = models.maxvit_t(weights=models.MaxVit_T_Weights.IMAGENET1K_V1, progress=True)# models.resnet18(pretrained=transfer)\n",
    "        \n",
    "        if transfer:\n",
    "            # layers are frozen by using eval()\n",
    "            self.feature_extractor.eval()\n",
    "            # freeze params\n",
    "            for param in self.feature_extractor.parameters():\n",
    "                param.requires_grad = False\n",
    "        n_sizes = self._get_conv_output(input_shape)\n",
    "        self.classifier = nn.Linear(n_sizes, num_classes)\n",
    "        self.criterion = nn.CrossEntropyLoss()\n",
    "        self.accuracy = Accuracy()\n",
    "  \n",
    "    # returns the size of the output tensor going into the Linear layer from the conv block.\n",
    "    def _get_conv_output(self, shape):\n",
    "        batch_size = 1\n",
    "        tmp_input = torch.autograd.Variable(torch.rand(batch_size, *shape))\n",
    "\n",
    "\n",
    "        output_feat = self._forward_features(tmp_input) \n",
    "        n_size = output_feat.data.view(batch_size, -1).size(1)\n",
    "        return n_size\n",
    "        \n",
    "    # returns the feature tensor from the conv block\n",
    "    def _forward_features(self, x):\n",
    "        x = self.feature_extractor(x)\n",
    "        return x\n",
    "    \n",
    "    # will be used during inference\n",
    "    def forward(self, x):\n",
    "        x = self._forward_features(x)\n",
    "        x = x.view(x.size(0), -1)\n",
    "        x = self.classifier(x)\n",
    "        return x\n",
    "    \n",
    "    def training_step(self, batch):\n",
    "        batch, gt = batch[0], batch[1]\n",
    "        out = self.forward(batch)\n",
    "        loss = self.criterion(out, gt)\n",
    "        acc = self.accuracy(out, gt)\n",
    "        self.log(\"train/loss\", loss)\n",
    "        self.log(\"train/acc\", acc)\n",
    "        return loss\n",
    "    \n",
    "    def validation_step(self, batch, batch_idx):\n",
    "        batch, gt = batch[0], batch[1]\n",
    "        out = self.forward(batch)\n",
    "        loss = self.criterion(out, gt)\n",
    "        self.log(\"val/loss\", loss)\n",
    "        acc = self.accuracy(out, gt)\n",
    "        self.log(\"val/acc\", acc)\n",
    "        return loss\n",
    "    \n",
    "    def test_step(self, batch, batch_idx):\n",
    "        batch, gt = batch[0], batch[1]\n",
    "        out = self.forward(batch)\n",
    "        loss = self.criterion(out, gt)\n",
    "        return {\"loss\": loss, \"outputs\": out, \"gt\": gt}\n",
    "    \n",
    "    def test_epoch_end(self, outputs):\n",
    "        loss = torch.stack([x['loss'] for x in outputs]).mean()\n",
    "        output = torch.cat([x['outputs'] for x in outputs], dim=0)\n",
    "        gts = torch.cat([x['gt'] for x in outputs], dim=0)\n",
    "        self.log(\"test/loss\", loss)\n",
    "        acc = self.accuracy(output, gts)\n",
    "        self.log(\"test/acc\", acc)\n",
    "        self.test_gts = gts\n",
    "        self.test_output = output\n",
    "    \n",
    "    def configure_optimizers(self):\n",
    "        return torch.optim.Adam(self.parameters(), lr=self.learning_rate)"
   ]
  },
  {
   "cell_type": "code",
   "execution_count": 8,
   "id": "4ca83b45-5e3f-47c9-be88-48dd0739c679",
   "metadata": {
    "execution": {
     "iopub.execute_input": "2023-03-06T19:28:37.761782Z",
     "iopub.status.busy": "2023-03-06T19:28:37.760783Z",
     "iopub.status.idle": "2023-03-06T19:28:38.567283Z",
     "shell.execute_reply": "2023-03-06T19:28:38.566282Z",
     "shell.execute_reply.started": "2023-03-06T19:28:37.761285Z"
    },
    "tags": []
   },
   "outputs": [],
   "source": [
    "from torchvision import models\n",
    "fe = models.maxvit_t(weights=models.MaxVit_T_Weights.IMAGENET1K_V1, \n",
    "                     progress=True)"
   ]
  },
  {
   "cell_type": "code",
   "execution_count": 6,
   "id": "4aed15cd-7a3c-41d8-9e1e-2ee5221d8784",
   "metadata": {
    "execution": {
     "iopub.execute_input": "2023-03-01T04:10:40.505977Z",
     "iopub.status.busy": "2023-03-01T04:10:40.505478Z",
     "iopub.status.idle": "2023-03-01T04:10:40.518479Z",
     "shell.execute_reply": "2023-03-01T04:10:40.517480Z",
     "shell.execute_reply.started": "2023-03-01T04:10:40.505977Z"
    },
    "tags": []
   },
   "outputs": [
    {
     "data": {
      "text/plain": [
       "functools.partial(<class 'torchvision.transforms._presets.ImageClassification'>, crop_size=224, resize_size=224, interpolation=<InterpolationMode.BICUBIC: 'bicubic'>)"
      ]
     },
     "execution_count": 6,
     "metadata": {},
     "output_type": "execute_result"
    }
   ],
   "source": [
    "models.MaxVit_T_Weights.IMAGENET1K_V1.transforms"
   ]
  },
  {
   "cell_type": "code",
   "execution_count": null,
   "id": "085d0c07-5f48-4109-8acc-6df0cf9fc248",
   "metadata": {},
   "outputs": [],
   "source": []
  }
 ],
 "metadata": {
  "kernelspec": {
   "display_name": "Python 3 (ipykernel)",
   "language": "python",
   "name": "python3"
  },
  "language_info": {
   "codemirror_mode": {
    "name": "ipython",
    "version": 3
   },
   "file_extension": ".py",
   "mimetype": "text/x-python",
   "name": "python",
   "nbconvert_exporter": "python",
   "pygments_lexer": "ipython3",
   "version": "3.10.9"
  }
 },
 "nbformat": 4,
 "nbformat_minor": 5
}
