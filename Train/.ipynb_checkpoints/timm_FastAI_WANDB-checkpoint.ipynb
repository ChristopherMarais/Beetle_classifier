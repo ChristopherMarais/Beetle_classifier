{
 "cells": [
  {
   "cell_type": "code",
   "execution_count": 1,
   "id": "436f1771-7aa6-45e7-abae-56c8112da143",
   "metadata": {
    "execution": {
     "iopub.execute_input": "2023-03-13T20:37:43.560530Z",
     "iopub.status.busy": "2023-03-13T20:37:43.560027Z",
     "iopub.status.idle": "2023-03-13T20:37:49.773524Z",
     "shell.execute_reply": "2023-03-13T20:37:49.772525Z",
     "shell.execute_reply.started": "2023-03-13T20:37:43.560530Z"
    },
    "tags": []
   },
   "outputs": [],
   "source": [
    "import timm\n",
    "import torch\n",
    "import wandb\n",
    "import fastai\n",
    "from fastai.callback.wandb import WandbCallback\n",
    "from fastai.vision.all import *"
   ]
  },
  {
   "cell_type": "code",
   "execution_count": 2,
   "id": "56818f26-f610-4fe1-89a0-450d6c5e93b0",
   "metadata": {
    "execution": {
     "iopub.execute_input": "2023-03-13T20:37:49.775526Z",
     "iopub.status.busy": "2023-03-13T20:37:49.775026Z",
     "iopub.status.idle": "2023-03-13T20:37:49.805025Z",
     "shell.execute_reply": "2023-03-13T20:37:49.803524Z",
     "shell.execute_reply.started": "2023-03-13T20:37:49.775526Z"
    },
    "tags": []
   },
   "outputs": [
    {
     "data": {
      "text/plain": [
       "['maxvit_base_tf_224.in1k',\n",
       " 'maxvit_base_tf_384.in1k',\n",
       " 'maxvit_base_tf_384.in21k_ft_in1k',\n",
       " 'maxvit_base_tf_512.in1k',\n",
       " 'maxvit_base_tf_512.in21k_ft_in1k',\n",
       " 'maxvit_large_tf_224.in1k',\n",
       " 'maxvit_large_tf_384.in1k',\n",
       " 'maxvit_large_tf_384.in21k_ft_in1k',\n",
       " 'maxvit_large_tf_512.in1k',\n",
       " 'maxvit_large_tf_512.in21k_ft_in1k',\n",
       " 'maxvit_nano_rw_256.sw_in1k',\n",
       " 'maxvit_rmlp_base_rw_224.sw_in12k',\n",
       " 'maxvit_rmlp_base_rw_224.sw_in12k_ft_in1k',\n",
       " 'maxvit_rmlp_base_rw_384.sw_in12k_ft_in1k',\n",
       " 'maxvit_rmlp_nano_rw_256.sw_in1k',\n",
       " 'maxvit_rmlp_pico_rw_256.sw_in1k',\n",
       " 'maxvit_rmlp_small_rw_224.sw_in1k',\n",
       " 'maxvit_rmlp_tiny_rw_256.sw_in1k',\n",
       " 'maxvit_small_tf_224.in1k',\n",
       " 'maxvit_small_tf_384.in1k',\n",
       " 'maxvit_small_tf_512.in1k',\n",
       " 'maxvit_tiny_rw_224.sw_in1k',\n",
       " 'maxvit_tiny_tf_224.in1k',\n",
       " 'maxvit_tiny_tf_384.in1k',\n",
       " 'maxvit_tiny_tf_512.in1k',\n",
       " 'maxvit_xlarge_tf_384.in21k_ft_in1k',\n",
       " 'maxvit_xlarge_tf_512.in21k_ft_in1k',\n",
       " 'maxxvit_rmlp_nano_rw_256.sw_in1k',\n",
       " 'maxxvit_rmlp_small_rw_256.sw_in1k',\n",
       " 'maxxvitv2_nano_rw_256.sw_in1k',\n",
       " 'maxxvitv2_rmlp_base_rw_224.sw_in12k',\n",
       " 'maxxvitv2_rmlp_base_rw_224.sw_in12k_ft_in1k',\n",
       " 'maxxvitv2_rmlp_base_rw_384.sw_in12k_ft_in1k']"
      ]
     },
     "execution_count": 2,
     "metadata": {},
     "output_type": "execute_result"
    }
   ],
   "source": [
    "timm.list_models('*max*', pretrained=True)"
   ]
  },
  {
   "cell_type": "code",
   "execution_count": 3,
   "id": "28c79cc5-2685-4d40-8b07-7a79e00ade9c",
   "metadata": {
    "execution": {
     "iopub.execute_input": "2023-03-13T20:37:49.808527Z",
     "iopub.status.busy": "2023-03-13T20:37:49.808027Z",
     "iopub.status.idle": "2023-03-13T20:37:49.851525Z",
     "shell.execute_reply": "2023-03-13T20:37:49.850024Z",
     "shell.execute_reply.started": "2023-03-13T20:37:49.808527Z"
    },
    "tags": []
   },
   "outputs": [],
   "source": [
    "# config = SimpleNamespace(\n",
    "#     batch_size=8,\n",
    "#     img_size=224,\n",
    "#     seed=42,\n",
    "#     pretrained=True,\n",
    "#     model_name=\"maxvit_rmlp_small_rw_224.sw_in1k\", # try with maxvit_nano_rw_256.sw_in1k # regnetx_040 coatnet_bn_0_rw_224.sw_in1k\n",
    "#     epochs=3)\n",
    "\n",
    "# def get_pets(batch_size, img_size, seed):\n",
    "#     \"The dog breeds pets datasets\"\n",
    "#     dataset_path = untar_data(URLs.PETS)\n",
    "#     files = get_image_files(dataset_path/\"images\")\n",
    "#     dls = ImageDataLoaders.from_name_re(dataset_path, files, \n",
    "#                                         pat=r'(^[a-zA-Z]+_*[a-zA-Z]+)', \n",
    "#                                         valid_pct=0.2, \n",
    "#                                         seed=seed, \n",
    "#                                         bs=batch_size,\n",
    "#                                         item_tfms=Resize(img_size)) \n",
    "#     return dls\n",
    "\n",
    "# def train(config):\n",
    "#     \"Train the model using the supplied config\"\n",
    "#     dls = get_pets(config.batch_size, config.img_size, config.seed)\n",
    "#     with wandb.init(project=\"PROJECT\", group='ambrosia_symbiosis', job_type='test_training', config=config):\n",
    "#         cbs = [MixedPrecision(), WandbCallback(log='all')]\n",
    "#         learn = vision_learner(dls, config.model_name, metrics=[error_rate, accuracy], \n",
    "#                                cbs=cbs, pretrained=config.pretrained)\n",
    "#         learn.fine_tune(config.epochs)"
   ]
  },
  {
   "cell_type": "code",
   "execution_count": 4,
   "id": "24f14525-c39b-4974-a497-4f0d78022f96",
   "metadata": {
    "execution": {
     "iopub.execute_input": "2023-03-13T20:37:49.853526Z",
     "iopub.status.busy": "2023-03-13T20:37:49.853025Z",
     "iopub.status.idle": "2023-03-13T20:37:49.897525Z",
     "shell.execute_reply": "2023-03-13T20:37:49.896525Z",
     "shell.execute_reply.started": "2023-03-13T20:37:49.853025Z"
    },
    "tags": []
   },
   "outputs": [],
   "source": [
    "# train(config=config)"
   ]
  },
  {
   "cell_type": "code",
   "execution_count": 5,
   "id": "450bfc9b-6527-41e0-803b-633e82230dea",
   "metadata": {
    "execution": {
     "iopub.execute_input": "2023-03-13T20:37:49.899026Z",
     "iopub.status.busy": "2023-03-13T20:37:49.898526Z",
     "iopub.status.idle": "2023-03-13T20:37:49.960026Z",
     "shell.execute_reply": "2023-03-13T20:37:49.958526Z",
     "shell.execute_reply.started": "2023-03-13T20:37:49.899026Z"
    },
    "tags": []
   },
   "outputs": [
    {
     "ename": "SyntaxError",
     "evalue": "'(' was never closed (2198176842.py, line 29)",
     "output_type": "error",
     "traceback": [
      "\u001b[1;36m  Cell \u001b[1;32mIn[5], line 29\u001b[1;36m\u001b[0m\n\u001b[1;33m    learn.remove_cb(ProgressCallback\u001b[0m\n\u001b[1;37m                   ^\u001b[0m\n\u001b[1;31mSyntaxError\u001b[0m\u001b[1;31m:\u001b[0m '(' was never closed\n"
     ]
    }
   ],
   "source": [
    "config = SimpleNamespace(\n",
    "    batch_size=2,\n",
    "    img_size=224,\n",
    "    seed=42,\n",
    "    pretrained=True,\n",
    "    model_name=\"maxvit_rmlp_small_rw_224.sw_in1k\", # try with maxvit_nano_rw_256.sw_in1k # regnetx_040 coatnet_bn_0_rw_224.sw_in1k\n",
    "    epochs=3)\n",
    "\n",
    "def get_planets(batch_size=8, img_size=224, seed=42):\n",
    "    \"A sample of the planets dataset\"\n",
    "    dataset_path=untar_data(URLs.PLANET_SAMPLE)\n",
    "    dls = ImageDataLoaders.from_csv(dataset_path, \n",
    "                                    folder=\"train\", \n",
    "                                    csv_fname=\"labels.csv\",\n",
    "                                    label_delim=\" \",\n",
    "                                    suff=\".jpg\",\n",
    "                                    bs=batch_size,\n",
    "                                    seed=seed,\n",
    "                                    item_tfms=Resize(img_size))\n",
    "    return dls\n",
    "\n",
    "def train(config):\n",
    "    \"Train the model using the supplied config\"\n",
    "    dls = get_planets(config.batch_size, config.img_size, config.seed)\n",
    "    with wandb.init(project=\"PROJECT\", group='ambrosia_symbiosis', job_type='test_training', config=config):\n",
    "        cbs = [MixedPrecision(), WandbCallback(log='all')]\n",
    "        learn = vision_learner(dls, config.model_name, metrics=[error_rate, accuracy_multi], \n",
    "                               cbs=cbs, pretrained=config.pretrained)\n",
    "        learn.remove_cb(ProgressCallback)\n",
    "        learn.fine_tune(config.epochs)"
   ]
  },
  {
   "cell_type": "code",
   "execution_count": null,
   "id": "dff8becf-8e4b-4b07-911c-d030ab8c12dc",
   "metadata": {
    "execution": {
     "iopub.status.busy": "2023-03-13T20:37:49.961026Z",
     "iopub.status.idle": "2023-03-13T20:37:49.961526Z",
     "shell.execute_reply": "2023-03-13T20:37:49.961526Z",
     "shell.execute_reply.started": "2023-03-13T20:37:49.961526Z"
    },
    "tags": []
   },
   "outputs": [],
   "source": [
    "train(config=config)"
   ]
  },
  {
   "cell_type": "code",
   "execution_count": null,
   "id": "7476519a-b383-46ce-ab55-165f509e0a86",
   "metadata": {},
   "outputs": [],
   "source": []
  }
 ],
 "metadata": {
  "kernelspec": {
   "display_name": "Python 3 (ipykernel)",
   "language": "python",
   "name": "python3"
  },
  "language_info": {
   "codemirror_mode": {
    "name": "ipython",
    "version": 3
   },
   "file_extension": ".py",
   "mimetype": "text/x-python",
   "name": "python",
   "nbconvert_exporter": "python",
   "pygments_lexer": "ipython3",
   "version": "3.10.9"
  }
 },
 "nbformat": 4,
 "nbformat_minor": 5
}
