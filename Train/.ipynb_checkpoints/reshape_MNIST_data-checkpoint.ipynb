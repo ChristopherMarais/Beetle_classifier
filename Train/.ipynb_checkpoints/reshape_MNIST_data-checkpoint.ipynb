{
 "cells": [
  {
   "cell_type": "code",
   "execution_count": null,
   "id": "10911142-8b75-4063-a3f0-a199940047d5",
   "metadata": {
    "tags": []
   },
   "outputs": [],
   "source": [
    "import os\n",
    "import re\n",
    "import numpy as np\n",
    "from skimage import color, io, transform, util\n",
    "from skimage.viewer import ImageViewer\n",
    "import matplotlib.pyplot as plt\n",
    "io.use_plugin('matplotlib')"
   ]
  },
  {
   "cell_type": "code",
   "execution_count": null,
   "id": "e1c0be5e-43bf-4dd1-a400-053733c7e53b",
   "metadata": {
    "tags": []
   },
   "outputs": [],
   "source": [
    "# Set the path of the directory containing the images\n",
    "path = 'E:\\\\GIT_REPOS\\\\LAB\\\\Beetle_classifier\\\\Train\\\\DATASET'\n",
    "\n",
    "# Get a list of all files in the directory and its subdirectories\n",
    "files = []\n",
    "for dirpath, dirnames, filenames in os.walk(path):\n",
    "    for filename in filenames:\n",
    "        files.append(os.path.join(dirpath, filename))\n",
    "\n",
    "# Filter the list to keep only image files (JPEG, PNG, GIF, BMP, etc.)\n",
    "image_files = [f for f in files if f.endswith(('.jpeg', '.jpg', '.png', '.gif', '.bmp'))]"
   ]
  },
  {
   "cell_type": "code",
   "execution_count": null,
   "id": "e029d6f3-c286-4597-968f-84f41903a780",
   "metadata": {
    "tags": []
   },
   "outputs": [],
   "source": [
    "j = 0\n",
    "for i in image_files:\n",
    "    # Load the grayscale image\n",
    "    img_gray = io.imread(i, as_gray=True)\n",
    "    # Resize the grayscale image to 224x224\n",
    "    img_gray_resized = transform.resize(img_gray, (224, 224), anti_aliasing=True)\n",
    "    # Convert the grayscale image to RGB color format\n",
    "    img_color = util.img_as_ubyte(color.gray2rgb(img_gray_resized))\n",
    "    \n",
    "    # new directory\n",
    "    new_i = re.sub(\"DATASET\", \"DATASET_C\", i)\n",
    "    # Save the RGB color image\n",
    "    io.imsave(new_i, img_color)\n",
    "    j += 1\n",
    "    if j % 1000 == 0:\n",
    "        print(j)"
   ]
  }
 ],
 "metadata": {
  "kernelspec": {
   "display_name": "Python 3 (ipykernel)",
   "language": "python",
   "name": "python3"
  },
  "language_info": {
   "codemirror_mode": {
    "name": "ipython",
    "version": 3
   },
   "file_extension": ".py",
   "mimetype": "text/x-python",
   "name": "python",
   "nbconvert_exporter": "python",
   "pygments_lexer": "ipython3",
   "version": "3.10.9"
  }
 },
 "nbformat": 4,
 "nbformat_minor": 5
}
