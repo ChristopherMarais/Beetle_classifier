{
 "cells": [
  {
   "cell_type": "code",
   "execution_count": null,
   "id": "0c403f8d-3cfd-48f5-8a4a-500a03fff3d8",
   "metadata": {
    "execution": {
     "iopub.execute_input": "2023-03-15T22:47:27.859313Z",
     "iopub.status.busy": "2023-03-15T22:47:27.858314Z"
    },
    "tags": []
   },
   "outputs": [],
   "source": [
    "import timm\n",
    "import torch\n",
    "import wandb\n",
    "import fastai\n",
    "from fastai.callback.wandb import WandbCallback\n",
    "from fastai.vision.all import *\n",
    "from fastai.vision.core import *\n",
    "from fastai.text.core import RegexLabeller\n",
    "from fastai.vision.utils import get_image_files\n",
    "from fastai.data.block import DataBlock\n",
    "from fastai.data.core import *"
   ]
  },
  {
   "cell_type": "code",
   "execution_count": null,
   "id": "c4e633d2-718e-4940-9e6e-94ea772337e1",
   "metadata": {
    "tags": []
   },
   "outputs": [],
   "source": [
    "config = SimpleNamespace(\n",
    "    batch_size=8,\n",
    "    img_size=224,\n",
    "    seed=42,\n",
    "    pretrained=True,\n",
    "    model_name=\"maxvit_rmlp_small_rw_224.sw_in1k\", # try with maxvit_nano_rw_256.sw_in1k # regnetx_040 coatnet_bn_0_rw_224.sw_in1k\n",
    "    epochs=5)\n",
    "\n",
    "def get_images(dataset_path, batch_size, img_size, seed):\n",
    "    \"The beetles dataset\"\n",
    "    files = get_image_files(path=dataset_path, recurse=True, folders=('train','valid'))\n",
    "    # dls = ImageDataLoaders.from_name_re(dataset_path, files, \n",
    "    #                                     pat=r'(^[a-zA-Z]+_*[a-zA-Z]+)', \n",
    "    #                                     valid_pct=0.2, \n",
    "    #                                     seed=seed, \n",
    "    #                                     bs=batch_size,\n",
    "    #                                     item_tfms=Resize(img_size, ResizeMethod.Pad, pad_mode='zeros'))\n",
    "    \n",
    "    dblock = DataBlock(blocks = (ImageBlock, CategoryBlock),\n",
    "                       get_items = get_image_files,\n",
    "                       splitter = GrandparentSplitter(train_name='train', valid_name='valid'),\n",
    "                       get_y = parent_label,\n",
    "                       # get_y = RegexLabeller(pat = r'([a-zA-Z]+_[a-zA-Z]+)(?=[^\\/]+$)'),\n",
    "                       item_tfms = Resize(img_size, ResizeMethod.Pad, pad_mode='zeros'))\n",
    "    dls = dblock.dataloaders(dataset_path, bs = batch_size) # [os.path.join(dataset_path,'train'), os.path.join(dataset_path,'valid')]\n",
    "    return dls\n",
    "\n",
    "def train(config, dataset_path):\n",
    "    \"Train the model using the supplied config\"\n",
    "    dls = get_images(dataset_path=dataset_path, batch_size=config.batch_size, img_size=config.img_size, seed=config.seed)\n",
    "    with wandb.init(project=\"PROJECT\", group='ambrosia_symbiosis', job_type='test_training', config=config):\n",
    "        cbs = [MixedPrecision(), WandbCallback(log='all')]\n",
    "        learn = vision_learner(dls, \n",
    "                               config.model_name, \n",
    "                               loss_func=LabelSmoothingCrossEntropyFlat(),\n",
    "                               metrics=[error_rate, \n",
    "                                        accuracy, \n",
    "                                        top_k_accuracy], \n",
    "                               cbs=cbs, pretrained=config.pretrained)\n",
    "        learn.fine_tune(config.epochs)\n",
    "        interp = ClassificationInterpretation.from_learner(learn)\n",
    "        interp.plot_confusion_matrix()\n",
    "        interp.plot_top_losses(5, nrows=5)"
   ]
  },
  {
   "cell_type": "code",
   "execution_count": null,
   "id": "2d677984-84cd-4344-8929-6deb33e8aac3",
   "metadata": {
    "tags": []
   },
   "outputs": [],
   "source": [
    "train(config=config, dataset_path=r\"F:\\selected_images\\atkinson_data\")"
   ]
  },
  {
   "cell_type": "code",
   "execution_count": null,
   "id": "68b619df-7991-4217-b6ec-df96918ef26b",
   "metadata": {},
   "outputs": [],
   "source": []
  }
 ],
 "metadata": {
  "kernelspec": {
   "display_name": "Python 3 (ipykernel)",
   "language": "python",
   "name": "python3"
  },
  "language_info": {
   "codemirror_mode": {
    "name": "ipython",
    "version": 3
   },
   "file_extension": ".py",
   "mimetype": "text/x-python",
   "name": "python",
   "nbconvert_exporter": "python",
   "pygments_lexer": "ipython3",
   "version": "3.10.9"
  }
 },
 "nbformat": 4,
 "nbformat_minor": 5
}
