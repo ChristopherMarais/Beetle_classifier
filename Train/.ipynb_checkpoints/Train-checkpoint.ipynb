{
 "cells": [
  {
   "cell_type": "code",
   "execution_count": null,
   "id": "0c403f8d-3cfd-48f5-8a4a-500a03fff3d8",
   "metadata": {},
   "outputs": [],
   "source": [
    "import timm\n",
    "import torch\n",
    "import wandb\n",
    "import fastai\n",
    "from fastai.callback.wandb import WandbCallback\n",
    "from fastai.vision.all import *"
   ]
  },
  {
   "cell_type": "code",
   "execution_count": null,
   "id": "9bf1891d-2288-4580-a1d8-2a5197ec122c",
   "metadata": {},
   "outputs": [],
   "source": [
    "config = SimpleNamespace(\n",
    "    batch_size=2,\n",
    "    img_size=224,\n",
    "    seed=42,\n",
    "    pretrained=True,\n",
    "    model_name=\"maxvit_rmlp_small_rw_224.sw_in1k\", # try with maxvit_nano_rw_256.sw_in1k # regnetx_040 coatnet_bn_0_rw_224.sw_in1k\n",
    "    epochs=3)\n",
    "\n",
    "def get_planets(batch_size=8, img_size=224, seed=42):\n",
    "    \"A sample of the planets dataset\"\n",
    "    dataset_path=untar_data(URLs.PLANET_SAMPLE)\n",
    "    dls = ImageDataLoaders.from_csv(dataset_path, \n",
    "                                    folder=\"train\", \n",
    "                                    csv_fname=\"labels.csv\",\n",
    "                                    label_delim=\" \",\n",
    "                                    suff=\".jpg\",\n",
    "                                    bs=batch_size,\n",
    "                                    seed=seed,\n",
    "                                    item_tfms=Resize(img_size))\n",
    "    return dls\n",
    "\n",
    "def train(config):\n",
    "    \"Train the model using the supplied config\"\n",
    "    dls = get_planets(config.batch_size, config.img_size, config.seed)\n",
    "    with wandb.init(project=\"PROJECT\", group='ambrosia_symbiosis', job_type='test_training', config=config):\n",
    "        cbs = [MixedPrecision(), WandbCallback(log='all')]\n",
    "        learn = vision_learner(dls, config.model_name, metrics=[accuracy_multi], #error_rate, \n",
    "                               cbs=cbs, pretrained=config.pretrained)\n",
    "        # learn.remove_cb(ProgressCallback)\n",
    "        learn.fine_tune(config.epochs)"
   ]
  }
 ],
 "metadata": {
  "kernelspec": {
   "display_name": "Python 3 (ipykernel)",
   "language": "python",
   "name": "python3"
  },
  "language_info": {
   "codemirror_mode": {
    "name": "ipython",
    "version": 3
   },
   "file_extension": ".py",
   "mimetype": "text/x-python",
   "name": "python",
   "nbconvert_exporter": "python",
   "pygments_lexer": "ipython3",
   "version": "3.10.9"
  }
 },
 "nbformat": 4,
 "nbformat_minor": 5
}
