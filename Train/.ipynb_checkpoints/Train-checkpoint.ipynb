{
 "cells": [
  {
   "cell_type": "code",
   "execution_count": 1,
   "id": "0c403f8d-3cfd-48f5-8a4a-500a03fff3d8",
   "metadata": {
    "execution": {
     "iopub.execute_input": "2023-03-15T17:27:59.167965Z",
     "iopub.status.busy": "2023-03-15T17:27:59.167466Z",
     "iopub.status.idle": "2023-03-15T17:28:15.483965Z",
     "shell.execute_reply": "2023-03-15T17:28:15.482964Z",
     "shell.execute_reply.started": "2023-03-15T17:27:59.167965Z"
    },
    "tags": []
   },
   "outputs": [],
   "source": [
    "import timm\n",
    "import torch\n",
    "import wandb\n",
    "import fastai\n",
    "from fastai.callback.wandb import WandbCallback\n",
    "from fastai.vision.all import *\n",
    "from fastai.vision.core import *\n",
    "from fastai.text.core import RegexLabeller\n",
    "from fastai.vision.utils import get_image_files\n",
    "from fastai.data.block import DataBlock\n",
    "from fastai.data.core import *"
   ]
  },
  {
   "cell_type": "code",
   "execution_count": 2,
   "id": "c4e633d2-718e-4940-9e6e-94ea772337e1",
   "metadata": {
    "execution": {
     "iopub.execute_input": "2023-03-15T17:28:15.485967Z",
     "iopub.status.busy": "2023-03-15T17:28:15.485466Z",
     "iopub.status.idle": "2023-03-15T17:28:15.498966Z",
     "shell.execute_reply": "2023-03-15T17:28:15.498465Z",
     "shell.execute_reply.started": "2023-03-15T17:28:15.485967Z"
    },
    "tags": []
   },
   "outputs": [],
   "source": [
    "config = SimpleNamespace(\n",
    "    batch_size=8,\n",
    "    img_size=224,\n",
    "    seed=42,\n",
    "    pretrained=True,\n",
    "    model_name=\"maxvit_rmlp_small_rw_224.sw_in1k\", # try with maxvit_nano_rw_256.sw_in1k # regnetx_040 coatnet_bn_0_rw_224.sw_in1k\n",
    "    epochs=5)\n",
    "\n",
    "def get_images(dataset_path, batch_size, img_size, seed):\n",
    "    \"The beetles dataset\"\n",
    "    files = get_image_files(path=dataset_path, recurse=True, folders=('train','valid'))\n",
    "    # dls = ImageDataLoaders.from_name_re(dataset_path, files, \n",
    "    #                                     pat=r'(^[a-zA-Z]+_*[a-zA-Z]+)', \n",
    "    #                                     valid_pct=0.2, \n",
    "    #                                     seed=seed, \n",
    "    #                                     bs=batch_size,\n",
    "    #                                     item_tfms=Resize(img_size, ResizeMethod.Pad, pad_mode='zeros'))\n",
    "    \n",
    "    dblock = DataBlock(blocks = (ImageBlock, CategoryBlock),\n",
    "                       get_items = get_image_files,\n",
    "                       splitter = GrandparentSplitter(train_name='train', valid_name='valid'),\n",
    "                       get_y = parent_label,\n",
    "                       # get_y = RegexLabeller(pat = r'([a-zA-Z]+_[a-zA-Z]+)(?=[^\\/]+$)'),\n",
    "                       item_tfms = Resize(img_size, ResizeMethod.Pad, pad_mode='zeros'))\n",
    "    dls = dblock.dataloaders(dataset_path, bs = batch_size) # [os.path.join(dataset_path,'train'), os.path.join(dataset_path,'valid')]\n",
    "    return dls\n",
    "\n",
    "def train(config, dataset_path):\n",
    "    \"Train the model using the supplied config\"\n",
    "    dls = get_images(dataset_path=dataset_path, batch_size=config.batch_size, img_size=config.img_size, seed=config.seed)\n",
    "    with wandb.init(project=\"PROJECT\", group='ambrosia_symbiosis', job_type='test_training', config=config):\n",
    "        cbs = [MixedPrecision(), WandbCallback(log='all')]\n",
    "        learn = vision_learner(dls, \n",
    "                               config.model_name, \n",
    "                               loss_func=LabelSmoothingCrossEntropyFlat(),\n",
    "                               metrics=[error_rate, \n",
    "                                        accuracy, \n",
    "                                        top_k_accuracy], \n",
    "                               cbs=cbs, pretrained=config.pretrained)\n",
    "        learn.fine_tune(config.epochs)\n",
    "        interp = ClassificationInterpretation.from_learner(learn)\n",
    "        interp.plot_confusion_matrix()\n",
    "        interp.plot_top_losses(5, nrows=5)"
   ]
  },
  {
   "cell_type": "code",
   "execution_count": null,
   "id": "2d677984-84cd-4344-8929-6deb33e8aac3",
   "metadata": {
    "execution": {
     "iopub.execute_input": "2023-03-15T17:28:15.501467Z",
     "iopub.status.busy": "2023-03-15T17:28:15.500966Z"
    },
    "tags": []
   },
   "outputs": [
    {
     "name": "stderr",
     "output_type": "stream",
     "text": [
      "\u001b[34m\u001b[1mwandb\u001b[0m: Currently logged in as: \u001b[33mchristopher-marais\u001b[0m. Use \u001b[1m`wandb login --relogin`\u001b[0m to force relogin\n"
     ]
    },
    {
     "data": {
      "text/html": [
       "wandb version 0.14.0 is available!  To upgrade, please run:\n",
       " $ pip install wandb --upgrade"
      ],
      "text/plain": [
       "<IPython.core.display.HTML object>"
      ]
     },
     "metadata": {},
     "output_type": "display_data"
    },
    {
     "data": {
      "text/html": [
       "Tracking run with wandb version 0.13.10"
      ],
      "text/plain": [
       "<IPython.core.display.HTML object>"
      ]
     },
     "metadata": {},
     "output_type": "display_data"
    },
    {
     "data": {
      "text/html": [
       "Run data is saved locally in <code>E:\\GIT_REPOS\\Beetle_classifier\\Train\\wandb\\run-20230315_132828-c6omgyz3</code>"
      ],
      "text/plain": [
       "<IPython.core.display.HTML object>"
      ]
     },
     "metadata": {},
     "output_type": "display_data"
    },
    {
     "data": {
      "text/html": [
       "Syncing run <strong><a href='https://wandb.ai/christopher-marais/PROJECT/runs/c6omgyz3' target=\"_blank\">golden-bird-48</a></strong> to <a href='https://wandb.ai/christopher-marais/PROJECT' target=\"_blank\">Weights & Biases</a> (<a href='https://wandb.me/run' target=\"_blank\">docs</a>)<br/>"
      ],
      "text/plain": [
       "<IPython.core.display.HTML object>"
      ]
     },
     "metadata": {},
     "output_type": "display_data"
    },
    {
     "data": {
      "text/html": [
       " View project at <a href='https://wandb.ai/christopher-marais/PROJECT' target=\"_blank\">https://wandb.ai/christopher-marais/PROJECT</a>"
      ],
      "text/plain": [
       "<IPython.core.display.HTML object>"
      ]
     },
     "metadata": {},
     "output_type": "display_data"
    },
    {
     "data": {
      "text/html": [
       " View run at <a href='https://wandb.ai/christopher-marais/PROJECT/runs/c6omgyz3' target=\"_blank\">https://wandb.ai/christopher-marais/PROJECT/runs/c6omgyz3</a>"
      ],
      "text/plain": [
       "<IPython.core.display.HTML object>"
      ]
     },
     "metadata": {},
     "output_type": "display_data"
    },
    {
     "name": "stderr",
     "output_type": "stream",
     "text": [
      "C:\\Users\\GCM\\anaconda3\\envs\\BC_310\\lib\\site-packages\\torch\\functional.py:504: UserWarning: torch.meshgrid: in an upcoming release, it will be required to pass the indexing argument. (Triggered internally at C:\\cb\\pytorch_1000000000000\\work\\aten\\src\\ATen\\native\\TensorShape.cpp:3191.)\n",
      "  return _VF.meshgrid(tensors, **kwargs)  # type: ignore[attr-defined]\n"
     ]
    },
    {
     "data": {
      "text/html": [
       "<table border=\"1\" class=\"dataframe\">\n",
       "  <thead>\n",
       "    <tr style=\"text-align: left;\">\n",
       "      <th>epoch</th>\n",
       "      <th>train_loss</th>\n",
       "      <th>valid_loss</th>\n",
       "      <th>error_rate</th>\n",
       "      <th>accuracy</th>\n",
       "      <th>top_k_accuracy</th>\n",
       "      <th>time</th>\n",
       "    </tr>\n",
       "  </thead>\n",
       "  <tbody>\n",
       "    <tr>\n",
       "      <td>0</td>\n",
       "      <td>1.581971</td>\n",
       "      <td>0.954578</td>\n",
       "      <td>0.135080</td>\n",
       "      <td>0.864920</td>\n",
       "      <td>0.995202</td>\n",
       "      <td>03:37</td>\n",
       "    </tr>\n",
       "  </tbody>\n",
       "</table>"
      ],
      "text/plain": [
       "<IPython.core.display.HTML object>"
      ]
     },
     "metadata": {},
     "output_type": "display_data"
    },
    {
     "data": {
      "text/html": [
       "\n",
       "    <div>\n",
       "        <style>\n",
       "            /* Turns off some styling */\n",
       "            progress {\n",
       "                /* gets rid of default border in Firefox and Opera. */\n",
       "                border: none;\n",
       "                /* Needs to be in here for Safari polyfill so background images work as expected. */\n",
       "                background-size: auto;\n",
       "            }\n",
       "            .progress-bar-interrupted, .progress-bar-interrupted::-webkit-progress-bar {\n",
       "                background: #F44336;\n",
       "            }\n",
       "        </style>\n",
       "      <progress value='0' class='' max='5' style='width:300px; height:20px; vertical-align: middle;'></progress>\n",
       "      0.00% [0/5 00:00<00:00]\n",
       "    </div>\n",
       "    \n",
       "<table border=\"1\" class=\"dataframe\">\n",
       "  <thead>\n",
       "    <tr style=\"text-align: left;\">\n",
       "      <th>epoch</th>\n",
       "      <th>train_loss</th>\n",
       "      <th>valid_loss</th>\n",
       "      <th>error_rate</th>\n",
       "      <th>accuracy</th>\n",
       "      <th>top_k_accuracy</th>\n",
       "      <th>time</th>\n",
       "    </tr>\n",
       "  </thead>\n",
       "  <tbody>\n",
       "  </tbody>\n",
       "</table><p>\n",
       "\n",
       "    <div>\n",
       "        <style>\n",
       "            /* Turns off some styling */\n",
       "            progress {\n",
       "                /* gets rid of default border in Firefox and Opera. */\n",
       "                border: none;\n",
       "                /* Needs to be in here for Safari polyfill so background images work as expected. */\n",
       "                background-size: auto;\n",
       "            }\n",
       "            .progress-bar-interrupted, .progress-bar-interrupted::-webkit-progress-bar {\n",
       "                background: #F44336;\n",
       "            }\n",
       "        </style>\n",
       "      <progress value='167' class='' max='259' style='width:300px; height:20px; vertical-align: middle;'></progress>\n",
       "      64.48% [167/259 01:00<00:33 1.2218]\n",
       "    </div>\n",
       "    "
      ],
      "text/plain": [
       "<IPython.core.display.HTML object>"
      ]
     },
     "metadata": {},
     "output_type": "display_data"
    }
   ],
   "source": [
    "train(config=config, dataset_path=r\"F:\\selected_images\\train_data\")"
   ]
  },
  {
   "cell_type": "code",
   "execution_count": null,
   "id": "68b619df-7991-4217-b6ec-df96918ef26b",
   "metadata": {},
   "outputs": [],
   "source": []
  }
 ],
 "metadata": {
  "kernelspec": {
   "display_name": "Python 3 (ipykernel)",
   "language": "python",
   "name": "python3"
  },
  "language_info": {
   "codemirror_mode": {
    "name": "ipython",
    "version": 3
   },
   "file_extension": ".py",
   "mimetype": "text/x-python",
   "name": "python",
   "nbconvert_exporter": "python",
   "pygments_lexer": "ipython3",
   "version": "3.10.9"
  }
 },
 "nbformat": 4,
 "nbformat_minor": 5
}
