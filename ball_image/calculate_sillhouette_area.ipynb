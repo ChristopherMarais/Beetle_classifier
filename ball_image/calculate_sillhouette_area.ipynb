{
 "cells": [
  {
   "cell_type": "code",
   "execution_count": 1,
   "id": "17792141-6b62-4cf8-8dd9-6f8699d9f1cf",
   "metadata": {
    "execution": {
     "iopub.execute_input": "2023-01-21T22:31:11.562897Z",
     "iopub.status.busy": "2023-01-21T22:31:11.561897Z",
     "iopub.status.idle": "2023-01-21T22:31:12.670895Z",
     "shell.execute_reply": "2023-01-21T22:31:12.669894Z",
     "shell.execute_reply.started": "2023-01-21T22:31:11.562897Z"
    },
    "tags": []
   },
   "outputs": [],
   "source": [
    "# Imports \n",
    "from PIL import Image\n",
    "import cv2\n",
    "import numpy as np\n",
    "import matplotlib.pyplot as plt\n",
    "import numpy as np"
   ]
  },
  {
   "cell_type": "code",
   "execution_count": 2,
   "id": "5a5afe33-65ba-451e-8638-8aa34540f04d",
   "metadata": {
    "execution": {
     "iopub.execute_input": "2023-01-21T22:31:12.672895Z",
     "iopub.status.busy": "2023-01-21T22:31:12.671896Z",
     "iopub.status.idle": "2023-01-21T22:31:12.686895Z",
     "shell.execute_reply": "2023-01-21T22:31:12.685393Z",
     "shell.execute_reply.started": "2023-01-21T22:31:12.672895Z"
    },
    "tags": []
   },
   "outputs": [],
   "source": [
    "# # open method used to open different extension image file\n",
    "# im = Image.open(r\"thumbnail_IMG_0369.jpg\").convert('RGB')\n",
    "# # This method will show image in any image viewer \n",
    "# display(im)\n",
    "\n",
    "# # converti mage to black and white image\n",
    "# thresh = 175\n",
    "# fn = lambda x : 255 if x > thresh else 0\n",
    "# bw_im = im.convert('L').point(fn, mode='1')\n",
    "# display(bw_im)\n",
    "\n",
    "# # convert image to opencv image\n",
    "# opencv_bw_image = np.array(bw_im) \n",
    "# # Convert RGB to BGR \n",
    "# # opencv_bw_image = opencv_bw_image[:, :, ::-1].copy()\n",
    "# output=opencv_bw_image.copy()\n",
    "# rows = opencv_bw_image.shape[0]\n",
    "# circles = cv2.HoughCircles(opencv_bw_image, cv2.HOUGH_GRADIENT, 1.5, rows) #, param1=100, param2=100, minRadius=0, maxRadius=0\n",
    "# if circles is not None:\n",
    "#     circles = np.round(circles[0, :]).astype(\"int\")\n",
    "#     for (x, y, r) in circles:\n",
    "    \n",
    "#          cv2.circle(output, (x, y), r, (0, 255, 0), -1)\n",
    "#          print(x,y,r)\n",
    "# plt.figure(figsize = (15,15))\n",
    "# plt.imshow(output)"
   ]
  },
  {
   "cell_type": "code",
   "execution_count": 3,
   "id": "1b5bc40e-8fab-4a36-ad06-0dd3bb784187",
   "metadata": {
    "execution": {
     "iopub.execute_input": "2023-01-21T22:31:12.688394Z",
     "iopub.status.busy": "2023-01-21T22:31:12.687895Z",
     "iopub.status.idle": "2023-01-21T22:31:13.614513Z",
     "shell.execute_reply": "2023-01-21T22:31:13.613513Z",
     "shell.execute_reply.started": "2023-01-21T22:31:12.688394Z"
    },
    "tags": []
   },
   "outputs": [
    {
     "ename": "NameError",
     "evalue": "name 'img' is not defined",
     "output_type": "error",
     "traceback": [
      "\u001b[1;31m---------------------------------------------------------------------------\u001b[0m",
      "\u001b[1;31mNameError\u001b[0m                                 Traceback (most recent call last)",
      "Cell \u001b[1;32mIn[3], line 1\u001b[0m\n\u001b[1;32m----> 1\u001b[0m cv2\u001b[38;5;241m.\u001b[39mimshow(\u001b[43mimg\u001b[49m)\n",
      "\u001b[1;31mNameError\u001b[0m: name 'img' is not defined"
     ]
    }
   ],
   "source": [
    "cv2.imshow(img)"
   ]
  },
  {
   "cell_type": "code",
   "execution_count": null,
   "id": "fd4cc3f1-0bea-4dc7-8a3b-6162705e426f",
   "metadata": {
    "execution": {
     "iopub.status.busy": "2023-01-21T22:31:13.615514Z",
     "iopub.status.idle": "2023-01-21T22:31:13.616016Z",
     "shell.execute_reply": "2023-01-21T22:31:13.616016Z",
     "shell.execute_reply.started": "2023-01-21T22:31:13.616016Z"
    },
    "tags": []
   },
   "outputs": [],
   "source": [
    "# Read image.\n",
    "plt.figure(figsize = (15,15))\n",
    "img = cv2.imread('thumbnail_IMG_0369.jpg', cv2.IMREAD_COLOR)\n",
    "output=img.copy()\n",
    "  \n",
    "# Convert to grayscale.\n",
    "gray_image = cv2.cvtColor(img, cv2.COLOR_BGR2GRAY)\n",
    "plt.imshow(gray_image)\n",
    "\n",
    "ret,bw_image = cv2.threshold(gray_image,175,255,cv2.THRESH_BINARY)\n",
    "rows = bw_image.shape[0]\n",
    "# plt.imshow(bw_image)\n",
    "\n",
    "circles = cv2.HoughCircles(bw_image, cv2.HOUGH_GRADIENT, 1.5, rows) #, param1=100, param2=100, minRadius=0, maxRadius=0\n",
    "if circles is not None:\n",
    "    circles = np.round(circles[0, :]).astype(\"int\")\n",
    "    for (x, y, r) in circles:\n",
    "        cv2.circle(output, (x, y), r, (0, 255, 0), -1)\n",
    "        print(x,y,r)\n",
    "# plt.imshow(output)"
   ]
  },
  {
   "cell_type": "code",
   "execution_count": null,
   "id": "c550c8eb-48cc-4587-ab0e-3727ec8b3c91",
   "metadata": {
    "execution": {
     "iopub.status.busy": "2023-01-21T22:31:13.617514Z",
     "iopub.status.idle": "2023-01-21T22:31:13.618014Z",
     "shell.execute_reply": "2023-01-21T22:31:13.618014Z",
     "shell.execute_reply.started": "2023-01-21T22:31:13.618014Z"
    },
    "tags": []
   },
   "outputs": [],
   "source": [
    "# Read image.\n",
    "img = cv2.imread('thumbnail_IMG_0369.jpg', cv2.IMREAD_COLOR)\n",
    "  \n",
    "# Convert to grayscale.\n",
    "gray_image = cv2.cvtColor(img, cv2.COLOR_BGR2GRAY)\n",
    "gray_image = cv2.blur(gray_image, (3, 3))\n",
    "\n",
    "output=img.copy()\n",
    "rows = gray_image.shape[0]\n",
    "circles = cv2.HoughCircles(gray_image, cv2.HOUGH_GRADIENT, 1.5, rows) #, param1=100, param2=100, minRadius=0, maxRadius=0\n",
    "if circles is not None:\n",
    "    circles = np.round(circles[0, :]).astype(\"int\")\n",
    "    for (x, y, r) in circles:\n",
    "    \n",
    "         cv2.circle(output, (x, y), r, (0, 255, 0), -1)\n",
    "         print(x,y,r)\n",
    "plt.figure(figsize = (15,15))\n",
    "plt.imshow(output)"
   ]
  },
  {
   "cell_type": "code",
   "execution_count": null,
   "id": "320744c8-6f53-40fc-a92e-d45fee2befd1",
   "metadata": {},
   "outputs": [],
   "source": []
  }
 ],
 "metadata": {
  "kernelspec": {
   "display_name": "Python 3 (ipykernel)",
   "language": "python",
   "name": "python3"
  },
  "language_info": {
   "codemirror_mode": {
    "name": "ipython",
    "version": 3
   },
   "file_extension": ".py",
   "mimetype": "text/x-python",
   "name": "python",
   "nbconvert_exporter": "python",
   "pygments_lexer": "ipython3",
   "version": "3.10.9"
  }
 },
 "nbformat": 4,
 "nbformat_minor": 5
}
