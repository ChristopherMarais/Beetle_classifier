{
 "cells": [
  {
   "cell_type": "code",
   "execution_count": 1,
   "id": "791921ef-40f0-49cc-9b4e-b036e6e79784",
   "metadata": {
    "execution": {
     "iopub.execute_input": "2023-02-23T20:57:40.733568Z",
     "iopub.status.busy": "2023-02-23T20:57:40.733065Z",
     "iopub.status.idle": "2023-02-23T20:57:43.576250Z",
     "shell.execute_reply": "2023-02-23T20:57:43.575749Z",
     "shell.execute_reply.started": "2023-02-23T20:57:40.733568Z"
    },
    "tags": []
   },
   "outputs": [],
   "source": [
    "import os\n",
    "import re\n",
    "import pandas as pd\n",
    "from Ambrosia import pre_process_image\n",
    "from skimage import io"
   ]
  },
  {
   "cell_type": "code",
   "execution_count": 2,
   "id": "b6a251bf-bce2-4eb9-9a27-d3d0b242ce6c",
   "metadata": {
    "execution": {
     "iopub.execute_input": "2023-02-23T20:57:43.577751Z",
     "iopub.status.busy": "2023-02-23T20:57:43.577252Z",
     "iopub.status.idle": "2023-02-23T20:59:13.863752Z",
     "shell.execute_reply": "2023-02-23T20:59:13.862250Z",
     "shell.execute_reply.started": "2023-02-23T20:57:43.577751Z"
    },
    "tags": []
   },
   "outputs": [
    {
     "name": "stdout",
     "output_type": "stream",
     "text": [
      "Updating circle classification for image: F:/Beetle_classification_deep_data/Coccotypes_dactyliperda/Vial_16296/Subset_1/IMG_0059.JPG\n",
      "Updating circle classification for image: F:/Beetle_classification_deep_data/Coccotypes_dactyliperda/Vial_16296/Subset_1/IMG_0060.JPG\n",
      "Updating circle classification for image: F:/Beetle_classification_deep_data/Coccotypes_dactyliperda/Vial_16296/Subset_1/IMG_0061.JPG\n",
      "Updating circle classification for image: F:/Beetle_classification_deep_data/Coccotypes_dactyliperda/Vial_16296/Subset_2/IMG_0069.JPG\n",
      "Updating circle classification for image: F:/Beetle_classification_deep_data/Coccotypes_dactyliperda/Vial_16296/Subset_2/IMG_0070.JPG\n",
      "Updating circle classification for image: F:/Beetle_classification_deep_data/Coccotypes_dactyliperda/Vial_16296/Subset_2/IMG_0071.JPG\n",
      "Updating circle classification for image: F:/Beetle_classification_deep_data/Coccotypes_dactyliperda/Vial_16296/Subset_2/IMG_0072.JPG\n",
      "Updating circle classification for image: F:/Beetle_classification_deep_data/Coccotypes_dactyliperda/Vial_16296/Subset_3/IMG_0073.JPG\n",
      "Updating circle classification for image: F:/Beetle_classification_deep_data/Coccotypes_dactyliperda/Vial_16296/Subset_3/IMG_0076.JPG\n",
      "Updating circle classification for image: F:/Beetle_classification_deep_data/Coccotypes_dactyliperda/Vial_16296/Subset_3/IMG_0081.JPG\n"
     ]
    },
    {
     "ename": "KeyboardInterrupt",
     "evalue": "",
     "output_type": "error",
     "traceback": [
      "\u001b[1;31m---------------------------------------------------------------------------\u001b[0m",
      "\u001b[1;31mKeyboardInterrupt\u001b[0m                         Traceback (most recent call last)",
      "Cell \u001b[1;32mIn[2], line 25\u001b[0m\n\u001b[0;32m     22\u001b[0m pre_process \u001b[38;5;241m=\u001b[39m pre_process_image(image_dir \u001b[38;5;241m=\u001b[39m file, manual_thresh_buffer\u001b[38;5;241m=\u001b[39m\u001b[38;5;241m0.15\u001b[39m)\n\u001b[0;32m     23\u001b[0m pre_process\u001b[38;5;241m.\u001b[39msegment(cluster_num\u001b[38;5;241m=\u001b[39m\u001b[38;5;241m2\u001b[39m, \n\u001b[0;32m     24\u001b[0m                     image_edge_buffer\u001b[38;5;241m=\u001b[39m\u001b[38;5;241m50\u001b[39m)\n\u001b[1;32m---> 25\u001b[0m \u001b[43mpre_process\u001b[49m\u001b[38;5;241;43m.\u001b[39;49m\u001b[43mdetect_outlier\u001b[49m\u001b[43m(\u001b[49m\u001b[43m)\u001b[49m\n\u001b[0;32m     26\u001b[0m pre_process\u001b[38;5;241m.\u001b[39mestimate_size(outlier_idx\u001b[38;5;241m=\u001b[39mpre_process\u001b[38;5;241m.\u001b[39moutlier_idx, \n\u001b[0;32m     27\u001b[0m                           known_radius\u001b[38;5;241m=\u001b[39m\u001b[38;5;241m1\u001b[39m, \n\u001b[0;32m     28\u001b[0m                           canny_sigma\u001b[38;5;241m=\u001b[39m\u001b[38;5;241m5\u001b[39m)\n\u001b[0;32m     30\u001b[0m \u001b[38;5;66;03m# # add info to table\u001b[39;00m\n\u001b[0;32m     31\u001b[0m \u001b[38;5;66;03m# seg_img_df = pre_process.image_selected_df\u001b[39;00m\n\u001b[0;32m     32\u001b[0m \u001b[38;5;66;03m# seg_img_df['composite_image_path'] = file\u001b[39;00m\n\u001b[1;32m   (...)\u001b[0m\n\u001b[0;32m     35\u001b[0m \u001b[38;5;66;03m# seg_img_df['genus'] = Genus\u001b[39;00m\n\u001b[0;32m     36\u001b[0m \u001b[38;5;66;03m# seg_img_df['image_name'] = seg_img_df['composite_image_name']+\"_\"+seg_img_df.index.astype(str)\u001b[39;00m\n",
      "File \u001b[1;32mE:\\GIT_REPOS\\LAB\\Beetle_classifier\\Segmentation\\Ambrosia.py:186\u001b[0m, in \u001b[0;36mpre_process_image.detect_outlier\u001b[1;34m(self)\u001b[0m\n\u001b[0;32m    184\u001b[0m temp_dist_ar \u001b[38;5;241m=\u001b[39m np\u001b[38;5;241m.\u001b[39mzeros(shape\u001b[38;5;241m=\u001b[39m(\u001b[38;5;241m255\u001b[39m, \u001b[38;5;28mself\u001b[39m\u001b[38;5;241m.\u001b[39mimage_segment_count))\n\u001b[0;32m    185\u001b[0m \u001b[38;5;28;01mfor\u001b[39;00m i \u001b[38;5;129;01min\u001b[39;00m \u001b[38;5;28mrange\u001b[39m(\u001b[38;5;28mself\u001b[39m\u001b[38;5;241m.\u001b[39mimage_segment_count):\n\u001b[1;32m--> 186\u001b[0m     unique, counts \u001b[38;5;241m=\u001b[39m \u001b[43mnp\u001b[49m\u001b[38;5;241;43m.\u001b[39;49m\u001b[43munique\u001b[49m\u001b[43m(\u001b[49m\u001b[43mvalues_array\u001b[49m\u001b[43m[\u001b[49m\u001b[43mi\u001b[49m\u001b[43m]\u001b[49m\u001b[43m,\u001b[49m\u001b[43m \u001b[49m\u001b[43mreturn_counts\u001b[49m\u001b[38;5;241;43m=\u001b[39;49m\u001b[38;5;28;43;01mTrue\u001b[39;49;00m\u001b[43m)\u001b[49m\n\u001b[0;32m    187\u001b[0m     temp_dict \u001b[38;5;241m=\u001b[39m \u001b[38;5;28mdict\u001b[39m(\u001b[38;5;28mzip\u001b[39m(unique, counts))\n\u001b[0;32m    188\u001b[0m     \u001b[38;5;28;01mfor\u001b[39;00m j \u001b[38;5;129;01min\u001b[39;00m temp_dict\u001b[38;5;241m.\u001b[39mkeys():\n",
      "File \u001b[1;32m<__array_function__ internals>:180\u001b[0m, in \u001b[0;36munique\u001b[1;34m(*args, **kwargs)\u001b[0m\n",
      "File \u001b[1;32m~\\anaconda3\\envs\\Seg_310\\lib\\site-packages\\numpy\\lib\\arraysetops.py:274\u001b[0m, in \u001b[0;36munique\u001b[1;34m(ar, return_index, return_inverse, return_counts, axis, equal_nan)\u001b[0m\n\u001b[0;32m    272\u001b[0m ar \u001b[38;5;241m=\u001b[39m np\u001b[38;5;241m.\u001b[39masanyarray(ar)\n\u001b[0;32m    273\u001b[0m \u001b[38;5;28;01mif\u001b[39;00m axis \u001b[38;5;129;01mis\u001b[39;00m \u001b[38;5;28;01mNone\u001b[39;00m:\n\u001b[1;32m--> 274\u001b[0m     ret \u001b[38;5;241m=\u001b[39m \u001b[43m_unique1d\u001b[49m\u001b[43m(\u001b[49m\u001b[43mar\u001b[49m\u001b[43m,\u001b[49m\u001b[43m \u001b[49m\u001b[43mreturn_index\u001b[49m\u001b[43m,\u001b[49m\u001b[43m \u001b[49m\u001b[43mreturn_inverse\u001b[49m\u001b[43m,\u001b[49m\u001b[43m \u001b[49m\u001b[43mreturn_counts\u001b[49m\u001b[43m,\u001b[49m\u001b[43m \u001b[49m\n\u001b[0;32m    275\u001b[0m \u001b[43m                    \u001b[49m\u001b[43mequal_nan\u001b[49m\u001b[38;5;241;43m=\u001b[39;49m\u001b[43mequal_nan\u001b[49m\u001b[43m)\u001b[49m\n\u001b[0;32m    276\u001b[0m     \u001b[38;5;28;01mreturn\u001b[39;00m _unpack_tuple(ret)\n\u001b[0;32m    278\u001b[0m \u001b[38;5;66;03m# axis was specified and not None\u001b[39;00m\n",
      "File \u001b[1;32m~\\anaconda3\\envs\\Seg_310\\lib\\site-packages\\numpy\\lib\\arraysetops.py:336\u001b[0m, in \u001b[0;36m_unique1d\u001b[1;34m(ar, return_index, return_inverse, return_counts, equal_nan)\u001b[0m\n\u001b[0;32m    334\u001b[0m     aux \u001b[38;5;241m=\u001b[39m ar[perm]\n\u001b[0;32m    335\u001b[0m \u001b[38;5;28;01melse\u001b[39;00m:\n\u001b[1;32m--> 336\u001b[0m     \u001b[43mar\u001b[49m\u001b[38;5;241;43m.\u001b[39;49m\u001b[43msort\u001b[49m\u001b[43m(\u001b[49m\u001b[43m)\u001b[49m\n\u001b[0;32m    337\u001b[0m     aux \u001b[38;5;241m=\u001b[39m ar\n\u001b[0;32m    338\u001b[0m mask \u001b[38;5;241m=\u001b[39m np\u001b[38;5;241m.\u001b[39mempty(aux\u001b[38;5;241m.\u001b[39mshape, dtype\u001b[38;5;241m=\u001b[39mnp\u001b[38;5;241m.\u001b[39mbool_)\n",
      "\u001b[1;31mKeyboardInterrupt\u001b[0m: "
     ]
    }
   ],
   "source": [
    "folder_dir = \"F:\\Beetle_classification_deep_data\"\n",
    "\n",
    "\n",
    "for root, dirs, files in os.walk(folder_dir):\n",
    "    for filename in files:\n",
    "        if (filename.endswith(\".JPG\") or filename.endswith(\".JPEG\") or filename.endswith(\".jpg\") or filename.endswith(\".jpeg\")):\n",
    "            file = os.path.join(root, filename)\n",
    "            # if \"Attempt\" in file:\n",
    "            #     file.replace(file, \"\")\n",
    "            # else:\n",
    "            #     label = re.sub(\"Vial_|Subset_|IMG_\", file)\n",
    "            #     label = label.split(\"_\")\n",
    "            #     Genus = label[0]\n",
    "            #     Species = label[1]\n",
    "            #     Genus = Genus[:4]\n",
    "            #     Species = Species[:4]\n",
    "            #     label[0] = Genus\n",
    "            #     label[1] = Species\n",
    "            #     unique_code = \"\".join(label)\n",
    "            #     print(unique_code)\n",
    "                \n",
    "            pre_process = pre_process_image(image_dir = file, manual_thresh_buffer=0.15)\n",
    "            pre_process.segment(cluster_num=2, \n",
    "                                image_edge_buffer=50)\n",
    "            pre_process.detect_outlier()\n",
    "            pre_process.estimate_size(outlier_idx=pre_process.outlier_idx, \n",
    "                                      known_radius=1, \n",
    "                                      canny_sigma=5)\n",
    "        \n",
    "            # # add info to table\n",
    "            # seg_img_df = pre_process.image_selected_df\n",
    "            # seg_img_df['composite_image_path'] = file\n",
    "            # seg_img_df['composite_image_name'] = label\n",
    "            # seg_img_df['species'] = Species\n",
    "            # seg_img_df['genus'] = Genus\n",
    "            # seg_img_df['image_name'] = seg_img_df['composite_image_name']+\"_\"+seg_img_df.index.astype(str)\n"
   ]
  }
 ],
 "metadata": {
  "kernelspec": {
   "display_name": "Python 3 (ipykernel)",
   "language": "python",
   "name": "python3"
  },
  "language_info": {
   "codemirror_mode": {
    "name": "ipython",
    "version": 3
   },
   "file_extension": ".py",
   "mimetype": "text/x-python",
   "name": "python",
   "nbconvert_exporter": "python",
   "pygments_lexer": "ipython3",
   "version": "3.10.9"
  }
 },
 "nbformat": 4,
 "nbformat_minor": 5
}
