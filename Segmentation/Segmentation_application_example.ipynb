{
 "cells": [
  {
   "cell_type": "code",
   "execution_count": 1,
   "id": "cfa13c3b-1097-4cbd-ae25-899dceea9b08",
   "metadata": {
    "execution": {
     "iopub.execute_input": "2023-02-24T05:02:36.571527Z",
     "iopub.status.busy": "2023-02-24T05:02:36.571027Z",
     "iopub.status.idle": "2023-02-24T05:02:39.388438Z",
     "shell.execute_reply": "2023-02-24T05:02:39.387937Z",
     "shell.execute_reply.started": "2023-02-24T05:02:36.571527Z"
    },
    "tags": []
   },
   "outputs": [],
   "source": [
    "import os\n",
    "from Ambrosia import pre_process_image\n",
    "from skimage import io\n",
    "import numpy as np"
   ]
  },
  {
   "cell_type": "code",
   "execution_count": 2,
   "id": "43227f50-73d1-42a6-bc60-6f0f75a39729",
   "metadata": {
    "execution": {
     "iopub.execute_input": "2023-02-24T05:02:39.389938Z",
     "iopub.status.busy": "2023-02-24T05:02:39.389438Z",
     "iopub.status.idle": "2023-02-24T05:02:39.404438Z",
     "shell.execute_reply": "2023-02-24T05:02:39.403437Z",
     "shell.execute_reply.started": "2023-02-24T05:02:39.389938Z"
    },
    "tags": []
   },
   "outputs": [],
   "source": [
    "# wd = os.getcwd()\n",
    "wd = \"F:\\Beetle_classification_deep_data\\Coccotypes_dactyliperda\\Vial_16298\\Subset_6\"\n",
    "# image_name = \"IMG_0269_clean.JPG\"\n",
    "# image_name = \"IMG_0046.JPG\"\n",
    "# image_name = \"IMG_0014.JPG\"\n",
    "image_name = \"IMG_0094.JPG\"\n",
    "image_path = wd+\"/\"+image_name"
   ]
  },
  {
   "cell_type": "code",
   "execution_count": 3,
   "id": "082d9b30-f42a-442f-b7ce-431428b3a326",
   "metadata": {
    "execution": {
     "iopub.execute_input": "2023-02-24T05:02:39.405939Z",
     "iopub.status.busy": "2023-02-24T05:02:39.405440Z",
     "iopub.status.idle": "2023-02-24T05:02:42.421814Z",
     "shell.execute_reply": "2023-02-24T05:02:42.420310Z",
     "shell.execute_reply.started": "2023-02-24T05:02:39.405939Z"
    },
    "tags": []
   },
   "outputs": [
    {
     "ename": "ValueError",
     "evalue": "Found array with 0 sample(s) (shape=(0, 2)) while a minimum of 1 is required by KMeans.",
     "output_type": "error",
     "traceback": [
      "\u001b[1;31m---------------------------------------------------------------------------\u001b[0m",
      "\u001b[1;31mValueError\u001b[0m                                Traceback (most recent call last)",
      "Cell \u001b[1;32mIn[3], line 2\u001b[0m\n\u001b[0;32m      1\u001b[0m pre_process \u001b[38;5;241m=\u001b[39m pre_process_image(image_dir \u001b[38;5;241m=\u001b[39m image_path, manual_thresh_buffer\u001b[38;5;241m=\u001b[39m\u001b[38;5;241m0.15\u001b[39m)\n\u001b[1;32m----> 2\u001b[0m \u001b[43mpre_process\u001b[49m\u001b[38;5;241;43m.\u001b[39;49m\u001b[43msegment\u001b[49m\u001b[43m(\u001b[49m\u001b[43mcluster_num\u001b[49m\u001b[38;5;241;43m=\u001b[39;49m\u001b[38;5;241;43m2\u001b[39;49m\u001b[43m,\u001b[49m\u001b[43m \u001b[49m\n\u001b[0;32m      3\u001b[0m \u001b[43m                    \u001b[49m\u001b[43mimage_edge_buffer\u001b[49m\u001b[38;5;241;43m=\u001b[39;49m\u001b[38;5;241;43m50\u001b[39;49m\u001b[43m)\u001b[49m\n\u001b[0;32m      4\u001b[0m pre_process\u001b[38;5;241m.\u001b[39mdetect_outlier()\n\u001b[0;32m      5\u001b[0m pre_process\u001b[38;5;241m.\u001b[39mestimate_size(outlier_idx\u001b[38;5;241m=\u001b[39mpre_process\u001b[38;5;241m.\u001b[39moutlier_idx, \n\u001b[0;32m      6\u001b[0m                           known_radius\u001b[38;5;241m=\u001b[39m\u001b[38;5;241m1\u001b[39m, \n\u001b[0;32m      7\u001b[0m                           canny_sigma\u001b[38;5;241m=\u001b[39m\u001b[38;5;241m5\u001b[39m)\n",
      "File \u001b[1;32mE:\\GIT_REPOS\\LAB\\Beetle_classifier\\Segmentation\\Ambrosia.py:117\u001b[0m, in \u001b[0;36mpre_process_image.segment\u001b[1;34m(self, cluster_num, image_edge_buffer)\u001b[0m\n\u001b[0;32m    104\u001b[0m image_properties_df \u001b[38;5;241m=\u001b[39m pd\u001b[38;5;241m.\u001b[39mDataFrame( \u001b[38;5;66;03m# get the properties of each image used to segment blobs in image\u001b[39;00m\n\u001b[0;32m    105\u001b[0m     regionprops_table(\n\u001b[0;32m    106\u001b[0m         \u001b[38;5;28mself\u001b[39m\u001b[38;5;241m.\u001b[39mlabeled_image, \n\u001b[1;32m   (...)\u001b[0m\n\u001b[0;32m    114\u001b[0m                             )\n\u001b[0;32m    115\u001b[0m                         )\n\u001b[0;32m    116\u001b[0m \u001b[38;5;66;03m# cluster boxes of blobs by size\u001b[39;00m\n\u001b[1;32m--> 117\u001b[0m kmean_result \u001b[38;5;241m=\u001b[39m \u001b[43mKMeans\u001b[49m\u001b[43m(\u001b[49m\u001b[43mn_clusters\u001b[49m\u001b[38;5;241;43m=\u001b[39;49m\u001b[43mcluster_num\u001b[49m\u001b[43m,\u001b[49m\u001b[43m \u001b[49m\u001b[43mn_init\u001b[49m\u001b[38;5;241;43m=\u001b[39;49m\u001b[38;5;124;43m'\u001b[39;49m\u001b[38;5;124;43mauto\u001b[39;49m\u001b[38;5;124;43m'\u001b[39;49m\u001b[43m)\u001b[49m\u001b[38;5;241;43m.\u001b[39;49m\u001b[43mfit\u001b[49m\u001b[43m(\u001b[49m\n\u001b[0;32m    118\u001b[0m \u001b[43m    \u001b[49m\u001b[43mnp\u001b[49m\u001b[38;5;241;43m.\u001b[39;49m\u001b[43marray\u001b[49m\u001b[43m(\u001b[49m\n\u001b[0;32m    119\u001b[0m \u001b[43m        \u001b[49m\u001b[43mimage_properties_df\u001b[49m\u001b[43m[\u001b[49m\u001b[43m[\u001b[49m\u001b[38;5;124;43m'\u001b[39;49m\u001b[38;5;124;43maxis_major_length\u001b[39;49m\u001b[38;5;124;43m'\u001b[39;49m\u001b[43m,\u001b[49m\u001b[43m \u001b[49m\u001b[38;5;124;43m'\u001b[39;49m\u001b[38;5;124;43maxis_minor_length\u001b[39;49m\u001b[38;5;124;43m'\u001b[39;49m\u001b[43m]\u001b[49m\u001b[43m]\u001b[49m\n\u001b[0;32m    120\u001b[0m \u001b[43m    \u001b[49m\u001b[43m)\u001b[49m\n\u001b[0;32m    121\u001b[0m \u001b[43m\u001b[49m\u001b[43m)\u001b[49m\n\u001b[0;32m    122\u001b[0m image_properties_df[\u001b[38;5;124m'\u001b[39m\u001b[38;5;124mkmeans_label\u001b[39m\u001b[38;5;124m'\u001b[39m] \u001b[38;5;241m=\u001b[39m kmean_result\u001b[38;5;241m.\u001b[39mlabels_\n\u001b[0;32m    123\u001b[0m \u001b[38;5;66;03m# keep only the largest cluster (ball bearing needs to be a similar size as the beetles)\u001b[39;00m\n",
      "File \u001b[1;32m~\\anaconda3\\envs\\Seg_310\\lib\\site-packages\\sklearn\\cluster\\_kmeans.py:1417\u001b[0m, in \u001b[0;36mKMeans.fit\u001b[1;34m(self, X, y, sample_weight)\u001b[0m\n\u001b[0;32m   1390\u001b[0m \u001b[38;5;250m\u001b[39m\u001b[38;5;124;03m\"\"\"Compute k-means clustering.\u001b[39;00m\n\u001b[0;32m   1391\u001b[0m \n\u001b[0;32m   1392\u001b[0m \u001b[38;5;124;03mParameters\u001b[39;00m\n\u001b[1;32m   (...)\u001b[0m\n\u001b[0;32m   1413\u001b[0m \u001b[38;5;124;03m    Fitted estimator.\u001b[39;00m\n\u001b[0;32m   1414\u001b[0m \u001b[38;5;124;03m\"\"\"\u001b[39;00m\n\u001b[0;32m   1415\u001b[0m \u001b[38;5;28mself\u001b[39m\u001b[38;5;241m.\u001b[39m_validate_params()\n\u001b[1;32m-> 1417\u001b[0m X \u001b[38;5;241m=\u001b[39m \u001b[38;5;28;43mself\u001b[39;49m\u001b[38;5;241;43m.\u001b[39;49m\u001b[43m_validate_data\u001b[49m\u001b[43m(\u001b[49m\n\u001b[0;32m   1418\u001b[0m \u001b[43m    \u001b[49m\u001b[43mX\u001b[49m\u001b[43m,\u001b[49m\n\u001b[0;32m   1419\u001b[0m \u001b[43m    \u001b[49m\u001b[43maccept_sparse\u001b[49m\u001b[38;5;241;43m=\u001b[39;49m\u001b[38;5;124;43m\"\u001b[39;49m\u001b[38;5;124;43mcsr\u001b[39;49m\u001b[38;5;124;43m\"\u001b[39;49m\u001b[43m,\u001b[49m\n\u001b[0;32m   1420\u001b[0m \u001b[43m    \u001b[49m\u001b[43mdtype\u001b[49m\u001b[38;5;241;43m=\u001b[39;49m\u001b[43m[\u001b[49m\u001b[43mnp\u001b[49m\u001b[38;5;241;43m.\u001b[39;49m\u001b[43mfloat64\u001b[49m\u001b[43m,\u001b[49m\u001b[43m \u001b[49m\u001b[43mnp\u001b[49m\u001b[38;5;241;43m.\u001b[39;49m\u001b[43mfloat32\u001b[49m\u001b[43m]\u001b[49m\u001b[43m,\u001b[49m\n\u001b[0;32m   1421\u001b[0m \u001b[43m    \u001b[49m\u001b[43morder\u001b[49m\u001b[38;5;241;43m=\u001b[39;49m\u001b[38;5;124;43m\"\u001b[39;49m\u001b[38;5;124;43mC\u001b[39;49m\u001b[38;5;124;43m\"\u001b[39;49m\u001b[43m,\u001b[49m\n\u001b[0;32m   1422\u001b[0m \u001b[43m    \u001b[49m\u001b[43mcopy\u001b[49m\u001b[38;5;241;43m=\u001b[39;49m\u001b[38;5;28;43mself\u001b[39;49m\u001b[38;5;241;43m.\u001b[39;49m\u001b[43mcopy_x\u001b[49m\u001b[43m,\u001b[49m\n\u001b[0;32m   1423\u001b[0m \u001b[43m    \u001b[49m\u001b[43maccept_large_sparse\u001b[49m\u001b[38;5;241;43m=\u001b[39;49m\u001b[38;5;28;43;01mFalse\u001b[39;49;00m\u001b[43m,\u001b[49m\n\u001b[0;32m   1424\u001b[0m \u001b[43m\u001b[49m\u001b[43m)\u001b[49m\n\u001b[0;32m   1426\u001b[0m \u001b[38;5;28mself\u001b[39m\u001b[38;5;241m.\u001b[39m_check_params_vs_input(X)\n\u001b[0;32m   1428\u001b[0m random_state \u001b[38;5;241m=\u001b[39m check_random_state(\u001b[38;5;28mself\u001b[39m\u001b[38;5;241m.\u001b[39mrandom_state)\n",
      "File \u001b[1;32m~\\anaconda3\\envs\\Seg_310\\lib\\site-packages\\sklearn\\base.py:535\u001b[0m, in \u001b[0;36mBaseEstimator._validate_data\u001b[1;34m(self, X, y, reset, validate_separately, **check_params)\u001b[0m\n\u001b[0;32m    533\u001b[0m     \u001b[38;5;28;01mraise\u001b[39;00m \u001b[38;5;167;01mValueError\u001b[39;00m(\u001b[38;5;124m\"\u001b[39m\u001b[38;5;124mValidation should be done on X, y or both.\u001b[39m\u001b[38;5;124m\"\u001b[39m)\n\u001b[0;32m    534\u001b[0m \u001b[38;5;28;01melif\u001b[39;00m \u001b[38;5;129;01mnot\u001b[39;00m no_val_X \u001b[38;5;129;01mand\u001b[39;00m no_val_y:\n\u001b[1;32m--> 535\u001b[0m     X \u001b[38;5;241m=\u001b[39m check_array(X, input_name\u001b[38;5;241m=\u001b[39m\u001b[38;5;124m\"\u001b[39m\u001b[38;5;124mX\u001b[39m\u001b[38;5;124m\"\u001b[39m, \u001b[38;5;241m*\u001b[39m\u001b[38;5;241m*\u001b[39mcheck_params)\n\u001b[0;32m    536\u001b[0m     out \u001b[38;5;241m=\u001b[39m X\n\u001b[0;32m    537\u001b[0m \u001b[38;5;28;01melif\u001b[39;00m no_val_X \u001b[38;5;129;01mand\u001b[39;00m \u001b[38;5;129;01mnot\u001b[39;00m no_val_y:\n",
      "File \u001b[1;32m~\\anaconda3\\envs\\Seg_310\\lib\\site-packages\\sklearn\\utils\\validation.py:929\u001b[0m, in \u001b[0;36mcheck_array\u001b[1;34m(array, accept_sparse, accept_large_sparse, dtype, order, copy, force_all_finite, ensure_2d, allow_nd, ensure_min_samples, ensure_min_features, estimator, input_name)\u001b[0m\n\u001b[0;32m    927\u001b[0m     n_samples \u001b[38;5;241m=\u001b[39m _num_samples(array)\n\u001b[0;32m    928\u001b[0m     \u001b[38;5;28;01mif\u001b[39;00m n_samples \u001b[38;5;241m<\u001b[39m ensure_min_samples:\n\u001b[1;32m--> 929\u001b[0m         \u001b[38;5;28;01mraise\u001b[39;00m \u001b[38;5;167;01mValueError\u001b[39;00m(\n\u001b[0;32m    930\u001b[0m             \u001b[38;5;124m\"\u001b[39m\u001b[38;5;124mFound array with \u001b[39m\u001b[38;5;132;01m%d\u001b[39;00m\u001b[38;5;124m sample(s) (shape=\u001b[39m\u001b[38;5;132;01m%s\u001b[39;00m\u001b[38;5;124m) while a\u001b[39m\u001b[38;5;124m\"\u001b[39m\n\u001b[0;32m    931\u001b[0m             \u001b[38;5;124m\"\u001b[39m\u001b[38;5;124m minimum of \u001b[39m\u001b[38;5;132;01m%d\u001b[39;00m\u001b[38;5;124m is required\u001b[39m\u001b[38;5;132;01m%s\u001b[39;00m\u001b[38;5;124m.\u001b[39m\u001b[38;5;124m\"\u001b[39m\n\u001b[0;32m    932\u001b[0m             \u001b[38;5;241m%\u001b[39m (n_samples, array\u001b[38;5;241m.\u001b[39mshape, ensure_min_samples, context)\n\u001b[0;32m    933\u001b[0m         )\n\u001b[0;32m    935\u001b[0m \u001b[38;5;28;01mif\u001b[39;00m ensure_min_features \u001b[38;5;241m>\u001b[39m \u001b[38;5;241m0\u001b[39m \u001b[38;5;129;01mand\u001b[39;00m array\u001b[38;5;241m.\u001b[39mndim \u001b[38;5;241m==\u001b[39m \u001b[38;5;241m2\u001b[39m:\n\u001b[0;32m    936\u001b[0m     n_features \u001b[38;5;241m=\u001b[39m array\u001b[38;5;241m.\u001b[39mshape[\u001b[38;5;241m1\u001b[39m]\n",
      "\u001b[1;31mValueError\u001b[0m: Found array with 0 sample(s) (shape=(0, 2)) while a minimum of 1 is required by KMeans."
     ]
    }
   ],
   "source": [
    "pre_process = pre_process_image(image_dir = image_path, manual_thresh_buffer=0.15)\n",
    "pre_process.segment(cluster_num=2, \n",
    "                    image_edge_buffer=50)\n",
    "pre_process.detect_outlier()\n",
    "pre_process.estimate_size(outlier_idx=pre_process.outlier_idx, \n",
    "                          known_radius=1, \n",
    "                          canny_sigma=5)"
   ]
  },
  {
   "cell_type": "code",
   "execution_count": null,
   "id": "1793d719-538c-4c5e-b990-b567ddbf983c",
   "metadata": {
    "execution": {
     "iopub.status.busy": "2023-02-24T05:02:42.423316Z",
     "iopub.status.idle": "2023-02-24T05:02:42.425317Z",
     "shell.execute_reply": "2023-02-24T05:02:42.425317Z",
     "shell.execute_reply.started": "2023-02-24T05:02:42.425317Z"
    },
    "tags": []
   },
   "outputs": [],
   "source": [
    "df = pre_process.image_selected_df\n",
    "df"
   ]
  },
  {
   "cell_type": "code",
   "execution_count": null,
   "id": "e0adb3b3-dbbe-4bed-8590-85d6315102ba",
   "metadata": {
    "execution": {
     "iopub.status.busy": "2023-02-24T05:02:42.427313Z",
     "iopub.status.idle": "2023-02-24T05:02:42.427813Z",
     "shell.execute_reply": "2023-02-24T05:02:42.427813Z",
     "shell.execute_reply.started": "2023-02-24T05:02:42.427813Z"
    },
    "tags": []
   },
   "outputs": [],
   "source": [
    "# loop through images in folders and save paths of original images to dataframe\n",
    "# make unique name (increments) for each segmented image\n",
    "# save all dataframes for each image as a csv of metadata\n",
    "# merge csv's into one large metadata csv\n",
    "# save all usefull images into a large array of images and store as pickle file alongside metadata csv\n",
    "# filter out ball bearing images\n",
    "# split data\n",
    "# train model\n",
    "\n",
    "# remake version of the example script to use during application of the model"
   ]
  }
 ],
 "metadata": {
  "kernelspec": {
   "display_name": "Python 3 (ipykernel)",
   "language": "python",
   "name": "python3"
  },
  "language_info": {
   "codemirror_mode": {
    "name": "ipython",
    "version": 3
   },
   "file_extension": ".py",
   "mimetype": "text/x-python",
   "name": "python",
   "nbconvert_exporter": "python",
   "pygments_lexer": "ipython3",
   "version": "3.10.9"
  }
 },
 "nbformat": 4,
 "nbformat_minor": 5
}
