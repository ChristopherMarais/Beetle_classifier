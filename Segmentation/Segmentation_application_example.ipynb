{
 "cells": [
  {
   "cell_type": "code",
   "execution_count": 1,
   "id": "cfa13c3b-1097-4cbd-ae25-899dceea9b08",
   "metadata": {
    "execution": {
     "iopub.execute_input": "2023-02-06T15:21:01.019813Z",
     "iopub.status.busy": "2023-02-06T15:21:01.019813Z",
     "iopub.status.idle": "2023-02-06T15:21:03.505302Z",
     "shell.execute_reply": "2023-02-06T15:21:03.503296Z",
     "shell.execute_reply.started": "2023-02-06T15:21:01.019813Z"
    },
    "tags": []
   },
   "outputs": [],
   "source": [
    "import os\n",
    "from Ambrosia import pre_process_image\n",
    "from skimage import io"
   ]
  },
  {
   "cell_type": "code",
   "execution_count": 5,
   "id": "43227f50-73d1-42a6-bc60-6f0f75a39729",
   "metadata": {
    "execution": {
     "iopub.execute_input": "2023-02-06T15:41:44.571460Z",
     "iopub.status.busy": "2023-02-06T15:41:44.571460Z",
     "iopub.status.idle": "2023-02-06T15:41:44.579450Z",
     "shell.execute_reply": "2023-02-06T15:41:44.578439Z",
     "shell.execute_reply.started": "2023-02-06T15:41:44.571460Z"
    },
    "tags": []
   },
   "outputs": [],
   "source": [
    "wd = os.getcwd()\n",
    "image_name =  \"IMG_0269_clean.JPG\"\n",
    "image_path = wd+\"/\"+image_name"
   ]
  },
  {
   "cell_type": "code",
   "execution_count": 3,
   "id": "082d9b30-f42a-442f-b7ce-431428b3a326",
   "metadata": {
    "execution": {
     "iopub.execute_input": "2023-02-06T15:21:03.522317Z",
     "iopub.status.busy": "2023-02-06T15:21:03.522317Z",
     "iopub.status.idle": "2023-02-06T15:21:05.393296Z",
     "shell.execute_reply": "2023-02-06T15:21:05.393296Z",
     "shell.execute_reply.started": "2023-02-06T15:21:03.522317Z"
    },
    "tags": []
   },
   "outputs": [],
   "source": [
    "pre_process = pre_process_image(image_dir = image_path)\n",
    "pre_process.segment(cluster_num=2, \n",
    "                    image_edge_buffer=50)\n",
    "pre_process.detect_outlier()\n",
    "pre_process.estimate_size(outlier_bw_image=pre_process.outlier_bw_image, \n",
    "                          outlier_idx=pre_process.outlier_idx, \n",
    "                          known_radius=1, \n",
    "                          canny_sigma=5)"
   ]
  },
  {
   "cell_type": "code",
   "execution_count": 4,
   "id": "e0adb3b3-dbbe-4bed-8590-85d6315102ba",
   "metadata": {
    "execution": {
     "iopub.execute_input": "2023-02-06T15:21:05.396304Z",
     "iopub.status.busy": "2023-02-06T15:21:05.396304Z",
     "iopub.status.idle": "2023-02-06T15:21:05.410306Z",
     "shell.execute_reply": "2023-02-06T15:21:05.409303Z",
     "shell.execute_reply.started": "2023-02-06T15:21:05.396304Z"
    },
    "tags": []
   },
   "outputs": [],
   "source": [
    "# loop through images in folders and save paths of original images to dataframe\n",
    "# make unique name (increments) for each segmented image\n",
    "# save all dataframes for each image as a csv of metadata\n",
    "# merge csv's into one large metadata csv\n",
    "# save all usefull images into a large array of images and store as pickle file alongside metadata csv\n",
    "# filter out ball bearing images\n",
    "# split data\n",
    "# train model\n",
    "\n",
    "# remake version of the example script to use during application of the model"
   ]
  }
 ],
 "metadata": {
  "kernelspec": {
   "display_name": "Python 3 (ipykernel)",
   "language": "python",
   "name": "python3"
  },
  "language_info": {
   "codemirror_mode": {
    "name": "ipython",
    "version": 3
   },
   "file_extension": ".py",
   "mimetype": "text/x-python",
   "name": "python",
   "nbconvert_exporter": "python",
   "pygments_lexer": "ipython3",
   "version": "3.10.9"
  }
 },
 "nbformat": 4,
 "nbformat_minor": 5
}
