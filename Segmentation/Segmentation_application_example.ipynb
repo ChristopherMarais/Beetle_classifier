{
 "cells": [
  {
   "cell_type": "code",
   "execution_count": 1,
   "id": "cfa13c3b-1097-4cbd-ae25-899dceea9b08",
   "metadata": {
    "tags": []
   },
   "outputs": [],
   "source": [
    "import os\n",
    "from Ambrosia import pre_process_image\n",
    "from skimage import io\n",
    "import numpy as np"
   ]
  },
  {
   "cell_type": "code",
   "execution_count": 2,
   "id": "43227f50-73d1-42a6-bc60-6f0f75a39729",
   "metadata": {
    "tags": []
   },
   "outputs": [],
   "source": [
    "# wd = os.getcwd()\n",
    "# wd = \"F:\\Beetle_classification_deep_data\\Phloeosinus_dentatus\\Vial_18068\\Subset_4\"\n",
    "wd = \"/blue/hulcr/gmarais/Beetle_data/Beetle_classification_deep_data/Coccotypes_dactyliperda/Vial_16296/Subset_1\"\n",
    "# image_name = \"IMG_0269_clean.JPG\"\n",
    "# image_name = \"IMG_0046.JPG\"\n",
    "# image_name = \"IMG_0014.JPG\"\n",
    "image_name = \"IMG_0052.JPG\"\n",
    "image_path = wd+\"/\"+image_name"
   ]
  },
  {
   "cell_type": "code",
   "execution_count": 3,
   "id": "082d9b30-f42a-442f-b7ce-431428b3a326",
   "metadata": {
    "tags": []
   },
   "outputs": [],
   "source": [
    "pre_process = pre_process_image(image_dir = image_path, manual_thresh_buffer=0.15)\n",
    "pre_process.segment(cluster_num=2, \n",
    "                    image_edge_buffer=50)"
   ]
  },
  {
   "cell_type": "code",
   "execution_count": 10,
   "id": "d78acd42-19aa-4e17-ba77-335d071f5631",
   "metadata": {},
   "outputs": [
    {
     "data": {
      "text/plain": [
       "array([[[249, 247, 248],\n",
       "        [251, 249, 250],\n",
       "        [250, 249, 247],\n",
       "        ...,\n",
       "        [248, 246, 249],\n",
       "        [248, 246, 249],\n",
       "        [248, 246, 249]],\n",
       "\n",
       "       [[249, 247, 248],\n",
       "        [250, 248, 249],\n",
       "        [252, 248, 249],\n",
       "        ...,\n",
       "        [248, 246, 249],\n",
       "        [248, 246, 249],\n",
       "        [248, 246, 249]],\n",
       "\n",
       "       [[249, 247, 248],\n",
       "        [250, 248, 249],\n",
       "        [252, 248, 249],\n",
       "        ...,\n",
       "        [248, 246, 249],\n",
       "        [248, 246, 249],\n",
       "        [248, 246, 249]],\n",
       "\n",
       "       ...,\n",
       "\n",
       "       [[255, 253, 255],\n",
       "        [254, 252, 255],\n",
       "        [255, 253, 255],\n",
       "        ...,\n",
       "        [255, 254, 255],\n",
       "        [255, 254, 255],\n",
       "        [255, 254, 255]],\n",
       "\n",
       "       [[255, 253, 255],\n",
       "        [254, 252, 255],\n",
       "        [255, 253, 255],\n",
       "        ...,\n",
       "        [255, 254, 255],\n",
       "        [255, 254, 255],\n",
       "        [255, 254, 255]],\n",
       "\n",
       "       [[255, 253, 255],\n",
       "        [254, 252, 255],\n",
       "        [255, 253, 255],\n",
       "        ...,\n",
       "        [255, 254, 255],\n",
       "        [255, 254, 255],\n",
       "        [255, 254, 255]]], dtype=uint8)"
      ]
     },
     "execution_count": 10,
     "metadata": {},
     "output_type": "execute_result"
    }
   ],
   "source": [
    "pre_process.image"
   ]
  },
  {
   "cell_type": "code",
   "execution_count": 9,
   "id": "79b4e1e5-f803-4488-bcc3-71f0a5d6cb7f",
   "metadata": {
    "tags": []
   },
   "outputs": [
    {
     "data": {
      "text/plain": [
       "31"
      ]
     },
     "execution_count": 9,
     "metadata": {},
     "output_type": "execute_result"
    }
   ],
   "source": [
    "len(pre_process.col_image_lst)"
   ]
  },
  {
   "cell_type": "code",
   "execution_count": 5,
   "id": "f9f8d002-fad1-4259-a853-f5a56c07a6f5",
   "metadata": {
    "tags": []
   },
   "outputs": [],
   "source": [
    "# pre_process.detect_outlier()\n",
    "# pre_process.estimate_size(outlier_idx=pre_process.outlier_idx, \n",
    "#                           known_radius=1, \n",
    "#                           canny_sigma=5)"
   ]
  },
  {
   "cell_type": "code",
   "execution_count": 6,
   "id": "1793d719-538c-4c5e-b990-b567ddbf983c",
   "metadata": {
    "tags": []
   },
   "outputs": [],
   "source": [
    "# df = pre_process.image_selected_df\n",
    "# df"
   ]
  },
  {
   "cell_type": "code",
   "execution_count": 8,
   "id": "e0adb3b3-dbbe-4bed-8590-85d6315102ba",
   "metadata": {
    "tags": []
   },
   "outputs": [],
   "source": [
    "# loop through images in folders and save paths of original images to dataframe\n",
    "# make unique name (increments) for each segmented image\n",
    "# save all dataframes for each image as a csv of metadata\n",
    "# merge csv's into one large metadata csv\n",
    "# save all usefull images into a large array of images and store as pickle file alongside metadata csv\n",
    "# filter out ball bearing images\n",
    "# split data\n",
    "# train model\n",
    "\n",
    "# remake version of the example script to use during application of the model"
   ]
  }
 ],
 "metadata": {
  "kernelspec": {
   "display_name": "BC_310",
   "language": "python",
   "name": "bc_310"
  },
  "language_info": {
   "codemirror_mode": {
    "name": "ipython",
    "version": 3
   },
   "file_extension": ".py",
   "mimetype": "text/x-python",
   "name": "python",
   "nbconvert_exporter": "python",
   "pygments_lexer": "ipython3",
   "version": "3.10.9"
  }
 },
 "nbformat": 4,
 "nbformat_minor": 5
}
