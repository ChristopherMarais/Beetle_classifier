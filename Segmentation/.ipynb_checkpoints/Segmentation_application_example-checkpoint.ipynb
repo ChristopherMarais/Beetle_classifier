{
 "cells": [
  {
   "cell_type": "code",
   "execution_count": 1,
   "id": "cfa13c3b-1097-4cbd-ae25-899dceea9b08",
   "metadata": {
    "execution": {
     "iopub.execute_input": "2023-02-24T17:40:58.955814Z",
     "iopub.status.busy": "2023-02-24T17:40:58.955315Z",
     "iopub.status.idle": "2023-02-24T17:41:02.227815Z",
     "shell.execute_reply": "2023-02-24T17:41:02.227314Z",
     "shell.execute_reply.started": "2023-02-24T17:40:58.955814Z"
    },
    "tags": []
   },
   "outputs": [],
   "source": [
    "import os\n",
    "from Ambrosia import pre_process_image\n",
    "from skimage import io\n",
    "import numpy as np"
   ]
  },
  {
   "cell_type": "code",
   "execution_count": 2,
   "id": "43227f50-73d1-42a6-bc60-6f0f75a39729",
   "metadata": {
    "execution": {
     "iopub.execute_input": "2023-02-24T17:41:02.229313Z",
     "iopub.status.busy": "2023-02-24T17:41:02.229313Z",
     "iopub.status.idle": "2023-02-24T17:41:02.244316Z",
     "shell.execute_reply": "2023-02-24T17:41:02.242814Z",
     "shell.execute_reply.started": "2023-02-24T17:41:02.229313Z"
    },
    "tags": []
   },
   "outputs": [],
   "source": [
    "# wd = os.getcwd()\n",
    "wd = \"F:\\Beetle_classification_deep_data\\Phloeosinus_dentatus\\Vial_18068\\Subset_4\"\n",
    "# image_name = \"IMG_0269_clean.JPG\"\n",
    "# image_name = \"IMG_0046.JPG\"\n",
    "# image_name = \"IMG_0014.JPG\"\n",
    "image_name = \"IMG_0037.JPG\"\n",
    "image_path = wd+\"/\"+image_name"
   ]
  },
  {
   "cell_type": "code",
   "execution_count": 3,
   "id": "082d9b30-f42a-442f-b7ce-431428b3a326",
   "metadata": {
    "execution": {
     "iopub.execute_input": "2023-02-24T17:41:02.246316Z",
     "iopub.status.busy": "2023-02-24T17:41:02.245830Z",
     "iopub.status.idle": "2023-02-24T17:41:04.770313Z",
     "shell.execute_reply": "2023-02-24T17:41:04.769313Z",
     "shell.execute_reply.started": "2023-02-24T17:41:02.246316Z"
    },
    "tags": []
   },
   "outputs": [],
   "source": [
    "pre_process = pre_process_image(image_dir = image_path, manual_thresh_buffer=0.15)\n",
    "pre_process.segment(cluster_num=2, \n",
    "                    image_edge_buffer=50)"
   ]
  },
  {
   "cell_type": "code",
   "execution_count": 4,
   "id": "f9f8d002-fad1-4259-a853-f5a56c07a6f5",
   "metadata": {
    "execution": {
     "iopub.execute_input": "2023-02-24T17:41:04.773315Z",
     "iopub.status.busy": "2023-02-24T17:41:04.772813Z",
     "iopub.status.idle": "2023-02-24T17:41:07.312814Z",
     "shell.execute_reply": "2023-02-24T17:41:07.311314Z",
     "shell.execute_reply.started": "2023-02-24T17:41:04.773315Z"
    }
   },
   "outputs": [
    {
     "ename": "IndexError",
     "evalue": "index 1 is out of bounds for axis 1 with size 1",
     "output_type": "error",
     "traceback": [
      "\u001b[1;31m---------------------------------------------------------------------------\u001b[0m",
      "\u001b[1;31mIndexError\u001b[0m                                Traceback (most recent call last)",
      "Cell \u001b[1;32mIn[4], line 1\u001b[0m\n\u001b[1;32m----> 1\u001b[0m \u001b[43mpre_process\u001b[49m\u001b[38;5;241;43m.\u001b[39;49m\u001b[43mdetect_outlier\u001b[49m\u001b[43m(\u001b[49m\u001b[43m)\u001b[49m\n\u001b[0;32m      2\u001b[0m pre_process\u001b[38;5;241m.\u001b[39mestimate_size(outlier_idx\u001b[38;5;241m=\u001b[39mpre_process\u001b[38;5;241m.\u001b[39moutlier_idx, \n\u001b[0;32m      3\u001b[0m                           known_radius\u001b[38;5;241m=\u001b[39m\u001b[38;5;241m1\u001b[39m, \n\u001b[0;32m      4\u001b[0m                           canny_sigma\u001b[38;5;241m=\u001b[39m\u001b[38;5;241m5\u001b[39m)\n",
      "File \u001b[1;32mE:\\GIT_REPOS\\LAB\\Beetle_classifier\\Segmentation\\Ambrosia.py:194\u001b[0m, in \u001b[0;36mpre_process_image.detect_outlier\u001b[1;34m(self)\u001b[0m\n\u001b[0;32m    190\u001b[0m \u001b[38;5;28mself\u001b[39m\u001b[38;5;241m.\u001b[39mpx_dens_dist \u001b[38;5;241m=\u001b[39m temp_dist_ar\n\u001b[0;32m    191\u001b[0m \u001b[38;5;66;03m# calculate the spearman correlation of distributions between images\u001b[39;00m\n\u001b[0;32m    192\u001b[0m \u001b[38;5;66;03m# use spearman because it is a non-parametric measures\u001b[39;00m\n\u001b[0;32m    193\u001b[0m \u001b[38;5;66;03m# use the sum of the correlation coefficients to identify the outlier image\u001b[39;00m\n\u001b[1;32m--> 194\u001b[0m corr_ar \u001b[38;5;241m=\u001b[39m np\u001b[38;5;241m.\u001b[39marray(\u001b[43mspearmanr\u001b[49m\u001b[43m(\u001b[49m\u001b[43mtemp_dist_ar\u001b[49m\u001b[43m,\u001b[49m\u001b[43m \u001b[49m\u001b[43maxis\u001b[49m\u001b[38;5;241;43m=\u001b[39;49m\u001b[38;5;241;43m0\u001b[39;49m\u001b[43m)\u001b[49m)\n\u001b[0;32m    195\u001b[0m corr_coef_ar \u001b[38;5;241m=\u001b[39m corr_ar[\u001b[38;5;241m0\u001b[39m,:,:]\n\u001b[0;32m    196\u001b[0m corr_pval_ar \u001b[38;5;241m=\u001b[39m corr_ar[\u001b[38;5;241m1\u001b[39m,:,:]\n",
      "File \u001b[1;32m~\\anaconda3\\envs\\Seg_310\\lib\\site-packages\\scipy\\stats\\_stats_py.py:4918\u001b[0m, in \u001b[0;36mspearmanr\u001b[1;34m(a, b, axis, nan_policy, alternative)\u001b[0m\n\u001b[0;32m   4915\u001b[0m warn_msg \u001b[38;5;241m=\u001b[39m (\u001b[38;5;124m\"\u001b[39m\u001b[38;5;124mAn input array is constant; the correlation coefficient \u001b[39m\u001b[38;5;124m\"\u001b[39m\n\u001b[0;32m   4916\u001b[0m             \u001b[38;5;124m\"\u001b[39m\u001b[38;5;124mis not defined.\u001b[39m\u001b[38;5;124m\"\u001b[39m)\n\u001b[0;32m   4917\u001b[0m \u001b[38;5;28;01mif\u001b[39;00m axisout \u001b[38;5;241m==\u001b[39m \u001b[38;5;241m0\u001b[39m:\n\u001b[1;32m-> 4918\u001b[0m     \u001b[38;5;28;01mif\u001b[39;00m (a[:, \u001b[38;5;241m0\u001b[39m][\u001b[38;5;241m0\u001b[39m] \u001b[38;5;241m==\u001b[39m a[:, \u001b[38;5;241m0\u001b[39m])\u001b[38;5;241m.\u001b[39mall() \u001b[38;5;129;01mor\u001b[39;00m (\u001b[43ma\u001b[49m\u001b[43m[\u001b[49m\u001b[43m:\u001b[49m\u001b[43m,\u001b[49m\u001b[43m \u001b[49m\u001b[38;5;241;43m1\u001b[39;49m\u001b[43m]\u001b[49m[\u001b[38;5;241m0\u001b[39m] \u001b[38;5;241m==\u001b[39m a[:, \u001b[38;5;241m1\u001b[39m])\u001b[38;5;241m.\u001b[39mall():\n\u001b[0;32m   4919\u001b[0m         \u001b[38;5;66;03m# If an input is constant, the correlation coefficient\u001b[39;00m\n\u001b[0;32m   4920\u001b[0m         \u001b[38;5;66;03m# is not defined.\u001b[39;00m\n\u001b[0;32m   4921\u001b[0m         warnings\u001b[38;5;241m.\u001b[39mwarn(stats\u001b[38;5;241m.\u001b[39mConstantInputWarning(warn_msg))\n\u001b[0;32m   4922\u001b[0m         res \u001b[38;5;241m=\u001b[39m SignificanceResult(np\u001b[38;5;241m.\u001b[39mnan, np\u001b[38;5;241m.\u001b[39mnan)\n",
      "\u001b[1;31mIndexError\u001b[0m: index 1 is out of bounds for axis 1 with size 1"
     ]
    }
   ],
   "source": [
    "pre_process.detect_outlier()\n",
    "pre_process.estimate_size(outlier_idx=pre_process.outlier_idx, \n",
    "                          known_radius=1, \n",
    "                          canny_sigma=5)"
   ]
  },
  {
   "cell_type": "code",
   "execution_count": null,
   "id": "1793d719-538c-4c5e-b990-b567ddbf983c",
   "metadata": {
    "execution": {
     "iopub.status.busy": "2023-02-24T17:41:07.313816Z",
     "iopub.status.idle": "2023-02-24T17:41:07.314315Z",
     "shell.execute_reply": "2023-02-24T17:41:07.314315Z",
     "shell.execute_reply.started": "2023-02-24T17:41:07.314315Z"
    },
    "tags": []
   },
   "outputs": [],
   "source": [
    "df = pre_process.image_selected_df\n",
    "df"
   ]
  },
  {
   "cell_type": "code",
   "execution_count": null,
   "id": "e0adb3b3-dbbe-4bed-8590-85d6315102ba",
   "metadata": {
    "execution": {
     "iopub.status.busy": "2023-02-24T17:41:07.316315Z",
     "iopub.status.idle": "2023-02-24T17:41:07.316815Z",
     "shell.execute_reply": "2023-02-24T17:41:07.316815Z",
     "shell.execute_reply.started": "2023-02-24T17:41:07.316815Z"
    },
    "tags": []
   },
   "outputs": [],
   "source": [
    "# loop through images in folders and save paths of original images to dataframe\n",
    "# make unique name (increments) for each segmented image\n",
    "# save all dataframes for each image as a csv of metadata\n",
    "# merge csv's into one large metadata csv\n",
    "# save all usefull images into a large array of images and store as pickle file alongside metadata csv\n",
    "# filter out ball bearing images\n",
    "# split data\n",
    "# train model\n",
    "\n",
    "# remake version of the example script to use during application of the model"
   ]
  }
 ],
 "metadata": {
  "kernelspec": {
   "display_name": "Python 3 (ipykernel)",
   "language": "python",
   "name": "python3"
  },
  "language_info": {
   "codemirror_mode": {
    "name": "ipython",
    "version": 3
   },
   "file_extension": ".py",
   "mimetype": "text/x-python",
   "name": "python",
   "nbconvert_exporter": "python",
   "pygments_lexer": "ipython3",
   "version": "3.10.9"
  }
 },
 "nbformat": 4,
 "nbformat_minor": 5
}
