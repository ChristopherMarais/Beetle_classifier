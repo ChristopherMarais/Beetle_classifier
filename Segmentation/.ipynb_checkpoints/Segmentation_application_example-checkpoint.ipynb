{
 "cells": [
  {
   "cell_type": "code",
   "execution_count": 1,
   "id": "cfa13c3b-1097-4cbd-ae25-899dceea9b08",
   "metadata": {
    "execution": {
     "iopub.execute_input": "2023-02-24T04:19:00.013770Z",
     "iopub.status.busy": "2023-02-24T04:19:00.012771Z",
     "iopub.status.idle": "2023-02-24T04:19:03.024766Z",
     "shell.execute_reply": "2023-02-24T04:19:03.023765Z",
     "shell.execute_reply.started": "2023-02-24T04:19:00.013269Z"
    },
    "tags": []
   },
   "outputs": [],
   "source": [
    "import os\n",
    "from Ambrosia import pre_process_image\n",
    "from skimage import io\n",
    "import numpy as np"
   ]
  },
  {
   "cell_type": "code",
   "execution_count": 2,
   "id": "43227f50-73d1-42a6-bc60-6f0f75a39729",
   "metadata": {
    "execution": {
     "iopub.execute_input": "2023-02-24T04:19:03.026767Z",
     "iopub.status.busy": "2023-02-24T04:19:03.026267Z",
     "iopub.status.idle": "2023-02-24T04:19:03.040266Z",
     "shell.execute_reply": "2023-02-24T04:19:03.039264Z",
     "shell.execute_reply.started": "2023-02-24T04:19:03.026767Z"
    },
    "tags": []
   },
   "outputs": [],
   "source": [
    "# wd = os.getcwd()\n",
    "wd = \"F:\\\\Beetle_classification_deep_data\\\\Coccotypes_dactyliperda\\\\Vial_16296\\\\Subset_5\"\n",
    "# image_name = \"IMG_0269_clean.JPG\"\n",
    "# image_name = \"IMG_0052.JPG\"\n",
    "image_name = \"IMG_0005.JPG\"\n",
    "image_path = wd+\"/\"+image_name"
   ]
  },
  {
   "cell_type": "code",
   "execution_count": 3,
   "id": "082d9b30-f42a-442f-b7ce-431428b3a326",
   "metadata": {
    "execution": {
     "iopub.execute_input": "2023-02-24T04:19:03.041268Z",
     "iopub.status.busy": "2023-02-24T04:19:03.040766Z",
     "iopub.status.idle": "2023-02-24T04:19:06.031768Z",
     "shell.execute_reply": "2023-02-24T04:19:06.030766Z",
     "shell.execute_reply.started": "2023-02-24T04:19:03.041268Z"
    },
    "tags": []
   },
   "outputs": [
    {
     "name": "stderr",
     "output_type": "stream",
     "text": [
      "E:\\GIT_REPOS\\LAB\\Beetle_classifier\\Segmentation\\Ambrosia.py:268: RuntimeWarning: divide by zero encountered in divide\n",
      "  area_ar = (np.array(px_count_lst)/circle_px_count)*circle_area\n",
      "E:\\GIT_REPOS\\LAB\\Beetle_classifier\\Segmentation\\Ambrosia.py:268: RuntimeWarning: invalid value encountered in divide\n",
      "  area_ar = (np.array(px_count_lst)/circle_px_count)*circle_area\n"
     ]
    }
   ],
   "source": [
    "pre_process = pre_process_image(image_dir = image_path, manual_thresh_buffer=0.15)\n",
    "pre_process.segment(cluster_num=2, \n",
    "                    image_edge_buffer=50)\n",
    "pre_process.detect_outlier()\n",
    "pre_process.estimate_size(outlier_idx=pre_process.outlier_idx, \n",
    "                          known_radius=1, \n",
    "                          canny_sigma=5)"
   ]
  },
  {
   "cell_type": "code",
   "execution_count": null,
   "id": "1793d719-538c-4c5e-b990-b567ddbf983c",
   "metadata": {
    "execution": {
     "iopub.status.busy": "2023-02-24T04:19:06.048768Z",
     "iopub.status.idle": "2023-02-24T04:19:06.049765Z",
     "shell.execute_reply": "2023-02-24T04:19:06.049265Z",
     "shell.execute_reply.started": "2023-02-24T04:19:06.049265Z"
    },
    "tags": []
   },
   "outputs": [],
   "source": [
    "df = pre_process.image_selected_df\n",
    "df"
   ]
  },
  {
   "cell_type": "code",
   "execution_count": null,
   "id": "e0adb3b3-dbbe-4bed-8590-85d6315102ba",
   "metadata": {
    "execution": {
     "iopub.status.busy": "2023-02-24T04:19:06.051265Z",
     "iopub.status.idle": "2023-02-24T04:19:06.051765Z",
     "shell.execute_reply": "2023-02-24T04:19:06.051265Z",
     "shell.execute_reply.started": "2023-02-24T04:19:06.051265Z"
    },
    "tags": []
   },
   "outputs": [],
   "source": [
    "# loop through images in folders and save paths of original images to dataframe\n",
    "# make unique name (increments) for each segmented image\n",
    "# save all dataframes for each image as a csv of metadata\n",
    "# merge csv's into one large metadata csv\n",
    "# save all usefull images into a large array of images and store as pickle file alongside metadata csv\n",
    "# filter out ball bearing images\n",
    "# split data\n",
    "# train model\n",
    "\n",
    "# remake version of the example script to use during application of the model"
   ]
  }
 ],
 "metadata": {
  "kernelspec": {
   "display_name": "Python 3 (ipykernel)",
   "language": "python",
   "name": "python3"
  },
  "language_info": {
   "codemirror_mode": {
    "name": "ipython",
    "version": 3
   },
   "file_extension": ".py",
   "mimetype": "text/x-python",
   "name": "python",
   "nbconvert_exporter": "python",
   "pygments_lexer": "ipython3",
   "version": "3.10.9"
  }
 },
 "nbformat": 4,
 "nbformat_minor": 5
}
