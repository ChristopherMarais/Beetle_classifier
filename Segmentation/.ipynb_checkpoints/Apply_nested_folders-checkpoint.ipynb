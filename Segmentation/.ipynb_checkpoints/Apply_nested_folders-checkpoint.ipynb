{
 "cells": [
  {
   "cell_type": "code",
   "execution_count": 1,
   "id": "791921ef-40f0-49cc-9b4e-b036e6e79784",
   "metadata": {
    "execution": {
     "iopub.execute_input": "2023-02-23T20:46:32.332571Z",
     "iopub.status.busy": "2023-02-23T20:46:32.331572Z",
     "iopub.status.idle": "2023-02-23T20:46:35.178041Z",
     "shell.execute_reply": "2023-02-23T20:46:35.177040Z",
     "shell.execute_reply.started": "2023-02-23T20:46:32.332571Z"
    },
    "tags": []
   },
   "outputs": [],
   "source": [
    "import os\n",
    "import re\n",
    "import pandas as pd\n",
    "from Ambrosia import pre_process_image\n",
    "from skimage import io"
   ]
  },
  {
   "cell_type": "code",
   "execution_count": 2,
   "id": "b6a251bf-bce2-4eb9-9a27-d3d0b242ce6c",
   "metadata": {
    "execution": {
     "iopub.execute_input": "2023-02-23T20:46:35.179541Z",
     "iopub.status.busy": "2023-02-23T20:46:35.179042Z",
     "iopub.status.idle": "2023-02-23T20:47:32.649708Z",
     "shell.execute_reply": "2023-02-23T20:47:32.648207Z",
     "shell.execute_reply.started": "2023-02-23T20:46:35.179541Z"
    },
    "tags": []
   },
   "outputs": [
    {
     "name": "stdout",
     "output_type": "stream",
     "text": [
      "F:\\Beetle_classification_deep_data\\Coccotypes_dactyliperda\\Vial_16296\\Subset_1\\IMG_0052.JPG\n"
     ]
    },
    {
     "name": "stderr",
     "output_type": "stream",
     "text": [
      "C:\\Users\\GCM\\anaconda3\\envs\\Seg_310\\lib\\site-packages\\sklearn\\cluster\\_kmeans.py:870: FutureWarning: The default value of `n_init` will change from 10 to 'auto' in 1.4. Set the value of `n_init` explicitly to suppress the warning\n",
      "  warnings.warn(\n",
      "C:\\Users\\GCM\\anaconda3\\envs\\Seg_310\\lib\\site-packages\\sklearn\\cluster\\_kmeans.py:1382: UserWarning: KMeans is known to have a memory leak on Windows with MKL, when there are less chunks than available threads. You can avoid it by setting the environment variable OMP_NUM_THREADS=1.\n",
      "  warnings.warn(\n"
     ]
    },
    {
     "name": "stdout",
     "output_type": "stream",
     "text": [
      "F:\\Beetle_classification_deep_data\\Coccotypes_dactyliperda\\Vial_16296\\Subset_1\\IMG_0053.JPG\n"
     ]
    },
    {
     "name": "stderr",
     "output_type": "stream",
     "text": [
      "C:\\Users\\GCM\\anaconda3\\envs\\Seg_310\\lib\\site-packages\\sklearn\\cluster\\_kmeans.py:870: FutureWarning: The default value of `n_init` will change from 10 to 'auto' in 1.4. Set the value of `n_init` explicitly to suppress the warning\n",
      "  warnings.warn(\n",
      "C:\\Users\\GCM\\anaconda3\\envs\\Seg_310\\lib\\site-packages\\sklearn\\cluster\\_kmeans.py:1382: UserWarning: KMeans is known to have a memory leak on Windows with MKL, when there are less chunks than available threads. You can avoid it by setting the environment variable OMP_NUM_THREADS=1.\n",
      "  warnings.warn(\n"
     ]
    },
    {
     "name": "stdout",
     "output_type": "stream",
     "text": [
      "F:\\Beetle_classification_deep_data\\Coccotypes_dactyliperda\\Vial_16296\\Subset_1\\IMG_0055.JPG\n"
     ]
    },
    {
     "name": "stderr",
     "output_type": "stream",
     "text": [
      "C:\\Users\\GCM\\anaconda3\\envs\\Seg_310\\lib\\site-packages\\sklearn\\cluster\\_kmeans.py:870: FutureWarning: The default value of `n_init` will change from 10 to 'auto' in 1.4. Set the value of `n_init` explicitly to suppress the warning\n",
      "  warnings.warn(\n",
      "C:\\Users\\GCM\\anaconda3\\envs\\Seg_310\\lib\\site-packages\\sklearn\\cluster\\_kmeans.py:1382: UserWarning: KMeans is known to have a memory leak on Windows with MKL, when there are less chunks than available threads. You can avoid it by setting the environment variable OMP_NUM_THREADS=1.\n",
      "  warnings.warn(\n"
     ]
    },
    {
     "name": "stdout",
     "output_type": "stream",
     "text": [
      "F:\\Beetle_classification_deep_data\\Coccotypes_dactyliperda\\Vial_16296\\Subset_1\\IMG_0056.JPG\n"
     ]
    },
    {
     "name": "stderr",
     "output_type": "stream",
     "text": [
      "C:\\Users\\GCM\\anaconda3\\envs\\Seg_310\\lib\\site-packages\\sklearn\\cluster\\_kmeans.py:870: FutureWarning: The default value of `n_init` will change from 10 to 'auto' in 1.4. Set the value of `n_init` explicitly to suppress the warning\n",
      "  warnings.warn(\n",
      "C:\\Users\\GCM\\anaconda3\\envs\\Seg_310\\lib\\site-packages\\sklearn\\cluster\\_kmeans.py:1382: UserWarning: KMeans is known to have a memory leak on Windows with MKL, when there are less chunks than available threads. You can avoid it by setting the environment variable OMP_NUM_THREADS=1.\n",
      "  warnings.warn(\n"
     ]
    },
    {
     "name": "stdout",
     "output_type": "stream",
     "text": [
      "F:\\Beetle_classification_deep_data\\Coccotypes_dactyliperda\\Vial_16296\\Subset_1\\IMG_0057.JPG\n"
     ]
    },
    {
     "name": "stderr",
     "output_type": "stream",
     "text": [
      "C:\\Users\\GCM\\anaconda3\\envs\\Seg_310\\lib\\site-packages\\sklearn\\cluster\\_kmeans.py:870: FutureWarning: The default value of `n_init` will change from 10 to 'auto' in 1.4. Set the value of `n_init` explicitly to suppress the warning\n",
      "  warnings.warn(\n",
      "C:\\Users\\GCM\\anaconda3\\envs\\Seg_310\\lib\\site-packages\\sklearn\\cluster\\_kmeans.py:1382: UserWarning: KMeans is known to have a memory leak on Windows with MKL, when there are less chunks than available threads. You can avoid it by setting the environment variable OMP_NUM_THREADS=1.\n",
      "  warnings.warn(\n"
     ]
    },
    {
     "name": "stdout",
     "output_type": "stream",
     "text": [
      "F:\\Beetle_classification_deep_data\\Coccotypes_dactyliperda\\Vial_16296\\Subset_1\\IMG_0058.JPG\n"
     ]
    },
    {
     "name": "stderr",
     "output_type": "stream",
     "text": [
      "C:\\Users\\GCM\\anaconda3\\envs\\Seg_310\\lib\\site-packages\\sklearn\\cluster\\_kmeans.py:870: FutureWarning: The default value of `n_init` will change from 10 to 'auto' in 1.4. Set the value of `n_init` explicitly to suppress the warning\n",
      "  warnings.warn(\n",
      "C:\\Users\\GCM\\anaconda3\\envs\\Seg_310\\lib\\site-packages\\sklearn\\cluster\\_kmeans.py:1382: UserWarning: KMeans is known to have a memory leak on Windows with MKL, when there are less chunks than available threads. You can avoid it by setting the environment variable OMP_NUM_THREADS=1.\n",
      "  warnings.warn(\n"
     ]
    },
    {
     "name": "stdout",
     "output_type": "stream",
     "text": [
      "F:\\Beetle_classification_deep_data\\Coccotypes_dactyliperda\\Vial_16296\\Subset_1\\IMG_0059.JPG\n"
     ]
    },
    {
     "name": "stderr",
     "output_type": "stream",
     "text": [
      "C:\\Users\\GCM\\anaconda3\\envs\\Seg_310\\lib\\site-packages\\sklearn\\cluster\\_kmeans.py:870: FutureWarning: The default value of `n_init` will change from 10 to 'auto' in 1.4. Set the value of `n_init` explicitly to suppress the warning\n",
      "  warnings.warn(\n",
      "C:\\Users\\GCM\\anaconda3\\envs\\Seg_310\\lib\\site-packages\\sklearn\\cluster\\_kmeans.py:1382: UserWarning: KMeans is known to have a memory leak on Windows with MKL, when there are less chunks than available threads. You can avoid it by setting the environment variable OMP_NUM_THREADS=1.\n",
      "  warnings.warn(\n"
     ]
    },
    {
     "name": "stdout",
     "output_type": "stream",
     "text": [
      "Updating circle classification for image: F:/Beetle_classification_deep_data/Coccotypes_dactyliperda/Vial_16296/Subset_1/IMG_0059.JPG\n",
      "F:\\Beetle_classification_deep_data\\Coccotypes_dactyliperda\\Vial_16296\\Subset_1\\IMG_0060.JPG\n"
     ]
    },
    {
     "name": "stderr",
     "output_type": "stream",
     "text": [
      "C:\\Users\\GCM\\anaconda3\\envs\\Seg_310\\lib\\site-packages\\sklearn\\cluster\\_kmeans.py:870: FutureWarning: The default value of `n_init` will change from 10 to 'auto' in 1.4. Set the value of `n_init` explicitly to suppress the warning\n",
      "  warnings.warn(\n",
      "C:\\Users\\GCM\\anaconda3\\envs\\Seg_310\\lib\\site-packages\\sklearn\\cluster\\_kmeans.py:1382: UserWarning: KMeans is known to have a memory leak on Windows with MKL, when there are less chunks than available threads. You can avoid it by setting the environment variable OMP_NUM_THREADS=1.\n",
      "  warnings.warn(\n"
     ]
    },
    {
     "name": "stdout",
     "output_type": "stream",
     "text": [
      "Updating circle classification for image: F:/Beetle_classification_deep_data/Coccotypes_dactyliperda/Vial_16296/Subset_1/IMG_0060.JPG\n",
      "F:\\Beetle_classification_deep_data\\Coccotypes_dactyliperda\\Vial_16296\\Subset_1\\IMG_0061.JPG\n"
     ]
    },
    {
     "name": "stderr",
     "output_type": "stream",
     "text": [
      "C:\\Users\\GCM\\anaconda3\\envs\\Seg_310\\lib\\site-packages\\sklearn\\cluster\\_kmeans.py:870: FutureWarning: The default value of `n_init` will change from 10 to 'auto' in 1.4. Set the value of `n_init` explicitly to suppress the warning\n",
      "  warnings.warn(\n",
      "C:\\Users\\GCM\\anaconda3\\envs\\Seg_310\\lib\\site-packages\\sklearn\\cluster\\_kmeans.py:1382: UserWarning: KMeans is known to have a memory leak on Windows with MKL, when there are less chunks than available threads. You can avoid it by setting the environment variable OMP_NUM_THREADS=1.\n",
      "  warnings.warn(\n"
     ]
    },
    {
     "name": "stdout",
     "output_type": "stream",
     "text": [
      "Updating circle classification for image: F:/Beetle_classification_deep_data/Coccotypes_dactyliperda/Vial_16296/Subset_1/IMG_0061.JPG\n",
      "F:\\Beetle_classification_deep_data\\Coccotypes_dactyliperda\\Vial_16296\\Subset_1\\IMG_0062.JPG\n"
     ]
    },
    {
     "name": "stderr",
     "output_type": "stream",
     "text": [
      "C:\\Users\\GCM\\anaconda3\\envs\\Seg_310\\lib\\site-packages\\sklearn\\cluster\\_kmeans.py:870: FutureWarning: The default value of `n_init` will change from 10 to 'auto' in 1.4. Set the value of `n_init` explicitly to suppress the warning\n",
      "  warnings.warn(\n",
      "C:\\Users\\GCM\\anaconda3\\envs\\Seg_310\\lib\\site-packages\\sklearn\\cluster\\_kmeans.py:1382: UserWarning: KMeans is known to have a memory leak on Windows with MKL, when there are less chunks than available threads. You can avoid it by setting the environment variable OMP_NUM_THREADS=1.\n",
      "  warnings.warn(\n"
     ]
    },
    {
     "name": "stdout",
     "output_type": "stream",
     "text": [
      "F:\\Beetle_classification_deep_data\\Coccotypes_dactyliperda\\Vial_16296\\Subset_2\\IMG_0063.JPG\n"
     ]
    },
    {
     "name": "stderr",
     "output_type": "stream",
     "text": [
      "C:\\Users\\GCM\\anaconda3\\envs\\Seg_310\\lib\\site-packages\\sklearn\\cluster\\_kmeans.py:870: FutureWarning: The default value of `n_init` will change from 10 to 'auto' in 1.4. Set the value of `n_init` explicitly to suppress the warning\n",
      "  warnings.warn(\n",
      "C:\\Users\\GCM\\anaconda3\\envs\\Seg_310\\lib\\site-packages\\sklearn\\cluster\\_kmeans.py:1382: UserWarning: KMeans is known to have a memory leak on Windows with MKL, when there are less chunks than available threads. You can avoid it by setting the environment variable OMP_NUM_THREADS=1.\n",
      "  warnings.warn(\n"
     ]
    },
    {
     "name": "stdout",
     "output_type": "stream",
     "text": [
      "F:\\Beetle_classification_deep_data\\Coccotypes_dactyliperda\\Vial_16296\\Subset_2\\IMG_0064.JPG\n"
     ]
    },
    {
     "name": "stderr",
     "output_type": "stream",
     "text": [
      "C:\\Users\\GCM\\anaconda3\\envs\\Seg_310\\lib\\site-packages\\sklearn\\cluster\\_kmeans.py:870: FutureWarning: The default value of `n_init` will change from 10 to 'auto' in 1.4. Set the value of `n_init` explicitly to suppress the warning\n",
      "  warnings.warn(\n",
      "C:\\Users\\GCM\\anaconda3\\envs\\Seg_310\\lib\\site-packages\\sklearn\\cluster\\_kmeans.py:1382: UserWarning: KMeans is known to have a memory leak on Windows with MKL, when there are less chunks than available threads. You can avoid it by setting the environment variable OMP_NUM_THREADS=1.\n",
      "  warnings.warn(\n"
     ]
    },
    {
     "name": "stdout",
     "output_type": "stream",
     "text": [
      "F:\\Beetle_classification_deep_data\\Coccotypes_dactyliperda\\Vial_16296\\Subset_2\\IMG_0065.JPG\n"
     ]
    },
    {
     "name": "stderr",
     "output_type": "stream",
     "text": [
      "C:\\Users\\GCM\\anaconda3\\envs\\Seg_310\\lib\\site-packages\\sklearn\\cluster\\_kmeans.py:870: FutureWarning: The default value of `n_init` will change from 10 to 'auto' in 1.4. Set the value of `n_init` explicitly to suppress the warning\n",
      "  warnings.warn(\n",
      "C:\\Users\\GCM\\anaconda3\\envs\\Seg_310\\lib\\site-packages\\sklearn\\cluster\\_kmeans.py:1382: UserWarning: KMeans is known to have a memory leak on Windows with MKL, when there are less chunks than available threads. You can avoid it by setting the environment variable OMP_NUM_THREADS=1.\n",
      "  warnings.warn(\n"
     ]
    },
    {
     "name": "stdout",
     "output_type": "stream",
     "text": [
      "F:\\Beetle_classification_deep_data\\Coccotypes_dactyliperda\\Vial_16296\\Subset_2\\IMG_0066.JPG\n"
     ]
    },
    {
     "name": "stderr",
     "output_type": "stream",
     "text": [
      "C:\\Users\\GCM\\anaconda3\\envs\\Seg_310\\lib\\site-packages\\sklearn\\cluster\\_kmeans.py:870: FutureWarning: The default value of `n_init` will change from 10 to 'auto' in 1.4. Set the value of `n_init` explicitly to suppress the warning\n",
      "  warnings.warn(\n",
      "C:\\Users\\GCM\\anaconda3\\envs\\Seg_310\\lib\\site-packages\\sklearn\\cluster\\_kmeans.py:1382: UserWarning: KMeans is known to have a memory leak on Windows with MKL, when there are less chunks than available threads. You can avoid it by setting the environment variable OMP_NUM_THREADS=1.\n",
      "  warnings.warn(\n"
     ]
    },
    {
     "name": "stdout",
     "output_type": "stream",
     "text": [
      "F:\\Beetle_classification_deep_data\\Coccotypes_dactyliperda\\Vial_16296\\Subset_2\\IMG_0067.JPG\n"
     ]
    },
    {
     "name": "stderr",
     "output_type": "stream",
     "text": [
      "C:\\Users\\GCM\\anaconda3\\envs\\Seg_310\\lib\\site-packages\\sklearn\\cluster\\_kmeans.py:870: FutureWarning: The default value of `n_init` will change from 10 to 'auto' in 1.4. Set the value of `n_init` explicitly to suppress the warning\n",
      "  warnings.warn(\n",
      "C:\\Users\\GCM\\anaconda3\\envs\\Seg_310\\lib\\site-packages\\sklearn\\cluster\\_kmeans.py:1382: UserWarning: KMeans is known to have a memory leak on Windows with MKL, when there are less chunks than available threads. You can avoid it by setting the environment variable OMP_NUM_THREADS=1.\n",
      "  warnings.warn(\n"
     ]
    },
    {
     "name": "stdout",
     "output_type": "stream",
     "text": [
      "F:\\Beetle_classification_deep_data\\Coccotypes_dactyliperda\\Vial_16296\\Subset_2\\IMG_0068.JPG\n"
     ]
    },
    {
     "name": "stderr",
     "output_type": "stream",
     "text": [
      "C:\\Users\\GCM\\anaconda3\\envs\\Seg_310\\lib\\site-packages\\sklearn\\cluster\\_kmeans.py:870: FutureWarning: The default value of `n_init` will change from 10 to 'auto' in 1.4. Set the value of `n_init` explicitly to suppress the warning\n",
      "  warnings.warn(\n",
      "C:\\Users\\GCM\\anaconda3\\envs\\Seg_310\\lib\\site-packages\\sklearn\\cluster\\_kmeans.py:1382: UserWarning: KMeans is known to have a memory leak on Windows with MKL, when there are less chunks than available threads. You can avoid it by setting the environment variable OMP_NUM_THREADS=1.\n",
      "  warnings.warn(\n"
     ]
    },
    {
     "name": "stdout",
     "output_type": "stream",
     "text": [
      "F:\\Beetle_classification_deep_data\\Coccotypes_dactyliperda\\Vial_16296\\Subset_2\\IMG_0069.JPG\n"
     ]
    },
    {
     "name": "stderr",
     "output_type": "stream",
     "text": [
      "C:\\Users\\GCM\\anaconda3\\envs\\Seg_310\\lib\\site-packages\\sklearn\\cluster\\_kmeans.py:870: FutureWarning: The default value of `n_init` will change from 10 to 'auto' in 1.4. Set the value of `n_init` explicitly to suppress the warning\n",
      "  warnings.warn(\n",
      "C:\\Users\\GCM\\anaconda3\\envs\\Seg_310\\lib\\site-packages\\sklearn\\cluster\\_kmeans.py:1382: UserWarning: KMeans is known to have a memory leak on Windows with MKL, when there are less chunks than available threads. You can avoid it by setting the environment variable OMP_NUM_THREADS=1.\n",
      "  warnings.warn(\n"
     ]
    },
    {
     "name": "stdout",
     "output_type": "stream",
     "text": [
      "Updating circle classification for image: F:/Beetle_classification_deep_data/Coccotypes_dactyliperda/Vial_16296/Subset_2/IMG_0069.JPG\n",
      "F:\\Beetle_classification_deep_data\\Coccotypes_dactyliperda\\Vial_16296\\Subset_2\\IMG_0070.JPG\n"
     ]
    },
    {
     "name": "stderr",
     "output_type": "stream",
     "text": [
      "C:\\Users\\GCM\\anaconda3\\envs\\Seg_310\\lib\\site-packages\\sklearn\\cluster\\_kmeans.py:870: FutureWarning: The default value of `n_init` will change from 10 to 'auto' in 1.4. Set the value of `n_init` explicitly to suppress the warning\n",
      "  warnings.warn(\n",
      "C:\\Users\\GCM\\anaconda3\\envs\\Seg_310\\lib\\site-packages\\sklearn\\cluster\\_kmeans.py:1382: UserWarning: KMeans is known to have a memory leak on Windows with MKL, when there are less chunks than available threads. You can avoid it by setting the environment variable OMP_NUM_THREADS=1.\n",
      "  warnings.warn(\n"
     ]
    },
    {
     "name": "stdout",
     "output_type": "stream",
     "text": [
      "Updating circle classification for image: F:/Beetle_classification_deep_data/Coccotypes_dactyliperda/Vial_16296/Subset_2/IMG_0070.JPG\n",
      "F:\\Beetle_classification_deep_data\\Coccotypes_dactyliperda\\Vial_16296\\Subset_2\\IMG_0071.JPG\n"
     ]
    },
    {
     "name": "stderr",
     "output_type": "stream",
     "text": [
      "C:\\Users\\GCM\\anaconda3\\envs\\Seg_310\\lib\\site-packages\\sklearn\\cluster\\_kmeans.py:870: FutureWarning: The default value of `n_init` will change from 10 to 'auto' in 1.4. Set the value of `n_init` explicitly to suppress the warning\n",
      "  warnings.warn(\n",
      "C:\\Users\\GCM\\anaconda3\\envs\\Seg_310\\lib\\site-packages\\sklearn\\cluster\\_kmeans.py:1382: UserWarning: KMeans is known to have a memory leak on Windows with MKL, when there are less chunks than available threads. You can avoid it by setting the environment variable OMP_NUM_THREADS=1.\n",
      "  warnings.warn(\n"
     ]
    },
    {
     "ename": "KeyboardInterrupt",
     "evalue": "",
     "output_type": "error",
     "traceback": [
      "\u001b[1;31m---------------------------------------------------------------------------\u001b[0m",
      "\u001b[1;31mKeyboardInterrupt\u001b[0m                         Traceback (most recent call last)",
      "Cell \u001b[1;32mIn[2], line 26\u001b[0m\n\u001b[0;32m     23\u001b[0m pre_process \u001b[38;5;241m=\u001b[39m pre_process_image(image_dir \u001b[38;5;241m=\u001b[39m file, manual_thresh_buffer\u001b[38;5;241m=\u001b[39m\u001b[38;5;241m0.15\u001b[39m)\n\u001b[0;32m     24\u001b[0m pre_process\u001b[38;5;241m.\u001b[39msegment(cluster_num\u001b[38;5;241m=\u001b[39m\u001b[38;5;241m2\u001b[39m, \n\u001b[0;32m     25\u001b[0m                     image_edge_buffer\u001b[38;5;241m=\u001b[39m\u001b[38;5;241m50\u001b[39m)\n\u001b[1;32m---> 26\u001b[0m \u001b[43mpre_process\u001b[49m\u001b[38;5;241;43m.\u001b[39;49m\u001b[43mdetect_outlier\u001b[49m\u001b[43m(\u001b[49m\u001b[43m)\u001b[49m\n\u001b[0;32m     27\u001b[0m pre_process\u001b[38;5;241m.\u001b[39mestimate_size(outlier_idx\u001b[38;5;241m=\u001b[39mpre_process\u001b[38;5;241m.\u001b[39moutlier_idx, \n\u001b[0;32m     28\u001b[0m                           known_radius\u001b[38;5;241m=\u001b[39m\u001b[38;5;241m1\u001b[39m, \n\u001b[0;32m     29\u001b[0m                           canny_sigma\u001b[38;5;241m=\u001b[39m\u001b[38;5;241m5\u001b[39m)\n\u001b[0;32m     31\u001b[0m \u001b[38;5;66;03m# # add info to table\u001b[39;00m\n\u001b[0;32m     32\u001b[0m \u001b[38;5;66;03m# seg_img_df = pre_process.image_selected_df\u001b[39;00m\n\u001b[0;32m     33\u001b[0m \u001b[38;5;66;03m# seg_img_df['composite_image_path'] = file\u001b[39;00m\n\u001b[1;32m   (...)\u001b[0m\n\u001b[0;32m     36\u001b[0m \u001b[38;5;66;03m# seg_img_df['genus'] = Genus\u001b[39;00m\n\u001b[0;32m     37\u001b[0m \u001b[38;5;66;03m# seg_img_df['image_name'] = seg_img_df['composite_image_name']+\"_\"+seg_img_df.index.astype(str)\u001b[39;00m\n",
      "File \u001b[1;32mE:\\GIT_REPOS\\LAB\\Beetle_classifier\\Segmentation\\Ambrosia.py:167\u001b[0m, in \u001b[0;36mpre_process_image.detect_outlier\u001b[1;34m(self)\u001b[0m\n\u001b[0;32m    164\u001b[0m \u001b[38;5;28;01mfor\u001b[39;00m l \u001b[38;5;129;01min\u001b[39;00m \u001b[38;5;28mrange\u001b[39m(\u001b[38;5;28mself\u001b[39m\u001b[38;5;241m.\u001b[39mimage_segment_count):\n\u001b[0;32m    165\u001b[0m     \u001b[38;5;66;03m# flatten arrays\u001b[39;00m\n\u001b[0;32m    166\u001b[0m     img_var \u001b[38;5;241m=\u001b[39m \u001b[38;5;28mself\u001b[39m\u001b[38;5;241m.\u001b[39mimage_array[l]\n\u001b[1;32m--> 167\u001b[0m     r_ar \u001b[38;5;241m=\u001b[39m \u001b[43mimg_var\u001b[49m\u001b[43m[\u001b[49m\u001b[43m:\u001b[49m\u001b[43m,\u001b[49m\u001b[43m:\u001b[49m\u001b[43m,\u001b[49m\u001b[38;5;241;43m0\u001b[39;49m\u001b[43m]\u001b[49m\u001b[38;5;241;43m.\u001b[39;49m\u001b[43mflatten\u001b[49m\u001b[43m(\u001b[49m\u001b[43m)\u001b[49m \u001b[38;5;66;03m# red\u001b[39;00m\n\u001b[0;32m    168\u001b[0m     g_ar \u001b[38;5;241m=\u001b[39m img_var[:,:,\u001b[38;5;241m1\u001b[39m]\u001b[38;5;241m.\u001b[39mflatten() \u001b[38;5;66;03m# green\u001b[39;00m\n\u001b[0;32m    169\u001b[0m     b_ar \u001b[38;5;241m=\u001b[39m img_var[:,:,\u001b[38;5;241m2\u001b[39m]\u001b[38;5;241m.\u001b[39mflatten() \u001b[38;5;66;03m# blue\u001b[39;00m\n",
      "\u001b[1;31mKeyboardInterrupt\u001b[0m: "
     ]
    }
   ],
   "source": [
    "folder_dir = \"F:\\Beetle_classification_deep_data\"\n",
    "\n",
    "\n",
    "for root, dirs, files in os.walk(folder_dir):\n",
    "    for filename in files:\n",
    "        if (filename.endswith(\".JPG\") or filename.endswith(\".JPEG\") or filename.endswith(\".jpg\") or filename.endswith(\".jpeg\")):\n",
    "            file = os.path.join(root, filename)\n",
    "            # if \"Attempt\" in file:\n",
    "            #     file.replace(file, \"\")\n",
    "            # else:\n",
    "            #     label = re.sub(\"Vial_|Subset_|IMG_\", file)\n",
    "            #     label = label.split(\"_\")\n",
    "            #     Genus = label[0]\n",
    "            #     Species = label[1]\n",
    "            #     Genus = Genus[:4]\n",
    "            #     Species = Species[:4]\n",
    "            #     label[0] = Genus\n",
    "            #     label[1] = Species\n",
    "            #     unique_code = \"\".join(label)\n",
    "            #     print(unique_code)\n",
    "                \n",
    "            print(file)    \n",
    "            pre_process = pre_process_image(image_dir = file, manual_thresh_buffer=0.15)\n",
    "            pre_process.segment(cluster_num=2, \n",
    "                                image_edge_buffer=50)\n",
    "            pre_process.detect_outlier()\n",
    "            pre_process.estimate_size(outlier_idx=pre_process.outlier_idx, \n",
    "                                      known_radius=1, \n",
    "                                      canny_sigma=5)\n",
    "        \n",
    "            # # add info to table\n",
    "            # seg_img_df = pre_process.image_selected_df\n",
    "            # seg_img_df['composite_image_path'] = file\n",
    "            # seg_img_df['composite_image_name'] = label\n",
    "            # seg_img_df['species'] = Species\n",
    "            # seg_img_df['genus'] = Genus\n",
    "            # seg_img_df['image_name'] = seg_img_df['composite_image_name']+\"_\"+seg_img_df.index.astype(str)\n"
   ]
  }
 ],
 "metadata": {
  "kernelspec": {
   "display_name": "Python 3 (ipykernel)",
   "language": "python",
   "name": "python3"
  },
  "language_info": {
   "codemirror_mode": {
    "name": "ipython",
    "version": 3
   },
   "file_extension": ".py",
   "mimetype": "text/x-python",
   "name": "python",
   "nbconvert_exporter": "python",
   "pygments_lexer": "ipython3",
   "version": "3.10.9"
  }
 },
 "nbformat": 4,
 "nbformat_minor": 5
}
