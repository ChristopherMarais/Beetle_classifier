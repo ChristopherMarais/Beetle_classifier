{
 "cells": [
  {
   "cell_type": "code",
   "execution_count": 1,
   "id": "791921ef-40f0-49cc-9b4e-b036e6e79784",
   "metadata": {
    "execution": {
     "iopub.execute_input": "2023-02-24T17:59:12.741173Z",
     "iopub.status.busy": "2023-02-24T17:59:12.741173Z",
     "iopub.status.idle": "2023-02-24T17:59:15.551969Z",
     "shell.execute_reply": "2023-02-24T17:59:15.551466Z",
     "shell.execute_reply.started": "2023-02-24T17:59:12.741173Z"
    },
    "tags": []
   },
   "outputs": [],
   "source": [
    "import os\n",
    "import re\n",
    "import pandas as pd\n",
    "from Ambrosia import pre_process_image\n",
    "from skimage import io"
   ]
  },
  {
   "cell_type": "code",
   "execution_count": null,
   "id": "b6a251bf-bce2-4eb9-9a27-d3d0b242ce6c",
   "metadata": {
    "execution": {
     "iopub.execute_input": "2023-02-24T17:59:15.553468Z",
     "iopub.status.busy": "2023-02-24T17:59:15.552969Z"
    },
    "tags": []
   },
   "outputs": [],
   "source": [
    "# directories\n",
    "output_dir = \"F:\\Beetle_classification_deep_data_segmented\\\\\"\n",
    "folder_dir = \"F:\\Beetle_classification_deep_data\"\n",
    "\n",
    "\n",
    "try:\n",
    "    metadata_df = pd.read_csv(output_dir+\"segmented_images_metadata.csv\", index_col=\"Unnamed: 0\")\n",
    "except:\n",
    "    metadata_df = pd.DataFrame(columns=['centroid-0', \n",
    "                                        'centroid-1', \n",
    "                                        'bbox-0', \n",
    "                                        'bbox-1', \n",
    "                                        'bbox-2', \n",
    "                                        'bbox-3',\n",
    "                                        'orientation', \n",
    "                                        'axis_major_length',\n",
    "                                        'axis_minor_length', \n",
    "                                        'area',\n",
    "                                        'area_filled',\n",
    "                                        'real_area',\n",
    "                                        'kmeans_label', \n",
    "                                        'circle_class', \n",
    "                                        'pixel_count',\n",
    "                                        'composite_image_path', \n",
    "                                        'species', \n",
    "                                        'vial', \n",
    "                                        'subset',\n",
    "                                        'composite_image_number', \n",
    "                                        'segmented_image_name'])\n",
    "\n",
    "for root, dirs, files in os.walk(folder_dir):\n",
    "    for filename in files:\n",
    "        if (filename.endswith(\".JPG\") or filename.endswith(\".JPEG\") or filename.endswith(\".jpg\") or filename.endswith(\".jpeg\")):\n",
    "            file = os.path.join(root, filename)\n",
    "            if \"Attempt\" in file:\n",
    "                file.replace(file, \"\")\n",
    "            else:\n",
    "                label = re.sub(\"Beetle_classification_deep_data|Vial_|Subset_|IMG_|.JPG\", \"\", file)\n",
    "                label = label.split(\"\\\\\")\n",
    "            # test if iamge has already been processed    \n",
    "            if file not in list(set(metadata_df['composite_image_path'])):\n",
    "                try:\n",
    "                    pre_process = pre_process_image(image_dir = file, manual_thresh_buffer=0.15)\n",
    "                    pre_process.segment(cluster_num=2, \n",
    "                                        image_edge_buffer=50)\n",
    "                    pre_process.detect_outlier()\n",
    "                    pre_process.estimate_size(outlier_idx=pre_process.outlier_idx, \n",
    "                                              known_radius=1, \n",
    "                                              canny_sigma=5)\n",
    "\n",
    "                    # add info to table\n",
    "                    seg_img_df = pre_process.image_selected_df\n",
    "                    seg_img_df['composite_image_path'] = file\n",
    "                    seg_img_df['species'] = label[2]\n",
    "                    seg_img_df['vial'] = label[3]\n",
    "                    seg_img_df['subset'] = label[4]\n",
    "                    seg_img_df['composite_image_number'] = label[5]\n",
    "                    seg_img_df['segmented_image_name'] = seg_img_df['species']+\"_\"+seg_img_df['vial']+\"_\"+seg_img_df['subset']+\"_\"+seg_img_df['composite_image_number']+\"_\"+seg_img_df.index.astype(str)\n",
    "                    metadata_df = pd.concat([metadata_df, seg_img_df])\n",
    "                except:\n",
    "                    print(file) # this will print the file htat results in an error\n",
    "\n",
    "                # save images\n",
    "                for j in range(len(pre_process.col_image_lst)):\n",
    "                    image = pre_process.col_image_lst[j]\n",
    "                    image_name = seg_img_df.loc[j]['segmented_image_name']\n",
    "                    io.imsave(output_dir+image_name+\".JPG\", image)\n",
    "            # else:\n",
    "            #     print(\"Already processed image: \"+ file)\n",
    "                \n",
    "            metadata_df = metadata_df.reset_index(drop=True)\n",
    "            metadata_df.to_csv(output_dir+\"segmented_images_metadata.csv\")"
   ]
  }
 ],
 "metadata": {
  "kernelspec": {
   "display_name": "Python 3 (ipykernel)",
   "language": "python",
   "name": "python3"
  },
  "language_info": {
   "codemirror_mode": {
    "name": "ipython",
    "version": 3
   },
   "file_extension": ".py",
   "mimetype": "text/x-python",
   "name": "python",
   "nbconvert_exporter": "python",
   "pygments_lexer": "ipython3",
   "version": "3.10.9"
  }
 },
 "nbformat": 4,
 "nbformat_minor": 5
}
