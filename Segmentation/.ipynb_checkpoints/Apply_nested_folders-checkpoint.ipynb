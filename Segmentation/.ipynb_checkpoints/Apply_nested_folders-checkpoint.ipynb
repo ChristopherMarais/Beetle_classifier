{
 "cells": [
  {
   "cell_type": "code",
   "execution_count": 1,
   "id": "791921ef-40f0-49cc-9b4e-b036e6e79784",
   "metadata": {
    "execution": {
     "iopub.execute_input": "2023-02-23T22:13:39.899304Z",
     "iopub.status.busy": "2023-02-23T22:13:39.898804Z",
     "iopub.status.idle": "2023-02-23T22:13:42.837305Z",
     "shell.execute_reply": "2023-02-23T22:13:42.836804Z",
     "shell.execute_reply.started": "2023-02-23T22:13:39.899304Z"
    },
    "tags": []
   },
   "outputs": [],
   "source": [
    "import os\n",
    "import re\n",
    "import pandas as pd\n",
    "from Ambrosia import pre_process_image\n",
    "from skimage import io"
   ]
  },
  {
   "cell_type": "code",
   "execution_count": 2,
   "id": "b6a251bf-bce2-4eb9-9a27-d3d0b242ce6c",
   "metadata": {
    "execution": {
     "iopub.execute_input": "2023-02-23T22:13:42.838805Z",
     "iopub.status.busy": "2023-02-23T22:13:42.838304Z",
     "iopub.status.idle": "2023-02-23T22:13:46.635805Z",
     "shell.execute_reply": "2023-02-23T22:13:46.634305Z",
     "shell.execute_reply.started": "2023-02-23T22:13:42.838805Z"
    },
    "tags": []
   },
   "outputs": [
    {
     "ename": "ValueError",
     "evalue": "Cannot index with multidimensional key",
     "output_type": "error",
     "traceback": [
      "\u001b[1;31m---------------------------------------------------------------------------\u001b[0m",
      "\u001b[1;31mValueError\u001b[0m                                Traceback (most recent call last)",
      "Cell \u001b[1;32mIn[2], line 55\u001b[0m\n\u001b[0;32m     53\u001b[0m             \u001b[38;5;66;03m# save images\u001b[39;00m\n\u001b[0;32m     54\u001b[0m             \u001b[38;5;28;01mfor\u001b[39;00m j \u001b[38;5;129;01min\u001b[39;00m pre_process\u001b[38;5;241m.\u001b[39mcol_image_lst:\n\u001b[1;32m---> 55\u001b[0m                 io\u001b[38;5;241m.\u001b[39mimsave(output_dir\u001b[38;5;241m+\u001b[39m\u001b[43mseg_img_df\u001b[49m\u001b[43m[\u001b[49m\u001b[38;5;124;43m'\u001b[39;49m\u001b[38;5;124;43msegmented_image_name\u001b[39;49m\u001b[38;5;124;43m'\u001b[39;49m\u001b[43m]\u001b[49m\u001b[43m[\u001b[49m\u001b[43mj\u001b[49m\u001b[43m]\u001b[49m, j)\n\u001b[0;32m     57\u001b[0m metadata_df \u001b[38;5;241m=\u001b[39m metadata_df\u001b[38;5;241m.\u001b[39mreset_index(drop\u001b[38;5;241m=\u001b[39m\u001b[38;5;28;01mTrue\u001b[39;00m)\n\u001b[0;32m     58\u001b[0m metadata_df\u001b[38;5;241m.\u001b[39mto_csv(output_dir\u001b[38;5;241m+\u001b[39m\u001b[38;5;124m\"\u001b[39m\u001b[38;5;124msegmented_images_metadata.csv\u001b[39m\u001b[38;5;124m\"\u001b[39m)\n",
      "File \u001b[1;32m~\\anaconda3\\envs\\Seg_310\\lib\\site-packages\\pandas\\core\\series.py:1007\u001b[0m, in \u001b[0;36mSeries.__getitem__\u001b[1;34m(self, key)\u001b[0m\n\u001b[0;32m   1004\u001b[0m     key \u001b[38;5;241m=\u001b[39m np\u001b[38;5;241m.\u001b[39masarray(key, dtype\u001b[38;5;241m=\u001b[39m\u001b[38;5;28mbool\u001b[39m)\n\u001b[0;32m   1005\u001b[0m     \u001b[38;5;28;01mreturn\u001b[39;00m \u001b[38;5;28mself\u001b[39m\u001b[38;5;241m.\u001b[39m_get_values(key)\n\u001b[1;32m-> 1007\u001b[0m \u001b[38;5;28;01mreturn\u001b[39;00m \u001b[38;5;28;43mself\u001b[39;49m\u001b[38;5;241;43m.\u001b[39;49m\u001b[43m_get_with\u001b[49m\u001b[43m(\u001b[49m\u001b[43mkey\u001b[49m\u001b[43m)\u001b[49m\n",
      "File \u001b[1;32m~\\anaconda3\\envs\\Seg_310\\lib\\site-packages\\pandas\\core\\series.py:1042\u001b[0m, in \u001b[0;36mSeries._get_with\u001b[1;34m(self, key)\u001b[0m\n\u001b[0;32m   1038\u001b[0m \u001b[38;5;28;01mif\u001b[39;00m key_type \u001b[38;5;241m==\u001b[39m \u001b[38;5;124m\"\u001b[39m\u001b[38;5;124minteger\u001b[39m\u001b[38;5;124m\"\u001b[39m:\n\u001b[0;32m   1039\u001b[0m     \u001b[38;5;66;03m# We need to decide whether to treat this as a positional indexer\u001b[39;00m\n\u001b[0;32m   1040\u001b[0m     \u001b[38;5;66;03m#  (i.e. self.iloc) or label-based (i.e. self.loc)\u001b[39;00m\n\u001b[0;32m   1041\u001b[0m     \u001b[38;5;28;01mif\u001b[39;00m \u001b[38;5;129;01mnot\u001b[39;00m \u001b[38;5;28mself\u001b[39m\u001b[38;5;241m.\u001b[39mindex\u001b[38;5;241m.\u001b[39m_should_fallback_to_positional:\n\u001b[1;32m-> 1042\u001b[0m         \u001b[38;5;28;01mreturn\u001b[39;00m \u001b[38;5;28;43mself\u001b[39;49m\u001b[38;5;241;43m.\u001b[39;49m\u001b[43mloc\u001b[49m\u001b[43m[\u001b[49m\u001b[43mkey\u001b[49m\u001b[43m]\u001b[49m\n\u001b[0;32m   1043\u001b[0m     \u001b[38;5;28;01melse\u001b[39;00m:\n\u001b[0;32m   1044\u001b[0m         \u001b[38;5;28;01mreturn\u001b[39;00m \u001b[38;5;28mself\u001b[39m\u001b[38;5;241m.\u001b[39miloc[key]\n",
      "File \u001b[1;32m~\\anaconda3\\envs\\Seg_310\\lib\\site-packages\\pandas\\core\\indexing.py:1073\u001b[0m, in \u001b[0;36m_LocationIndexer.__getitem__\u001b[1;34m(self, key)\u001b[0m\n\u001b[0;32m   1070\u001b[0m axis \u001b[38;5;241m=\u001b[39m \u001b[38;5;28mself\u001b[39m\u001b[38;5;241m.\u001b[39maxis \u001b[38;5;129;01mor\u001b[39;00m \u001b[38;5;241m0\u001b[39m\n\u001b[0;32m   1072\u001b[0m maybe_callable \u001b[38;5;241m=\u001b[39m com\u001b[38;5;241m.\u001b[39mapply_if_callable(key, \u001b[38;5;28mself\u001b[39m\u001b[38;5;241m.\u001b[39mobj)\n\u001b[1;32m-> 1073\u001b[0m \u001b[38;5;28;01mreturn\u001b[39;00m \u001b[38;5;28;43mself\u001b[39;49m\u001b[38;5;241;43m.\u001b[39;49m\u001b[43m_getitem_axis\u001b[49m\u001b[43m(\u001b[49m\u001b[43mmaybe_callable\u001b[49m\u001b[43m,\u001b[49m\u001b[43m \u001b[49m\u001b[43maxis\u001b[49m\u001b[38;5;241;43m=\u001b[39;49m\u001b[43maxis\u001b[49m\u001b[43m)\u001b[49m\n",
      "File \u001b[1;32m~\\anaconda3\\envs\\Seg_310\\lib\\site-packages\\pandas\\core\\indexing.py:1299\u001b[0m, in \u001b[0;36m_LocIndexer._getitem_axis\u001b[1;34m(self, key, axis)\u001b[0m\n\u001b[0;32m   1296\u001b[0m \u001b[38;5;28;01mif\u001b[39;00m \u001b[38;5;129;01mnot\u001b[39;00m (\u001b[38;5;28misinstance\u001b[39m(key, \u001b[38;5;28mtuple\u001b[39m) \u001b[38;5;129;01mand\u001b[39;00m \u001b[38;5;28misinstance\u001b[39m(labels, MultiIndex)):\n\u001b[0;32m   1298\u001b[0m     \u001b[38;5;28;01mif\u001b[39;00m \u001b[38;5;28mhasattr\u001b[39m(key, \u001b[38;5;124m\"\u001b[39m\u001b[38;5;124mndim\u001b[39m\u001b[38;5;124m\"\u001b[39m) \u001b[38;5;129;01mand\u001b[39;00m key\u001b[38;5;241m.\u001b[39mndim \u001b[38;5;241m>\u001b[39m \u001b[38;5;241m1\u001b[39m:\n\u001b[1;32m-> 1299\u001b[0m         \u001b[38;5;28;01mraise\u001b[39;00m \u001b[38;5;167;01mValueError\u001b[39;00m(\u001b[38;5;124m\"\u001b[39m\u001b[38;5;124mCannot index with multidimensional key\u001b[39m\u001b[38;5;124m\"\u001b[39m)\n\u001b[0;32m   1301\u001b[0m     \u001b[38;5;28;01mreturn\u001b[39;00m \u001b[38;5;28mself\u001b[39m\u001b[38;5;241m.\u001b[39m_getitem_iterable(key, axis\u001b[38;5;241m=\u001b[39maxis)\n\u001b[0;32m   1303\u001b[0m \u001b[38;5;66;03m# nested tuple slicing\u001b[39;00m\n",
      "\u001b[1;31mValueError\u001b[0m: Cannot index with multidimensional key"
     ]
    }
   ],
   "source": [
    "output_dir = \"F:\\\\Segmented_images\\\\\"\n",
    "folder_dir = \"F:\\Beetle_classification_deep_data\"\n",
    "\n",
    "metadata_df = pd.DataFrame(columns=['centroid-0', \n",
    "                                    'centroid-1', \n",
    "                                    'bbox-0', \n",
    "                                    'bbox-1', \n",
    "                                    'bbox-2', \n",
    "                                    'bbox-3',\n",
    "                                    'orientation', \n",
    "                                    'axis_major_length',\n",
    "                                    'axis_minor_length', \n",
    "                                    'area','area_filled', \n",
    "                                    'kmeans_label', \n",
    "                                    'circle_class', \n",
    "                                    'pixel_count',\n",
    "                                    'composite_image_path', \n",
    "                                    'species', \n",
    "                                    'vial', \n",
    "                                    'subset',\n",
    "                                    'composite_image_number', \n",
    "                                    'composite_image_name',\n",
    "                                    'segmented_image_name'])\n",
    "\n",
    "for root, dirs, files in os.walk(folder_dir):\n",
    "    for filename in files:\n",
    "        if (filename.endswith(\".JPG\") or filename.endswith(\".JPEG\") or filename.endswith(\".jpg\") or filename.endswith(\".jpeg\")):\n",
    "            file = os.path.join(root, filename)\n",
    "            if \"Attempt\" in file:\n",
    "                file.replace(file, \"\")\n",
    "            else:\n",
    "                label = re.sub(\"Beetle_classification_deep_data|Vial_|Subset_|IMG_|.JPG\", \"\", file)\n",
    "                label = label.split(\"\\\\\")\n",
    "                \n",
    "            pre_process = pre_process_image(image_dir = file, manual_thresh_buffer=0.15)\n",
    "            pre_process.segment(cluster_num=2, \n",
    "                                image_edge_buffer=50)\n",
    "            pre_process.detect_outlier()\n",
    "            pre_process.estimate_size(outlier_idx=pre_process.outlier_idx, \n",
    "                                      known_radius=1, \n",
    "                                      canny_sigma=5)\n",
    "\n",
    "            # add info to table\n",
    "            seg_img_df = pre_process.image_selected_df\n",
    "            seg_img_df['composite_image_path'] = file\n",
    "            seg_img_df['species'] = label[2]\n",
    "            seg_img_df['vial'] = label[3]\n",
    "            seg_img_df['subset'] = label[4]\n",
    "            seg_img_df['composite_image_number'] = label[5]\n",
    "            seg_img_df['segmented_image_name'] = seg_img_df['species']+\"_\"+seg_img_df['vial']+\"_\"+seg_img_df['subset']+\"_\"+seg_img_df['composite_image_number']+\"_\"+seg_img_df.index.astype(str)\n",
    "            metadata_df = pd.concat([metadata_df, seg_img_df])\n",
    "            \n",
    "            # save images\n",
    "            for j in pre_process.col_image_lst:\n",
    "                io.imsave(output_dir+seg_img_df['segmented_image_name'].loc[j], j)\n",
    "\n",
    "metadata_df = metadata_df.reset_index(drop=True)\n",
    "metadata_df.to_csv(output_dir+\"segmented_images_metadata.csv\")\n",
    "# metadata_df['segmented_image_name'] = metadata_df['composite_image_name']+\"_\"+metadata_df.index.astype(str)   "
   ]
  },
  {
   "cell_type": "code",
   "execution_count": 5,
   "id": "ae772d7d-87a1-4f1c-bbae-747e4eee1492",
   "metadata": {
    "execution": {
     "iopub.execute_input": "2023-02-23T22:14:26.692153Z",
     "iopub.status.busy": "2023-02-23T22:14:26.691650Z",
     "iopub.status.idle": "2023-02-23T22:14:26.699653Z",
     "shell.execute_reply": "2023-02-23T22:14:26.698652Z",
     "shell.execute_reply.started": "2023-02-23T22:14:26.692153Z"
    },
    "tags": []
   },
   "outputs": [
    {
     "data": {
      "text/plain": [
       "'Coccotypes_dactyliperda_16296_1_0052_0'"
      ]
     },
     "execution_count": 5,
     "metadata": {},
     "output_type": "execute_result"
    }
   ],
   "source": [
    "seg_img_df['segmented_image_name'].loc[0]"
   ]
  }
 ],
 "metadata": {
  "kernelspec": {
   "display_name": "Python 3 (ipykernel)",
   "language": "python",
   "name": "python3"
  },
  "language_info": {
   "codemirror_mode": {
    "name": "ipython",
    "version": 3
   },
   "file_extension": ".py",
   "mimetype": "text/x-python",
   "name": "python",
   "nbconvert_exporter": "python",
   "pygments_lexer": "ipython3",
   "version": "3.10.9"
  }
 },
 "nbformat": 4,
 "nbformat_minor": 5
}
