{
 "cells": [
  {
   "cell_type": "code",
   "execution_count": 1,
   "id": "cfa13c3b-1097-4cbd-ae25-899dceea9b08",
   "metadata": {
    "execution": {
     "iopub.execute_input": "2023-02-02T04:45:15.908557Z",
     "iopub.status.busy": "2023-02-02T04:45:15.908058Z",
     "iopub.status.idle": "2023-02-02T04:45:18.632805Z",
     "shell.execute_reply": "2023-02-02T04:45:18.632303Z",
     "shell.execute_reply.started": "2023-02-02T04:45:15.908557Z"
    },
    "tags": []
   },
   "outputs": [],
   "source": [
    "import os\n",
    "from Ambrosia import pre_process_image"
   ]
  },
  {
   "cell_type": "code",
   "execution_count": 2,
   "id": "43227f50-73d1-42a6-bc60-6f0f75a39729",
   "metadata": {
    "execution": {
     "iopub.execute_input": "2023-02-02T04:45:18.635305Z",
     "iopub.status.busy": "2023-02-02T04:45:18.634804Z",
     "iopub.status.idle": "2023-02-02T04:45:18.648804Z",
     "shell.execute_reply": "2023-02-02T04:45:18.647806Z",
     "shell.execute_reply.started": "2023-02-02T04:45:18.635305Z"
    },
    "tags": []
   },
   "outputs": [],
   "source": [
    "wd = os.getcwd()\n",
    "image_name =  \"IMG_0269_clean.JPG\"\n",
    "image_path = wd+\"/\"+image_name"
   ]
  },
  {
   "cell_type": "code",
   "execution_count": 3,
   "id": "082d9b30-f42a-442f-b7ce-431428b3a326",
   "metadata": {
    "execution": {
     "iopub.execute_input": "2023-02-02T04:45:18.650804Z",
     "iopub.status.busy": "2023-02-02T04:45:18.650305Z",
     "iopub.status.idle": "2023-02-02T04:45:19.748766Z",
     "shell.execute_reply": "2023-02-02T04:45:19.747266Z",
     "shell.execute_reply.started": "2023-02-02T04:45:18.650804Z"
    },
    "tags": []
   },
   "outputs": [],
   "source": [
    "pre_process = pre_process_image(image_dir = image_path)"
   ]
  },
  {
   "cell_type": "code",
   "execution_count": 4,
   "id": "3606d9db-491f-4350-9408-3bc9eda1e213",
   "metadata": {
    "execution": {
     "iopub.execute_input": "2023-02-02T04:45:19.750766Z",
     "iopub.status.busy": "2023-02-02T04:45:19.750266Z",
     "iopub.status.idle": "2023-02-02T04:45:21.593266Z",
     "shell.execute_reply": "2023-02-02T04:45:21.591766Z",
     "shell.execute_reply.started": "2023-02-02T04:45:19.750266Z"
    },
    "tags": []
   },
   "outputs": [
    {
     "name": "stderr",
     "output_type": "stream",
     "text": [
      "E:\\GIT_REPOS\\LAB\\Beetle_classifier\\Segmentation\\Ambrosia.py:126: SettingWithCopyWarning: \n",
      "A value is trying to be set on a copy of a slice from a DataFrame.\n",
      "Try using .loc[row_indexer,col_indexer] = value instead\n",
      "\n",
      "See the caveats in the documentation: https://pandas.pydata.org/pandas-docs/stable/user_guide/indexing.html#returning-a-view-versus-a-copy\n",
      "  image_selected_df.loc[:,['bbox-0','bbox-1','bbox-2','bbox-3']] = coord_df.loc[:,['bbox-0','bbox-1','bbox-2','bbox-3']]\n"
     ]
    },
    {
     "ename": "ValueError",
     "evalue": "cannot convert float NaN to integer",
     "output_type": "error",
     "traceback": [
      "\u001b[1;31m---------------------------------------------------------------------------\u001b[0m",
      "\u001b[1;31mValueError\u001b[0m                                Traceback (most recent call last)",
      "Cell \u001b[1;32mIn[4], line 1\u001b[0m\n\u001b[1;32m----> 1\u001b[0m \u001b[43mpre_process\u001b[49m\u001b[38;5;241;43m.\u001b[39;49m\u001b[43msegment\u001b[49m\u001b[43m(\u001b[49m\u001b[43mcluster_num\u001b[49m\u001b[38;5;241;43m=\u001b[39;49m\u001b[38;5;241;43m2\u001b[39;49m\u001b[43m,\u001b[49m\u001b[43m \u001b[49m\u001b[43mimage_edge_buffer\u001b[49m\u001b[38;5;241;43m=\u001b[39;49m\u001b[38;5;241;43m50\u001b[39;49m\u001b[43m)\u001b[49m\n",
      "File \u001b[1;32mE:\\GIT_REPOS\\LAB\\Beetle_classifier\\Segmentation\\Ambrosia.py:134\u001b[0m, in \u001b[0;36mpre_process_image.segment\u001b[1;34m(self, cluster_num, image_edge_buffer)\u001b[0m\n\u001b[0;32m    132\u001b[0m coord_i \u001b[38;5;241m=\u001b[39m image_selected_df\u001b[38;5;241m.\u001b[39miloc[i]\n\u001b[0;32m    133\u001b[0m \u001b[38;5;66;03m# color images\u001b[39;00m\n\u001b[1;32m--> 134\u001b[0m crop_img \u001b[38;5;241m=\u001b[39m \u001b[38;5;28mself\u001b[39m\u001b[38;5;241m.\u001b[39mimage[\u001b[38;5;28;43mint\u001b[39;49m\u001b[43m(\u001b[49m\u001b[43mcoord_i\u001b[49m\u001b[43m[\u001b[49m\u001b[38;5;124;43m'\u001b[39;49m\u001b[38;5;124;43mbbox-0\u001b[39;49m\u001b[38;5;124;43m'\u001b[39;49m\u001b[43m]\u001b[49m\u001b[43m)\u001b[49m:\u001b[38;5;28mint\u001b[39m(coord_i[\u001b[38;5;124m'\u001b[39m\u001b[38;5;124mbbox-2\u001b[39m\u001b[38;5;124m'\u001b[39m]), \u001b[38;5;28mint\u001b[39m(coord_i[\u001b[38;5;124m'\u001b[39m\u001b[38;5;124mbbox-1\u001b[39m\u001b[38;5;124m'\u001b[39m]):\u001b[38;5;28mint\u001b[39m(coord_i[\u001b[38;5;124m'\u001b[39m\u001b[38;5;124mbbox-3\u001b[39m\u001b[38;5;124m'\u001b[39m])]\n\u001b[0;32m    135\u001b[0m col_image_lst\u001b[38;5;241m.\u001b[39mappend(crop_img)\n\u001b[0;32m    136\u001b[0m \u001b[38;5;66;03m# inverted black and white images\u001b[39;00m\n",
      "\u001b[1;31mValueError\u001b[0m: cannot convert float NaN to integer"
     ]
    }
   ],
   "source": [
    "pre_process.segment(cluster_num=2, image_edge_buffer=50)"
   ]
  }
 ],
 "metadata": {
  "kernelspec": {
   "display_name": "Python 3 (ipykernel)",
   "language": "python",
   "name": "python3"
  },
  "language_info": {
   "codemirror_mode": {
    "name": "ipython",
    "version": 3
   },
   "file_extension": ".py",
   "mimetype": "text/x-python",
   "name": "python",
   "nbconvert_exporter": "python",
   "pygments_lexer": "ipython3",
   "version": "3.10.9"
  }
 },
 "nbformat": 4,
 "nbformat_minor": 5
}
