{
 "cells": [
  {
   "cell_type": "code",
   "execution_count": 1,
   "id": "16511690-167c-4bfe-a3e8-41200c13cdc2",
   "metadata": {
    "execution": {
     "iopub.execute_input": "2023-01-24T17:29:40.887022Z",
     "iopub.status.busy": "2023-01-24T17:29:40.886520Z",
     "iopub.status.idle": "2023-01-24T17:29:43.855764Z",
     "shell.execute_reply": "2023-01-24T17:29:43.854762Z",
     "shell.execute_reply.started": "2023-01-24T17:29:40.887022Z"
    },
    "tags": []
   },
   "outputs": [],
   "source": [
    "import os\n",
    "import matplotlib.pyplot as plt\n",
    "import numpy as np\n",
    "import pandas as pd\n",
    "\n",
    "from skimage import io\n",
    "from skimage.filters import threshold_otsu\n",
    "from skimage.color import rgb2gray\n",
    "from skimage.segmentation import clear_border\n",
    "from skimage.measure import label, regionprops_table\n",
    "from sklearn.cluster import KMeans"
   ]
  },
  {
   "cell_type": "code",
   "execution_count": null,
   "id": "06a04ea8-61cf-44eb-b82f-f1a79c25c2bb",
   "metadata": {},
   "outputs": [],
   "source": [
    "wd = os.getcwd()\n",
    "image = io.imread(wd+\"/IMG_0269_clean.JPG\")\n",
    "image_gray = rgb2gray(image)\n",
    "global_thresh = threshold_otsu(image_gray)\n",
    "binary_global = image_gray > global_thresh\n",
    "bw = np.invert(binary_global)\n",
    "\n",
    "# remove artifacts connected to image border\n",
    "cleared = clear_border(bw)\n",
    "\n",
    "# label image regions\n",
    "label_image = label(cleared)\n",
    "props = regionprops_table(label_image, properties=('centroid',\n",
    "                                                   'bbox',\n",
    "                                                   'orientation',\n",
    "                                                   'axis_major_length',\n",
    "                                                   'axis_minor_length',\n",
    "                                                   'area',\n",
    "                                                   'area_filled'))\n",
    "\n",
    "props_df = pd.DataFrame(props)\n",
    "\n",
    "# cluster to only include beetles and not noise\n",
    "X = np.array(props_df[['axis_major_length', 'axis_minor_length']])\n",
    "kmeans = KMeans(n_clusters=2).fit(X)\n",
    "props_df['kmeans_label'] = kmeans.labels_"
   ]
  },
  {
   "cell_type": "code",
   "execution_count": 2,
   "id": "7ec0e654-6206-4f5e-b1f2-fd83341a005e",
   "metadata": {
    "execution": {
     "iopub.execute_input": "2023-01-24T17:29:43.857765Z",
     "iopub.status.busy": "2023-01-24T17:29:43.856764Z",
     "iopub.status.idle": "2023-01-24T17:29:43.870765Z",
     "shell.execute_reply": "2023-01-24T17:29:43.870263Z",
     "shell.execute_reply.started": "2023-01-24T17:29:43.857765Z"
    },
    "tags": []
   },
   "outputs": [],
   "source": [
    "# # read image\n",
    "# wd = os.getcwd()\n",
    "# image = io.imread(wd+\"/IMG_0269.JPG\")\n",
    "# io.imshow(image)\n",
    "# # grey image\n",
    "# image_gray = rgb2gray(image)\n",
    "# io.imshow(image_gray)\n",
    "\n",
    "# # binarise data\n",
    "# global_thresh = threshold_otsu(image_gray)\n",
    "# binary_global = image_gray > global_thresh\n",
    "\n",
    "# io.imshow(binary_global)\n",
    "\n",
    "# # mask image\n",
    "# mask = image.copy()\n",
    "# for i in range(3):\n",
    "#     mask[:,:,i] = np.invert(binary_global)*image[:,:,i]\n",
    "# io.imshow(mask)"
   ]
  },
  {
   "cell_type": "code",
   "execution_count": 3,
   "id": "856406d9-5596-4de5-b205-f9a2fa78845c",
   "metadata": {
    "execution": {
     "iopub.execute_input": "2023-01-24T17:29:43.872764Z",
     "iopub.status.busy": "2023-01-24T17:29:43.872265Z",
     "iopub.status.idle": "2023-01-24T17:29:43.978357Z",
     "shell.execute_reply": "2023-01-24T17:29:43.977852Z",
     "shell.execute_reply.started": "2023-01-24T17:29:43.872764Z"
    },
    "tags": []
   },
   "outputs": [],
   "source": [
    "# import matplotlib.pyplot as plt\n",
    "# import matplotlib.patches as mpatches\n",
    "\n",
    "# from skimage import data\n",
    "# from skimage.filters import threshold_otsu\n",
    "# from skimage.segmentation import clear_border\n",
    "# from skimage.measure import label, regionprops, regionprops_table\n",
    "# from skimage.morphology import closing, square\n",
    "# from skimage.color import label2rgb\n",
    "\n",
    "\n",
    "# # image = data.coins()[50:-50, 50:-50]\n",
    "# # # apply threshold\n",
    "# # thresh = threshold_otsu(image)\n",
    "# # bw = closing(image > thresh, square(10))\n",
    "\n",
    "# image = io.imread(wd+\"/IMG_0269.JPG\")\n",
    "# image_gray = rgb2gray(image)\n",
    "# global_thresh = threshold_otsu(image_gray)\n",
    "# binary_global = image_gray > global_thresh\n",
    "# bw = np.invert(binary_global)\n",
    "\n",
    "# # remove artifacts connected to image border\n",
    "# cleared = clear_border(bw)\n",
    "\n",
    "# # label image regions\n",
    "# label_image = label(cleared)\n",
    "# # to make the background transparent, pass the value of `bg_label`,\n",
    "# # and leave `bg_color` as `None` and `kind` as `overlay`\n",
    "# image_label_overlay = label2rgb(label_image, image=image, bg_label=0)\n",
    "\n",
    "# fig, ax = plt.subplots(figsize=(10, 6))\n",
    "# ax.imshow(image_label_overlay)\n",
    "\n",
    "# for region in regionprops(label_image):\n",
    "#     # take regions with large enough areas\n",
    "#     if region.area >= 100:\n",
    "#         # draw rectangle around segmented coins\n",
    "#         minr, minc, maxr, maxc = region.bbox\n",
    "#         rect = mpatches.Rectangle((minc, minr), maxc - minc, maxr - minr,\n",
    "#                                   fill=False, edgecolor='red', linewidth=1)\n",
    "#         ax.add_patch(rect)\n",
    "\n",
    "# ax.set_axis_off()\n",
    "# plt.tight_layout()\n",
    "# plt.show()"
   ]
  },
  {
   "cell_type": "code",
   "execution_count": 4,
   "id": "304d5e60-2302-4738-9e77-abc08e19f93a",
   "metadata": {
    "execution": {
     "iopub.execute_input": "2023-01-24T17:29:43.980858Z",
     "iopub.status.busy": "2023-01-24T17:29:43.980357Z",
     "iopub.status.idle": "2023-01-24T17:29:45.358377Z",
     "shell.execute_reply": "2023-01-24T17:29:45.357377Z",
     "shell.execute_reply.started": "2023-01-24T17:29:43.980858Z"
    },
    "tags": []
   },
   "outputs": [],
   "source": [
    "\n",
    "\n",
    "\n"
   ]
  },
  {
   "cell_type": "code",
   "execution_count": 6,
   "id": "1222aa1c-c92a-4041-a330-ce934393f237",
   "metadata": {
    "execution": {
     "iopub.execute_input": "2023-01-24T17:29:58.946247Z",
     "iopub.status.busy": "2023-01-24T17:29:58.945248Z",
     "iopub.status.idle": "2023-01-24T17:29:59.117247Z",
     "shell.execute_reply": "2023-01-24T17:29:59.116245Z",
     "shell.execute_reply.started": "2023-01-24T17:29:58.946247Z"
    },
    "tags": []
   },
   "outputs": [
    {
     "ename": "NameError",
     "evalue": "name 'regionprops' is not defined",
     "output_type": "error",
     "traceback": [
      "\u001b[1;31m---------------------------------------------------------------------------\u001b[0m",
      "\u001b[1;31mNameError\u001b[0m                                 Traceback (most recent call last)",
      "Cell \u001b[1;32mIn[6], line 2\u001b[0m\n\u001b[0;32m      1\u001b[0m fig, ax \u001b[38;5;241m=\u001b[39m plt\u001b[38;5;241m.\u001b[39msubplots(figsize\u001b[38;5;241m=\u001b[39m(\u001b[38;5;241m10\u001b[39m, \u001b[38;5;241m6\u001b[39m))\n\u001b[1;32m----> 2\u001b[0m \u001b[38;5;28;01mfor\u001b[39;00m region \u001b[38;5;129;01min\u001b[39;00m \u001b[43mregionprops\u001b[49m(label_image):\n\u001b[0;32m      3\u001b[0m     \u001b[38;5;66;03m# take regions with large enough areas\u001b[39;00m\n\u001b[0;32m      4\u001b[0m     \u001b[38;5;28;01mif\u001b[39;00m region\u001b[38;5;241m.\u001b[39marea \u001b[38;5;241m>\u001b[39m\u001b[38;5;241m=\u001b[39m \u001b[38;5;241m7171\u001b[39m:\n\u001b[0;32m      5\u001b[0m         \u001b[38;5;66;03m# draw rectangle around segmented coins\u001b[39;00m\n\u001b[0;32m      6\u001b[0m         minr, minc, maxr, maxc \u001b[38;5;241m=\u001b[39m region\u001b[38;5;241m.\u001b[39mbbox\n",
      "\u001b[1;31mNameError\u001b[0m: name 'regionprops' is not defined"
     ]
    },
    {
     "data": {
      "image/png": "[encoded data removed]",
      "text/plain": [
       "<Figure size 1000x600 with 1 Axes>"
      ]
     },
     "metadata": {},
     "output_type": "display_data"
    }
   ],
   "source": [
    "fig, ax = plt.subplots(figsize=(10, 6))\n",
    "for region in regionprops(label_image):\n",
    "    # take regions with large enough areas\n",
    "    if region.area >= 7171:\n",
    "        # draw rectangle around segmented coins\n",
    "        minr, minc, maxr, maxc = region.bbox\n",
    "        rect = mpatches.Rectangle((minc, minr), maxc - minc, maxr - minr,\n",
    "                                  fill=False, edgecolor='red', linewidth=1)\n",
    "        ax.add_patch(rect)\n",
    "\n",
    "ax.set_axis_off()\n",
    "plt.tight_layout()\n",
    "plt.show()"
   ]
  },
  {
   "cell_type": "code",
   "execution_count": null,
   "id": "1b40e45f-2999-40dc-ba8e-d88bc9887427",
   "metadata": {
    "execution": {
     "iopub.status.busy": "2023-01-24T17:29:46.289878Z",
     "iopub.status.idle": "2023-01-24T17:29:46.290380Z",
     "shell.execute_reply": "2023-01-24T17:29:46.289878Z",
     "shell.execute_reply.started": "2023-01-24T17:29:46.289878Z"
    },
    "tags": []
   },
   "outputs": [],
   "source": [
    "props_df[props_df['kmeans_label']==1].sort_values('centroid-0')"
   ]
  },
  {
   "cell_type": "code",
   "execution_count": null,
   "id": "5fd06690-5ee0-422b-bd36-8abee1ac9a62",
   "metadata": {
    "execution": {
     "iopub.status.busy": "2023-01-24T17:29:46.291878Z",
     "iopub.status.idle": "2023-01-24T17:29:46.292376Z",
     "shell.execute_reply": "2023-01-24T17:29:46.291878Z",
     "shell.execute_reply.started": "2023-01-24T17:29:46.291878Z"
    },
    "tags": []
   },
   "outputs": [],
   "source": [
    "# make threshold as smallest value above 1 that has 0 counts\n",
    "# clip images based on coordiantes pl.us a few \n",
    "# calculate area of each image\n",
    "# classify circle image\n",
    "# give relative surface area based on circle classified image"
   ]
  }
 ],
 "metadata": {
  "kernelspec": {
   "display_name": "Python 3 (ipykernel)",
   "language": "python",
   "name": "python3"
  },
  "language_info": {
   "codemirror_mode": {
    "name": "ipython",
    "version": 3
   },
   "file_extension": ".py",
   "mimetype": "text/x-python",
   "name": "python",
   "nbconvert_exporter": "python",
   "pygments_lexer": "ipython3",
   "version": "3.10.9"
  }
 },
 "nbformat": 4,
 "nbformat_minor": 5
}
