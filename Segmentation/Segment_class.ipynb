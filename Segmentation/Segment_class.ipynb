{
 "cells": [
  {
   "cell_type": "code",
   "execution_count": null,
   "id": "56dbcc57-d2a3-43f5-97e1-af8750d8986d",
   "metadata": {},
   "outputs": [],
   "source": [
    "# import requirements\n",
    "import os\n",
    "import numpy as np\n",
    "import pandas as pd\n",
    "from math import ceil\n",
    "from skimage import io\n",
    "from skimage.filters import threshold_otsu\n",
    "from skimage.color import rgb2gray\n",
    "from skimage.segmentation import clear_border\n",
    "from skimage.measure import label, regionprops_table\n",
    "from skimage.transform import hough_circle, hough_circle_peaks\n",
    "from skimage.feature import canny\n",
    "from skimage.draw import disk\n",
    "from sklearn.cluster import KMeans\n",
    "from scipy.stats import spearmanr"
   ]
  },
  {
   "cell_type": "code",
   "execution_count": null,
   "id": "b9ab9389-a86d-416b-8150-6d5622fbcf28",
   "metadata": {},
   "outputs": [],
   "source": [
    "class pre_process_image:\n",
    "    # initialize image to be segmented\n",
    "    def __init__(self, image_dir):\n",
    "        self.image_dir = image_dir # full directory path to image\n",
    "        self.image = io.imread(image_dir) # read image from directory\n",
    "        self.grey_image = rgb2gray(self.image) #convert image to greyscale\n",
    "        self.bw_image = self.grey_image > threshold_otsu(image_gray) # binarize image ot be black adn white\n",
    "        self.inv_bw_image = np.invert(self.bw_image) # invert black and white image\n",
    "        self.clear_inv_bw_image = clear_border(self.inv_bw_image) # remove anything touching image border\n",
    "    \n",
    "    # segment the image into smaller images\n",
    "    def segment(self, cluster_num=2, image_edge_buffer=50):\n",
    "        self.cluster_num = cluster_num\n",
    "        self.image_edge_buffer = image_edge_buffer\n",
    "        self.labeled_image = label(self.clear_inv_bw_image) #label image\n",
    "        self.image_properties_df = pd.DataFrame( # get the properties of each image used to segment blobs in image\n",
    "            regionprops_table(\n",
    "                self.labeled_image, \n",
    "                properties=('centroid',\n",
    "                           'bbox',\n",
    "                           'orientation',\n",
    "                           'axis_major_length',\n",
    "                           'axis_minor_length',\n",
    "                           'area',\n",
    "                           'area_filled')\n",
    "                                    )\n",
    "                                )\n",
    "        # cluster boxes of blobs by size\n",
    "        kmean_result = KMeans(n_clusters=clust_count).fit(\n",
    "            np.array(\n",
    "                self.image_properties_df[['axis_major_length', 'axis_minor_length']]\n",
    "            )\n",
    "        )\n",
    "        self.image_properties_df['kmeans_label'] = kmean_result.labels_\n",
    "        # keep only the largest cluster (ball bearing needs to be a similar size as the beetles)\n",
    "        self.max_kmeans_label = int(self.image_properties_df.kmeans_label[self.image_properties_df['area'] == self.image_properties_df['area'].max()])\n",
    "        self.image_selected_df = self.image_properties_df[self.image_properties_df['kmeans_label']==self.max_kmeans_label]"
   ]
  }
 ],
 "metadata": {
  "kernelspec": {
   "display_name": "Python 3 (ipykernel)",
   "language": "python",
   "name": "python3"
  },
  "language_info": {
   "codemirror_mode": {
    "name": "ipython",
    "version": 3
   },
   "file_extension": ".py",
   "mimetype": "text/x-python",
   "name": "python",
   "nbconvert_exporter": "python",
   "pygments_lexer": "ipython3",
   "version": "3.10.9"
  }
 },
 "nbformat": 4,
 "nbformat_minor": 5
}
