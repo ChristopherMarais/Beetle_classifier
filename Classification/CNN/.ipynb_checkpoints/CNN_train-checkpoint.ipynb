{
 "cells": [
  {
   "cell_type": "code",
   "execution_count": 2,
   "id": "a8775668-d24f-46f8-bcc6-29779e3ecae8",
   "metadata": {
    "execution": {
     "iopub.execute_input": "2023-01-25T04:42:27.175883Z",
     "iopub.status.busy": "2023-01-25T04:42:27.175382Z",
     "iopub.status.idle": "2023-01-25T04:42:27.194881Z",
     "shell.execute_reply": "2023-01-25T04:42:27.193881Z",
     "shell.execute_reply.started": "2023-01-25T04:42:27.175883Z"
    },
    "tags": []
   },
   "outputs": [],
   "source": [
    "import torch"
   ]
  },
  {
   "cell_type": "code",
   "execution_count": null,
   "id": "dfa3aa4c-4fc2-4c87-9f4c-9a9d86b3828d",
   "metadata": {},
   "outputs": [],
   "source": []
  }
 ],
 "metadata": {
  "kernelspec": {
   "display_name": "Python 3 (ipykernel)",
   "language": "python",
   "name": "python3"
  },
  "language_info": {
   "codemirror_mode": {
    "name": "ipython",
    "version": 3
   },
   "file_extension": ".py",
   "mimetype": "text/x-python",
   "name": "python",
   "nbconvert_exporter": "python",
   "pygments_lexer": "ipython3",
   "version": "3.10.9"
  }
 },
 "nbformat": 4,
 "nbformat_minor": 5
}
