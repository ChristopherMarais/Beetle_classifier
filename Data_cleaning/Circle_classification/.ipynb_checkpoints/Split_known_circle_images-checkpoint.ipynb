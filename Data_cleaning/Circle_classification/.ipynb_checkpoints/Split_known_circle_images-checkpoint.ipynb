{
 "cells": [
  {
   "cell_type": "code",
   "execution_count": 2,
   "id": "6cf5d9ea-4665-423c-82cd-2dafea577ada",
   "metadata": {
    "execution": {
     "iopub.execute_input": "2023-04-12T17:53:30.847923Z",
     "iopub.status.busy": "2023-04-12T17:53:30.846908Z",
     "iopub.status.idle": "2023-04-12T17:53:30.857900Z",
     "shell.execute_reply": "2023-04-12T17:53:30.856905Z",
     "shell.execute_reply.started": "2023-04-12T17:53:30.847923Z"
    },
    "tags": []
   },
   "outputs": [],
   "source": [
    "import pandas as pd"
   ]
  },
  {
   "cell_type": "code",
   "execution_count": 4,
   "id": "7e925594-2a72-47cd-b352-ebdbd44cd326",
   "metadata": {
    "execution": {
     "iopub.execute_input": "2023-04-12T17:53:46.108531Z",
     "iopub.status.busy": "2023-04-12T17:53:46.108531Z",
     "iopub.status.idle": "2023-04-12T17:53:46.129976Z",
     "shell.execute_reply": "2023-04-12T17:53:46.129132Z",
     "shell.execute_reply.started": "2023-04-12T17:53:46.108531Z"
    },
    "tags": []
   },
   "outputs": [
    {
     "ename": "SyntaxError",
     "evalue": "(unicode error) 'unicodeescape' codec can't decode bytes in position 2-3: truncated \\UXXXXXXXX escape (1413740792.py, line 1)",
     "output_type": "error",
     "traceback": [
      "\u001b[1;36m  Cell \u001b[1;32mIn[4], line 1\u001b[1;36m\u001b[0m\n\u001b[1;33m    data_dir=\"C:\\Users\\gcmar\\Desktop\\DATA\\Beetle_classification_deep_data_segmented\"\u001b[0m\n\u001b[1;37m                                                                                    ^\u001b[0m\n\u001b[1;31mSyntaxError\u001b[0m\u001b[1;31m:\u001b[0m (unicode error) 'unicodeescape' codec can't decode bytes in position 2-3: truncated \\UXXXXXXXX escape\n"
     ]
    }
   ],
   "source": [
    "data_dir=\"C:\\Users\\gcmar\\Desktop\\DATA\\Beetle_classification_deep_data_segmented\"\n",
    "\n",
    "metadata_df = pd.read_csv(data_dir+\"segmented_images_metadata.csv\", index_col=\"Unnamed: 0\",low_memory=False)"
   ]
  },
  {
   "cell_type": "code",
   "execution_count": null,
   "id": "7501f8e5-62bd-4e46-8479-dfcda9d794ff",
   "metadata": {},
   "outputs": [],
   "source": [
    "# TRAIN\n",
    "# get list of all circle images and copy to new folder\n",
    "# get list of all non-circle images\n",
    "# train classifier with fastai"
   ]
  },
  {
   "cell_type": "code",
   "execution_count": null,
   "id": "e15fbb5d-1d70-4063-b658-258b247b8837",
   "metadata": {},
   "outputs": [],
   "source": [
    "# APPLY\n",
    "# import metadata file\n",
    "# get lsit of filenames of segmented images\n",
    "# create new column of circle classification\n",
    "# open images in loop\n",
    "# classify images and add vlaue to new column"
   ]
  },
  {
   "cell_type": "code",
   "execution_count": null,
   "id": "b89a12f9-b02a-4051-bf30-a7eff4b5f4d3",
   "metadata": {},
   "outputs": [],
   "source": [
    "# Explainable AI\n",
    "# LIME\n",
    "# SHAP"
   ]
  }
 ],
 "metadata": {
  "kernelspec": {
   "display_name": "Python 3 (ipykernel)",
   "language": "python",
   "name": "python3"
  },
  "language_info": {
   "codemirror_mode": {
    "name": "ipython",
    "version": 3
   },
   "file_extension": ".py",
   "mimetype": "text/x-python",
   "name": "python",
   "nbconvert_exporter": "python",
   "pygments_lexer": "ipython3",
   "version": "3.10.9"
  }
 },
 "nbformat": 4,
 "nbformat_minor": 5
}
