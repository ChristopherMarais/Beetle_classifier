{
 "cells": [
  {
   "cell_type": "code",
   "execution_count": 37,
   "id": "208043ce-45d2-440b-8b72-c6c80fb1bf8b",
   "metadata": {
    "execution": {
     "iopub.execute_input": "2023-03-13T17:21:04.824025Z",
     "iopub.status.busy": "2023-03-13T17:21:04.823025Z",
     "iopub.status.idle": "2023-03-13T17:21:04.841524Z",
     "shell.execute_reply": "2023-03-13T17:21:04.840524Z",
     "shell.execute_reply.started": "2023-03-13T17:21:04.823524Z"
    },
    "tags": []
   },
   "outputs": [],
   "source": [
    "import pandas as pd\n",
    "import os\n",
    "import re\n",
    "import numpy as np\n",
    "from sklearn.model_selection import train_test_split"
   ]
  },
  {
   "cell_type": "code",
   "execution_count": 45,
   "id": "1de94a43-f328-49b7-a9c8-315bb7acf199",
   "metadata": {
    "execution": {
     "iopub.execute_input": "2023-03-13T17:26:53.121524Z",
     "iopub.status.busy": "2023-03-13T17:26:53.121025Z",
     "iopub.status.idle": "2023-03-13T17:26:53.139523Z",
     "shell.execute_reply": "2023-03-13T17:26:53.138523Z",
     "shell.execute_reply.started": "2023-03-13T17:26:53.121524Z"
    },
    "tags": []
   },
   "outputs": [],
   "source": [
    "# split data function\n",
    "def test_split_species(meta_data_file_path, random_state):\n",
    "    # get image names from csv\n",
    "    df = pd.read_csv(meta_data_file_path, usecols=['segmented_image_name', 'species'])\n",
    "    # split data by each species. % of each species is added to test data\n",
    "    train_df = pd.DataFrame(columns=['segmented_image_name', 'species'])\n",
    "    test_df = pd.DataFrame(columns=['segmented_image_name', 'species'])\n",
    "    for i in df['species'].unique():\n",
    "        spcs_df = df[df['species']==i]\n",
    "        train_i, test_i = train_test_split(spcs_df, test_size=0.1, random_state=random_state)\n",
    "        train_df = pd.concat([train_df, train_i])\n",
    "        test_df = pd.concat([test_df, test_i])\n",
    "    train_df = train_df.reset_index()\n",
    "    test_df = test_df.reset_index()\n",
    "    return(train_df, test_df)"
   ]
  },
  {
   "cell_type": "code",
   "execution_count": 46,
   "id": "ed5891fe-418f-4283-a7c2-ffc568c46fb6",
   "metadata": {
    "execution": {
     "iopub.execute_input": "2023-03-13T17:26:53.341525Z",
     "iopub.status.busy": "2023-03-13T17:26:53.341025Z",
     "iopub.status.idle": "2023-03-13T17:26:53.511026Z",
     "shell.execute_reply": "2023-03-13T17:26:53.510525Z",
     "shell.execute_reply.started": "2023-03-13T17:26:53.341525Z"
    }
   },
   "outputs": [],
   "source": [
    "# copy data from the segmented images path to be in training and testing"
   ]
  },
  {
   "cell_type": "code",
   "execution_count": 47,
   "id": "01f3260f-0c87-4383-b193-70496dd6fdd3",
   "metadata": {
    "execution": {
     "iopub.execute_input": "2023-03-13T17:26:54.126525Z",
     "iopub.status.busy": "2023-03-13T17:26:54.126024Z",
     "iopub.status.idle": "2023-03-13T17:26:54.179027Z",
     "shell.execute_reply": "2023-03-13T17:26:54.177024Z",
     "shell.execute_reply.started": "2023-03-13T17:26:54.126525Z"
    },
    "tags": []
   },
   "outputs": [],
   "source": [
    "# apply split of data\n",
    "meta_data_file_path = r\"F:\\Beetle_classification_deep_data_segmented\\segmented-images-metadata_selected_4spcs.csv\"\n",
    "segmented_images_path = r\"F:\\Beetle_classification_deep_data_segmented\\\\\"\n",
    "random_state=42\n",
    "\n",
    "train_df, test_df = test_split_species(meta_data_file_path=meta_data_file_path, random_state=random_state)"
   ]
  }
 ],
 "metadata": {
  "kernelspec": {
   "display_name": "Python 3 (ipykernel)",
   "language": "python",
   "name": "python3"
  },
  "language_info": {
   "codemirror_mode": {
    "name": "ipython",
    "version": 3
   },
   "file_extension": ".py",
   "mimetype": "text/x-python",
   "name": "python",
   "nbconvert_exporter": "python",
   "pygments_lexer": "ipython3",
   "version": "3.10.9"
  }
 },
 "nbformat": 4,
 "nbformat_minor": 5
}
